{
 "cells": [
  {
   "cell_type": "code",
   "execution_count": 1,
   "id": "8cbf6f1b",
   "metadata": {
    "scrolled": true
   },
   "outputs": [],
   "source": [
    "# imports\n",
    "from Bio import AlignIO\n",
    "from Bio.Align.Applications import ClustalwCommandline\n",
    "import pandas as pd\n",
    "import seaborn as sns\n",
    "import matplotlib.pyplot as plt\n",
    "import os"
   ]
  },
  {
   "cell_type": "code",
   "execution_count": 2,
   "id": "14fcb56a",
   "metadata": {},
   "outputs": [],
   "source": [
    "# variables\n",
    "project = 'Suthaus_2022'\n",
    "cell = 'cellCombined'\n",
    "marker = 'Full18S'\n",
    "sim = 'sim90'\n",
    "raw_data = '../raw_data'\n",
    "denoise_method = 'FAD'\n",
    "vamp_spec_dir = f'{raw_data}/vamp_specific_seqs/{project}/{marker}/{cell}/{sim}/{denoise_method}'\n",
    "clustalw_path = f'{raw_data}/packages/clustalw-2.1-linux-x86_64-libcppstatic/clustalw2'\n",
    "pics_dir = f'{raw_data}/OTU_results/{project}'"
   ]
  },
  {
   "cell_type": "code",
   "execution_count": 3,
   "id": "afd5bf37",
   "metadata": {},
   "outputs": [],
   "source": [
    "# functions\n",
    "\n",
    "def strip(file_path, output_path='out_stripped.fasta'):\n",
    "    '''\n",
    "    Remove line breaks in FASTA files\n",
    "    '''\n",
    "    seqs = []\n",
    "    # read a file and stripped it\n",
    "    with open(file_path,'rt') as f:\n",
    "        lines = f.readlines()\n",
    "        for line in lines:\n",
    "            if line.startswith('>'):\n",
    "                seqs.append('\\n' + line)\n",
    "            else:\n",
    "                line_cleaned = line.rstrip()\n",
    "                seqs.append(line_cleaned)\n",
    "        seqs[0] = seqs[0].lstrip()\n",
    "    # write the file into fasta\n",
    "    with open(output_path, 'w') as fp:\n",
    "        for seq in seqs:\n",
    "            fp.write(seq)\n",
    "            \n",
    "            \n",
    "\n",
    "def calc_perc_ident(path='out_stripped.fasta'):\n",
    "    '''\n",
    "    Calculate percent identity between already-aligned sequences\n",
    "    '''\n",
    "    \n",
    "    data = {}\n",
    "\n",
    "    # getting sequences into dictionary\n",
    "    with open(path, 'rt') as f:\n",
    "        lines = f.readlines()\n",
    "        for line in lines:\n",
    "            if line.startswith('>'):\n",
    "                seq_id = line.strip('>consensus=').strip('\\n')\n",
    "            else:\n",
    "                data[seq_id] = line.strip('\\n')\n",
    "                \n",
    "    perc_identity = {}\n",
    "    keys = [key for key in data.keys()]\n",
    "    \n",
    "    for i in range(len(keys)):\n",
    "        for j in range(i + 1, len(keys)):\n",
    "            perc_identity[keys[i] + '__vs__' + keys[j]] = 0\n",
    "            for position in range(len(data[keys[i]])):\n",
    "                if data[keys[i]][position] == data[keys[j]][position]:\n",
    "                    perc_identity[keys[i] + '__vs__' + keys[j]] += 1\n",
    "\n",
    "    for k in perc_identity.keys():\n",
    "        perc_identity[k] = perc_identity[k] / len(data[keys[0]]) * 100\n",
    "    \n",
    "    return perc_identity"
   ]
  },
  {
   "cell_type": "markdown",
   "id": "e64ad53a",
   "metadata": {},
   "source": [
    "# Percentage similarity tables"
   ]
  },
  {
   "cell_type": "markdown",
   "id": "d67bd105",
   "metadata": {},
   "source": [
    "We will create percentage similarity tables to find out how the individual vampyrellids sequences from the long fragment (rDNA operon) are similar to each other.\n",
    "Based on this information, we can decide if additional OTU clustering is needed and if yes what percentage similarity to use."
   ]
  },
  {
   "cell_type": "markdown",
   "id": "7cb9a348",
   "metadata": {},
   "source": [
    "## Creating alignments"
   ]
  },
  {
   "cell_type": "code",
   "execution_count": 93,
   "id": "5d743c3d",
   "metadata": {},
   "outputs": [
    {
     "name": "stdout",
     "output_type": "stream",
     "text": [
      "../raw_data/packages/clustalw-2.1-linux-x86_64-libcppstatic/clustalw2 -infile=../raw_data/vamp_specific_seqs/Suthaus_2022/Full18S/cellCombined/sim95/FAD/Mock_18S_otu.fasta -outfile=../raw_data/vamp_specific_seqs/Suthaus_2022/Full18S/cellCombined/sim95/FAD/aligned_Mock.fasta -output=fasta\n"
     ]
    }
   ],
   "source": [
    "# paths\n",
    "all_files = os.listdir(vamp_spec_dir)\n",
    "all_paths = [f'{vamp_spec_dir}/{path}' for path in all_files if 'Mock' in path]\n",
    "\n",
    "\n",
    "\n",
    "for path in all_paths:\n",
    "    sample_id = path.split('_')[-3].split('.')[0].split('/')[-1]\n",
    "#     creating an alingnment using clustalw:\n",
    "#     see more here: https://manpages.ubuntu.com/manpages/impish/man1/clustalw.1.html\n",
    "    cmd = ClustalwCommandline(clustalw_path,\n",
    "                              infile=path,\n",
    "                              output='fasta',\n",
    "                              outfile=f'{vamp_spec_dir}/aligned_{sample_id}.fasta')\n",
    "    # print clustal command in a linux style\n",
    "    print(cmd)\n",
    "    # run clustalw alignment\n",
    "    stdout, stderr = cmd()"
   ]
  },
  {
   "cell_type": "code",
   "execution_count": 4,
   "id": "6780daa4",
   "metadata": {},
   "outputs": [
    {
     "name": "stdout",
     "output_type": "stream",
     "text": [
      "Alignment with 7 rows and 1897 columns\n",
      "AGTCATATGCTCGTCTCAAAGATTAAGCCATGCAAGTCTAAGTA...TCC centroid=seq254_8_seqs=21\n",
      "AGTCATATGCTCGTCTCAAAGATTAAGCCATGCAAGTCTAAGTA...TCC centroid=seq308_6_seqs=1\n",
      "AGTCATATGCTCGTCTCAAAGATTAAGCCATGCAAGTCTAAGTA...TCC centroid=seq173_22_seqs=10\n",
      "AGTCATATGCTCGTCTCAAAGATTAAGCCATGCAAGTCTAAGTA...GCT centroid=seq199_18_seqs=1\n",
      "AGTCATATGCTTGTCTCAAAGATTAAGCCATGCAAGTCTCTGTA...TCC centroid=seq179_25_seqs=3\n",
      "AGTCATATGCTTGTCTCAAAGATTAAGCCATGCATGTCTAAGTA...TCC centroid=seq12_300_seqs=5\n",
      "TGTCATATGCTTGTCTAAAAGATTAAGCCATGCAAGTCTAAGTA...TCC centroid=seq18_128_seqs=2\n"
     ]
    }
   ],
   "source": [
    "# if you want to check the resulting alignments using biopython\n",
    "\n",
    "align = AlignIO.read('../raw_data/vamp_specific_seqs/Suthaus_2022/Full18S/cellCombined/sim90/FAD/aligned_Mock.fasta', 'fasta')\n",
    "print(align)"
   ]
  },
  {
   "cell_type": "code",
   "execution_count": 29,
   "id": "29b5c64e",
   "metadata": {},
   "outputs": [],
   "source": [
    "# Remove line breaks in FASTA files\n",
    "\n",
    "# paths\n",
    "all_files = os.listdir(vamp_spec_dir)\n",
    "all_paths = [f'{vamp_spec_dir}/{path}' for path in all_files if 'aligned_' in path]\n",
    "\n",
    "\n",
    "for path in all_paths:\n",
    "    sample_id = path.split('_')[-1].split('.')[0]\n",
    "    strip(file_path=path, output_path=f'{vamp_spec_dir}/aligned_stripped_{sample_id}.fasta')"
   ]
  },
  {
   "cell_type": "code",
   "execution_count": 5,
   "id": "5f01088f",
   "metadata": {},
   "outputs": [],
   "source": [
    "path = '../raw_data/vamp_specific_seqs/Suthaus_2022/Full18S/cellCombined/sim90/FAD/aligned_Mock.fasta'\n",
    "strip(file_path=path, output_path=path)"
   ]
  },
  {
   "cell_type": "markdown",
   "id": "f34c97ae",
   "metadata": {},
   "source": [
    "## Calculating percentage identity matrix between sequences in the alignment"
   ]
  },
  {
   "cell_type": "code",
   "execution_count": null,
   "id": "6da6316b",
   "metadata": {},
   "outputs": [],
   "source": [
    "# for multiple samples\n",
    "\n",
    "# paths\n",
    "all_files = os.listdir(vamp_spec_dir)\n",
    "all_paths = [f'{vamp_spec_dir}/{path}' for path in all_files if 'aligned_stripped_nonrare_otu_' in path]\n",
    "\n",
    "\n",
    "perc_identity = {}\n",
    "\n",
    "# Calculating percentage identity matrix using the custome calc_perc_ident function\n",
    "for path in all_paths:\n",
    "    sample_id = path.split('_')[-1].split('.')[0]\n",
    "    perc_identity[sample_id] = calc_perc_ident(path)"
   ]
  },
  {
   "cell_type": "code",
   "execution_count": 6,
   "id": "851d89e3",
   "metadata": {},
   "outputs": [],
   "source": [
    "# just for one sample\n",
    "\n",
    "path = '../raw_data/vamp_specific_seqs/Suthaus_2022/Full18S/cellCombined/sim90/FAD/aligned_Mock.fasta'\n",
    "perc_identity = {}\n",
    "perc_identity['Mock'] = calc_perc_ident(path=path)"
   ]
  },
  {
   "cell_type": "code",
   "execution_count": 7,
   "id": "42806ec2",
   "metadata": {},
   "outputs": [
    {
     "data": {
      "text/plain": [
       "dict_keys(['Mock'])"
      ]
     },
     "execution_count": 7,
     "metadata": {},
     "output_type": "execute_result"
    }
   ],
   "source": [
    "# Samples\n",
    "\n",
    "perc_identity.keys()"
   ]
  },
  {
   "cell_type": "code",
   "execution_count": 8,
   "id": "0a2e5b3f",
   "metadata": {
    "scrolled": true
   },
   "outputs": [
    {
     "data": {
      "text/plain": [
       "dict_keys(['troid=seq254_8_seqs=21__vs__troid=seq308_6_seqs=1', 'troid=seq254_8_seqs=21__vs__troid=seq173_22_seqs=10', 'troid=seq254_8_seqs=21__vs__troid=seq199_18_seqs=1', 'troid=seq254_8_seqs=21__vs__troid=seq179_25_seqs=3', 'troid=seq254_8_seqs=21__vs__troid=seq12_300_seqs=5', 'troid=seq254_8_seqs=21__vs__troid=seq18_128_seqs=2', 'troid=seq308_6_seqs=1__vs__troid=seq173_22_seqs=10', 'troid=seq308_6_seqs=1__vs__troid=seq199_18_seqs=1', 'troid=seq308_6_seqs=1__vs__troid=seq179_25_seqs=3', 'troid=seq308_6_seqs=1__vs__troid=seq12_300_seqs=5', 'troid=seq308_6_seqs=1__vs__troid=seq18_128_seqs=2', 'troid=seq173_22_seqs=10__vs__troid=seq199_18_seqs=1', 'troid=seq173_22_seqs=10__vs__troid=seq179_25_seqs=3', 'troid=seq173_22_seqs=10__vs__troid=seq12_300_seqs=5', 'troid=seq173_22_seqs=10__vs__troid=seq18_128_seqs=2', 'troid=seq199_18_seqs=1__vs__troid=seq179_25_seqs=3', 'troid=seq199_18_seqs=1__vs__troid=seq12_300_seqs=5', 'troid=seq199_18_seqs=1__vs__troid=seq18_128_seqs=2', 'troid=seq179_25_seqs=3__vs__troid=seq12_300_seqs=5', 'troid=seq179_25_seqs=3__vs__troid=seq18_128_seqs=2', 'troid=seq12_300_seqs=5__vs__troid=seq18_128_seqs=2'])"
      ]
     },
     "execution_count": 8,
     "metadata": {},
     "output_type": "execute_result"
    }
   ],
   "source": [
    "# Result\n",
    "\n",
    "perc_identity['Mock'].keys()"
   ]
  },
  {
   "cell_type": "markdown",
   "id": "69244733",
   "metadata": {},
   "source": [
    "## Visualizing the percentage identity matrix"
   ]
  },
  {
   "cell_type": "code",
   "execution_count": 22,
   "id": "cf8cd79d",
   "metadata": {},
   "outputs": [
    {
     "data": {
      "text/html": [
       "<div>\n",
       "<style scoped>\n",
       "    .dataframe tbody tr th:only-of-type {\n",
       "        vertical-align: middle;\n",
       "    }\n",
       "\n",
       "    .dataframe tbody tr th {\n",
       "        vertical-align: top;\n",
       "    }\n",
       "\n",
       "    .dataframe thead th {\n",
       "        text-align: right;\n",
       "    }\n",
       "</style>\n",
       "<table border=\"1\" class=\"dataframe\">\n",
       "  <thead>\n",
       "    <tr style=\"text-align: right;\">\n",
       "      <th></th>\n",
       "      <th>troid=seq308_6_seqs=1</th>\n",
       "      <th>troid=seq254_8_seqs=21</th>\n",
       "      <th>troid=seq173_22_seqs=10</th>\n",
       "      <th>troid=seq12_300_seqs=5</th>\n",
       "      <th>troid=seq199_18_seqs=1</th>\n",
       "      <th>troid=seq179_25_seqs=3</th>\n",
       "      <th>troid=seq18_128_seqs=2</th>\n",
       "    </tr>\n",
       "  </thead>\n",
       "  <tbody>\n",
       "    <tr>\n",
       "      <th>troid=seq308_6_seqs=1</th>\n",
       "      <td>100.000000</td>\n",
       "      <td>90.458619</td>\n",
       "      <td>83.869267</td>\n",
       "      <td>79.177649</td>\n",
       "      <td>74.960464</td>\n",
       "      <td>83.394834</td>\n",
       "      <td>73.642594</td>\n",
       "    </tr>\n",
       "    <tr>\n",
       "      <th>troid=seq254_8_seqs=21</th>\n",
       "      <td>90.458619</td>\n",
       "      <td>100.000000</td>\n",
       "      <td>92.040063</td>\n",
       "      <td>86.030575</td>\n",
       "      <td>82.973115</td>\n",
       "      <td>90.616763</td>\n",
       "      <td>79.862941</td>\n",
       "    </tr>\n",
       "    <tr>\n",
       "      <th>troid=seq173_22_seqs=10</th>\n",
       "      <td>83.869267</td>\n",
       "      <td>92.040063</td>\n",
       "      <td>100.000000</td>\n",
       "      <td>84.870849</td>\n",
       "      <td>85.134423</td>\n",
       "      <td>86.715867</td>\n",
       "      <td>78.281497</td>\n",
       "    </tr>\n",
       "    <tr>\n",
       "      <th>troid=seq12_300_seqs=5</th>\n",
       "      <td>79.177649</td>\n",
       "      <td>86.030575</td>\n",
       "      <td>84.870849</td>\n",
       "      <td>100.000000</td>\n",
       "      <td>75.593042</td>\n",
       "      <td>86.715867</td>\n",
       "      <td>81.866104</td>\n",
       "    </tr>\n",
       "    <tr>\n",
       "      <th>troid=seq199_18_seqs=1</th>\n",
       "      <td>74.960464</td>\n",
       "      <td>82.973115</td>\n",
       "      <td>85.134423</td>\n",
       "      <td>75.593042</td>\n",
       "      <td>100.000000</td>\n",
       "      <td>77.174486</td>\n",
       "      <td>69.952557</td>\n",
       "    </tr>\n",
       "    <tr>\n",
       "      <th>troid=seq179_25_seqs=3</th>\n",
       "      <td>83.394834</td>\n",
       "      <td>90.616763</td>\n",
       "      <td>86.715867</td>\n",
       "      <td>86.715867</td>\n",
       "      <td>77.174486</td>\n",
       "      <td>100.000000</td>\n",
       "      <td>79.810227</td>\n",
       "    </tr>\n",
       "    <tr>\n",
       "      <th>troid=seq18_128_seqs=2</th>\n",
       "      <td>73.642594</td>\n",
       "      <td>79.862941</td>\n",
       "      <td>78.281497</td>\n",
       "      <td>81.866104</td>\n",
       "      <td>69.952557</td>\n",
       "      <td>79.810227</td>\n",
       "      <td>100.000000</td>\n",
       "    </tr>\n",
       "  </tbody>\n",
       "</table>\n",
       "</div>"
      ],
      "text/plain": [
       "                         troid=seq308_6_seqs=1  troid=seq254_8_seqs=21  \\\n",
       "troid=seq308_6_seqs=1               100.000000               90.458619   \n",
       "troid=seq254_8_seqs=21               90.458619              100.000000   \n",
       "troid=seq173_22_seqs=10              83.869267               92.040063   \n",
       "troid=seq12_300_seqs=5               79.177649               86.030575   \n",
       "troid=seq199_18_seqs=1               74.960464               82.973115   \n",
       "troid=seq179_25_seqs=3               83.394834               90.616763   \n",
       "troid=seq18_128_seqs=2               73.642594               79.862941   \n",
       "\n",
       "                         troid=seq173_22_seqs=10  troid=seq12_300_seqs=5  \\\n",
       "troid=seq308_6_seqs=1                  83.869267               79.177649   \n",
       "troid=seq254_8_seqs=21                 92.040063               86.030575   \n",
       "troid=seq173_22_seqs=10               100.000000               84.870849   \n",
       "troid=seq12_300_seqs=5                 84.870849              100.000000   \n",
       "troid=seq199_18_seqs=1                 85.134423               75.593042   \n",
       "troid=seq179_25_seqs=3                 86.715867               86.715867   \n",
       "troid=seq18_128_seqs=2                 78.281497               81.866104   \n",
       "\n",
       "                         troid=seq199_18_seqs=1  troid=seq179_25_seqs=3  \\\n",
       "troid=seq308_6_seqs=1                 74.960464               83.394834   \n",
       "troid=seq254_8_seqs=21                82.973115               90.616763   \n",
       "troid=seq173_22_seqs=10               85.134423               86.715867   \n",
       "troid=seq12_300_seqs=5                75.593042               86.715867   \n",
       "troid=seq199_18_seqs=1               100.000000               77.174486   \n",
       "troid=seq179_25_seqs=3                77.174486              100.000000   \n",
       "troid=seq18_128_seqs=2                69.952557               79.810227   \n",
       "\n",
       "                         troid=seq18_128_seqs=2  \n",
       "troid=seq308_6_seqs=1                 73.642594  \n",
       "troid=seq254_8_seqs=21                79.862941  \n",
       "troid=seq173_22_seqs=10               78.281497  \n",
       "troid=seq12_300_seqs=5                81.866104  \n",
       "troid=seq199_18_seqs=1                69.952557  \n",
       "troid=seq179_25_seqs=3                79.810227  \n",
       "troid=seq18_128_seqs=2               100.000000  "
      ]
     },
     "execution_count": 22,
     "metadata": {},
     "output_type": "execute_result"
    }
   ],
   "source": [
    "# Convert data into the right format\n",
    "\n",
    "sample = 'Mock'\n",
    "\n",
    "\n",
    "sequences = set()\n",
    "for key in perc_identity[sample].keys():\n",
    "    seq1, seq2 = key.split('__vs__')\n",
    "    sequences.add(seq1)\n",
    "    sequences.add(seq2)\n",
    "\n",
    "sequences = list(sequences)  # Convert set to list\n",
    "\n",
    "\n",
    "df_perc_identity = pd.DataFrame(index=sequences, columns=sequences)\n",
    "df_perc_identity = df_perc_identity.fillna(100)\n",
    "\n",
    "\n",
    "for key, value in perc_identity[sample].items():\n",
    "    seq1, seq2 = key.split('__vs__')\n",
    "    df_perc_identity.loc[seq1, seq2] = value\n",
    "    df_perc_identity.loc[seq2, seq1] = value\n",
    "\n",
    "df_perc_identity"
   ]
  },
  {
   "cell_type": "code",
   "execution_count": 23,
   "id": "15c66831",
   "metadata": {},
   "outputs": [],
   "source": [
    "# Removing unwanted text from column labels\n",
    "df_perc_identity.columns = df_perc_identity.columns.str.replace(r'troid=|_seqs=\\d+', '', regex=True)\n",
    "\n",
    "# Removing unwanted text from index labels\n",
    "df_perc_identity.index = df_perc_identity.index.str.replace(r'troid=|_seqs=\\d+', '', regex=True)"
   ]
  },
  {
   "cell_type": "code",
   "execution_count": 24,
   "id": "08027796",
   "metadata": {
    "scrolled": true
   },
   "outputs": [
    {
     "data": {
      "text/html": [
       "<div>\n",
       "<style scoped>\n",
       "    .dataframe tbody tr th:only-of-type {\n",
       "        vertical-align: middle;\n",
       "    }\n",
       "\n",
       "    .dataframe tbody tr th {\n",
       "        vertical-align: top;\n",
       "    }\n",
       "\n",
       "    .dataframe thead th {\n",
       "        text-align: right;\n",
       "    }\n",
       "</style>\n",
       "<table border=\"1\" class=\"dataframe\">\n",
       "  <thead>\n",
       "    <tr style=\"text-align: right;\">\n",
       "      <th></th>\n",
       "      <th>seq308_6</th>\n",
       "      <th>seq254_8</th>\n",
       "      <th>seq173_22</th>\n",
       "      <th>seq12_300</th>\n",
       "      <th>seq199_18</th>\n",
       "      <th>seq179_25</th>\n",
       "      <th>seq18_128</th>\n",
       "    </tr>\n",
       "  </thead>\n",
       "  <tbody>\n",
       "    <tr>\n",
       "      <th>seq308_6</th>\n",
       "      <td>100.000000</td>\n",
       "      <td>90.458619</td>\n",
       "      <td>83.869267</td>\n",
       "      <td>79.177649</td>\n",
       "      <td>74.960464</td>\n",
       "      <td>83.394834</td>\n",
       "      <td>73.642594</td>\n",
       "    </tr>\n",
       "    <tr>\n",
       "      <th>seq254_8</th>\n",
       "      <td>90.458619</td>\n",
       "      <td>100.000000</td>\n",
       "      <td>92.040063</td>\n",
       "      <td>86.030575</td>\n",
       "      <td>82.973115</td>\n",
       "      <td>90.616763</td>\n",
       "      <td>79.862941</td>\n",
       "    </tr>\n",
       "    <tr>\n",
       "      <th>seq173_22</th>\n",
       "      <td>83.869267</td>\n",
       "      <td>92.040063</td>\n",
       "      <td>100.000000</td>\n",
       "      <td>84.870849</td>\n",
       "      <td>85.134423</td>\n",
       "      <td>86.715867</td>\n",
       "      <td>78.281497</td>\n",
       "    </tr>\n",
       "    <tr>\n",
       "      <th>seq12_300</th>\n",
       "      <td>79.177649</td>\n",
       "      <td>86.030575</td>\n",
       "      <td>84.870849</td>\n",
       "      <td>100.000000</td>\n",
       "      <td>75.593042</td>\n",
       "      <td>86.715867</td>\n",
       "      <td>81.866104</td>\n",
       "    </tr>\n",
       "    <tr>\n",
       "      <th>seq199_18</th>\n",
       "      <td>74.960464</td>\n",
       "      <td>82.973115</td>\n",
       "      <td>85.134423</td>\n",
       "      <td>75.593042</td>\n",
       "      <td>100.000000</td>\n",
       "      <td>77.174486</td>\n",
       "      <td>69.952557</td>\n",
       "    </tr>\n",
       "    <tr>\n",
       "      <th>seq179_25</th>\n",
       "      <td>83.394834</td>\n",
       "      <td>90.616763</td>\n",
       "      <td>86.715867</td>\n",
       "      <td>86.715867</td>\n",
       "      <td>77.174486</td>\n",
       "      <td>100.000000</td>\n",
       "      <td>79.810227</td>\n",
       "    </tr>\n",
       "    <tr>\n",
       "      <th>seq18_128</th>\n",
       "      <td>73.642594</td>\n",
       "      <td>79.862941</td>\n",
       "      <td>78.281497</td>\n",
       "      <td>81.866104</td>\n",
       "      <td>69.952557</td>\n",
       "      <td>79.810227</td>\n",
       "      <td>100.000000</td>\n",
       "    </tr>\n",
       "  </tbody>\n",
       "</table>\n",
       "</div>"
      ],
      "text/plain": [
       "             seq308_6    seq254_8   seq173_22   seq12_300   seq199_18  \\\n",
       "seq308_6   100.000000   90.458619   83.869267   79.177649   74.960464   \n",
       "seq254_8    90.458619  100.000000   92.040063   86.030575   82.973115   \n",
       "seq173_22   83.869267   92.040063  100.000000   84.870849   85.134423   \n",
       "seq12_300   79.177649   86.030575   84.870849  100.000000   75.593042   \n",
       "seq199_18   74.960464   82.973115   85.134423   75.593042  100.000000   \n",
       "seq179_25   83.394834   90.616763   86.715867   86.715867   77.174486   \n",
       "seq18_128   73.642594   79.862941   78.281497   81.866104   69.952557   \n",
       "\n",
       "            seq179_25   seq18_128  \n",
       "seq308_6    83.394834   73.642594  \n",
       "seq254_8    90.616763   79.862941  \n",
       "seq173_22   86.715867   78.281497  \n",
       "seq12_300   86.715867   81.866104  \n",
       "seq199_18   77.174486   69.952557  \n",
       "seq179_25  100.000000   79.810227  \n",
       "seq18_128   79.810227  100.000000  "
      ]
     },
     "execution_count": 24,
     "metadata": {},
     "output_type": "execute_result"
    }
   ],
   "source": [
    "df_perc_identity"
   ]
  },
  {
   "cell_type": "code",
   "execution_count": 25,
   "id": "f2f21a77",
   "metadata": {},
   "outputs": [],
   "source": [
    "# rename seq IDs\n",
    "\n",
    "# Rename columns and index\n",
    "rename_dict = {\n",
    "    'seq12_300': 'V_lateritia_VL09',\n",
    "    'seq179_25': 'V_closterii_VC01',\n",
    "    'seq18_128': 'P_flabellus_HR01',\n",
    "    'seq308_6': 'L_vorax_LV04',\n",
    "    'seq254_8': 'L_vorax_LV02a',\n",
    "    'seq199_18': 'L_vorax_LV02b',\n",
    "    'seq173_22': 'L_vorax_LV02c',\n",
    "}\n",
    "\n",
    "df_perc_identity.rename(columns=rename_dict, index=rename_dict, inplace=True)"
   ]
  },
  {
   "cell_type": "code",
   "execution_count": 26,
   "id": "021914b6",
   "metadata": {},
   "outputs": [
    {
     "data": {
      "text/html": [
       "<div>\n",
       "<style scoped>\n",
       "    .dataframe tbody tr th:only-of-type {\n",
       "        vertical-align: middle;\n",
       "    }\n",
       "\n",
       "    .dataframe tbody tr th {\n",
       "        vertical-align: top;\n",
       "    }\n",
       "\n",
       "    .dataframe thead th {\n",
       "        text-align: right;\n",
       "    }\n",
       "</style>\n",
       "<table border=\"1\" class=\"dataframe\">\n",
       "  <thead>\n",
       "    <tr style=\"text-align: right;\">\n",
       "      <th></th>\n",
       "      <th>L_vorax_LV04</th>\n",
       "      <th>L_vorax_LV02a</th>\n",
       "      <th>L_vorax_LV02c</th>\n",
       "      <th>V_lateritia_VL09</th>\n",
       "      <th>L_vorax_LV02b</th>\n",
       "      <th>V_closterii_VC01</th>\n",
       "      <th>P_flabellus_HR01</th>\n",
       "    </tr>\n",
       "  </thead>\n",
       "  <tbody>\n",
       "    <tr>\n",
       "      <th>L_vorax_LV04</th>\n",
       "      <td>100.000000</td>\n",
       "      <td>90.458619</td>\n",
       "      <td>83.869267</td>\n",
       "      <td>79.177649</td>\n",
       "      <td>74.960464</td>\n",
       "      <td>83.394834</td>\n",
       "      <td>73.642594</td>\n",
       "    </tr>\n",
       "    <tr>\n",
       "      <th>L_vorax_LV02a</th>\n",
       "      <td>90.458619</td>\n",
       "      <td>100.000000</td>\n",
       "      <td>92.040063</td>\n",
       "      <td>86.030575</td>\n",
       "      <td>82.973115</td>\n",
       "      <td>90.616763</td>\n",
       "      <td>79.862941</td>\n",
       "    </tr>\n",
       "    <tr>\n",
       "      <th>L_vorax_LV02c</th>\n",
       "      <td>83.869267</td>\n",
       "      <td>92.040063</td>\n",
       "      <td>100.000000</td>\n",
       "      <td>84.870849</td>\n",
       "      <td>85.134423</td>\n",
       "      <td>86.715867</td>\n",
       "      <td>78.281497</td>\n",
       "    </tr>\n",
       "    <tr>\n",
       "      <th>V_lateritia_VL09</th>\n",
       "      <td>79.177649</td>\n",
       "      <td>86.030575</td>\n",
       "      <td>84.870849</td>\n",
       "      <td>100.000000</td>\n",
       "      <td>75.593042</td>\n",
       "      <td>86.715867</td>\n",
       "      <td>81.866104</td>\n",
       "    </tr>\n",
       "    <tr>\n",
       "      <th>L_vorax_LV02b</th>\n",
       "      <td>74.960464</td>\n",
       "      <td>82.973115</td>\n",
       "      <td>85.134423</td>\n",
       "      <td>75.593042</td>\n",
       "      <td>100.000000</td>\n",
       "      <td>77.174486</td>\n",
       "      <td>69.952557</td>\n",
       "    </tr>\n",
       "    <tr>\n",
       "      <th>V_closterii_VC01</th>\n",
       "      <td>83.394834</td>\n",
       "      <td>90.616763</td>\n",
       "      <td>86.715867</td>\n",
       "      <td>86.715867</td>\n",
       "      <td>77.174486</td>\n",
       "      <td>100.000000</td>\n",
       "      <td>79.810227</td>\n",
       "    </tr>\n",
       "    <tr>\n",
       "      <th>P_flabellus_HR01</th>\n",
       "      <td>73.642594</td>\n",
       "      <td>79.862941</td>\n",
       "      <td>78.281497</td>\n",
       "      <td>81.866104</td>\n",
       "      <td>69.952557</td>\n",
       "      <td>79.810227</td>\n",
       "      <td>100.000000</td>\n",
       "    </tr>\n",
       "  </tbody>\n",
       "</table>\n",
       "</div>"
      ],
      "text/plain": [
       "                  L_vorax_LV04  L_vorax_LV02a  L_vorax_LV02c  \\\n",
       "L_vorax_LV04        100.000000      90.458619      83.869267   \n",
       "L_vorax_LV02a        90.458619     100.000000      92.040063   \n",
       "L_vorax_LV02c        83.869267      92.040063     100.000000   \n",
       "V_lateritia_VL09     79.177649      86.030575      84.870849   \n",
       "L_vorax_LV02b        74.960464      82.973115      85.134423   \n",
       "V_closterii_VC01     83.394834      90.616763      86.715867   \n",
       "P_flabellus_HR01     73.642594      79.862941      78.281497   \n",
       "\n",
       "                  V_lateritia_VL09  L_vorax_LV02b  V_closterii_VC01  \\\n",
       "L_vorax_LV04             79.177649      74.960464         83.394834   \n",
       "L_vorax_LV02a            86.030575      82.973115         90.616763   \n",
       "L_vorax_LV02c            84.870849      85.134423         86.715867   \n",
       "V_lateritia_VL09        100.000000      75.593042         86.715867   \n",
       "L_vorax_LV02b            75.593042     100.000000         77.174486   \n",
       "V_closterii_VC01         86.715867      77.174486        100.000000   \n",
       "P_flabellus_HR01         81.866104      69.952557         79.810227   \n",
       "\n",
       "                  P_flabellus_HR01  \n",
       "L_vorax_LV04             73.642594  \n",
       "L_vorax_LV02a            79.862941  \n",
       "L_vorax_LV02c            78.281497  \n",
       "V_lateritia_VL09         81.866104  \n",
       "L_vorax_LV02b            69.952557  \n",
       "V_closterii_VC01         79.810227  \n",
       "P_flabellus_HR01        100.000000  "
      ]
     },
     "execution_count": 26,
     "metadata": {},
     "output_type": "execute_result"
    }
   ],
   "source": [
    "df_perc_identity"
   ]
  },
  {
   "cell_type": "code",
   "execution_count": 39,
   "id": "35df3886",
   "metadata": {},
   "outputs": [],
   "source": [
    "# Put a line break into middle of the label names as they are too long\n",
    "labels = []\n",
    "for label in sequences:\n",
    "    middle_point = int(len(label) / 2)\n",
    "    label = label[:middle_point] + '\\n' + label[middle_point:]\n",
    "    labels.append(label)"
   ]
  },
  {
   "cell_type": "code",
   "execution_count": 27,
   "id": "e8bfb2b0",
   "metadata": {},
   "outputs": [
    {
     "data": {
      "image/png": "[encoded data removed]",
      "text/plain": [
       "<Figure size 640x480 with 2 Axes>"
      ]
     },
     "metadata": {},
     "output_type": "display_data"
    }
   ],
   "source": [
    "# Heatmap\n",
    "\n",
    "sns.heatmap(df_perc_identity, \n",
    "            vmin = 0,\n",
    "            vmax = 100,\n",
    "            cmap = 'Blues', \n",
    "            annot = True, \n",
    "            fmt = '.0f', \n",
    "            annot_kws = {'fontsize': 12}, \n",
    "            linewidth = .7,\n",
    "            linecolor = 'black', \n",
    "            square = True)\n",
    "#             xticklabels=labels,\n",
    "#             yticklabels=labels)\n",
    "\n",
    "plt.tick_params(labelsize=12);\n",
    "\n",
    "# save\n",
    "plt.savefig(f\"{pics_dir}/FAD_sim90_percentage_similarity_comparison_heatmap_{sample}.png\", \n",
    "            dpi=300, \n",
    "            transparent=False, \n",
    "            facecolor='white', \n",
    "            bbox_inches=\"tight\")"
   ]
  },
  {
   "cell_type": "markdown",
   "id": "d7559195",
   "metadata": {},
   "source": [
    "## Visualizing the distribution of similarity probabilities"
   ]
  },
  {
   "cell_type": "markdown",
   "id": "c5180389",
   "metadata": {},
   "source": [
    "Since the probabilities are continuous, I need create bins or categories to group the similarity ranges. Each bin represents a range of similarity values, and the height of each bin in the histogram will indicate the frequency or count of sequences falling within that similarity range."
   ]
  },
  {
   "cell_type": "markdown",
   "id": "648a64c3",
   "metadata": {},
   "source": [
    "### Per sample"
   ]
  },
  {
   "cell_type": "code",
   "execution_count": 102,
   "id": "2faaa73b",
   "metadata": {
    "scrolled": true
   },
   "outputs": [
    {
     "data": {
      "image/png": "[encoded data removed]",
      "text/plain": [
       "<Figure size 640x480 with 1 Axes>"
      ]
     },
     "metadata": {},
     "output_type": "display_data"
    }
   ],
   "source": [
    "# Filter out rows and columns with 100% similarity\n",
    "# Set the desire sample in the first cell in 1.3  Visualizing the percentage identity matrix\n",
    "df_filtered = df_perc_identity[df_perc_identity < 100]\n",
    "\n",
    "# Flatten the similarity values from the DataFrame into a list\n",
    "similarity_values = df_filtered.values.flatten()\n",
    "similarity_values\n",
    "\n",
    "# Define the bin ranges for the histogram\n",
    "bin_ranges = [0, 10, 20, 30, 40, 50, 60, 70, 80, 90, 100]\n",
    "\n",
    "# Create the histogram using Seaborn\n",
    "sns.histplot(similarity_values, \n",
    "             bins = 20, \n",
    "             kde = False,  \n",
    "             edgecolor = 'white',\n",
    "             linewidth = .5,\n",
    "             binrange = (0, 100), \n",
    "             binwidth = 10,\n",
    "             color = 'seagreen')\n",
    "\n",
    "# Customize the plot\n",
    "plt.xlabel('Similarity (%)')\n",
    "plt.ylabel('Count')\n",
    "plt.title('Distribution of Sequence Similarities')\n",
    "plt.locator_params(integer=True)\n",
    "plt.xticks(bin_ranges)\n",
    "sns.despine()\n",
    "\n",
    "\n",
    "# save\n",
    "plt.savefig(f\"{pics_dir}/FAD_sim95_percentage_similarity_distribution_histplot_{sample}.png\", \n",
    "            dpi=300, \n",
    "            transparent=False, \n",
    "            facecolor='white', \n",
    "            bbox_inches=\"tight\")"
   ]
  },
  {
   "cell_type": "markdown",
   "id": "7dad7033",
   "metadata": {},
   "source": [
    "### All samples together"
   ]
  },
  {
   "cell_type": "markdown",
   "id": "91f21039",
   "metadata": {},
   "source": [
    "**Dump all the vamp-specific FASTA files into a single FASTA file**"
   ]
  },
  {
   "cell_type": "code",
   "execution_count": null,
   "id": "2e02928c",
   "metadata": {},
   "outputs": [],
   "source": [
    "# paths\n",
    "all_files = os.listdir(vamp_spec_dir)\n",
    "all_paths = [f'{vamp_spec_dir}/{path}' for path in all_files if path.startswith('nonrare_otu_') and path.endswith('.fasta')]\n",
    "\n",
    "\n",
    "# dump all the vamp-specific FASTA files into a single FASTA file\n",
    "with open(f'{vamp_spec_dir}/nonrare_otu_all_samples.fasta', 'w') as outfile:\n",
    "    for path in all_paths:\n",
    "        with open(path) as infile:\n",
    "            for line in infile:\n",
    "                outfile.write(line)"
   ]
  },
  {
   "cell_type": "markdown",
   "id": "b4b82e55",
   "metadata": {},
   "source": [
    "**Remove line breaks in FASTA files**"
   ]
  },
  {
   "cell_type": "code",
   "execution_count": null,
   "id": "54cf2189",
   "metadata": {},
   "outputs": [],
   "source": [
    "path = f'{vamp_spec_dir}/nonrare_otu_all_samples.fasta'\n",
    "\n",
    "strip(path, output_path = path)"
   ]
  },
  {
   "cell_type": "markdown",
   "id": "82c47237",
   "metadata": {},
   "source": [
    "**Create an alingnment using clustalw**"
   ]
  },
  {
   "cell_type": "code",
   "execution_count": null,
   "id": "788a58e2",
   "metadata": {},
   "outputs": [],
   "source": [
    "# clustalw alignment\n",
    "\n",
    "path = f'{vamp_spec_dir}/nonrare_otu_all_samples.fasta'\n",
    "sample_id = 'all_samples'\n",
    "\n",
    "# creating an alingnment using clustalw:\n",
    "# see more here: https://manpages.ubuntu.com/manpages/impish/man1/clustalw.1.html\n",
    "cmd = ClustalwCommandline(clustalw_path,\n",
    "                          infile=path,\n",
    "                          output='fasta',\n",
    "                          outfile=f'{vamp_spec_dir}/aligned_nonrare_otu_{sample_id}.fasta')\n",
    "# print clustal command in a linux style\n",
    "print(cmd)\n",
    "# run clustalw alignment\n",
    "stdout, stderr = cmd()"
   ]
  },
  {
   "cell_type": "markdown",
   "id": "3ef28127",
   "metadata": {},
   "source": [
    "**Remove line breaks in FASTA files**"
   ]
  },
  {
   "cell_type": "code",
   "execution_count": null,
   "id": "156987ff",
   "metadata": {},
   "outputs": [],
   "source": [
    "# strip\n",
    "\n",
    "path = f'{vamp_spec_dir}/aligned_nonrare_otu_all_samples.fasta'\n",
    "\n",
    "strip(path, output_path = path)"
   ]
  },
  {
   "cell_type": "markdown",
   "id": "64850f35",
   "metadata": {},
   "source": [
    "**Calculating percentage identity matrix using the *custome calc_perc_ident* function**"
   ]
  },
  {
   "cell_type": "code",
   "execution_count": null,
   "id": "4bae57ef",
   "metadata": {},
   "outputs": [],
   "source": [
    "perc_identity = {}\n",
    "path = f'{vamp_spec_dir}/aligned_nonrare_otu_all_samples.fasta'\n",
    "\n",
    "# Calculating percentage identity matrix using the custome calc_perc_ident function\n",
    "\n",
    "sample_id = 'all_samples'\n",
    "perc_identity[sample_id] = calc_perc_ident(path)"
   ]
  },
  {
   "cell_type": "markdown",
   "id": "0920e7e4",
   "metadata": {},
   "source": [
    "**Converting data into the right format**"
   ]
  },
  {
   "cell_type": "code",
   "execution_count": null,
   "id": "b91007ee",
   "metadata": {},
   "outputs": [],
   "source": [
    "# Convert data into the right format\n",
    "\n",
    "sample = 'all_samples'\n",
    "\n",
    "\n",
    "sequences = set()\n",
    "for key in perc_identity[sample].keys():\n",
    "    seq1, seq2 = key.split('__vs__')\n",
    "    sequences.add(seq1)\n",
    "    sequences.add(seq2)\n",
    "\n",
    "sequences = list(sequences)  # Convert set to list\n",
    "\n",
    "\n",
    "df_perc_identity = pd.DataFrame(index=sequences, columns=sequences)\n",
    "df_perc_identity = df_perc_identity.fillna(100)\n",
    "\n",
    "\n",
    "for key, value in perc_identity[sample].items():\n",
    "    seq1, seq2 = key.split('__vs__')\n",
    "    df_perc_identity.loc[seq1, seq2] = value\n",
    "    df_perc_identity.loc[seq2, seq1] = value\n",
    "\n",
    "df_perc_identity"
   ]
  },
  {
   "cell_type": "markdown",
   "id": "1d97352f",
   "metadata": {},
   "source": [
    "**Visualizing the distribution of similarity probabilities**"
   ]
  },
  {
   "cell_type": "code",
   "execution_count": null,
   "id": "ee70ad93",
   "metadata": {},
   "outputs": [],
   "source": [
    "# Filter out rows and columns with 100% similarity\n",
    "# Set the desire sample in the first cell in 1.3  Visualizing the percentage identity matrix\n",
    "df_filtered = df_perc_identity[df_perc_identity < 100]\n",
    "\n",
    "# Flatten the similarity values from the DataFrame into a list\n",
    "similarity_values = df_filtered.values.flatten()\n",
    "similarity_values\n",
    "\n",
    "# Define the bin ranges for the histogram\n",
    "bin_ranges = [0, 10, 20, 30, 40, 50, 60, 70, 80, 90, 100]\n",
    "\n",
    "# Create the histogram using Seaborn\n",
    "sns.histplot(similarity_values, \n",
    "             bins = 100, \n",
    "             kde = False,  \n",
    "             edgecolor = 'white',\n",
    "             linewidth = .5,\n",
    "             binrange = (0, 100), \n",
    "#              binwidth = 10,\n",
    "             color = 'seagreen')\n",
    "\n",
    "# Customize the plot\n",
    "plt.xlabel('Similarity (%)')\n",
    "plt.ylabel('Count')\n",
    "plt.title('Distribution of Sequence Similarities (excluding 100%)')\n",
    "plt.locator_params(integer=True)\n",
    "plt.xticks(bin_ranges)\n",
    "sns.despine()\n",
    "\n",
    "\n",
    "# save\n",
    "plt.savefig(f\"{pics_dir}/percentage_similarity_distribution_histplot_{sample}.png\", \n",
    "            dpi=300, \n",
    "            transparent=False, \n",
    "            facecolor='white', \n",
    "            bbox_inches=\"tight\")"
   ]
  },
  {
   "cell_type": "code",
   "execution_count": null,
   "id": "ab214ac0",
   "metadata": {},
   "outputs": [],
   "source": []
  },
  {
   "cell_type": "code",
   "execution_count": null,
   "id": "4c6d0d76",
   "metadata": {},
   "outputs": [],
   "source": []
  },
  {
   "cell_type": "code",
   "execution_count": null,
   "id": "9e473cad",
   "metadata": {},
   "outputs": [],
   "source": []
  },
  {
   "cell_type": "code",
   "execution_count": null,
   "id": "3035363e",
   "metadata": {},
   "outputs": [],
   "source": []
  },
  {
   "cell_type": "code",
   "execution_count": null,
   "id": "146a1ac3",
   "metadata": {},
   "outputs": [],
   "source": []
  }
 ],
 "metadata": {
  "kernelspec": {
   "display_name": "Python 3 (ipykernel)",
   "language": "python",
   "name": "python3"
  },
  "language_info": {
   "codemirror_mode": {
    "name": "ipython",
    "version": 3
   },
   "file_extension": ".py",
   "mimetype": "text/x-python",
   "name": "python",
   "nbconvert_exporter": "python",
   "pygments_lexer": "ipython3",
   "version": "3.10.8"
  },
  "toc": {
   "base_numbering": 1,
   "nav_menu": {},
   "number_sections": true,
   "sideBar": true,
   "skip_h1_title": false,
   "title_cell": "Table of Contents",
   "title_sidebar": "Contents",
   "toc_cell": false,
   "toc_position": {},
   "toc_section_display": true,
   "toc_window_display": false
  }
 },
 "nbformat": 4,
 "nbformat_minor": 5
}
