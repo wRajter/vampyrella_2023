{
 "cells": [
  {
   "cell_type": "code",
   "execution_count": 1,
   "id": "fd7be737",
   "metadata": {},
   "outputs": [],
   "source": [
    "# imports\n",
    "import gzip\n",
    "import os\n",
    "import pandas as pd\n",
    "import seaborn as sns\n",
    "import matplotlib.pyplot as plt"
   ]
  },
  {
   "cell_type": "markdown",
   "id": "9688ac05",
   "metadata": {},
   "source": [
    "# Reads stats"
   ]
  },
  {
   "cell_type": "markdown",
   "id": "634c7592",
   "metadata": {},
   "source": [
    "## Number of reads per sample"
   ]
  },
  {
   "cell_type": "code",
   "execution_count": 2,
   "id": "f6735d26",
   "metadata": {},
   "outputs": [],
   "source": [
    "# FUNCTIONS\n",
    "\n",
    "# paths to the individual gz files for each sample\n",
    "\n",
    "def get_paths(directory, extension='.fastq.gz'):\n",
    "    \"\"\"\n",
    "    Retrieve paths to individual gzip files for each sample.\n",
    "\n",
    "    Args:\n",
    "        directory (str): Path to the directory containing the files.\n",
    "\n",
    "    Returns:\n",
    "        list: A list of file paths to the individual gzip files for each sample.\n",
    "    \"\"\"\n",
    "    all_files = os.listdir(directory)\n",
    "    gz_files = [file for file in all_files if file.endswith(extension)]\n",
    "    gz_paths = [directory + path for path in gz_files]\n",
    "    return gz_paths\n",
    "\n",
    "\n",
    "# counting the number of reads in the raw reads files\n",
    "\n",
    "def count_seqs(gz_paths):\n",
    "    \"\"\"\n",
    "    Count the number of reads in the raw read files.\n",
    "\n",
    "    Args:\n",
    "        gz_paths (list): A list of file paths to the raw read files.\n",
    "\n",
    "    Returns:\n",
    "        dict: A dictionary where the keys are sample names (derived from file names) and\n",
    "        the values are the corresponding number of sequences in each raw read file.\n",
    "    \"\"\"\n",
    "    output = {}\n",
    "    for file_ in gz_paths:\n",
    "        with gzip.open(file_,'rt') as f:\n",
    "            num_lines = 0\n",
    "            for line in f:\n",
    "                num_lines += 1\n",
    "            num_seqs = num_lines / 4\n",
    "            file_path = file_.split(\"/\")[-1]\n",
    "            file_name = file_path.split(\".\")[0].split('_')[0]\n",
    "            output[file_name] = num_seqs     \n",
    "    return output"
   ]
  },
  {
   "cell_type": "code",
   "execution_count": null,
   "id": "45833aa8",
   "metadata": {},
   "outputs": [],
   "source": [
    "pacbio = \"../raw_data/PacBio/\"\n",
    "seq_paths = [f'{pacbio}/Suthaus_2022_Full18S/cell1/',\n",
    "             f'{pacbio}/Suthaus_2022_Full18S/cell2/', \n",
    "             f'{pacbio}/Suthaus_2022_Full18S/cellCombined/', \n",
    "             f'{pacbio}/Suthaus_2022_rDNA/cell/']\n",
    "\n",
    "num_read_data = {}\n",
    "for seq_path in seq_paths:\n",
    "    gz_paths = get_paths(seq_path)\n",
    "    run_name = seq_path.split('/')[-3].split('_')[-1]\n",
    "    cell_name = seq_path.split('/')[-2]\n",
    "    sample_name = run_name + '_' + cell_name\n",
    "    num_read_data[sample_name] = count_seqs(gz_paths)"
   ]
  },
  {
   "cell_type": "code",
   "execution_count": null,
   "id": "fb03d2e5",
   "metadata": {},
   "outputs": [],
   "source": [
    "num_read_data['Full18S_cell1']"
   ]
  },
  {
   "cell_type": "code",
   "execution_count": null,
   "id": "c7e2d39d",
   "metadata": {},
   "outputs": [],
   "source": [
    "df_reads = pd.DataFrame.from_dict(num_read_data)\n",
    "df_reads = df_reads.dropna()\n",
    "df_reads = df_reads.astype(int)"
   ]
  },
  {
   "cell_type": "code",
   "execution_count": null,
   "id": "5795cc4d",
   "metadata": {},
   "outputs": [],
   "source": [
    "df_reads"
   ]
  },
  {
   "cell_type": "code",
   "execution_count": null,
   "id": "eb3d0162",
   "metadata": {},
   "outputs": [],
   "source": [
    "df_reads['most_reads'] = df_reads.idxmax(axis=1)"
   ]
  },
  {
   "cell_type": "code",
   "execution_count": null,
   "id": "df64aa1d",
   "metadata": {},
   "outputs": [],
   "source": [
    "df_reads"
   ]
  },
  {
   "cell_type": "code",
   "execution_count": null,
   "id": "557de51e",
   "metadata": {},
   "outputs": [],
   "source": [
    "# Plotting number of reads: short vs. long fragment \n",
    "\n",
    "\n",
    "\n",
    "# adjusting the data table for plotting\n",
    "df_reads_plot = df_reads[['Full18S_cellCombined', 'rDNA_cell']]\n",
    "df_reads_plot = df_reads_plot.reset_index()\n",
    "df_reads_plot = df_reads_plot.rename(columns={'index': 'sample', \n",
    "                                              'Full18S_cellCombined': 'short_fragment', \n",
    "                                              'rDNA_cell': 'long_fragment'})\n",
    "df_reads_plot = df_reads_plot.melt(id_vars=['sample'], value_vars=['short_fragment', 'long_fragment'])\n",
    "\n",
    "\n",
    "# plotting code\n",
    "sns.set(rc={'figure.figsize':(11.7,8.27)})\n",
    "sns.set_style(\"white\")\n",
    "plot = sns.barplot(data=df_reads_plot, x='sample', y=\"value\", hue='variable')\n",
    "plot.set(xlabel='', \n",
    "         ylabel = 'number of reads',\n",
    "         title ='Number of reads: short vs. long fragment')\n",
    "sns.despine()\n",
    "\n",
    "# adjusting legend\n",
    "h, l = plot.get_legend_handles_labels()\n",
    "plot.legend(handles=h, \n",
    "                  labels=['short (18S)', 'long (rDNA)'], \n",
    "                  title='Fragment', \n",
    "                  loc=\"upper right\", \n",
    "                  frameon=False);\n",
    "\n",
    "path = '../raw_data/OTU_results/Suthaus_2022'\n",
    "# save\n",
    "plt.savefig(f\"{path}/number_of_reads_comparison.png\", dpi=300, transparent=False)"
   ]
  },
  {
   "cell_type": "markdown",
   "id": "af180e5f",
   "metadata": {},
   "source": [
    "## Length of the reads"
   ]
  },
  {
   "cell_type": "code",
   "execution_count": null,
   "id": "aa3db9e1",
   "metadata": {},
   "outputs": [],
   "source": [
    "# counting the number of reads in the raw reads files\n",
    "\n",
    "path = '../raw_data/PacBio/Suthaus_2022_rDNA/cell/A3_21R.hifi_reads.fastq.gz'\n",
    "\n",
    "\n",
    "for file_ in gz_paths:\n",
    "    with gzip.open(file_,'rt') as f:\n",
    "        short_reads = 0\n",
    "        for line in f:\n",
    "            num_lines += 1\n",
    "        num_seqs = num_lines / 4\n",
    "        file_path = file_.split(\"/\")[-1]\n",
    "        file_name = file_path.split(\".\")[0].split('_')[0]\n",
    "        output[file_name] = num_seqs     \n",
    "return output"
   ]
  },
  {
   "cell_type": "code",
   "execution_count": null,
   "id": "00772021",
   "metadata": {},
   "outputs": [],
   "source": [
    "# Creating a function for counting reads based on the lenght \n",
    "\n",
    "path = '../raw_data/PacBio/Suthaus_2022_rDNA/cell/A3_21R.hifi_reads.fastq.gz'\n",
    "\n",
    "\n",
    "\n",
    "def get_reads_length(path):\n",
    "    reads_length = {'less_3000': 0, \n",
    "                    '3000_6000': 0, \n",
    "                    'more_6000': 0\n",
    "                   }\n",
    "\n",
    "    with gzip.open(path,'rt') as f:\n",
    "        for line in f:\n",
    "            line_cleaned = line.replace('\\n', '')\n",
    "            if line_cleaned.startswith(('A', 'C',  'T', 'G')) and line_cleaned.isalpha():\n",
    "                if len(line_cleaned) < 3000:\n",
    "                    reads_length['less_3000'] += 1\n",
    "                if 3000 <= len(line_cleaned) <= 6000:\n",
    "                    reads_length['3000_6000'] += 1\n",
    "                if len(line_cleaned) > 6000:\n",
    "                    reads_length['more_6000'] += 1\n",
    "    return reads_length"
   ]
  },
  {
   "cell_type": "code",
   "execution_count": null,
   "id": "d00cf5b4",
   "metadata": {},
   "outputs": [],
   "source": [
    "# Creating table with length distribution of the reads\n",
    "\n",
    "directory = '../raw_data/PacBio/Suthaus_2022_rDNA/cell/'\n",
    "\n",
    "paths = get_paths(directory)\n",
    "data = {}\n",
    "\n",
    "for path in paths:\n",
    "    sample_name = path.split('/')[-1].split('.')[0].split('_')[0]\n",
    "    data[sample_name] = get_reads_length(path)\n",
    "\n",
    "df_length = pd.DataFrame.from_dict(data)\n",
    "df_length = df_length.T\n",
    "df_length = df_length.rename(columns={'less_3000': 'less_than_3000', \n",
    "                        '3000_6000': 'between_3000-6000', \n",
    "                        'more_6000': 'more_than_6000'})"
   ]
  },
  {
   "cell_type": "code",
   "execution_count": null,
   "id": "1cc6ccc3",
   "metadata": {},
   "outputs": [],
   "source": [
    "df_length"
   ]
  },
  {
   "cell_type": "code",
   "execution_count": null,
   "id": "8ac347be",
   "metadata": {
    "scrolled": false
   },
   "outputs": [],
   "source": [
    "# Plotting a length distribution of the reads \n",
    "\n",
    "\n",
    "\n",
    "# adjusting the data table for plotting\n",
    "df_length_plot = df_length\n",
    "df_length_plot = df_length_plot.reset_index()\n",
    "df_length_plot = df_length_plot.rename(columns={'index': 'sample'})\n",
    "df_length_plot = df_length_plot.melt(id_vars=['sample'], value_vars=['less_than_3000', 'between_3000-6000'])\n",
    "\n",
    "\n",
    "# plotting code\n",
    "sns.set(rc={'figure.figsize':(11.7,8.27)})\n",
    "sns.set_style(\"white\")\n",
    "plot = sns.barplot(data=df_length_plot, x='sample', y=\"value\", hue='variable')\n",
    "plot.set(xlabel='', \n",
    "         ylabel = 'number of reads',\n",
    "         title ='Length distribution of the reads')\n",
    "sns.despine();\n",
    "\n",
    "# adjusting legend\n",
    "h, l = plot.get_legend_handles_labels()\n",
    "plot.legend(handles=h, \n",
    "                  labels=['less than 3000', 'between 3000 and 6000'], \n",
    "                  title='Length (nt)', \n",
    "                  loc=\"upper right\", \n",
    "                  frameon=False);\n",
    "\n",
    "path = '../raw_data/OTU_results/Suthaus_2022'\n",
    "# save\n",
    "plt.savefig(f\"{path}/reads_length_distribution.png\", dpi=300, transparent=False)"
   ]
  },
  {
   "cell_type": "markdown",
   "id": "64442d59",
   "metadata": {},
   "source": [
    "## Comparing number of reads after filtering the short ones"
   ]
  },
  {
   "cell_type": "markdown",
   "id": "e5991d77",
   "metadata": {},
   "source": [
    "At first:\n",
    "\n",
    "1. Run the cells in the **1.1 Number of reads per sample** to get the **df_reads** dataframe\n",
    "\n",
    "2. Run the cells in the **1.2 Length of the reads** to get **reads_length** dataframe"
   ]
  },
  {
   "cell_type": "code",
   "execution_count": null,
   "id": "2d5f5de4",
   "metadata": {},
   "outputs": [],
   "source": [
    "# creating dataframe\n",
    "\n",
    "df_reads_filt = df_reads[['Full18S_cellCombined', 'sample']]\n",
    "df_reads_filt['rDNA'] = df_length['between_3000-6000']\n",
    "df_reads_filt = df_reads_filt.rename(columns = {'Full18S_cellCombined': '18S'})"
   ]
  },
  {
   "cell_type": "code",
   "execution_count": null,
   "id": "74d2c57f",
   "metadata": {},
   "outputs": [],
   "source": [
    "# Plotting number of reads: 18S vs. rDNA fragment after filtering based on the size\n",
    "\n",
    "\n",
    "# adjusting the data table for plotting\n",
    "df_reads_filt_plot = df_reads_filt.melt(id_vars=['sample'], value_vars=['18S', 'rDNA'])\n",
    "df_reads_filt_plot\n",
    "\n",
    "\n",
    "# plotting code\n",
    "sns.set(rc={'figure.figsize':(11.7,8.27)})\n",
    "sns.set_style(\"white\")\n",
    "plot = sns.barplot(data=df_reads_filt_plot, x='sample', y=\"value\", hue='variable')\n",
    "plot.set(xlabel='', \n",
    "         ylabel = 'number of reads',\n",
    "         title ='Number of reads: short vs. long fragment after filtering based on the length')\n",
    "sns.despine()\n",
    "\n",
    "# adjusting legend\n",
    "h, l = plot.get_legend_handles_labels()\n",
    "plot.legend(handles=h, \n",
    "                  labels=['short (18S)', 'long (rDNA)'], \n",
    "                  title='Fragment', \n",
    "                  loc=\"upper right\", \n",
    "                  frameon=False);\n",
    "\n",
    "path = '../raw_data/OTU_results/Suthaus_2022'\n",
    "# save\n",
    "plt.savefig(f\"{path}/number_of_reads_comparison_filtered.png\", dpi=300, transparent=False)"
   ]
  },
  {
   "cell_type": "markdown",
   "id": "3400f3af",
   "metadata": {},
   "source": [
    "## Checking short reads"
   ]
  },
  {
   "cell_type": "code",
   "execution_count": null,
   "id": "bd23ae9c",
   "metadata": {},
   "outputs": [],
   "source": [
    "path = '../raw_data/PacBio/Suthaus_2022_rDNA/cell/A3_21R.hifi_reads.fastq.gz'\n",
    "\n",
    "short_reads = []\n",
    "read_id = ''\n",
    "with gzip.open(path,'rt') as f:\n",
    "    for line in f:\n",
    "        line_cleaned = line.replace('\\n', '')\n",
    "        if ('@m54326U' in line_cleaned):\n",
    "            read_id = line_cleaned\n",
    "        if line_cleaned.isalpha() and len(line_cleaned) < 3900 and len(line_cleaned) > 3700: \n",
    "            short_reads.append(read_id.replace('@', '>'))\n",
    "            short_reads.append(line_cleaned.strip())"
   ]
  },
  {
   "cell_type": "code",
   "execution_count": null,
   "id": "bc8b60d4",
   "metadata": {},
   "outputs": [],
   "source": [
    "short_reads\n",
    "\n",
    "# open file in write mode\n",
    "with open(r'short_reads.txt', 'w') as fp:\n",
    "    for item in short_reads:\n",
    "        fp.write(\"%s\\n\" % item)"
   ]
  },
  {
   "cell_type": "markdown",
   "id": "96345b00",
   "metadata": {},
   "source": [
    "# Mawhash 2022 data"
   ]
  },
  {
   "cell_type": "markdown",
   "id": "259170a1",
   "metadata": {},
   "source": [
    "## Number of reads/OTUs during the downstream analysis"
   ]
  },
  {
   "cell_type": "markdown",
   "id": "4be81d31",
   "metadata": {},
   "source": [
    "### Number of raw reads"
   ]
  },
  {
   "cell_type": "code",
   "execution_count": 3,
   "id": "2d70c027",
   "metadata": {},
   "outputs": [],
   "source": [
    "# Creating a table (dataframe) re-using the custome get_paths and count_seqs functions\n",
    " \n",
    "path = '../raw_data/PacBio/Jamy_2022_rDNA/cell/raw/'\n",
    "\n",
    "paths = get_paths(path)\n",
    "read_count = count_seqs(paths)"
   ]
  },
  {
   "cell_type": "code",
   "execution_count": 5,
   "id": "ad5b0038",
   "metadata": {
    "scrolled": true
   },
   "outputs": [
    {
     "data": {
      "text/html": [
       "<div>\n",
       "<style scoped>\n",
       "    .dataframe tbody tr th:only-of-type {\n",
       "        vertical-align: middle;\n",
       "    }\n",
       "\n",
       "    .dataframe tbody tr th {\n",
       "        vertical-align: top;\n",
       "    }\n",
       "\n",
       "    .dataframe thead th {\n",
       "        text-align: right;\n",
       "    }\n",
       "</style>\n",
       "<table border=\"1\" class=\"dataframe\">\n",
       "  <thead>\n",
       "    <tr style=\"text-align: right;\">\n",
       "      <th></th>\n",
       "      <th>sample</th>\n",
       "      <th>read_number</th>\n",
       "    </tr>\n",
       "  </thead>\n",
       "  <tbody>\n",
       "    <tr>\n",
       "      <th>0</th>\n",
       "      <td>ERR6454477</td>\n",
       "      <td>775615.0</td>\n",
       "    </tr>\n",
       "    <tr>\n",
       "      <th>1</th>\n",
       "      <td>ERR6454466</td>\n",
       "      <td>301806.0</td>\n",
       "    </tr>\n",
       "    <tr>\n",
       "      <th>2</th>\n",
       "      <td>ERR6454470</td>\n",
       "      <td>1543739.0</td>\n",
       "    </tr>\n",
       "    <tr>\n",
       "      <th>3</th>\n",
       "      <td>ERR6454463</td>\n",
       "      <td>627565.0</td>\n",
       "    </tr>\n",
       "    <tr>\n",
       "      <th>4</th>\n",
       "      <td>ERR6454476</td>\n",
       "      <td>761055.0</td>\n",
       "    </tr>\n",
       "    <tr>\n",
       "      <th>5</th>\n",
       "      <td>ERR6454464</td>\n",
       "      <td>456683.0</td>\n",
       "    </tr>\n",
       "    <tr>\n",
       "      <th>6</th>\n",
       "      <td>ERR6454465</td>\n",
       "      <td>519814.0</td>\n",
       "    </tr>\n",
       "    <tr>\n",
       "      <th>7</th>\n",
       "      <td>ERR6454469</td>\n",
       "      <td>950141.0</td>\n",
       "    </tr>\n",
       "    <tr>\n",
       "      <th>8</th>\n",
       "      <td>ERR6454473</td>\n",
       "      <td>511880.0</td>\n",
       "    </tr>\n",
       "    <tr>\n",
       "      <th>9</th>\n",
       "      <td>ERR6454474</td>\n",
       "      <td>642804.0</td>\n",
       "    </tr>\n",
       "    <tr>\n",
       "      <th>10</th>\n",
       "      <td>ERR6454462</td>\n",
       "      <td>699716.0</td>\n",
       "    </tr>\n",
       "    <tr>\n",
       "      <th>11</th>\n",
       "      <td>ERR6454478</td>\n",
       "      <td>162569.0</td>\n",
       "    </tr>\n",
       "    <tr>\n",
       "      <th>12</th>\n",
       "      <td>ERR6454461</td>\n",
       "      <td>564504.0</td>\n",
       "    </tr>\n",
       "    <tr>\n",
       "      <th>13</th>\n",
       "      <td>ERR6454475</td>\n",
       "      <td>656429.0</td>\n",
       "    </tr>\n",
       "    <tr>\n",
       "      <th>14</th>\n",
       "      <td>ERR6454468</td>\n",
       "      <td>770855.0</td>\n",
       "    </tr>\n",
       "    <tr>\n",
       "      <th>15</th>\n",
       "      <td>ERR6454467</td>\n",
       "      <td>241901.0</td>\n",
       "    </tr>\n",
       "    <tr>\n",
       "      <th>16</th>\n",
       "      <td>ERR6454471</td>\n",
       "      <td>273073.0</td>\n",
       "    </tr>\n",
       "    <tr>\n",
       "      <th>17</th>\n",
       "      <td>ERR6454472</td>\n",
       "      <td>149790.0</td>\n",
       "    </tr>\n",
       "  </tbody>\n",
       "</table>\n",
       "</div>"
      ],
      "text/plain": [
       "        sample  read_number\n",
       "0   ERR6454477     775615.0\n",
       "1   ERR6454466     301806.0\n",
       "2   ERR6454470    1543739.0\n",
       "3   ERR6454463     627565.0\n",
       "4   ERR6454476     761055.0\n",
       "5   ERR6454464     456683.0\n",
       "6   ERR6454465     519814.0\n",
       "7   ERR6454469     950141.0\n",
       "8   ERR6454473     511880.0\n",
       "9   ERR6454474     642804.0\n",
       "10  ERR6454462     699716.0\n",
       "11  ERR6454478     162569.0\n",
       "12  ERR6454461     564504.0\n",
       "13  ERR6454475     656429.0\n",
       "14  ERR6454468     770855.0\n",
       "15  ERR6454467     241901.0\n",
       "16  ERR6454471     273073.0\n",
       "17  ERR6454472     149790.0"
      ]
     },
     "execution_count": 5,
     "metadata": {},
     "output_type": "execute_result"
    }
   ],
   "source": [
    "raw_count_df = pd.DataFrame(data=read_count, index=[0])\n",
    "raw_count_df = raw_count_df.T\n",
    "raw_count_df = raw_count_df.reset_index()\n",
    "raw_count_df = raw_count_df.rename(columns = {'index': 'sample', \n",
    "                                              0: 'read_number'})\n",
    "raw_count_df"
   ]
  },
  {
   "cell_type": "code",
   "execution_count": 6,
   "id": "5925bcb6",
   "metadata": {},
   "outputs": [
    {
     "data": {
      "text/plain": [
       "<Axes: xlabel='read_number', ylabel='sample'>"
      ]
     },
     "execution_count": 6,
     "metadata": {},
     "output_type": "execute_result"
    },
    {
     "data": {
      "image/png": "[encoded data removed]",
      "text/plain": [
       "<Figure size 640x480 with 1 Axes>"
      ]
     },
     "metadata": {},
     "output_type": "display_data"
    }
   ],
   "source": [
    "# plotting\n",
    "sns.barplot(data=raw_count_df, x='read_number', y='sample')"
   ]
  },
  {
   "cell_type": "markdown",
   "id": "84030167",
   "metadata": {},
   "source": [
    "### Number of filtered reads"
   ]
  },
  {
   "cell_type": "markdown",
   "id": "5da6d044",
   "metadata": {},
   "source": [
    "These are reads after running *data_filter_trim* script.\n",
    "So the reads were:\n",
    "- oriented\n",
    "- trimmed\n",
    "- filtered based on the quality and length"
   ]
  },
  {
   "cell_type": "code",
   "execution_count": 7,
   "id": "bd5d777d",
   "metadata": {},
   "outputs": [
    {
     "data": {
      "text/html": [
       "<div>\n",
       "<style scoped>\n",
       "    .dataframe tbody tr th:only-of-type {\n",
       "        vertical-align: middle;\n",
       "    }\n",
       "\n",
       "    .dataframe tbody tr th {\n",
       "        vertical-align: top;\n",
       "    }\n",
       "\n",
       "    .dataframe thead th {\n",
       "        text-align: right;\n",
       "    }\n",
       "</style>\n",
       "<table border=\"1\" class=\"dataframe\">\n",
       "  <thead>\n",
       "    <tr style=\"text-align: right;\">\n",
       "      <th></th>\n",
       "      <th>sample</th>\n",
       "      <th>read_number</th>\n",
       "    </tr>\n",
       "  </thead>\n",
       "  <tbody>\n",
       "    <tr>\n",
       "      <th>0</th>\n",
       "      <td>ERR6454477</td>\n",
       "      <td>504793.0</td>\n",
       "    </tr>\n",
       "    <tr>\n",
       "      <th>1</th>\n",
       "      <td>ERR6454466</td>\n",
       "      <td>170210.0</td>\n",
       "    </tr>\n",
       "    <tr>\n",
       "      <th>2</th>\n",
       "      <td>ERR6454470</td>\n",
       "      <td>980905.0</td>\n",
       "    </tr>\n",
       "    <tr>\n",
       "      <th>3</th>\n",
       "      <td>ERR6454463</td>\n",
       "      <td>378803.0</td>\n",
       "    </tr>\n",
       "    <tr>\n",
       "      <th>4</th>\n",
       "      <td>ERR6454476</td>\n",
       "      <td>483659.0</td>\n",
       "    </tr>\n",
       "    <tr>\n",
       "      <th>5</th>\n",
       "      <td>ERR6454464</td>\n",
       "      <td>261126.0</td>\n",
       "    </tr>\n",
       "    <tr>\n",
       "      <th>6</th>\n",
       "      <td>ERR6454465</td>\n",
       "      <td>345583.0</td>\n",
       "    </tr>\n",
       "    <tr>\n",
       "      <th>7</th>\n",
       "      <td>ERR6454469</td>\n",
       "      <td>568268.0</td>\n",
       "    </tr>\n",
       "    <tr>\n",
       "      <th>8</th>\n",
       "      <td>ERR6454473</td>\n",
       "      <td>296155.0</td>\n",
       "    </tr>\n",
       "    <tr>\n",
       "      <th>9</th>\n",
       "      <td>ERR6454474</td>\n",
       "      <td>412772.0</td>\n",
       "    </tr>\n",
       "    <tr>\n",
       "      <th>10</th>\n",
       "      <td>ERR6454462</td>\n",
       "      <td>432165.0</td>\n",
       "    </tr>\n",
       "    <tr>\n",
       "      <th>11</th>\n",
       "      <td>ERR6454478</td>\n",
       "      <td>91311.0</td>\n",
       "    </tr>\n",
       "    <tr>\n",
       "      <th>12</th>\n",
       "      <td>ERR6454461</td>\n",
       "      <td>327993.0</td>\n",
       "    </tr>\n",
       "    <tr>\n",
       "      <th>13</th>\n",
       "      <td>ERR6454475</td>\n",
       "      <td>439755.0</td>\n",
       "    </tr>\n",
       "    <tr>\n",
       "      <th>14</th>\n",
       "      <td>ERR6454468</td>\n",
       "      <td>471623.0</td>\n",
       "    </tr>\n",
       "    <tr>\n",
       "      <th>15</th>\n",
       "      <td>ERR6454467</td>\n",
       "      <td>143403.0</td>\n",
       "    </tr>\n",
       "    <tr>\n",
       "      <th>16</th>\n",
       "      <td>ERR6454471</td>\n",
       "      <td>170265.0</td>\n",
       "    </tr>\n",
       "    <tr>\n",
       "      <th>17</th>\n",
       "      <td>ERR6454472</td>\n",
       "      <td>94567.0</td>\n",
       "    </tr>\n",
       "  </tbody>\n",
       "</table>\n",
       "</div>"
      ],
      "text/plain": [
       "        sample  read_number\n",
       "0   ERR6454477     504793.0\n",
       "1   ERR6454466     170210.0\n",
       "2   ERR6454470     980905.0\n",
       "3   ERR6454463     378803.0\n",
       "4   ERR6454476     483659.0\n",
       "5   ERR6454464     261126.0\n",
       "6   ERR6454465     345583.0\n",
       "7   ERR6454469     568268.0\n",
       "8   ERR6454473     296155.0\n",
       "9   ERR6454474     412772.0\n",
       "10  ERR6454462     432165.0\n",
       "11  ERR6454478      91311.0\n",
       "12  ERR6454461     327993.0\n",
       "13  ERR6454475     439755.0\n",
       "14  ERR6454468     471623.0\n",
       "15  ERR6454467     143403.0\n",
       "16  ERR6454471     170265.0\n",
       "17  ERR6454472      94567.0"
      ]
     },
     "execution_count": 7,
     "metadata": {},
     "output_type": "execute_result"
    }
   ],
   "source": [
    "# Creating a table (dataframe) re-using the custome get_paths and count_seqs functions\n",
    " \n",
    "path = '../raw_data/PacBio/Jamy_2022_rDNA/cell/filtered/'\n",
    "\n",
    "paths = get_paths(path)\n",
    "read_count = count_seqs(paths)\n",
    "\n",
    "\n",
    "read_count_df = pd.DataFrame(data=read_count, index=[0])\n",
    "read_count_df = read_count_df.T\n",
    "read_count_df = read_count_df.reset_index()\n",
    "read_count_df = read_count_df.rename(columns = {'index': 'sample', \n",
    "                                                0: 'read_number'})\n",
    "read_count_df"
   ]
  },
  {
   "cell_type": "code",
   "execution_count": null,
   "id": "361f74d0",
   "metadata": {},
   "outputs": [],
   "source": [
    "# plotting\n",
    "sns.barplot(data=read_count_df, x='read_number', y='sample')"
   ]
  },
  {
   "cell_type": "markdown",
   "id": "91eef222",
   "metadata": {},
   "source": [
    "### Dereplicated reads"
   ]
  },
  {
   "cell_type": "markdown",
   "id": "49c87e2a",
   "metadata": {},
   "source": [
    "Reads after using the *tax_assign_nondenoised_02_dereplicate* script"
   ]
  },
  {
   "cell_type": "code",
   "execution_count": 8,
   "id": "8ad913fb",
   "metadata": {},
   "outputs": [],
   "source": [
    "# FUNCTION\n",
    "\n",
    "\n",
    "# counting the number of reads in the raw reads files\n",
    "\n",
    "def count_seqs_fasta(fasta_paths):\n",
    "    \"\"\"\n",
    "    Count the number of reads in the raw read files.\n",
    "\n",
    "    Args:\n",
    "        gz_paths (list): A list of file paths to the raw read files.\n",
    "\n",
    "    Returns:\n",
    "        dict: A dictionary where the keys are sample names (derived from file names) and\n",
    "        the values are the corresponding number of sequences in each raw read file.\n",
    "    \"\"\"\n",
    "    output = {}\n",
    "    for file_ in fasta_paths:\n",
    "        with open(file_, 'rt') as f:\n",
    "            num_lines = 0\n",
    "            for line in f:\n",
    "                num_lines += 1\n",
    "            num_seqs = num_lines / 2\n",
    "            file_name = file_.split(\"_\")[-1].split('.')[0]\n",
    "            output[file_name] = num_seqs     \n",
    "    return output"
   ]
  },
  {
   "cell_type": "code",
   "execution_count": 9,
   "id": "f0ba3d20",
   "metadata": {},
   "outputs": [],
   "source": [
    "# count all the reads\n",
    "path = '../raw_data/denoise/Jamy_2022/rDNA/cell/'\n",
    "paths = get_paths(path, extension='.fasta')\n",
    "derep_count_df = count_seqs_fasta(paths)"
   ]
  },
  {
   "cell_type": "code",
   "execution_count": 10,
   "id": "4f4c6f6b",
   "metadata": {},
   "outputs": [
    {
     "data": {
      "text/plain": [
       "{'ERR6454475': 432725.0,\n",
       " 'ERR6454472': 94002.0,\n",
       " 'ERR6454465': 345415.0,\n",
       " 'ERR6454476': 481198.0,\n",
       " 'ERR6454471': 170063.0,\n",
       " 'ERR6454466': 169716.0,\n",
       " 'ERR6454469': 567138.0,\n",
       " 'ERR6454477': 502207.0,\n",
       " 'ERR6454468': 471501.0,\n",
       " 'ERR6454462': 429202.0,\n",
       " 'ERR6454467': 143289.0,\n",
       " 'ERR6454474': 404139.0,\n",
       " 'ERR6454470': 943150.0,\n",
       " 'ERR6454464': 260566.0,\n",
       " 'ERR6454478': 90964.0,\n",
       " 'ERR6454461': 327118.0,\n",
       " 'ERR6454473': 294126.0,\n",
       " 'ERR6454463': 375633.0}"
      ]
     },
     "execution_count": 10,
     "metadata": {},
     "output_type": "execute_result"
    }
   ],
   "source": [
    "derep_count_df"
   ]
  },
  {
   "cell_type": "code",
   "execution_count": 11,
   "id": "881cb299",
   "metadata": {},
   "outputs": [],
   "source": [
    "# create a dataframe from the counting \n",
    "derep_df = pd.DataFrame(data=derep_count_df, index=[0])\n",
    "derep_df = derep_df.T\n",
    "derep_df = derep_df.reset_index()\n",
    "derep_df = derep_df.rename(columns = {'index': 'sample', \n",
    "                                            0: 'derep_number'})"
   ]
  },
  {
   "cell_type": "code",
   "execution_count": 12,
   "id": "a6b07fbf",
   "metadata": {
    "collapsed": true
   },
   "outputs": [
    {
     "ename": "ValueError",
     "evalue": "The truth value of a DataFrame is ambiguous. Use a.empty, a.bool(), a.item(), a.any() or a.all().",
     "output_type": "error",
     "traceback": [
      "\u001b[0;31m---------------------------------------------------------------------------\u001b[0m",
      "\u001b[0;31mValueError\u001b[0m                                Traceback (most recent call last)",
      "Cell \u001b[0;32mIn[12], line 1\u001b[0m\n\u001b[0;32m----> 1\u001b[0m comp_read_number \u001b[38;5;241m=\u001b[39m \u001b[43mpd\u001b[49m\u001b[38;5;241;43m.\u001b[39;49m\u001b[43mmerge\u001b[49m\u001b[43m(\u001b[49m\u001b[43mraw_count_df\u001b[49m\u001b[43m,\u001b[49m\u001b[43m \u001b[49m\u001b[43mread_count_df\u001b[49m\u001b[43m,\u001b[49m\u001b[43m \u001b[49m\u001b[43mderep_df\u001b[49m\u001b[43m,\u001b[49m\u001b[43m \u001b[49m\u001b[43mon\u001b[49m\u001b[38;5;241;43m=\u001b[39;49m\u001b[38;5;124;43m'\u001b[39;49m\u001b[38;5;124;43msample\u001b[39;49m\u001b[38;5;124;43m'\u001b[39;49m\u001b[43m)\u001b[49m\n",
      "File \u001b[0;32m~/miniconda3/lib/python3.10/site-packages/pandas/core/reshape/merge.py:110\u001b[0m, in \u001b[0;36mmerge\u001b[0;34m(left, right, how, on, left_on, right_on, left_index, right_index, sort, suffixes, copy, indicator, validate)\u001b[0m\n\u001b[1;32m     93\u001b[0m \u001b[38;5;129m@Substitution\u001b[39m(\u001b[38;5;124m\"\u001b[39m\u001b[38;5;130;01m\\n\u001b[39;00m\u001b[38;5;124mleft : DataFrame or named Series\u001b[39m\u001b[38;5;124m\"\u001b[39m)\n\u001b[1;32m     94\u001b[0m \u001b[38;5;129m@Appender\u001b[39m(_merge_doc, indents\u001b[38;5;241m=\u001b[39m\u001b[38;5;241m0\u001b[39m)\n\u001b[1;32m     95\u001b[0m \u001b[38;5;28;01mdef\u001b[39;00m \u001b[38;5;21mmerge\u001b[39m(\n\u001b[0;32m   (...)\u001b[0m\n\u001b[1;32m    108\u001b[0m     validate: \u001b[38;5;28mstr\u001b[39m \u001b[38;5;241m|\u001b[39m \u001b[38;5;28;01mNone\u001b[39;00m \u001b[38;5;241m=\u001b[39m \u001b[38;5;28;01mNone\u001b[39;00m,\n\u001b[1;32m    109\u001b[0m ) \u001b[38;5;241m-\u001b[39m\u001b[38;5;241m>\u001b[39m DataFrame:\n\u001b[0;32m--> 110\u001b[0m     op \u001b[38;5;241m=\u001b[39m \u001b[43m_MergeOperation\u001b[49m\u001b[43m(\u001b[49m\n\u001b[1;32m    111\u001b[0m \u001b[43m        \u001b[49m\u001b[43mleft\u001b[49m\u001b[43m,\u001b[49m\n\u001b[1;32m    112\u001b[0m \u001b[43m        \u001b[49m\u001b[43mright\u001b[49m\u001b[43m,\u001b[49m\n\u001b[1;32m    113\u001b[0m \u001b[43m        \u001b[49m\u001b[43mhow\u001b[49m\u001b[38;5;241;43m=\u001b[39;49m\u001b[43mhow\u001b[49m\u001b[43m,\u001b[49m\n\u001b[1;32m    114\u001b[0m \u001b[43m        \u001b[49m\u001b[43mon\u001b[49m\u001b[38;5;241;43m=\u001b[39;49m\u001b[43mon\u001b[49m\u001b[43m,\u001b[49m\n\u001b[1;32m    115\u001b[0m \u001b[43m        \u001b[49m\u001b[43mleft_on\u001b[49m\u001b[38;5;241;43m=\u001b[39;49m\u001b[43mleft_on\u001b[49m\u001b[43m,\u001b[49m\n\u001b[1;32m    116\u001b[0m \u001b[43m        \u001b[49m\u001b[43mright_on\u001b[49m\u001b[38;5;241;43m=\u001b[39;49m\u001b[43mright_on\u001b[49m\u001b[43m,\u001b[49m\n\u001b[1;32m    117\u001b[0m \u001b[43m        \u001b[49m\u001b[43mleft_index\u001b[49m\u001b[38;5;241;43m=\u001b[39;49m\u001b[43mleft_index\u001b[49m\u001b[43m,\u001b[49m\n\u001b[1;32m    118\u001b[0m \u001b[43m        \u001b[49m\u001b[43mright_index\u001b[49m\u001b[38;5;241;43m=\u001b[39;49m\u001b[43mright_index\u001b[49m\u001b[43m,\u001b[49m\n\u001b[1;32m    119\u001b[0m \u001b[43m        \u001b[49m\u001b[43msort\u001b[49m\u001b[38;5;241;43m=\u001b[39;49m\u001b[43msort\u001b[49m\u001b[43m,\u001b[49m\n\u001b[1;32m    120\u001b[0m \u001b[43m        \u001b[49m\u001b[43msuffixes\u001b[49m\u001b[38;5;241;43m=\u001b[39;49m\u001b[43msuffixes\u001b[49m\u001b[43m,\u001b[49m\n\u001b[1;32m    121\u001b[0m \u001b[43m        \u001b[49m\u001b[43mindicator\u001b[49m\u001b[38;5;241;43m=\u001b[39;49m\u001b[43mindicator\u001b[49m\u001b[43m,\u001b[49m\n\u001b[1;32m    122\u001b[0m \u001b[43m        \u001b[49m\u001b[43mvalidate\u001b[49m\u001b[38;5;241;43m=\u001b[39;49m\u001b[43mvalidate\u001b[49m\u001b[43m,\u001b[49m\n\u001b[1;32m    123\u001b[0m \u001b[43m    \u001b[49m\u001b[43m)\u001b[49m\n\u001b[1;32m    124\u001b[0m     \u001b[38;5;28;01mreturn\u001b[39;00m op\u001b[38;5;241m.\u001b[39mget_result(copy\u001b[38;5;241m=\u001b[39mcopy)\n",
      "File \u001b[0;32m~/miniconda3/lib/python3.10/site-packages/pandas/core/reshape/merge.py:685\u001b[0m, in \u001b[0;36m_MergeOperation.__init__\u001b[0;34m(self, left, right, how, on, left_on, right_on, axis, left_index, right_index, sort, suffixes, indicator, validate)\u001b[0m\n\u001b[1;32m    681\u001b[0m     \u001b[38;5;66;03m# stacklevel chosen to be correct when this is reached via pd.merge\u001b[39;00m\n\u001b[1;32m    682\u001b[0m     \u001b[38;5;66;03m# (and not DataFrame.join)\u001b[39;00m\n\u001b[1;32m    683\u001b[0m     warnings\u001b[38;5;241m.\u001b[39mwarn(msg, \u001b[38;5;167;01mFutureWarning\u001b[39;00m, stacklevel\u001b[38;5;241m=\u001b[39mfind_stack_level())\n\u001b[0;32m--> 685\u001b[0m \u001b[38;5;28mself\u001b[39m\u001b[38;5;241m.\u001b[39mleft_on, \u001b[38;5;28mself\u001b[39m\u001b[38;5;241m.\u001b[39mright_on \u001b[38;5;241m=\u001b[39m \u001b[38;5;28;43mself\u001b[39;49m\u001b[38;5;241;43m.\u001b[39;49m\u001b[43m_validate_left_right_on\u001b[49m\u001b[43m(\u001b[49m\u001b[43mleft_on\u001b[49m\u001b[43m,\u001b[49m\u001b[43m \u001b[49m\u001b[43mright_on\u001b[49m\u001b[43m)\u001b[49m\n\u001b[1;32m    687\u001b[0m cross_col \u001b[38;5;241m=\u001b[39m \u001b[38;5;28;01mNone\u001b[39;00m\n\u001b[1;32m    688\u001b[0m \u001b[38;5;28;01mif\u001b[39;00m \u001b[38;5;28mself\u001b[39m\u001b[38;5;241m.\u001b[39mhow \u001b[38;5;241m==\u001b[39m \u001b[38;5;124m\"\u001b[39m\u001b[38;5;124mcross\u001b[39m\u001b[38;5;124m\"\u001b[39m:\n",
      "File \u001b[0;32m~/miniconda3/lib/python3.10/site-packages/pandas/core/reshape/merge.py:1407\u001b[0m, in \u001b[0;36m_MergeOperation._validate_left_right_on\u001b[0;34m(self, left_on, right_on)\u001b[0m\n\u001b[1;32m   1404\u001b[0m left_on \u001b[38;5;241m=\u001b[39m com\u001b[38;5;241m.\u001b[39mmaybe_make_list(left_on)\n\u001b[1;32m   1405\u001b[0m right_on \u001b[38;5;241m=\u001b[39m com\u001b[38;5;241m.\u001b[39mmaybe_make_list(right_on)\n\u001b[0;32m-> 1407\u001b[0m \u001b[38;5;28;01mif\u001b[39;00m \u001b[38;5;28mself\u001b[39m\u001b[38;5;241m.\u001b[39mhow \u001b[38;5;241m==\u001b[39m \u001b[38;5;124m\"\u001b[39m\u001b[38;5;124mcross\u001b[39m\u001b[38;5;124m\"\u001b[39m:\n\u001b[1;32m   1408\u001b[0m     \u001b[38;5;28;01mif\u001b[39;00m (\n\u001b[1;32m   1409\u001b[0m         \u001b[38;5;28mself\u001b[39m\u001b[38;5;241m.\u001b[39mleft_index\n\u001b[1;32m   1410\u001b[0m         \u001b[38;5;129;01mor\u001b[39;00m \u001b[38;5;28mself\u001b[39m\u001b[38;5;241m.\u001b[39mright_index\n\u001b[0;32m   (...)\u001b[0m\n\u001b[1;32m   1413\u001b[0m         \u001b[38;5;129;01mor\u001b[39;00m \u001b[38;5;28mself\u001b[39m\u001b[38;5;241m.\u001b[39mon \u001b[38;5;129;01mis\u001b[39;00m \u001b[38;5;129;01mnot\u001b[39;00m \u001b[38;5;28;01mNone\u001b[39;00m\n\u001b[1;32m   1414\u001b[0m     ):\n\u001b[1;32m   1415\u001b[0m         \u001b[38;5;28;01mraise\u001b[39;00m MergeError(\n\u001b[1;32m   1416\u001b[0m             \u001b[38;5;124m\"\u001b[39m\u001b[38;5;124mCan not pass on, right_on, left_on or set right_index=True or \u001b[39m\u001b[38;5;124m\"\u001b[39m\n\u001b[1;32m   1417\u001b[0m             \u001b[38;5;124m\"\u001b[39m\u001b[38;5;124mleft_index=True\u001b[39m\u001b[38;5;124m\"\u001b[39m\n\u001b[1;32m   1418\u001b[0m         )\n",
      "File \u001b[0;32m~/miniconda3/lib/python3.10/site-packages/pandas/core/generic.py:1527\u001b[0m, in \u001b[0;36mNDFrame.__nonzero__\u001b[0;34m(self)\u001b[0m\n\u001b[1;32m   1525\u001b[0m \u001b[38;5;129m@final\u001b[39m\n\u001b[1;32m   1526\u001b[0m \u001b[38;5;28;01mdef\u001b[39;00m \u001b[38;5;21m__nonzero__\u001b[39m(\u001b[38;5;28mself\u001b[39m) \u001b[38;5;241m-\u001b[39m\u001b[38;5;241m>\u001b[39m NoReturn:\n\u001b[0;32m-> 1527\u001b[0m     \u001b[38;5;28;01mraise\u001b[39;00m \u001b[38;5;167;01mValueError\u001b[39;00m(\n\u001b[1;32m   1528\u001b[0m         \u001b[38;5;124mf\u001b[39m\u001b[38;5;124m\"\u001b[39m\u001b[38;5;124mThe truth value of a \u001b[39m\u001b[38;5;132;01m{\u001b[39;00m\u001b[38;5;28mtype\u001b[39m(\u001b[38;5;28mself\u001b[39m)\u001b[38;5;241m.\u001b[39m\u001b[38;5;18m__name__\u001b[39m\u001b[38;5;132;01m}\u001b[39;00m\u001b[38;5;124m is ambiguous. \u001b[39m\u001b[38;5;124m\"\u001b[39m\n\u001b[1;32m   1529\u001b[0m         \u001b[38;5;124m\"\u001b[39m\u001b[38;5;124mUse a.empty, a.bool(), a.item(), a.any() or a.all().\u001b[39m\u001b[38;5;124m\"\u001b[39m\n\u001b[1;32m   1530\u001b[0m     )\n",
      "\u001b[0;31mValueError\u001b[0m: The truth value of a DataFrame is ambiguous. Use a.empty, a.bool(), a.item(), a.any() or a.all()."
     ]
    }
   ],
   "source": [
    "comp_read_number = pd.merge(read_count_df, derep_df, on='sample')"
   ]
  },
  {
   "cell_type": "code",
   "execution_count": null,
   "id": "837c7557",
   "metadata": {},
   "outputs": [],
   "source": [
    "# Plotting number of reads comparison\n",
    "\n",
    "\n",
    "# adjusting the data table for plotting\n",
    "comp_read_number_plot = comp_read_number.melt(id_vars=['sample'], value_vars=['read_number', 'derep_number'])\n",
    "comp_read_number_plot\n",
    "\n",
    "\n",
    "# plotting code\n",
    "sns.set(rc={'figure.figsize':(11.7,8.27)})\n",
    "sns.set_style(\"white\")\n",
    "plot = sns.barplot(data=comp_read_number_plot, y='sample', x=\"value\", hue='variable')\n",
    "plot.set(xlabel='', \n",
    "         ylabel = 'number of reads',\n",
    "         title ='Number of reads: filtered vs. dereplicated')\n",
    "sns.despine()\n",
    "\n",
    "# adjusting legend\n",
    "h, l = plot.get_legend_handles_labels()\n",
    "plot.legend(handles=h, \n",
    "                  labels=['filtered', 'dereplicated'], \n",
    "                  title='', \n",
    "                  loc=\"lower right\", \n",
    "                  frameon=False);"
   ]
  },
  {
   "cell_type": "markdown",
   "id": "cdb4ded1",
   "metadata": {},
   "source": [
    "### Comparison: raw reads, filtered seqs, dereplicated seqs "
   ]
  },
  {
   "cell_type": "code",
   "execution_count": 14,
   "id": "fd5ead4d",
   "metadata": {},
   "outputs": [
    {
     "data": {
      "text/html": [
       "<div>\n",
       "<style scoped>\n",
       "    .dataframe tbody tr th:only-of-type {\n",
       "        vertical-align: middle;\n",
       "    }\n",
       "\n",
       "    .dataframe tbody tr th {\n",
       "        vertical-align: top;\n",
       "    }\n",
       "\n",
       "    .dataframe thead th {\n",
       "        text-align: right;\n",
       "    }\n",
       "</style>\n",
       "<table border=\"1\" class=\"dataframe\">\n",
       "  <thead>\n",
       "    <tr style=\"text-align: right;\">\n",
       "      <th></th>\n",
       "      <th>sample</th>\n",
       "      <th>raw_reads</th>\n",
       "      <th>filtered_seqs</th>\n",
       "      <th>derep_seqs</th>\n",
       "    </tr>\n",
       "  </thead>\n",
       "  <tbody>\n",
       "    <tr>\n",
       "      <th>0</th>\n",
       "      <td>ERR6454477</td>\n",
       "      <td>775615.0</td>\n",
       "      <td>504793.0</td>\n",
       "      <td>502207.0</td>\n",
       "    </tr>\n",
       "    <tr>\n",
       "      <th>1</th>\n",
       "      <td>ERR6454466</td>\n",
       "      <td>301806.0</td>\n",
       "      <td>170210.0</td>\n",
       "      <td>169716.0</td>\n",
       "    </tr>\n",
       "    <tr>\n",
       "      <th>2</th>\n",
       "      <td>ERR6454470</td>\n",
       "      <td>1543739.0</td>\n",
       "      <td>980905.0</td>\n",
       "      <td>943150.0</td>\n",
       "    </tr>\n",
       "    <tr>\n",
       "      <th>3</th>\n",
       "      <td>ERR6454463</td>\n",
       "      <td>627565.0</td>\n",
       "      <td>378803.0</td>\n",
       "      <td>375633.0</td>\n",
       "    </tr>\n",
       "    <tr>\n",
       "      <th>4</th>\n",
       "      <td>ERR6454476</td>\n",
       "      <td>761055.0</td>\n",
       "      <td>483659.0</td>\n",
       "      <td>481198.0</td>\n",
       "    </tr>\n",
       "    <tr>\n",
       "      <th>5</th>\n",
       "      <td>ERR6454464</td>\n",
       "      <td>456683.0</td>\n",
       "      <td>261126.0</td>\n",
       "      <td>260566.0</td>\n",
       "    </tr>\n",
       "    <tr>\n",
       "      <th>6</th>\n",
       "      <td>ERR6454465</td>\n",
       "      <td>519814.0</td>\n",
       "      <td>345583.0</td>\n",
       "      <td>345415.0</td>\n",
       "    </tr>\n",
       "    <tr>\n",
       "      <th>7</th>\n",
       "      <td>ERR6454469</td>\n",
       "      <td>950141.0</td>\n",
       "      <td>568268.0</td>\n",
       "      <td>567138.0</td>\n",
       "    </tr>\n",
       "    <tr>\n",
       "      <th>8</th>\n",
       "      <td>ERR6454473</td>\n",
       "      <td>511880.0</td>\n",
       "      <td>296155.0</td>\n",
       "      <td>294126.0</td>\n",
       "    </tr>\n",
       "    <tr>\n",
       "      <th>9</th>\n",
       "      <td>ERR6454474</td>\n",
       "      <td>642804.0</td>\n",
       "      <td>412772.0</td>\n",
       "      <td>404139.0</td>\n",
       "    </tr>\n",
       "    <tr>\n",
       "      <th>10</th>\n",
       "      <td>ERR6454462</td>\n",
       "      <td>699716.0</td>\n",
       "      <td>432165.0</td>\n",
       "      <td>429202.0</td>\n",
       "    </tr>\n",
       "    <tr>\n",
       "      <th>11</th>\n",
       "      <td>ERR6454478</td>\n",
       "      <td>162569.0</td>\n",
       "      <td>91311.0</td>\n",
       "      <td>90964.0</td>\n",
       "    </tr>\n",
       "    <tr>\n",
       "      <th>12</th>\n",
       "      <td>ERR6454461</td>\n",
       "      <td>564504.0</td>\n",
       "      <td>327993.0</td>\n",
       "      <td>327118.0</td>\n",
       "    </tr>\n",
       "    <tr>\n",
       "      <th>13</th>\n",
       "      <td>ERR6454475</td>\n",
       "      <td>656429.0</td>\n",
       "      <td>439755.0</td>\n",
       "      <td>432725.0</td>\n",
       "    </tr>\n",
       "    <tr>\n",
       "      <th>14</th>\n",
       "      <td>ERR6454468</td>\n",
       "      <td>770855.0</td>\n",
       "      <td>471623.0</td>\n",
       "      <td>471501.0</td>\n",
       "    </tr>\n",
       "    <tr>\n",
       "      <th>15</th>\n",
       "      <td>ERR6454467</td>\n",
       "      <td>241901.0</td>\n",
       "      <td>143403.0</td>\n",
       "      <td>143289.0</td>\n",
       "    </tr>\n",
       "    <tr>\n",
       "      <th>16</th>\n",
       "      <td>ERR6454471</td>\n",
       "      <td>273073.0</td>\n",
       "      <td>170265.0</td>\n",
       "      <td>170063.0</td>\n",
       "    </tr>\n",
       "    <tr>\n",
       "      <th>17</th>\n",
       "      <td>ERR6454472</td>\n",
       "      <td>149790.0</td>\n",
       "      <td>94567.0</td>\n",
       "      <td>94002.0</td>\n",
       "    </tr>\n",
       "  </tbody>\n",
       "</table>\n",
       "</div>"
      ],
      "text/plain": [
       "        sample  raw_reads  filtered_seqs  derep_seqs\n",
       "0   ERR6454477   775615.0       504793.0    502207.0\n",
       "1   ERR6454466   301806.0       170210.0    169716.0\n",
       "2   ERR6454470  1543739.0       980905.0    943150.0\n",
       "3   ERR6454463   627565.0       378803.0    375633.0\n",
       "4   ERR6454476   761055.0       483659.0    481198.0\n",
       "5   ERR6454464   456683.0       261126.0    260566.0\n",
       "6   ERR6454465   519814.0       345583.0    345415.0\n",
       "7   ERR6454469   950141.0       568268.0    567138.0\n",
       "8   ERR6454473   511880.0       296155.0    294126.0\n",
       "9   ERR6454474   642804.0       412772.0    404139.0\n",
       "10  ERR6454462   699716.0       432165.0    429202.0\n",
       "11  ERR6454478   162569.0        91311.0     90964.0\n",
       "12  ERR6454461   564504.0       327993.0    327118.0\n",
       "13  ERR6454475   656429.0       439755.0    432725.0\n",
       "14  ERR6454468   770855.0       471623.0    471501.0\n",
       "15  ERR6454467   241901.0       143403.0    143289.0\n",
       "16  ERR6454471   273073.0       170265.0    170063.0\n",
       "17  ERR6454472   149790.0        94567.0     94002.0"
      ]
     },
     "execution_count": 14,
     "metadata": {},
     "output_type": "execute_result"
    }
   ],
   "source": [
    "comp_df = raw_count_df.merge(read_count_df, on ='sample').merge(derep_df, on='sample')\n",
    "comp_df = comp_df.rename(columns = {'read_number_x': 'raw_reads', \n",
    "                                    'read_number_y': 'filtered_seqs', \n",
    "                                    'derep_number': 'derep_seqs'})\n",
    "comp_df"
   ]
  },
  {
   "cell_type": "code",
   "execution_count": 16,
   "id": "bd34725c",
   "metadata": {},
   "outputs": [
    {
     "data": {
      "image/png": "[encoded data removed]",
      "text/plain": [
       "<Figure size 1170x827 with 1 Axes>"
      ]
     },
     "metadata": {},
     "output_type": "display_data"
    }
   ],
   "source": [
    "# Plotting number of reads comparison\n",
    "\n",
    "\n",
    "# adjusting the data table for plotting\n",
    "comp_plot = comp_df.melt(id_vars=['sample'], value_vars=['raw_reads', \n",
    "                                                         'filtered_seqs', \n",
    "                                                         'derep_seqs'])\n",
    "\n",
    "# plotting code\n",
    "sns.set(rc={'figure.figsize':(11.7,8.27)})\n",
    "sns.set_style(\"white\")\n",
    "plot = sns.barplot(data=comp_plot, y='sample', x=\"value\", hue='variable')\n",
    "plot.set(xlabel='', \n",
    "         ylabel = 'number of reads',\n",
    "         title ='Number of sequences/reads: raw, filtered, dereplicated')\n",
    "sns.despine()\n",
    "\n",
    "# adjusting legend\n",
    "h, l = plot.get_legend_handles_labels()\n",
    "plot.legend(handles=h, \n",
    "                  labels=['raw', 'filtered', 'dereplicated'], \n",
    "                  title='reads/sequences', \n",
    "                  loc=\"lower right\", \n",
    "                  frameon=False);"
   ]
  },
  {
   "cell_type": "code",
   "execution_count": null,
   "id": "f70d7a24",
   "metadata": {},
   "outputs": [],
   "source": []
  },
  {
   "cell_type": "markdown",
   "id": "4602cbaf",
   "metadata": {},
   "source": [
    "### Length of the raw reads"
   ]
  },
  {
   "cell_type": "markdown",
   "id": "1bd7ab20",
   "metadata": {},
   "source": [
    "### Length of the dereplicated reads"
   ]
  },
  {
   "cell_type": "code",
   "execution_count": null,
   "id": "27989235",
   "metadata": {},
   "outputs": [],
   "source": [
    "# Creating a function for counting reads based on the lenght \n",
    "\n",
    "def get_reads_length_fasta(path):\n",
    "    reads_length = {'less_4000': 0, \n",
    "                    '4000_5000': 0, \n",
    "                    'more_5000': 0\n",
    "                   }\n",
    "\n",
    "    with open(path,'rt') as f:\n",
    "        for line in f:\n",
    "            line_cleaned = line.replace('\\n', '')\n",
    "            if line_cleaned.startswith(('A', 'C',  'T', 'G')) and line_cleaned.isalpha():\n",
    "                if len(line_cleaned) < 4000:\n",
    "                    reads_length['less_4000'] += 1\n",
    "                if 4000 <= len(line_cleaned) <= 5000:\n",
    "                    reads_length['4000_5000'] += 1\n",
    "                if len(line_cleaned) > 5000:\n",
    "                    reads_length['more_5000'] += 1\n",
    "    return reads_length"
   ]
  },
  {
   "cell_type": "code",
   "execution_count": null,
   "id": "98949a57",
   "metadata": {},
   "outputs": [],
   "source": [
    "path = '../raw_data/denoise/Jamy_2022/rDNA/cell/asv_seqs_ERR6454461.fasta'\n",
    "\n",
    "output = get_reads_length_fasta(path)\n",
    "\n",
    "output"
   ]
  },
  {
   "cell_type": "code",
   "execution_count": null,
   "id": "2fee29d9",
   "metadata": {},
   "outputs": [],
   "source": [
    "# Creating table with length distribution of the reads\n",
    "\n",
    "directory = '../raw_data/PacBio/Suthaus_2022_rDNA/cell/'\n",
    "\n",
    "paths = get_paths(directory)\n",
    "data = {}\n",
    "\n",
    "for path in paths:\n",
    "    sample_name = path.split('/')[-1].split('.')[0].split('_')[0]\n",
    "    data[sample_name] = get_reads_length(path)\n",
    "\n",
    "df_length = pd.DataFrame.from_dict(data)\n",
    "df_length = df_length.T\n",
    "df_length = df_length.rename(columns={'less_3000': 'less_than_3000', \n",
    "                        '3000_6000': 'between_3000-6000', \n",
    "                        'more_6000': 'more_than_6000'})"
   ]
  },
  {
   "cell_type": "code",
   "execution_count": null,
   "id": "39e916f1",
   "metadata": {},
   "outputs": [],
   "source": []
  },
  {
   "cell_type": "code",
   "execution_count": null,
   "id": "f82c43ef",
   "metadata": {},
   "outputs": [],
   "source": []
  },
  {
   "cell_type": "code",
   "execution_count": null,
   "id": "949c6d22",
   "metadata": {},
   "outputs": [],
   "source": []
  },
  {
   "cell_type": "code",
   "execution_count": null,
   "id": "bad9c83d",
   "metadata": {},
   "outputs": [],
   "source": []
  },
  {
   "cell_type": "code",
   "execution_count": null,
   "id": "20cf53cf",
   "metadata": {},
   "outputs": [],
   "source": []
  },
  {
   "cell_type": "code",
   "execution_count": null,
   "id": "c4073a5d",
   "metadata": {},
   "outputs": [],
   "source": []
  }
 ],
 "metadata": {
  "kernelspec": {
   "display_name": "Python 3 (ipykernel)",
   "language": "python",
   "name": "python3"
  },
  "language_info": {
   "codemirror_mode": {
    "name": "ipython",
    "version": 3
   },
   "file_extension": ".py",
   "mimetype": "text/x-python",
   "name": "python",
   "nbconvert_exporter": "python",
   "pygments_lexer": "ipython3",
   "version": "3.10.8"
  },
  "toc": {
   "base_numbering": 1,
   "nav_menu": {},
   "number_sections": true,
   "sideBar": true,
   "skip_h1_title": false,
   "title_cell": "Table of Contents",
   "title_sidebar": "Contents",
   "toc_cell": false,
   "toc_position": {},
   "toc_section_display": true,
   "toc_window_display": false
  }
 },
 "nbformat": 4,
 "nbformat_minor": 5
}
