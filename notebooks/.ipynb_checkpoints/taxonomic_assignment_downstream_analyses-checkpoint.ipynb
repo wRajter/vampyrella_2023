{
 "cells": [
  {
   "cell_type": "markdown",
   "id": "da856db9",
   "metadata": {},
   "source": [
    "# Taxonomic assignment: Downstream analyses"
   ]
  },
  {
   "cell_type": "code",
   "execution_count": null,
   "id": "2f063168",
   "metadata": {},
   "outputs": [],
   "source": [
    "# !pip install openpyxl\n",
    "# !pip install venn"
   ]
  },
  {
   "cell_type": "code",
   "execution_count": 1,
   "id": "af53cc40",
   "metadata": {},
   "outputs": [
    {
     "name": "stderr",
     "output_type": "stream",
     "text": [
      "/home/lubo/.pyenv/versions/3.8.12/envs/lewagon/lib/python3.8/site-packages/scipy/__init__.py:146: UserWarning: A NumPy version >=1.16.5 and <1.23.0 is required for this version of SciPy (detected version 1.24.1\n",
      "  warnings.warn(f\"A NumPy version >={np_minversion} and <{np_maxversion}\"\n"
     ]
    }
   ],
   "source": [
    "# load modules\n",
    "import pandas as pd\n",
    "import seaborn as sns\n",
    "import matplotlib.pyplot as plt\n",
    "from venn import venn\n",
    "from openpyxl.workbook import Workbook"
   ]
  },
  {
   "cell_type": "code",
   "execution_count": 2,
   "id": "1be970a4",
   "metadata": {},
   "outputs": [],
   "source": [
    "# load dataset function\n",
    "\n",
    "def load_data(marker, cell, sim):\n",
    "    # loading summary taxonomic assignment table into a dataframes\n",
    "    raw_data=\"../raw_data\"\n",
    "    data_path=f\"{raw_data}/OTU_summary_tables/otu_summary_table_{marker}_{cell}_{sim}.tsv\"\n",
    "    return pd.read_csv(data_path, sep=\"\\t\")"
   ]
  },
  {
   "cell_type": "markdown",
   "id": "46b9210c",
   "metadata": {},
   "source": [
    "## Summary tables"
   ]
  },
  {
   "cell_type": "code",
   "execution_count": 3,
   "id": "389a0213",
   "metadata": {},
   "outputs": [],
   "source": [
    "# load the summary tables into sum_tables dictionary\n",
    "\n",
    "sum_tables={\"cell1_sim97\": \"\", \n",
    "          \"cell1_sim99\": \"\", \n",
    "          \"cell2_sim97\": \"\", \n",
    "          \"cell2_sim99\": \"\",\n",
    "          \"cellCombined_sim97\": \"\",\n",
    "          \"cellCombined_sim99\": \"\"}\n",
    "\n",
    "\n",
    "for dataset in sum_tables:\n",
    "    cell, sim = dataset.split(\"_\")\n",
    "    sum_tables[dataset]=load_data(\"Full18S\", cell, sim)"
   ]
  },
  {
   "cell_type": "code",
   "execution_count": 4,
   "id": "9c33ae2b",
   "metadata": {
    "scrolled": true
   },
   "outputs": [],
   "source": [
    "# save all the summary table as excel tables\n",
    "marker=\"Full18S\"\n",
    "data_path=\"../raw_data/OTU_summary_tables\"\n",
    "\n",
    "for dataset in sum_tables:\n",
    "    cell, sim = dataset.split(\"_\")\n",
    "    sum_tables[dataset].to_excel(f\"{data_path}/OTU_summary_table_{marker}_{cell}_{sim}.xlsx\")"
   ]
  },
  {
   "cell_type": "code",
   "execution_count": 5,
   "id": "6812afef",
   "metadata": {
    "scrolled": true
   },
   "outputs": [
    {
     "data": {
      "text/html": [
       "<div>\n",
       "<style scoped>\n",
       "    .dataframe tbody tr th:only-of-type {\n",
       "        vertical-align: middle;\n",
       "    }\n",
       "\n",
       "    .dataframe tbody tr th {\n",
       "        vertical-align: top;\n",
       "    }\n",
       "\n",
       "    .dataframe thead th {\n",
       "        text-align: right;\n",
       "    }\n",
       "</style>\n",
       "<table border=\"1\" class=\"dataframe\">\n",
       "  <thead>\n",
       "    <tr style=\"text-align: right;\">\n",
       "      <th></th>\n",
       "      <th>A3</th>\n",
       "      <th>Mock</th>\n",
       "      <th>NH1</th>\n",
       "      <th>NH4</th>\n",
       "      <th>Sim17</th>\n",
       "      <th>Sim22</th>\n",
       "      <th>Th16</th>\n",
       "      <th>Th38</th>\n",
       "      <th>Th40</th>\n",
       "      <th>X17007</th>\n",
       "    </tr>\n",
       "  </thead>\n",
       "  <tbody>\n",
       "    <tr>\n",
       "      <th>cell1_sim97</th>\n",
       "      <td>98</td>\n",
       "      <td>17</td>\n",
       "      <td>66</td>\n",
       "      <td>70</td>\n",
       "      <td>182</td>\n",
       "      <td>103</td>\n",
       "      <td>131</td>\n",
       "      <td>76</td>\n",
       "      <td>104</td>\n",
       "      <td>78</td>\n",
       "    </tr>\n",
       "    <tr>\n",
       "      <th>cell1_sim99</th>\n",
       "      <td>96</td>\n",
       "      <td>19</td>\n",
       "      <td>84</td>\n",
       "      <td>104</td>\n",
       "      <td>231</td>\n",
       "      <td>111</td>\n",
       "      <td>141</td>\n",
       "      <td>94</td>\n",
       "      <td>111</td>\n",
       "      <td>62</td>\n",
       "    </tr>\n",
       "    <tr>\n",
       "      <th>cell2_sim97</th>\n",
       "      <td>106</td>\n",
       "      <td>16</td>\n",
       "      <td>61</td>\n",
       "      <td>74</td>\n",
       "      <td>193</td>\n",
       "      <td>107</td>\n",
       "      <td>140</td>\n",
       "      <td>81</td>\n",
       "      <td>113</td>\n",
       "      <td>77</td>\n",
       "    </tr>\n",
       "    <tr>\n",
       "      <th>cell2_sim99</th>\n",
       "      <td>109</td>\n",
       "      <td>17</td>\n",
       "      <td>78</td>\n",
       "      <td>100</td>\n",
       "      <td>244</td>\n",
       "      <td>115</td>\n",
       "      <td>154</td>\n",
       "      <td>89</td>\n",
       "      <td>115</td>\n",
       "      <td>71</td>\n",
       "    </tr>\n",
       "    <tr>\n",
       "      <th>cellCombined_sim97</th>\n",
       "      <td>112</td>\n",
       "      <td>18</td>\n",
       "      <td>76</td>\n",
       "      <td>87</td>\n",
       "      <td>218</td>\n",
       "      <td>125</td>\n",
       "      <td>159</td>\n",
       "      <td>107</td>\n",
       "      <td>127</td>\n",
       "      <td>75</td>\n",
       "    </tr>\n",
       "    <tr>\n",
       "      <th>cellCombined_sim99</th>\n",
       "      <td>98</td>\n",
       "      <td>18</td>\n",
       "      <td>92</td>\n",
       "      <td>123</td>\n",
       "      <td>271</td>\n",
       "      <td>134</td>\n",
       "      <td>162</td>\n",
       "      <td>116</td>\n",
       "      <td>131</td>\n",
       "      <td>57</td>\n",
       "    </tr>\n",
       "  </tbody>\n",
       "</table>\n",
       "</div>"
      ],
      "text/plain": [
       "                     A3  Mock  NH1  NH4  Sim17  Sim22  Th16  Th38  Th40  \\\n",
       "cell1_sim97          98    17   66   70    182    103   131    76   104   \n",
       "cell1_sim99          96    19   84  104    231    111   141    94   111   \n",
       "cell2_sim97         106    16   61   74    193    107   140    81   113   \n",
       "cell2_sim99         109    17   78  100    244    115   154    89   115   \n",
       "cellCombined_sim97  112    18   76   87    218    125   159   107   127   \n",
       "cellCombined_sim99   98    18   92  123    271    134   162   116   131   \n",
       "\n",
       "                    X17007  \n",
       "cell1_sim97             78  \n",
       "cell1_sim99             62  \n",
       "cell2_sim97             77  \n",
       "cell2_sim99             71  \n",
       "cellCombined_sim97      75  \n",
       "cellCombined_sim99      57  "
      ]
     },
     "execution_count": 5,
     "metadata": {},
     "output_type": "execute_result"
    }
   ],
   "source": [
    "samples=['A3', 'Mock', 'NH1', 'NH4', 'Sim17', 'Sim22', 'Th16', 'Th38',\n",
    "       'Th40', 'X17007']\n",
    "\n",
    "# creating a dictonary with sample names where we will store abundance information for each sample\n",
    "abundance = {}\n",
    "for sample in samples:\n",
    "    abundance[sample] = []\n",
    "\n",
    "# loop through each dataset and calculate number of unique OTUs for each sample\n",
    "for dataset in sum_tables:\n",
    "    for sample_name in samples:\n",
    "        abundance[f'{sample_name}'].append(len(sum_tables[dataset][sum_tables[dataset][f'{sample_name}'] != 0]))\n",
    "    \n",
    "unique_otus = pd.DataFrame(data=abundance, index=sum_tables.keys())\n",
    "unique_otus"
   ]
  },
  {
   "cell_type": "code",
   "execution_count": 6,
   "id": "fd44a8f9",
   "metadata": {},
   "outputs": [
    {
     "data": {
      "text/html": [
       "<div>\n",
       "<style scoped>\n",
       "    .dataframe tbody tr th:only-of-type {\n",
       "        vertical-align: middle;\n",
       "    }\n",
       "\n",
       "    .dataframe tbody tr th {\n",
       "        vertical-align: top;\n",
       "    }\n",
       "\n",
       "    .dataframe thead th {\n",
       "        text-align: right;\n",
       "    }\n",
       "</style>\n",
       "<table border=\"1\" class=\"dataframe\">\n",
       "  <thead>\n",
       "    <tr style=\"text-align: right;\">\n",
       "      <th></th>\n",
       "      <th>A3</th>\n",
       "      <th>Mock</th>\n",
       "      <th>NH1</th>\n",
       "      <th>NH4</th>\n",
       "      <th>Sim17</th>\n",
       "      <th>Sim22</th>\n",
       "      <th>Th16</th>\n",
       "      <th>Th38</th>\n",
       "      <th>Th40</th>\n",
       "      <th>X17007</th>\n",
       "      <th>total</th>\n",
       "    </tr>\n",
       "  </thead>\n",
       "  <tbody>\n",
       "    <tr>\n",
       "      <th>cell1_sim97</th>\n",
       "      <td>98</td>\n",
       "      <td>17</td>\n",
       "      <td>66</td>\n",
       "      <td>70</td>\n",
       "      <td>182</td>\n",
       "      <td>103</td>\n",
       "      <td>131</td>\n",
       "      <td>76</td>\n",
       "      <td>104</td>\n",
       "      <td>78</td>\n",
       "      <td>925</td>\n",
       "    </tr>\n",
       "    <tr>\n",
       "      <th>cell1_sim99</th>\n",
       "      <td>96</td>\n",
       "      <td>19</td>\n",
       "      <td>84</td>\n",
       "      <td>104</td>\n",
       "      <td>231</td>\n",
       "      <td>111</td>\n",
       "      <td>141</td>\n",
       "      <td>94</td>\n",
       "      <td>111</td>\n",
       "      <td>62</td>\n",
       "      <td>1053</td>\n",
       "    </tr>\n",
       "    <tr>\n",
       "      <th>cell2_sim97</th>\n",
       "      <td>106</td>\n",
       "      <td>16</td>\n",
       "      <td>61</td>\n",
       "      <td>74</td>\n",
       "      <td>193</td>\n",
       "      <td>107</td>\n",
       "      <td>140</td>\n",
       "      <td>81</td>\n",
       "      <td>113</td>\n",
       "      <td>77</td>\n",
       "      <td>968</td>\n",
       "    </tr>\n",
       "    <tr>\n",
       "      <th>cell2_sim99</th>\n",
       "      <td>109</td>\n",
       "      <td>17</td>\n",
       "      <td>78</td>\n",
       "      <td>100</td>\n",
       "      <td>244</td>\n",
       "      <td>115</td>\n",
       "      <td>154</td>\n",
       "      <td>89</td>\n",
       "      <td>115</td>\n",
       "      <td>71</td>\n",
       "      <td>1092</td>\n",
       "    </tr>\n",
       "    <tr>\n",
       "      <th>cellCombined_sim97</th>\n",
       "      <td>112</td>\n",
       "      <td>18</td>\n",
       "      <td>76</td>\n",
       "      <td>87</td>\n",
       "      <td>218</td>\n",
       "      <td>125</td>\n",
       "      <td>159</td>\n",
       "      <td>107</td>\n",
       "      <td>127</td>\n",
       "      <td>75</td>\n",
       "      <td>1104</td>\n",
       "    </tr>\n",
       "    <tr>\n",
       "      <th>cellCombined_sim99</th>\n",
       "      <td>98</td>\n",
       "      <td>18</td>\n",
       "      <td>92</td>\n",
       "      <td>123</td>\n",
       "      <td>271</td>\n",
       "      <td>134</td>\n",
       "      <td>162</td>\n",
       "      <td>116</td>\n",
       "      <td>131</td>\n",
       "      <td>57</td>\n",
       "      <td>1202</td>\n",
       "    </tr>\n",
       "  </tbody>\n",
       "</table>\n",
       "</div>"
      ],
      "text/plain": [
       "                     A3  Mock  NH1  NH4  Sim17  Sim22  Th16  Th38  Th40  \\\n",
       "cell1_sim97          98    17   66   70    182    103   131    76   104   \n",
       "cell1_sim99          96    19   84  104    231    111   141    94   111   \n",
       "cell2_sim97         106    16   61   74    193    107   140    81   113   \n",
       "cell2_sim99         109    17   78  100    244    115   154    89   115   \n",
       "cellCombined_sim97  112    18   76   87    218    125   159   107   127   \n",
       "cellCombined_sim99   98    18   92  123    271    134   162   116   131   \n",
       "\n",
       "                    X17007  total  \n",
       "cell1_sim97             78    925  \n",
       "cell1_sim99             62   1053  \n",
       "cell2_sim97             77    968  \n",
       "cell2_sim99             71   1092  \n",
       "cellCombined_sim97      75   1104  \n",
       "cellCombined_sim99      57   1202  "
      ]
     },
     "execution_count": 6,
     "metadata": {},
     "output_type": "execute_result"
    }
   ],
   "source": [
    "# number of unique OTUs for all samples together\n",
    "unique_otus[\"total\"] = unique_otus.iloc[0:9].sum(axis=1)\n",
    "unique_otus"
   ]
  },
  {
   "cell_type": "markdown",
   "id": "c666be37",
   "metadata": {},
   "source": [
    "## Venn diagrams"
   ]
  },
  {
   "cell_type": "markdown",
   "id": "959c13e7",
   "metadata": {},
   "source": [
    "We want to determine how many OTUs are unique for each dataset (cell1, cell2, and cellCombined), and how many OTUs are shared between the datasets. We will do it for datasets with OTUs created based on 97 and 99 similarity percentage separatelly."
   ]
  },
  {
   "cell_type": "code",
   "execution_count": 7,
   "id": "b346868c",
   "metadata": {
    "scrolled": true
   },
   "outputs": [],
   "source": [
    "# create a dataset name column for each dataset dataframe\n",
    "\n",
    "for dataset in sum_tables:\n",
    "    sum_tables[dataset][\"dataset\"]=f\"{dataset}\""
   ]
  },
  {
   "cell_type": "code",
   "execution_count": 8,
   "id": "e28b0344",
   "metadata": {},
   "outputs": [],
   "source": [
    "# list of your dataframes\n",
    "pd_list_97=[sum_tables[\"cell1_sim97\"], sum_tables[\"cell2_sim97\"], sum_tables[\"cellCombined_sim97\"]]\n",
    "pd_list_99=[sum_tables[\"cell1_sim99\"], sum_tables[\"cell2_sim99\"], sum_tables[\"cellCombined_sim99\"]]\n",
    "\n",
    "# for dataset in sum_tables:\n",
    "#     pd_list.append(sum_tables[dataset])"
   ]
  },
  {
   "cell_type": "code",
   "execution_count": 9,
   "id": "92deecf8",
   "metadata": {},
   "outputs": [],
   "source": [
    "venn_df_97 = pd.concat(pd_list_97)\n",
    "venn_df_99 = pd.concat(pd_list_99)"
   ]
  },
  {
   "cell_type": "code",
   "execution_count": 10,
   "id": "9cd58fc0",
   "metadata": {},
   "outputs": [],
   "source": [
    "# first we need to get the otu table with the occurrence of each biome\n",
    "otu_cooccurance_97 = pd.crosstab(venn_df_97[\"ID\"], venn_df_97[\"dataset\"]).gt(0).astype(int)\n",
    "otu_cooccurance_99 = pd.crosstab(venn_df_99[\"ID\"], venn_df_99[\"dataset\"]).gt(0).astype(int)"
   ]
  },
  {
   "cell_type": "code",
   "execution_count": 11,
   "id": "94661341",
   "metadata": {},
   "outputs": [],
   "source": [
    "# now it's ease to find out any combination of the shared OTUs between datasets\n",
    "# 0 means the OTU is not present and 1 means OTU is present in the given dataset\n",
    "# if we set one for each dataset, we will filtrate only the unique OTUs that occured in all datasets \n",
    "\n",
    "otu_alldatasets_97 = otu_cooccurance_97[(otu_cooccurance_97['cell1_sim97'] == 1) \n",
    "                                      & (otu_cooccurance_97['cell2_sim97'] == 1) \n",
    "                                      & (otu_cooccurance_97['cellCombined_sim97'] == 1)]\n",
    "\n",
    "otu_alldatasets_99 = otu_cooccurance_99[(otu_cooccurance_99['cell1_sim99'] == 1) \n",
    "                                      & (otu_cooccurance_99['cell2_sim99'] == 1) \n",
    "                                      & (otu_cooccurance_99['cellCombined_sim99'] == 1)]"
   ]
  },
  {
   "cell_type": "code",
   "execution_count": null,
   "id": "8e3590b2",
   "metadata": {},
   "outputs": [],
   "source": [
    "otu_cooccurance_99['cell1_sim99']"
   ]
  },
  {
   "cell_type": "code",
   "execution_count": 12,
   "id": "fb62c617",
   "metadata": {},
   "outputs": [],
   "source": [
    "# creating dataset for the venn diagram\n",
    "venn_datasets_97={}\n",
    "\n",
    "venn_datasets_97[\"cell1_sim97\"] = set(venn_df_97[venn_df_97.dataset == \"cell1_sim97\"].to_dict('list')['ID'])\n",
    "venn_datasets_97[\"cell2_sim97\"] = set(venn_df_97[venn_df_97.dataset == \"cell2_sim97\"].to_dict('list')['ID'])\n",
    "venn_datasets_97[\"cellCombined_sim97\"] = set(venn_df_97[venn_df_97.dataset == \"cellCombined_sim97\"].to_dict('list')['ID'])\n",
    "\n",
    "venn_datasets_99={}\n",
    "\n",
    "venn_datasets_99[\"cell1_sim99\"] = set(venn_df_99[venn_df_99.dataset == \"cell1_sim99\"].to_dict('list')['ID'])\n",
    "venn_datasets_99[\"cell2_sim99\"] = set(venn_df_99[venn_df_99.dataset == \"cell2_sim99\"].to_dict('list')['ID'])\n",
    "venn_datasets_99[\"cellCombined_sim99\"] = set(venn_df_99[venn_df_99.dataset == \"cellCombined_sim99\"].to_dict('list')['ID'])"
   ]
  },
  {
   "cell_type": "code",
   "execution_count": 171,
   "id": "f9312f5d",
   "metadata": {},
   "outputs": [
    {
     "data": {
      "image/png": "[encoded data removed]",
      "text/plain": [
       "<Figure size 648x648 with 1 Axes>"
      ]
     },
     "metadata": {},
     "output_type": "display_data"
    },
    {
     "data": {
      "image/png": "[encoded data removed]",
      "text/plain": [
       "<Figure size 648x648 with 1 Axes>"
      ]
     },
     "metadata": {},
     "output_type": "display_data"
    }
   ],
   "source": [
    "# venn diagram using the pyvenn library: https://pypi.org/project/venn/\n",
    "\n",
    "from matplotlib.colors import ListedColormap\n",
    "\n",
    "datasets=[venn_datasets_97, venn_datasets_99]\n",
    "label=[\"97\", \"99\"]\n",
    "path=\"../raw_data/OTU_summary_tables\"\n",
    "\n",
    "for i in range(2):\n",
    "    \n",
    "    fig, ax1 = plt.subplots(figsize=(9, 9), nrows=1, ncols=1)\n",
    "\n",
    "    c = venn(datasets[i], \n",
    "             alpha=0.5, \n",
    "             figsize=(10, 5), \n",
    "             fontsize=18, \n",
    "             legend_loc=\"upper right\", \n",
    "             cmap=ListedColormap([\"#CC79A7\", \"#009E73\", \"#0072B2\"]), \n",
    "             ax=ax1)\n",
    "\n",
    "\n",
    "    ax1.get_legend().remove()\n",
    "    plt.text(0.26, # horizontal\n",
    "             0.9, # vertical\n",
    "             \"Cell 1\", \n",
    "             fontsize=25, color='#CC79A7')\n",
    "\n",
    "    plt.text(\n",
    "             0.62, # horizontal\n",
    "             0.9, # vertical\n",
    "             \"Cell 2\", \n",
    "             fontsize=25, color='#009E73')\n",
    "\n",
    "    plt.text(\n",
    "             0.32, # horizontal\n",
    "             0, # vertical\n",
    "             \"Combined cells\", \n",
    "             fontsize=25, color='#0072B2')\n",
    "\n",
    "    # plt.show()\n",
    "\n",
    "    # save\n",
    "    plt.savefig(f\"{path}/venn_datasets_{label[i]}.png\", dpi=300, transparent=False)\n",
    "    plt.savefig(f\"{path}/venn_datasets_{label[i]}.pdf\", dpi=300)\n"
   ]
  },
  {
   "cell_type": "markdown",
   "id": "d962688c",
   "metadata": {},
   "source": [
    "## Inspecting how abundances declined through the pipeline (per sample)"
   ]
  },
  {
   "cell_type": "markdown",
   "id": "bc08c44c",
   "metadata": {},
   "source": [
    "Changing number of features (reads, asvs, otus) through the pipeline\n",
    "Steps in pipelines:\n",
    "- raw reads\n",
    "- denoise (filter, denoise, chimeric seqs)\n",
    "- OTU custering\n",
    "- otu filter."
   ]
  },
  {
   "cell_type": "markdown",
   "id": "a67e38b2",
   "metadata": {},
   "source": [
    "### Denoise table"
   ]
  },
  {
   "cell_type": "code",
   "execution_count": 14,
   "id": "4192152a",
   "metadata": {},
   "outputs": [],
   "source": [
    "raw_data=\"../raw_data\"\n",
    "datasets=[\"cell1\", \"cell2\", \"cellCombined\"]\n",
    "\n",
    "df_denoise={}\n",
    "\n",
    "for dataset in datasets:\n",
    "    df_denoise[dataset]=pd.read_csv(f\"{raw_data}/denoise/Full18S/{dataset}/asv_stats.tsv\", sep=\"\\t\")\n",
    "    df_denoise[dataset]=df_denoise[dataset][[\"sample-id\", \"input\", \"primer-removed\", \"filtered\", \"denoised\", \"non-chimeric\"]]\n",
    "    df_denoise[dataset]=df_denoise[dataset].tail(-1)\n",
    "    df_denoise[dataset]=df_denoise[dataset].rename(columns={\"sample-id\": \"sample_id\", \"input\": \"raw_reads\", \"input\": \"raw_reads\", \"filtered\": \"asv_filtered\"})\n",
    "    id_splited=df_denoise[dataset]['sample_id'].str.split(pat=\"_\", expand=True)\n",
    "    df_denoise[dataset][\"sample_id\"]=id_splited[0]\n",
    "    df_denoise[dataset]=df_denoise[dataset].set_index(\"sample_id\")"
   ]
  },
  {
   "cell_type": "code",
   "execution_count": 75,
   "id": "e8a87431",
   "metadata": {
    "collapsed": true
   },
   "outputs": [
    {
     "ename": "KeyError",
     "evalue": "'cellCombined'",
     "output_type": "error",
     "traceback": [
      "\u001b[0;31m---------------------------------------------------------------------------\u001b[0m",
      "\u001b[0;31mKeyError\u001b[0m                                  Traceback (most recent call last)",
      "\u001b[0;32m~/.pyenv/versions/3.8.12/envs/lewagon/lib/python3.8/site-packages/pandas/core/indexes/base.py\u001b[0m in \u001b[0;36mget_loc\u001b[0;34m(self, key, method, tolerance)\u001b[0m\n\u001b[1;32m   3802\u001b[0m             \u001b[0;32mtry\u001b[0m\u001b[0;34m:\u001b[0m\u001b[0;34m\u001b[0m\u001b[0;34m\u001b[0m\u001b[0m\n\u001b[0;32m-> 3803\u001b[0;31m                 \u001b[0;32mreturn\u001b[0m \u001b[0mself\u001b[0m\u001b[0;34m.\u001b[0m\u001b[0m_engine\u001b[0m\u001b[0;34m.\u001b[0m\u001b[0mget_loc\u001b[0m\u001b[0;34m(\u001b[0m\u001b[0mcasted_key\u001b[0m\u001b[0;34m)\u001b[0m\u001b[0;34m\u001b[0m\u001b[0;34m\u001b[0m\u001b[0m\n\u001b[0m\u001b[1;32m   3804\u001b[0m             \u001b[0;32mexcept\u001b[0m \u001b[0mKeyError\u001b[0m \u001b[0;32mas\u001b[0m \u001b[0merr\u001b[0m\u001b[0;34m:\u001b[0m\u001b[0;34m\u001b[0m\u001b[0;34m\u001b[0m\u001b[0m\n",
      "\u001b[0;32m~/.pyenv/versions/3.8.12/envs/lewagon/lib/python3.8/site-packages/pandas/_libs/index.pyx\u001b[0m in \u001b[0;36mpandas._libs.index.IndexEngine.get_loc\u001b[0;34m()\u001b[0m\n",
      "\u001b[0;32m~/.pyenv/versions/3.8.12/envs/lewagon/lib/python3.8/site-packages/pandas/_libs/index.pyx\u001b[0m in \u001b[0;36mpandas._libs.index.IndexEngine.get_loc\u001b[0;34m()\u001b[0m\n",
      "\u001b[0;32mpandas/_libs/hashtable_class_helper.pxi\u001b[0m in \u001b[0;36mpandas._libs.hashtable.PyObjectHashTable.get_item\u001b[0;34m()\u001b[0m\n",
      "\u001b[0;32mpandas/_libs/hashtable_class_helper.pxi\u001b[0m in \u001b[0;36mpandas._libs.hashtable.PyObjectHashTable.get_item\u001b[0;34m()\u001b[0m\n",
      "\u001b[0;31mKeyError\u001b[0m: 'cellCombined'",
      "\nThe above exception was the direct cause of the following exception:\n",
      "\u001b[0;31mKeyError\u001b[0m                                  Traceback (most recent call last)",
      "\u001b[0;32m/tmp/ipykernel_2572/2628020213.py\u001b[0m in \u001b[0;36m<module>\u001b[0;34m\u001b[0m\n\u001b[0;32m----> 1\u001b[0;31m \u001b[0mdf_denoise\u001b[0m\u001b[0;34m[\u001b[0m\u001b[0;34m\"cellCombined\"\u001b[0m\u001b[0;34m]\u001b[0m\u001b[0;34m\u001b[0m\u001b[0;34m\u001b[0m\u001b[0m\n\u001b[0m",
      "\u001b[0;32m~/.pyenv/versions/3.8.12/envs/lewagon/lib/python3.8/site-packages/pandas/core/frame.py\u001b[0m in \u001b[0;36m__getitem__\u001b[0;34m(self, key)\u001b[0m\n\u001b[1;32m   3803\u001b[0m             \u001b[0;32mif\u001b[0m \u001b[0mself\u001b[0m\u001b[0;34m.\u001b[0m\u001b[0mcolumns\u001b[0m\u001b[0;34m.\u001b[0m\u001b[0mnlevels\u001b[0m \u001b[0;34m>\u001b[0m \u001b[0;36m1\u001b[0m\u001b[0;34m:\u001b[0m\u001b[0;34m\u001b[0m\u001b[0;34m\u001b[0m\u001b[0m\n\u001b[1;32m   3804\u001b[0m                 \u001b[0;32mreturn\u001b[0m \u001b[0mself\u001b[0m\u001b[0;34m.\u001b[0m\u001b[0m_getitem_multilevel\u001b[0m\u001b[0;34m(\u001b[0m\u001b[0mkey\u001b[0m\u001b[0;34m)\u001b[0m\u001b[0;34m\u001b[0m\u001b[0;34m\u001b[0m\u001b[0m\n\u001b[0;32m-> 3805\u001b[0;31m             \u001b[0mindexer\u001b[0m \u001b[0;34m=\u001b[0m \u001b[0mself\u001b[0m\u001b[0;34m.\u001b[0m\u001b[0mcolumns\u001b[0m\u001b[0;34m.\u001b[0m\u001b[0mget_loc\u001b[0m\u001b[0;34m(\u001b[0m\u001b[0mkey\u001b[0m\u001b[0;34m)\u001b[0m\u001b[0;34m\u001b[0m\u001b[0;34m\u001b[0m\u001b[0m\n\u001b[0m\u001b[1;32m   3806\u001b[0m             \u001b[0;32mif\u001b[0m \u001b[0mis_integer\u001b[0m\u001b[0;34m(\u001b[0m\u001b[0mindexer\u001b[0m\u001b[0;34m)\u001b[0m\u001b[0;34m:\u001b[0m\u001b[0;34m\u001b[0m\u001b[0;34m\u001b[0m\u001b[0m\n\u001b[1;32m   3807\u001b[0m                 \u001b[0mindexer\u001b[0m \u001b[0;34m=\u001b[0m \u001b[0;34m[\u001b[0m\u001b[0mindexer\u001b[0m\u001b[0;34m]\u001b[0m\u001b[0;34m\u001b[0m\u001b[0;34m\u001b[0m\u001b[0m\n",
      "\u001b[0;32m~/.pyenv/versions/3.8.12/envs/lewagon/lib/python3.8/site-packages/pandas/core/indexes/base.py\u001b[0m in \u001b[0;36mget_loc\u001b[0;34m(self, key, method, tolerance)\u001b[0m\n\u001b[1;32m   3803\u001b[0m                 \u001b[0;32mreturn\u001b[0m \u001b[0mself\u001b[0m\u001b[0;34m.\u001b[0m\u001b[0m_engine\u001b[0m\u001b[0;34m.\u001b[0m\u001b[0mget_loc\u001b[0m\u001b[0;34m(\u001b[0m\u001b[0mcasted_key\u001b[0m\u001b[0;34m)\u001b[0m\u001b[0;34m\u001b[0m\u001b[0;34m\u001b[0m\u001b[0m\n\u001b[1;32m   3804\u001b[0m             \u001b[0;32mexcept\u001b[0m \u001b[0mKeyError\u001b[0m \u001b[0;32mas\u001b[0m \u001b[0merr\u001b[0m\u001b[0;34m:\u001b[0m\u001b[0;34m\u001b[0m\u001b[0;34m\u001b[0m\u001b[0m\n\u001b[0;32m-> 3805\u001b[0;31m                 \u001b[0;32mraise\u001b[0m \u001b[0mKeyError\u001b[0m\u001b[0;34m(\u001b[0m\u001b[0mkey\u001b[0m\u001b[0;34m)\u001b[0m \u001b[0;32mfrom\u001b[0m \u001b[0merr\u001b[0m\u001b[0;34m\u001b[0m\u001b[0;34m\u001b[0m\u001b[0m\n\u001b[0m\u001b[1;32m   3806\u001b[0m             \u001b[0;32mexcept\u001b[0m \u001b[0mTypeError\u001b[0m\u001b[0;34m:\u001b[0m\u001b[0;34m\u001b[0m\u001b[0;34m\u001b[0m\u001b[0m\n\u001b[1;32m   3807\u001b[0m                 \u001b[0;31m# If we have a listlike key, _check_indexing_error will raise\u001b[0m\u001b[0;34m\u001b[0m\u001b[0;34m\u001b[0m\u001b[0;34m\u001b[0m\u001b[0m\n",
      "\u001b[0;31mKeyError\u001b[0m: 'cellCombined'"
     ]
    }
   ],
   "source": [
    "df_denoise[\"cellCombined\"]"
   ]
  },
  {
   "cell_type": "markdown",
   "id": "45e433a7",
   "metadata": {},
   "source": [
    "### OTU clustering table"
   ]
  },
  {
   "cell_type": "code",
   "execution_count": 15,
   "id": "b48ca61d",
   "metadata": {},
   "outputs": [],
   "source": [
    "raw_data=\"../raw_data\"\n",
    "datasets=[\"cell1\", \"cell2\", \"cellCombined\"]\n",
    "\n",
    "df_otu={}\n",
    "\n",
    "for dataset in datasets:\n",
    "    df_otu[dataset]=pd.read_csv(f\"{raw_data}/OTU_clust/Full18S/{dataset}/sim99/feature_count.tsv\", sep=\"\\t\")\n",
    "    id_splited=df_otu[dataset]['Sample_ID'].str.split(pat=\"_\", expand=True)\n",
    "    df_otu[dataset]['Sample_ID']=id_splited[0]\n",
    "    df_otu[dataset]=df_otu[dataset].rename(columns={\"Sample_ID\": \"sample_id\", \"Feature_Count\": \"otu_clustered\"})\n",
    "    df_otu[dataset]=df_otu[dataset].set_index(\"sample_id\")"
   ]
  },
  {
   "cell_type": "code",
   "execution_count": null,
   "id": "f57d54f6",
   "metadata": {},
   "outputs": [],
   "source": [
    "df_otu[\"cellCombined\"]"
   ]
  },
  {
   "cell_type": "markdown",
   "id": "f840d518",
   "metadata": {},
   "source": [
    "### OTU filtering table"
   ]
  },
  {
   "cell_type": "code",
   "execution_count": null,
   "id": "765012c3",
   "metadata": {},
   "outputs": [],
   "source": [
    "# changing number of features (reads, asvs, otus) through the pipeline\n",
    "# steps in pipelines: raw reads, denoise, otu, otu filter"
   ]
  },
  {
   "cell_type": "code",
   "execution_count": 16,
   "id": "f332f446",
   "metadata": {},
   "outputs": [],
   "source": [
    "raw_data=\"../raw_data\"\n",
    "datasets=[\"cell1\", \"cell2\", \"cellCombined\"]\n",
    "\n",
    "df_otu_filt={}\n",
    "\n",
    "for dataset in datasets:\n",
    "    df_otu_filt[dataset]=pd.read_csv(f\"{raw_data}/OTU_filtered/Full18S/{dataset}/sim99/feature_count.tsv\", sep=\"\\t\")\n",
    "    id_splited=df_otu_filt[dataset]['Sample_ID'].str.split(pat=\"_\", expand=True)\n",
    "    df_otu_filt[dataset]['Sample_ID']=id_splited[0]\n",
    "    df_otu_filt[dataset]=df_otu_filt[dataset].rename(columns={\"Sample_ID\": \"sample_id\", \"Feature_Count\": \"otu_filt_sim99\"})\n",
    "    df_otu_filt[dataset]=df_otu_filt[dataset].set_index(\"sample_id\")"
   ]
  },
  {
   "cell_type": "code",
   "execution_count": null,
   "id": "8d056164",
   "metadata": {},
   "outputs": [],
   "source": [
    "df_otu_filt[\"cellCombined\"]"
   ]
  },
  {
   "cell_type": "markdown",
   "id": "05a15b56",
   "metadata": {},
   "source": [
    "### Merging all tables together"
   ]
  },
  {
   "cell_type": "code",
   "execution_count": 17,
   "id": "d3923a86",
   "metadata": {},
   "outputs": [],
   "source": [
    "datasets=[\"cell1\", \"cell2\", \"cellCombined\"]\n",
    "\n",
    "df_abundances={}\n",
    "\n",
    "for dataset in datasets:\n",
    "    df_abundances[dataset]=df_denoise[dataset] \\\n",
    "    .merge(df_otu[dataset], left_index=True, right_index=True) \\\n",
    "    .merge(df_otu_filt[dataset], left_index=True, right_index=True)\n",
    "    df_abundances[dataset]=df_abundances[dataset].astype(int)"
   ]
  },
  {
   "cell_type": "code",
   "execution_count": 18,
   "id": "da9e3339",
   "metadata": {},
   "outputs": [
    {
     "data": {
      "text/html": [
       "<div>\n",
       "<style scoped>\n",
       "    .dataframe tbody tr th:only-of-type {\n",
       "        vertical-align: middle;\n",
       "    }\n",
       "\n",
       "    .dataframe tbody tr th {\n",
       "        vertical-align: top;\n",
       "    }\n",
       "\n",
       "    .dataframe thead th {\n",
       "        text-align: right;\n",
       "    }\n",
       "</style>\n",
       "<table border=\"1\" class=\"dataframe\">\n",
       "  <thead>\n",
       "    <tr style=\"text-align: right;\">\n",
       "      <th></th>\n",
       "      <th>raw_reads</th>\n",
       "      <th>primer-removed</th>\n",
       "      <th>asv_filtered</th>\n",
       "      <th>denoised</th>\n",
       "      <th>non-chimeric</th>\n",
       "      <th>otu_clustered</th>\n",
       "      <th>otu_filt_sim99</th>\n",
       "    </tr>\n",
       "    <tr>\n",
       "      <th>sample_id</th>\n",
       "      <th></th>\n",
       "      <th></th>\n",
       "      <th></th>\n",
       "      <th></th>\n",
       "      <th></th>\n",
       "      <th></th>\n",
       "      <th></th>\n",
       "    </tr>\n",
       "  </thead>\n",
       "  <tbody>\n",
       "    <tr>\n",
       "      <th>A3</th>\n",
       "      <td>11101</td>\n",
       "      <td>10286</td>\n",
       "      <td>6234</td>\n",
       "      <td>5406</td>\n",
       "      <td>5406</td>\n",
       "      <td>5406</td>\n",
       "      <td>2435</td>\n",
       "    </tr>\n",
       "    <tr>\n",
       "      <th>Mock</th>\n",
       "      <td>55734</td>\n",
       "      <td>50839</td>\n",
       "      <td>39196</td>\n",
       "      <td>36400</td>\n",
       "      <td>32983</td>\n",
       "      <td>32983</td>\n",
       "      <td>32180</td>\n",
       "    </tr>\n",
       "    <tr>\n",
       "      <th>NH1</th>\n",
       "      <td>17971</td>\n",
       "      <td>16669</td>\n",
       "      <td>11871</td>\n",
       "      <td>8978</td>\n",
       "      <td>8492</td>\n",
       "      <td>8492</td>\n",
       "      <td>7236</td>\n",
       "    </tr>\n",
       "    <tr>\n",
       "      <th>NH4</th>\n",
       "      <td>9961</td>\n",
       "      <td>9201</td>\n",
       "      <td>7182</td>\n",
       "      <td>6209</td>\n",
       "      <td>6209</td>\n",
       "      <td>6209</td>\n",
       "      <td>5232</td>\n",
       "    </tr>\n",
       "    <tr>\n",
       "      <th>Sim17</th>\n",
       "      <td>32835</td>\n",
       "      <td>30538</td>\n",
       "      <td>24995</td>\n",
       "      <td>21382</td>\n",
       "      <td>21291</td>\n",
       "      <td>21291</td>\n",
       "      <td>13477</td>\n",
       "    </tr>\n",
       "    <tr>\n",
       "      <th>Sim22</th>\n",
       "      <td>32423</td>\n",
       "      <td>29778</td>\n",
       "      <td>24600</td>\n",
       "      <td>19900</td>\n",
       "      <td>17659</td>\n",
       "      <td>17659</td>\n",
       "      <td>16735</td>\n",
       "    </tr>\n",
       "    <tr>\n",
       "      <th>Th16</th>\n",
       "      <td>24868</td>\n",
       "      <td>22934</td>\n",
       "      <td>18624</td>\n",
       "      <td>14196</td>\n",
       "      <td>13995</td>\n",
       "      <td>13995</td>\n",
       "      <td>12558</td>\n",
       "    </tr>\n",
       "    <tr>\n",
       "      <th>Th38</th>\n",
       "      <td>33074</td>\n",
       "      <td>30649</td>\n",
       "      <td>22733</td>\n",
       "      <td>13293</td>\n",
       "      <td>11167</td>\n",
       "      <td>11167</td>\n",
       "      <td>10758</td>\n",
       "    </tr>\n",
       "    <tr>\n",
       "      <th>Th40</th>\n",
       "      <td>17934</td>\n",
       "      <td>16496</td>\n",
       "      <td>13769</td>\n",
       "      <td>12880</td>\n",
       "      <td>12880</td>\n",
       "      <td>12880</td>\n",
       "      <td>12101</td>\n",
       "    </tr>\n",
       "    <tr>\n",
       "      <th>X17007</th>\n",
       "      <td>11980</td>\n",
       "      <td>10958</td>\n",
       "      <td>4565</td>\n",
       "      <td>4199</td>\n",
       "      <td>4199</td>\n",
       "      <td>4199</td>\n",
       "      <td>2283</td>\n",
       "    </tr>\n",
       "  </tbody>\n",
       "</table>\n",
       "</div>"
      ],
      "text/plain": [
       "           raw_reads  primer-removed  asv_filtered  denoised  non-chimeric  \\\n",
       "sample_id                                                                    \n",
       "A3             11101           10286          6234      5406          5406   \n",
       "Mock           55734           50839         39196     36400         32983   \n",
       "NH1            17971           16669         11871      8978          8492   \n",
       "NH4             9961            9201          7182      6209          6209   \n",
       "Sim17          32835           30538         24995     21382         21291   \n",
       "Sim22          32423           29778         24600     19900         17659   \n",
       "Th16           24868           22934         18624     14196         13995   \n",
       "Th38           33074           30649         22733     13293         11167   \n",
       "Th40           17934           16496         13769     12880         12880   \n",
       "X17007         11980           10958          4565      4199          4199   \n",
       "\n",
       "           otu_clustered  otu_filt_sim99  \n",
       "sample_id                                 \n",
       "A3                  5406            2435  \n",
       "Mock               32983           32180  \n",
       "NH1                 8492            7236  \n",
       "NH4                 6209            5232  \n",
       "Sim17              21291           13477  \n",
       "Sim22              17659           16735  \n",
       "Th16               13995           12558  \n",
       "Th38               11167           10758  \n",
       "Th40               12880           12101  \n",
       "X17007              4199            2283  "
      ]
     },
     "execution_count": 18,
     "metadata": {},
     "output_type": "execute_result"
    }
   ],
   "source": [
    "df_abundances[\"cellCombined\"]"
   ]
  },
  {
   "cell_type": "code",
   "execution_count": null,
   "id": "31b0d169",
   "metadata": {},
   "outputs": [],
   "source": [
    "# save the final table to an excel file\n",
    "\n",
    "path=\"../raw_data/OTU_summary_tables\"\n",
    "\n",
    "with pd.ExcelWriter(f\"{path}/abundances.xlsx\") as writer:  \n",
    "    df_abundances[\"cell1\"].to_excel(writer, sheet_name=\"cell1\")\n",
    "    df_abundances[\"cell2\"].to_excel(writer, sheet_name=\"cell2\")\n",
    "    df_abundances[\"cellCombined\"].to_excel(writer, sheet_name=\"cellCombined\")"
   ]
  },
  {
   "cell_type": "markdown",
   "id": "2a1a5706",
   "metadata": {},
   "source": [
    "## Inspecting how abundances declined through the pipeline (all samples together)"
   ]
  },
  {
   "cell_type": "code",
   "execution_count": 19,
   "id": "9dc2d7f1",
   "metadata": {
    "scrolled": true
   },
   "outputs": [],
   "source": [
    "datasets=[\"cell1\", \"cell2\", \"cellCombined\"]\n",
    "\n",
    "df_abundances_total={}\n",
    "\n",
    "for dataset in datasets:\n",
    "    df_abundances_total[dataset] = df_abundances[dataset].sum(axis=0).to_frame().reset_index()\n",
    "    df_abundances_total[dataset] = df_abundances_total[dataset].rename(columns= {0: 'total'})"
   ]
  },
  {
   "cell_type": "code",
   "execution_count": 20,
   "id": "baa0af2b",
   "metadata": {},
   "outputs": [
    {
     "data": {
      "text/html": [
       "<div>\n",
       "<style scoped>\n",
       "    .dataframe tbody tr th:only-of-type {\n",
       "        vertical-align: middle;\n",
       "    }\n",
       "\n",
       "    .dataframe tbody tr th {\n",
       "        vertical-align: top;\n",
       "    }\n",
       "\n",
       "    .dataframe thead th {\n",
       "        text-align: right;\n",
       "    }\n",
       "</style>\n",
       "<table border=\"1\" class=\"dataframe\">\n",
       "  <thead>\n",
       "    <tr style=\"text-align: right;\">\n",
       "      <th></th>\n",
       "      <th>index</th>\n",
       "      <th>total</th>\n",
       "    </tr>\n",
       "  </thead>\n",
       "  <tbody>\n",
       "    <tr>\n",
       "      <th>0</th>\n",
       "      <td>raw_reads</td>\n",
       "      <td>125874</td>\n",
       "    </tr>\n",
       "    <tr>\n",
       "      <th>1</th>\n",
       "      <td>primer-removed</td>\n",
       "      <td>115973</td>\n",
       "    </tr>\n",
       "    <tr>\n",
       "      <th>2</th>\n",
       "      <td>asv_filtered</td>\n",
       "      <td>88379</td>\n",
       "    </tr>\n",
       "    <tr>\n",
       "      <th>3</th>\n",
       "      <td>denoised</td>\n",
       "      <td>70120</td>\n",
       "    </tr>\n",
       "    <tr>\n",
       "      <th>4</th>\n",
       "      <td>non-chimeric</td>\n",
       "      <td>66797</td>\n",
       "    </tr>\n",
       "    <tr>\n",
       "      <th>5</th>\n",
       "      <td>otu_clustered</td>\n",
       "      <td>66797</td>\n",
       "    </tr>\n",
       "    <tr>\n",
       "      <th>6</th>\n",
       "      <td>otu_filt_sim99</td>\n",
       "      <td>58423</td>\n",
       "    </tr>\n",
       "  </tbody>\n",
       "</table>\n",
       "</div>"
      ],
      "text/plain": [
       "            index   total\n",
       "0       raw_reads  125874\n",
       "1  primer-removed  115973\n",
       "2    asv_filtered   88379\n",
       "3        denoised   70120\n",
       "4    non-chimeric   66797\n",
       "5   otu_clustered   66797\n",
       "6  otu_filt_sim99   58423"
      ]
     },
     "execution_count": 20,
     "metadata": {},
     "output_type": "execute_result"
    }
   ],
   "source": [
    "df_abundances_total[\"cell1\"]"
   ]
  },
  {
   "cell_type": "code",
   "execution_count": 21,
   "id": "0cdf039b",
   "metadata": {},
   "outputs": [
    {
     "data": {
      "image/png": "[encoded data removed]",
      "text/plain": [
       "<Figure size 842.4x595.44 with 1 Axes>"
      ]
     },
     "metadata": {},
     "output_type": "display_data"
    }
   ],
   "source": [
    "dataset=\"cell2\"\n",
    "path=\"../raw_data/OTU_summary_tables\"\n",
    "\n",
    "\n",
    "\n",
    "sns.set(rc={'figure.figsize':(11.7,8.27)})\n",
    "sns.set_style(\"white\")\n",
    "abund_bar=sns.barplot(x=\"index\", y=\"total\", data=df_abundances_total[dataset], palette=\"rocket\");\n",
    "abund_bar.set(xlabel=\"\", ylabel = \"Abundance\", title =f\"Decline of abundances throughout the pipeline\")\n",
    "abund_bar.set_xticklabels([\"Raw reads\", \n",
    "                           \"Primers\\nfiltering\", \n",
    "                           \"Length\\nfiltering\", \n",
    "                           \"ASV\\ndenoised\", \n",
    "                           \"Chimeras\\nremoved\",\n",
    "                           \"OTU\\nclustered\",\n",
    "                           \"OTU\\nfiltered\"])\n",
    "sns.despine()\n",
    "\n",
    "# plt.savefig(f\"{path}/abundance_{dataset}.png\", dpi=300)"
   ]
  },
  {
   "cell_type": "markdown",
   "id": "8fd9b004",
   "metadata": {},
   "source": [
    "## Reducing number of representative sequences throughout the pipeline"
   ]
  },
  {
   "cell_type": "markdown",
   "id": "1fe3b87e",
   "metadata": {},
   "source": [
    "We used three steps that reduce number of the features (representative sequences) in our pipeline:\n",
    "\n",
    "1. **Denoising raw sequences:** primers and length filtering, denoising, chimeras filtering\n",
    "2. **OTU clustering:** based on 97 and 99 similarity threshold\n",
    "3. **OTU filtering:** filtering out taxonomically unassigned OTUs at phyllum level and filtering out rare OTUs\n",
    "\n",
    "Let's check how many unique number of features was reduced during these three steps."
   ]
  },
  {
   "cell_type": "code",
   "execution_count": 101,
   "id": "75ce5d84",
   "metadata": {},
   "outputs": [
    {
     "data": {
      "text/html": [
       "<div>\n",
       "<style scoped>\n",
       "    .dataframe tbody tr th:only-of-type {\n",
       "        vertical-align: middle;\n",
       "    }\n",
       "\n",
       "    .dataframe tbody tr th {\n",
       "        vertical-align: top;\n",
       "    }\n",
       "\n",
       "    .dataframe thead th {\n",
       "        text-align: right;\n",
       "    }\n",
       "</style>\n",
       "<table border=\"1\" class=\"dataframe\">\n",
       "  <thead>\n",
       "    <tr style=\"text-align: right;\">\n",
       "      <th></th>\n",
       "      <th>denoised</th>\n",
       "      <th>OTU_clustered</th>\n",
       "      <th>OTU_filtered</th>\n",
       "    </tr>\n",
       "  </thead>\n",
       "  <tbody>\n",
       "    <tr>\n",
       "      <th>cell1</th>\n",
       "      <td>2447</td>\n",
       "      <td>1929</td>\n",
       "      <td>730</td>\n",
       "    </tr>\n",
       "    <tr>\n",
       "      <th>cell2</th>\n",
       "      <td>2302</td>\n",
       "      <td>1843</td>\n",
       "      <td>775</td>\n",
       "    </tr>\n",
       "    <tr>\n",
       "      <th>cellCombined</th>\n",
       "      <td>3904</td>\n",
       "      <td>2932</td>\n",
       "      <td>731</td>\n",
       "    </tr>\n",
       "  </tbody>\n",
       "</table>\n",
       "</div>"
      ],
      "text/plain": [
       "              denoised  OTU_clustered  OTU_filtered\n",
       "cell1             2447           1929           730\n",
       "cell2             2302           1843           775\n",
       "cellCombined      3904           2932           731"
      ]
     },
     "execution_count": 101,
     "metadata": {},
     "output_type": "execute_result"
    }
   ],
   "source": [
    "datasets=[\"cell1\", \"cell2\", \"cellCombined\"]\n",
    "denoise_path=\"../raw_data/denoise/Full18S\"\n",
    "otu_clust_path=\"../raw_data/OTU_clust/Full18S\"\n",
    "otu_filt_path=\"../raw_data/OTU_filtered/Full18S\"\n",
    "sim=\"sim99\"\n",
    "\n",
    "# creating dictionary where we will append the values in the loop below for our table\n",
    "rep_seqs_data={\"denoised\": [],\n",
    "               \"OTU_clustered\": [],\n",
    "               \"OTU_filtered\": []}\n",
    "\n",
    "# gathering information for the table\n",
    "for dataset in datasets:\n",
    "    \n",
    "    # gather the total number of unique ASVs\n",
    "    with open(f\"{denoise_path}/{dataset}/asv_seqs.fasta\", 'r') as file:\n",
    "        denoised_fasta = file.read()\n",
    "    rep_seqs_data[\"denoised\"].append(denoised_fasta.count(\">\"))\n",
    "    \n",
    "    # gather the total number of unique OTUs\n",
    "    with open(f\"{otu_clust_path}/{dataset}/{sim}/otu_seqs.fasta\", 'r') as file:\n",
    "        otu_clust_fasta = file.read()\n",
    "    rep_seqs_data[\"OTU_clustered\"].append(otu_clust_fasta.count(\">\"))\n",
    "    \n",
    "    # gather the total number of unique OTUs after filtering\n",
    "    with open(f\"{otu_filt_path}/{dataset}/{sim}/otu_seqs_filtered.fasta\", 'r') as file:\n",
    "        otu_filt_fasta = file.read()\n",
    "    rep_seqs_data[\"OTU_filtered\"].append(otu_filt_fasta.count(\">\"))\n",
    "    \n",
    "\n",
    "# creating the final table that we will populate with data gather in the loop above\n",
    "rep_seqs=pd.DataFrame(data=rep_seqs_data, index=[\"cell1\", \"cell2\", \"cellCombined\"])\n",
    "rep_seqs"
   ]
  },
  {
   "cell_type": "code",
   "execution_count": 165,
   "id": "4613ee39",
   "metadata": {},
   "outputs": [
    {
     "data": {
      "image/png": "[encoded data removed]",
      "text/plain": [
       "<Figure size 842.4x595.44 with 1 Axes>"
      ]
     },
     "metadata": {},
     "output_type": "display_data"
    }
   ],
   "source": [
    "# bar plot of decreasing unique representative sequences after individual steps in the pipeline\n",
    "path=\"../raw_data/OTU_summary_tables\"\n",
    "\n",
    "# adjusting the data table for plotting\n",
    "df_plot=rep_seqs.reset_index()\n",
    "df_plot=df_plot.melt(id_vars=['index'], value_vars=['denoised', 'OTU_clustered', 'OTU_filtered'])\n",
    "\n",
    "# plotting code\n",
    "sns.set(rc={'figure.figsize':(11.7,8.27)})\n",
    "sns.set_style(\"white\")\n",
    "repseq_bar=sns.barplot(data=df_plot, x=\"variable\", y=\"value\", hue=\"index\")\n",
    "repseq_bar.set(xlabel=\"\", \n",
    "                ylabel = \"number of representative sequences\", \n",
    "                title =f\"\")\n",
    "repseq_bar.set_xticklabels([\"ASV denoised\", \"OTU clustered\", \"OTU filtered\"])\n",
    "sns.despine()\n",
    "\n",
    "# adjusting legend\n",
    "h, l = repseq_bar.get_legend_handles_labels()\n",
    "repseq_bar.legend(handles=h, \n",
    "                  labels=[\"Cell 1\", \"Cell 2\", \"Combined Cells\"], \n",
    "                  title='Flow Cell', \n",
    "                  loc='upper right', \n",
    "                  frameon=False);\n",
    "\n",
    "# save\n",
    "plt.savefig(f\"{path}/unique_representative_sequences.png\", dpi=300)"
   ]
  },
  {
   "cell_type": "code",
   "execution_count": null,
   "id": "6402cc47",
   "metadata": {},
   "outputs": [],
   "source": []
  },
  {
   "cell_type": "code",
   "execution_count": null,
   "id": "d3622cea",
   "metadata": {},
   "outputs": [],
   "source": []
  },
  {
   "cell_type": "markdown",
   "id": "f2c6cffc",
   "metadata": {},
   "source": [
    "### Vampyrella specific data"
   ]
  },
  {
   "cell_type": "code",
   "execution_count": null,
   "id": "ea2cbb2d",
   "metadata": {
    "scrolled": false
   },
   "outputs": [],
   "source": [
    "asv_data"
   ]
  },
  {
   "cell_type": "code",
   "execution_count": null,
   "id": "483ed1ba",
   "metadata": {},
   "outputs": [],
   "source": [
    "asv_data.info()"
   ]
  },
  {
   "cell_type": "code",
   "execution_count": null,
   "id": "cf94106b",
   "metadata": {
    "scrolled": true
   },
   "outputs": [],
   "source": [
    "# vampyrellida ASVs\n",
    "\n",
    "vamp99 = otu_sim99[otu_sim99['Order'] == 'Vampyrellida']\n",
    "\n",
    "vamp99[['ID', 'Total', 'A3', 'Mock', 'NH1', 'NH4', 'Sim17', 'Sim22', 'Th16',\n",
    "   'Th38', 'Th40', 'X17007', 'Order', 'Family', 'Genus', 'Species', \n",
    "   'Percent_similarity']]"
   ]
  },
  {
   "cell_type": "code",
   "execution_count": null,
   "id": "f1ee2d3d",
   "metadata": {},
   "outputs": [],
   "source": [
    "vamp99[vamp99['Mock'] != 0]"
   ]
  },
  {
   "cell_type": "code",
   "execution_count": null,
   "id": "ed56b190",
   "metadata": {},
   "outputs": [],
   "source": []
  },
  {
   "cell_type": "code",
   "execution_count": null,
   "id": "44b1acf8",
   "metadata": {},
   "outputs": [],
   "source": []
  }
 ],
 "metadata": {
  "kernelspec": {
   "display_name": "Python 3 (ipykernel)",
   "language": "python",
   "name": "python3"
  },
  "language_info": {
   "codemirror_mode": {
    "name": "ipython",
    "version": 3
   },
   "file_extension": ".py",
   "mimetype": "text/x-python",
   "name": "python",
   "nbconvert_exporter": "python",
   "pygments_lexer": "ipython3",
   "version": "3.8.12"
  },
  "toc": {
   "base_numbering": 1,
   "nav_menu": {},
   "number_sections": true,
   "sideBar": true,
   "skip_h1_title": false,
   "title_cell": "Table of Contents",
   "title_sidebar": "Contents",
   "toc_cell": false,
   "toc_position": {},
   "toc_section_display": true,
   "toc_window_display": false
  }
 },
 "nbformat": 4,
 "nbformat_minor": 5
}
