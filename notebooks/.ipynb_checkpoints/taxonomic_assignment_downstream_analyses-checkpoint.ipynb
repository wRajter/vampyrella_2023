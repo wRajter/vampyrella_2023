{
 "cells": [
  {
   "cell_type": "markdown",
   "id": "da856db9",
   "metadata": {},
   "source": [
    "# Taxonomic assignment: Downstream analyses"
   ]
  },
  {
   "cell_type": "code",
   "execution_count": null,
   "id": "2f063168",
   "metadata": {},
   "outputs": [],
   "source": [
    "# !pip install openpyxl\n",
    "# !pip install venn"
   ]
  },
  {
   "cell_type": "code",
   "execution_count": 1,
   "id": "af53cc40",
   "metadata": {},
   "outputs": [
    {
     "name": "stderr",
     "output_type": "stream",
     "text": [
      "/home/lubo/.pyenv/versions/3.8.12/envs/lewagon/lib/python3.8/site-packages/scipy/__init__.py:146: UserWarning: A NumPy version >=1.16.5 and <1.23.0 is required for this version of SciPy (detected version 1.24.1\n",
      "  warnings.warn(f\"A NumPy version >={np_minversion} and <{np_maxversion}\"\n"
     ]
    }
   ],
   "source": [
    "# load modules\n",
    "import pandas as pd\n",
    "import seaborn as sns\n",
    "import matplotlib.pyplot as plt\n",
    "from venn import venn\n",
    "from openpyxl.workbook import Workbook"
   ]
  },
  {
   "cell_type": "code",
   "execution_count": 2,
   "id": "1be970a4",
   "metadata": {},
   "outputs": [],
   "source": [
    "# load dataset function\n",
    "\n",
    "def load_data(marker, cell, sim):\n",
    "    # loading summary taxonomic assignment table into a dataframes\n",
    "    raw_data=\"../raw_data\"\n",
    "    data_path=f\"{raw_data}/OTU_summary_tables/otu_summary_table_{marker}_{cell}_{sim}.tsv\"\n",
    "    return pd.read_csv(data_path, sep=\"\\t\")"
   ]
  },
  {
   "cell_type": "markdown",
   "id": "46b9210c",
   "metadata": {
    "heading_collapsed": true
   },
   "source": [
    "## Summary tables"
   ]
  },
  {
   "cell_type": "code",
   "execution_count": 3,
   "id": "389a0213",
   "metadata": {
    "hidden": true
   },
   "outputs": [],
   "source": [
    "# load the summary tables into sum_tables dictionary\n",
    "\n",
    "sum_tables={\"cell1_sim97\": \"\", \n",
    "          \"cell1_sim99\": \"\", \n",
    "          \"cell2_sim97\": \"\", \n",
    "          \"cell2_sim99\": \"\",\n",
    "          \"cellCombined_sim97\": \"\",\n",
    "          \"cellCombined_sim99\": \"\"}\n",
    "\n",
    "\n",
    "for dataset in sum_tables:\n",
    "    cell, sim = dataset.split(\"_\")\n",
    "    sum_tables[dataset]=load_data(\"Full18S\", cell, sim)"
   ]
  },
  {
   "cell_type": "code",
   "execution_count": null,
   "id": "9c33ae2b",
   "metadata": {
    "hidden": true,
    "scrolled": true
   },
   "outputs": [],
   "source": [
    "# save all the summary table as excel tables\n",
    "marker=\"Full18S\"\n",
    "data_path=\"../raw_data/OTU_summary_tables\"\n",
    "\n",
    "for dataset in sum_tables:\n",
    "    cell, sim = dataset.split(\"_\")\n",
    "    sum_tables[dataset].to_excel(f\"{data_path}/OTU_summary_table_{marker}_{cell}_{sim}.xlsx\")"
   ]
  },
  {
   "cell_type": "code",
   "execution_count": null,
   "id": "6812afef",
   "metadata": {
    "hidden": true,
    "scrolled": true
   },
   "outputs": [],
   "source": [
    "samples=['A3', 'Mock', 'NH1', 'NH4', 'Sim17', 'Sim22', 'Th16', 'Th38',\n",
    "       'Th40', 'X17007']\n",
    "\n",
    "# creating a dictonary with sample names where we will store abundance information for each sample\n",
    "abundance = {}\n",
    "for sample in samples:\n",
    "    abundance[sample] = []\n",
    "\n",
    "# loop through each dataset and calculate number of unique OTUs for each sample\n",
    "for dataset in sum_tables:\n",
    "    for sample_name in samples:\n",
    "        abundance[f'{sample_name}'].append(len(sum_tables[dataset][sum_tables[dataset][f'{sample_name}'] != 0]))\n",
    "    \n",
    "unique_otus = pd.DataFrame(data=abundance, index=sum_tables.keys())\n",
    "unique_otus"
   ]
  },
  {
   "cell_type": "code",
   "execution_count": null,
   "id": "fd44a8f9",
   "metadata": {
    "hidden": true
   },
   "outputs": [],
   "source": [
    "# number of unique OTUs for all samples together\n",
    "unique_otus[\"total\"] = unique_otus.iloc[0:9].sum(axis=1)\n",
    "unique_otus"
   ]
  },
  {
   "cell_type": "markdown",
   "id": "c666be37",
   "metadata": {
    "heading_collapsed": true
   },
   "source": [
    "## Venn diagrams"
   ]
  },
  {
   "cell_type": "markdown",
   "id": "959c13e7",
   "metadata": {
    "hidden": true
   },
   "source": [
    "We want to determine how many OTUs are unique for each dataset (cell1, cell2, and cellCombined), and how many OTUs are shared between the datasets. We will do it for datasets with OTUs created based on 97 and 99 similarity percentage separatelly."
   ]
  },
  {
   "cell_type": "code",
   "execution_count": null,
   "id": "b346868c",
   "metadata": {
    "hidden": true,
    "scrolled": true
   },
   "outputs": [],
   "source": [
    "# create a dataset name column for each dataset dataframe\n",
    "\n",
    "for dataset in sum_tables:\n",
    "    sum_tables[dataset][\"dataset\"]=f\"{dataset}\""
   ]
  },
  {
   "cell_type": "code",
   "execution_count": null,
   "id": "e28b0344",
   "metadata": {
    "hidden": true
   },
   "outputs": [],
   "source": [
    "# list of your dataframes\n",
    "pd_list_97=[sum_tables[\"cell1_sim97\"], sum_tables[\"cell2_sim97\"], sum_tables[\"cellCombined_sim97\"]]\n",
    "pd_list_99=[sum_tables[\"cell1_sim99\"], sum_tables[\"cell2_sim99\"], sum_tables[\"cellCombined_sim99\"]]\n",
    "\n",
    "# for dataset in sum_tables:\n",
    "#     pd_list.append(sum_tables[dataset])"
   ]
  },
  {
   "cell_type": "code",
   "execution_count": null,
   "id": "92deecf8",
   "metadata": {
    "hidden": true
   },
   "outputs": [],
   "source": [
    "venn_df_97 = pd.concat(pd_list_97)\n",
    "venn_df_99 = pd.concat(pd_list_99)"
   ]
  },
  {
   "cell_type": "code",
   "execution_count": null,
   "id": "9cd58fc0",
   "metadata": {
    "hidden": true
   },
   "outputs": [],
   "source": [
    "# first we need to get the otu table with the occurrence of each biome\n",
    "otu_cooccurance_97 = pd.crosstab(venn_df_97[\"ID\"], venn_df_97[\"dataset\"]).gt(0).astype(int)\n",
    "otu_cooccurance_99 = pd.crosstab(venn_df_99[\"ID\"], venn_df_99[\"dataset\"]).gt(0).astype(int)"
   ]
  },
  {
   "cell_type": "code",
   "execution_count": null,
   "id": "94661341",
   "metadata": {
    "hidden": true
   },
   "outputs": [],
   "source": [
    "# now it's ease to find out any combination of the shared OTUs between datasets\n",
    "# 0 means the OTU is not present and 1 means OTU is present in the given dataset\n",
    "# if we set one for each dataset, we will filtrate only the unique OTUs that occured in all datasets \n",
    "\n",
    "otu_alldatasets_97 = otu_cooccurance_97[(otu_cooccurance_97['cell1_sim97'] == 1) \n",
    "                                      & (otu_cooccurance_97['cell2_sim97'] == 1) \n",
    "                                      & (otu_cooccurance_97['cellCombined_sim97'] == 1)]\n",
    "\n",
    "otu_alldatasets_99 = otu_cooccurance_99[(otu_cooccurance_99['cell1_sim99'] == 1) \n",
    "                                      & (otu_cooccurance_99['cell2_sim99'] == 1) \n",
    "                                      & (otu_cooccurance_99['cellCombined_sim99'] == 1)]"
   ]
  },
  {
   "cell_type": "code",
   "execution_count": null,
   "id": "8e3590b2",
   "metadata": {
    "hidden": true
   },
   "outputs": [],
   "source": [
    "otu_cooccurance_99['cell1_sim99']"
   ]
  },
  {
   "cell_type": "code",
   "execution_count": null,
   "id": "fb62c617",
   "metadata": {
    "hidden": true
   },
   "outputs": [],
   "source": [
    "# creating dataset for the venn diagram\n",
    "venn_datasets_97={}\n",
    "\n",
    "venn_datasets_97[\"cell1_sim97\"] = set(venn_df_97[venn_df_97.dataset == \"cell1_sim97\"].to_dict('list')['ID'])\n",
    "venn_datasets_97[\"cell2_sim97\"] = set(venn_df_97[venn_df_97.dataset == \"cell2_sim97\"].to_dict('list')['ID'])\n",
    "venn_datasets_97[\"cellCombined_sim97\"] = set(venn_df_97[venn_df_97.dataset == \"cellCombined_sim97\"].to_dict('list')['ID'])\n",
    "\n",
    "venn_datasets_99={}\n",
    "\n",
    "venn_datasets_99[\"cell1_sim99\"] = set(venn_df_99[venn_df_99.dataset == \"cell1_sim99\"].to_dict('list')['ID'])\n",
    "venn_datasets_99[\"cell2_sim99\"] = set(venn_df_99[venn_df_99.dataset == \"cell2_sim99\"].to_dict('list')['ID'])\n",
    "venn_datasets_99[\"cellCombined_sim99\"] = set(venn_df_99[venn_df_99.dataset == \"cellCombined_sim99\"].to_dict('list')['ID'])"
   ]
  },
  {
   "cell_type": "code",
   "execution_count": null,
   "id": "f9312f5d",
   "metadata": {
    "hidden": true
   },
   "outputs": [],
   "source": [
    "# venn diagram using the pyvenn library: https://pypi.org/project/venn/\n",
    "\n",
    "from matplotlib.colors import ListedColormap\n",
    "\n",
    "datasets=[venn_datasets_97, venn_datasets_99]\n",
    "label=[\"97\", \"99\"]\n",
    "path=\"../raw_data/OTU_summary_tables\"\n",
    "\n",
    "for i in range(2):\n",
    "    \n",
    "    fig, ax1 = plt.subplots(figsize=(9, 9), nrows=1, ncols=1)\n",
    "\n",
    "    c = venn(datasets[i], \n",
    "             alpha=0.5, \n",
    "             figsize=(10, 5), \n",
    "             fontsize=18, \n",
    "             legend_loc=\"upper right\", \n",
    "             cmap=ListedColormap([\"#CC79A7\", \"#009E73\", \"#0072B2\"]), \n",
    "             ax=ax1)\n",
    "\n",
    "\n",
    "    ax1.get_legend().remove()\n",
    "    plt.text(0.26, # horizontal\n",
    "             0.9, # vertical\n",
    "             \"Cell 1\", \n",
    "             fontsize=25, color='#CC79A7')\n",
    "\n",
    "    plt.text(\n",
    "             0.62, # horizontal\n",
    "             0.9, # vertical\n",
    "             \"Cell 2\", \n",
    "             fontsize=25, color='#009E73')\n",
    "\n",
    "    plt.text(\n",
    "             0.32, # horizontal\n",
    "             0, # vertical\n",
    "             \"Combined cells\", \n",
    "             fontsize=25, color='#0072B2')\n",
    "\n",
    "    # plt.show()\n",
    "\n",
    "    # save\n",
    "    plt.savefig(f\"{path}/venn_datasets_{label[i]}.png\", dpi=300, transparent=False)\n",
    "    plt.savefig(f\"{path}/venn_datasets_{label[i]}.pdf\", dpi=300)\n"
   ]
  },
  {
   "cell_type": "markdown",
   "id": "d962688c",
   "metadata": {
    "heading_collapsed": true
   },
   "source": [
    "## Inspecting how abundances declined through the pipeline (per sample)"
   ]
  },
  {
   "cell_type": "markdown",
   "id": "bc08c44c",
   "metadata": {
    "hidden": true
   },
   "source": [
    "Changing number of features (reads, asvs, otus) through the pipeline\n",
    "Steps in pipelines:\n",
    "- raw reads\n",
    "- denoise (filter, denoise, chimeric seqs)\n",
    "- OTU custering\n",
    "- otu filter."
   ]
  },
  {
   "cell_type": "markdown",
   "id": "a67e38b2",
   "metadata": {
    "heading_collapsed": true,
    "hidden": true
   },
   "source": [
    "### Denoise table"
   ]
  },
  {
   "cell_type": "code",
   "execution_count": null,
   "id": "4192152a",
   "metadata": {
    "hidden": true
   },
   "outputs": [],
   "source": [
    "raw_data=\"../raw_data\"\n",
    "datasets=[\"cell1\", \"cell2\", \"cellCombined\"]\n",
    "\n",
    "df_denoise={}\n",
    "\n",
    "for dataset in datasets:\n",
    "    df_denoise[dataset]=pd.read_csv(f\"{raw_data}/denoise/Full18S/{dataset}/asv_stats.tsv\", sep=\"\\t\")\n",
    "    df_denoise[dataset]=df_denoise[dataset][[\"sample-id\", \"input\", \"primer-removed\", \"filtered\", \"denoised\", \"non-chimeric\"]]\n",
    "    df_denoise[dataset]=df_denoise[dataset].tail(-1)\n",
    "    df_denoise[dataset]=df_denoise[dataset].rename(columns={\"sample-id\": \"sample_id\", \"input\": \"raw_reads\", \"input\": \"raw_reads\", \"filtered\": \"asv_filtered\"})\n",
    "    id_splited=df_denoise[dataset]['sample_id'].str.split(pat=\"_\", expand=True)\n",
    "    df_denoise[dataset][\"sample_id\"]=id_splited[0]\n",
    "    df_denoise[dataset]=df_denoise[dataset].set_index(\"sample_id\")"
   ]
  },
  {
   "cell_type": "code",
   "execution_count": null,
   "id": "e8a87431",
   "metadata": {
    "hidden": true
   },
   "outputs": [],
   "source": [
    "df_denoise[\"cellCombined\"]"
   ]
  },
  {
   "cell_type": "markdown",
   "id": "45e433a7",
   "metadata": {
    "heading_collapsed": true,
    "hidden": true
   },
   "source": [
    "### OTU clustering table"
   ]
  },
  {
   "cell_type": "code",
   "execution_count": null,
   "id": "b48ca61d",
   "metadata": {
    "hidden": true
   },
   "outputs": [],
   "source": [
    "raw_data=\"../raw_data\"\n",
    "datasets=[\"cell1\", \"cell2\", \"cellCombined\"]\n",
    "\n",
    "df_otu={}\n",
    "\n",
    "for dataset in datasets:\n",
    "    df_otu[dataset]=pd.read_csv(f\"{raw_data}/OTU_clust/Full18S/{dataset}/sim99/feature_count.tsv\", sep=\"\\t\")\n",
    "    id_splited=df_otu[dataset]['Sample_ID'].str.split(pat=\"_\", expand=True)\n",
    "    df_otu[dataset]['Sample_ID']=id_splited[0]\n",
    "    df_otu[dataset]=df_otu[dataset].rename(columns={\"Sample_ID\": \"sample_id\", \"Feature_Count\": \"otu_clustered\"})\n",
    "    df_otu[dataset]=df_otu[dataset].set_index(\"sample_id\")"
   ]
  },
  {
   "cell_type": "code",
   "execution_count": null,
   "id": "f57d54f6",
   "metadata": {
    "hidden": true
   },
   "outputs": [],
   "source": [
    "df_otu[\"cellCombined\"]"
   ]
  },
  {
   "cell_type": "markdown",
   "id": "f840d518",
   "metadata": {
    "heading_collapsed": true,
    "hidden": true
   },
   "source": [
    "### OTU filtering table"
   ]
  },
  {
   "cell_type": "code",
   "execution_count": null,
   "id": "765012c3",
   "metadata": {
    "hidden": true
   },
   "outputs": [],
   "source": [
    "# changing number of features (reads, asvs, otus) through the pipeline\n",
    "# steps in pipelines: raw reads, denoise, otu, otu filter"
   ]
  },
  {
   "cell_type": "code",
   "execution_count": null,
   "id": "f332f446",
   "metadata": {
    "hidden": true
   },
   "outputs": [],
   "source": [
    "raw_data=\"../raw_data\"\n",
    "datasets=[\"cell1\", \"cell2\", \"cellCombined\"]\n",
    "\n",
    "df_otu_filt={}\n",
    "\n",
    "for dataset in datasets:\n",
    "    df_otu_filt[dataset]=pd.read_csv(f\"{raw_data}/OTU_filtered/Full18S/{dataset}/sim99/feature_count.tsv\", sep=\"\\t\")\n",
    "    id_splited=df_otu_filt[dataset]['Sample_ID'].str.split(pat=\"_\", expand=True)\n",
    "    df_otu_filt[dataset]['Sample_ID']=id_splited[0]\n",
    "    df_otu_filt[dataset]=df_otu_filt[dataset].rename(columns={\"Sample_ID\": \"sample_id\", \"Feature_Count\": \"otu_filt_sim99\"})\n",
    "    df_otu_filt[dataset]=df_otu_filt[dataset].set_index(\"sample_id\")"
   ]
  },
  {
   "cell_type": "code",
   "execution_count": null,
   "id": "8d056164",
   "metadata": {
    "hidden": true
   },
   "outputs": [],
   "source": [
    "df_otu_filt[\"cellCombined\"]"
   ]
  },
  {
   "cell_type": "markdown",
   "id": "05a15b56",
   "metadata": {
    "heading_collapsed": true,
    "hidden": true
   },
   "source": [
    "### Merging all tables together"
   ]
  },
  {
   "cell_type": "code",
   "execution_count": null,
   "id": "d3923a86",
   "metadata": {
    "hidden": true
   },
   "outputs": [],
   "source": [
    "datasets=[\"cell1\", \"cell2\", \"cellCombined\"]\n",
    "\n",
    "df_abundances={}\n",
    "\n",
    "for dataset in datasets:\n",
    "    df_abundances[dataset]=df_denoise[dataset] \\\n",
    "    .merge(df_otu[dataset], left_index=True, right_index=True) \\\n",
    "    .merge(df_otu_filt[dataset], left_index=True, right_index=True)\n",
    "    df_abundances[dataset]=df_abundances[dataset].astype(int)"
   ]
  },
  {
   "cell_type": "code",
   "execution_count": null,
   "id": "da9e3339",
   "metadata": {
    "hidden": true
   },
   "outputs": [],
   "source": [
    "df_abundances[\"cellCombined\"]"
   ]
  },
  {
   "cell_type": "code",
   "execution_count": null,
   "id": "31b0d169",
   "metadata": {
    "hidden": true
   },
   "outputs": [],
   "source": [
    "# save the final table to an excel file\n",
    "\n",
    "path=\"../raw_data/OTU_summary_tables\"\n",
    "\n",
    "with pd.ExcelWriter(f\"{path}/abundances.xlsx\") as writer:  \n",
    "    df_abundances[\"cell1\"].to_excel(writer, sheet_name=\"cell1\")\n",
    "    df_abundances[\"cell2\"].to_excel(writer, sheet_name=\"cell2\")\n",
    "    df_abundances[\"cellCombined\"].to_excel(writer, sheet_name=\"cellCombined\")"
   ]
  },
  {
   "cell_type": "markdown",
   "id": "2a1a5706",
   "metadata": {
    "heading_collapsed": true
   },
   "source": [
    "## Inspecting how abundances declined through the pipeline (all samples together)"
   ]
  },
  {
   "cell_type": "code",
   "execution_count": null,
   "id": "9dc2d7f1",
   "metadata": {
    "hidden": true,
    "scrolled": true
   },
   "outputs": [],
   "source": [
    "datasets=[\"cell1\", \"cell2\", \"cellCombined\"]\n",
    "\n",
    "df_abundances_total={}\n",
    "\n",
    "for dataset in datasets:\n",
    "    df_abundances_total[dataset] = df_abundances[dataset].sum(axis=0).to_frame().reset_index()\n",
    "    df_abundances_total[dataset] = df_abundances_total[dataset].rename(columns= {0: 'total'})"
   ]
  },
  {
   "cell_type": "code",
   "execution_count": null,
   "id": "baa0af2b",
   "metadata": {
    "hidden": true
   },
   "outputs": [],
   "source": [
    "df_abundances_total[\"cell1\"]"
   ]
  },
  {
   "cell_type": "code",
   "execution_count": null,
   "id": "0cdf039b",
   "metadata": {
    "hidden": true
   },
   "outputs": [],
   "source": [
    "dataset=\"cell2\"\n",
    "path=\"../raw_data/OTU_summary_tables\"\n",
    "\n",
    "\n",
    "\n",
    "sns.set(rc={'figure.figsize':(11.7,8.27)})\n",
    "sns.set_style(\"white\")\n",
    "abund_bar=sns.barplot(x=\"index\", y=\"total\", data=df_abundances_total[dataset], palette=\"rocket\");\n",
    "abund_bar.set(xlabel=\"\", ylabel = \"Abundance\", title =f\"Decline of abundances throughout the pipeline\")\n",
    "abund_bar.set_xticklabels([\"Raw reads\", \n",
    "                           \"Primers\\nfiltering\", \n",
    "                           \"Length\\nfiltering\", \n",
    "                           \"ASV\\ndenoised\", \n",
    "                           \"Chimeras\\nremoved\",\n",
    "                           \"OTU\\nclustered\",\n",
    "                           \"OTU\\nfiltered\"])\n",
    "sns.despine()\n",
    "\n",
    "# plt.savefig(f\"{path}/abundance_{dataset}.png\", dpi=300)"
   ]
  },
  {
   "cell_type": "markdown",
   "id": "8fd9b004",
   "metadata": {
    "heading_collapsed": true
   },
   "source": [
    "## Reducing number of representative sequences throughout the pipeline"
   ]
  },
  {
   "cell_type": "markdown",
   "id": "1fe3b87e",
   "metadata": {
    "hidden": true
   },
   "source": [
    "We used three steps that reduce number of the features (representative sequences) in our pipeline:\n",
    "\n",
    "1. **Denoising raw sequences:** primers and length filtering, denoising, chimeras filtering\n",
    "2. **OTU clustering:** based on 97 and 99 similarity threshold\n",
    "3. **OTU filtering:** filtering out taxonomically unassigned OTUs at phyllum level and filtering out rare OTUs\n",
    "\n",
    "Let's check how many unique number of features was reduced during these three steps."
   ]
  },
  {
   "cell_type": "code",
   "execution_count": null,
   "id": "75ce5d84",
   "metadata": {
    "hidden": true
   },
   "outputs": [],
   "source": [
    "datasets=[\"cell1\", \"cell2\", \"cellCombined\"]\n",
    "denoise_path=\"../raw_data/denoise/Full18S\"\n",
    "otu_clust_path=\"../raw_data/OTU_clust/Full18S\"\n",
    "otu_filt_path=\"../raw_data/OTU_filtered/Full18S\"\n",
    "sim=\"sim99\"\n",
    "\n",
    "# creating dictionary where we will append the values in the loop below for our table\n",
    "rep_seqs_data={\"denoised\": [],\n",
    "               \"OTU_clustered\": [],\n",
    "               \"OTU_filtered\": []}\n",
    "\n",
    "# gathering information for the table\n",
    "for dataset in datasets:\n",
    "    \n",
    "    # gather the total number of unique ASVs\n",
    "    with open(f\"{denoise_path}/{dataset}/asv_seqs.fasta\", 'r') as file:\n",
    "        denoised_fasta = file.read()\n",
    "    rep_seqs_data[\"denoised\"].append(denoised_fasta.count(\">\"))\n",
    "    \n",
    "    # gather the total number of unique OTUs\n",
    "    with open(f\"{otu_clust_path}/{dataset}/{sim}/otu_seqs.fasta\", 'r') as file:\n",
    "        otu_clust_fasta = file.read()\n",
    "    rep_seqs_data[\"OTU_clustered\"].append(otu_clust_fasta.count(\">\"))\n",
    "    \n",
    "    # gather the total number of unique OTUs after filtering\n",
    "    with open(f\"{otu_filt_path}/{dataset}/{sim}/otu_seqs_filtered.fasta\", 'r') as file:\n",
    "        otu_filt_fasta = file.read()\n",
    "    rep_seqs_data[\"OTU_filtered\"].append(otu_filt_fasta.count(\">\"))\n",
    "    \n",
    "\n",
    "# creating the final table that we will populate with data gather in the loop above\n",
    "rep_seqs=pd.DataFrame(data=rep_seqs_data, index=[\"cell1\", \"cell2\", \"cellCombined\"])\n",
    "rep_seqs"
   ]
  },
  {
   "cell_type": "code",
   "execution_count": null,
   "id": "4613ee39",
   "metadata": {
    "hidden": true
   },
   "outputs": [],
   "source": [
    "# bar plot of decreasing unique representative sequences after individual steps in the pipeline\n",
    "path=\"../raw_data/OTU_summary_tables\"\n",
    "\n",
    "# adjusting the data table for plotting\n",
    "df_plot=rep_seqs.reset_index()\n",
    "df_plot=df_plot.melt(id_vars=['index'], value_vars=['denoised', 'OTU_clustered', 'OTU_filtered'])\n",
    "\n",
    "# plotting code\n",
    "sns.set(rc={'figure.figsize':(11.7,8.27)})\n",
    "sns.set_style(\"white\")\n",
    "repseq_bar=sns.barplot(data=df_plot, x=\"variable\", y=\"value\", hue=\"index\")\n",
    "repseq_bar.set(xlabel=\"\", \n",
    "                ylabel = \"number of representative sequences\", \n",
    "                title =f\"\")\n",
    "repseq_bar.set_xticklabels([\"ASV denoised\", \"OTU clustered\", \"OTU filtered\"])\n",
    "sns.despine()\n",
    "\n",
    "# adjusting legend\n",
    "h, l = repseq_bar.get_legend_handles_labels()\n",
    "repseq_bar.legend(handles=h, \n",
    "                  labels=[\"Cell 1\", \"Cell 2\", \"Combined Cells\"], \n",
    "                  title=\"Flow Cell\", \n",
    "                  loc=\"upper right\", \n",
    "                  frameon=False);\n",
    "\n",
    "# save\n",
    "plt.savefig(f\"{path}/unique_representative_sequences.png\", dpi=300)"
   ]
  },
  {
   "cell_type": "markdown",
   "id": "f2c6cffc",
   "metadata": {},
   "source": [
    "## Vampyrella specific data"
   ]
  },
  {
   "cell_type": "markdown",
   "id": "a10e8678",
   "metadata": {},
   "source": [
    "We want to:\n",
    "- check how many vampyrellid taxa were found in individual samples and in total\n",
    "- how clustering thresholds affect number of vampyrellid taxa in mock community\n",
    "- how filtering rare OTUs affect number of vampyrellid taxa in mock community\n",
    "\n",
    "We supposed to find five taxa (different species) in mock sample"
   ]
  },
  {
   "cell_type": "markdown",
   "id": "746e8734",
   "metadata": {},
   "source": [
    "### Vampyrellid ASVs, OTUs, and OTUs with filtered rare sequences out"
   ]
  },
  {
   "cell_type": "code",
   "execution_count": 126,
   "id": "c65de971",
   "metadata": {},
   "outputs": [],
   "source": [
    "# defining a few functions for loading data and adjusting datasets for plotting data\n",
    "\n",
    "def read_into_dic(dictionary, input_dir, marker=\"Full18S\"):\n",
    "    \"\"\"read tsv summary tables as dataframes and save them into a dictionary.\n",
    "    Each dataframe will represent a key in the dictionary.\n",
    "    Provide a dictionary with names of the datasets as input file in the following pattern:\n",
    "    cell_sim. Also provide a path to the directory with the summary tables\"\"\"\n",
    "    for dataset in dictionary:\n",
    "        cell, sim = dataset.split(\"_\")\n",
    "        data_path=f\"{input_dir}/otu_summary_table_{marker}_{cell}_{sim}.tsv\"\n",
    "        dictionary[dataset]=pd.read_csv(data_path, sep=\"\\t\")\n",
    "    return dictionary\n",
    "\n",
    "def filt_vamp(dataset_dict):\n",
    "    \"\"\"filtered only vampyrellida ASVs for each dataframe and \n",
    "    save it into new a dictionary\"\"\"\n",
    "    vamp_spec_dict={}\n",
    "    for dataset in dataset_dict.keys():\n",
    "        vamp_spec_dict[dataset]=dataset_dict[dataset][dataset_dict[dataset][\"Order\"] == \"Vampyrellida\"]\n",
    "    return vamp_spec_dict\n",
    "\n",
    "def num_otus_allsample(vamp_spec_dict):\n",
    "    \"\"\"create a dataframe with total number of vampyrellid OTUs \n",
    "    found in each dataset for all samples combined\"\"\"\n",
    "    data_for_table={\"num_otus\": []}\n",
    "    for dataset in vamp_spec_dict.keys():\n",
    "        data_for_table[\"num_otus\"].append(vamp_spec_dict[dataset].shape[0])\n",
    "    return pd.DataFrame(data=data_for_table, index=vamp_spec_dict.keys())\n",
    "\n",
    "def num_otus_persample(samples, vamp_spec_dict):\n",
    "    \"\"\"create a dataframe with total number of vampyrellid OTUs \n",
    "    found in each dataset and each sample. Provide: i) list of samples,\n",
    "    ii) dictionary with individual datasets.\"\"\"\n",
    "    data_for_table={\"sample\": [],\n",
    "                    \"num_otus\": [], \n",
    "                    \"dataset\": []}\n",
    "    for dataset in vamp_spec_dict.keys():\n",
    "        current_dataset = vamp_spec_dict[dataset]\n",
    "        for sample in samples:\n",
    "            data_for_table[\"sample\"].append(sample)\n",
    "            individual_sample=current_dataset[current_dataset[sample] != 0]\n",
    "            data_for_table[\"num_otus\"].append(individual_sample.shape[0])\n",
    "            data_for_table[\"dataset\"].append(dataset)\n",
    "    return pd.DataFrame(data=data_for_table)"
   ]
  },
  {
   "cell_type": "code",
   "execution_count": 172,
   "id": "50eddd99",
   "metadata": {},
   "outputs": [],
   "source": [
    "# variables\n",
    "input_dir_unfilt=\"../raw_data/OTU_summary_tables/unfiltered\"\n",
    "\n",
    "input_dir_filt=\"../raw_data/OTU_summary_tables\"\n",
    "\n",
    "\n",
    "samples=['A3', 'Mock', 'NH1', 'NH4', 'Sim17', 'Sim22', 'Th16', 'Th38', 'Th40', 'X17007']\n",
    "datasets_filt={\"cell1_sim97\": \"\",\n",
    "          \"cell1_sim99\": \"\", \n",
    "          \"cell2_sim97\": \"\", \n",
    "          \"cell2_sim99\": \"\",\n",
    "          \"cellCombined_sim97\": \"\",\n",
    "          \"cellCombined_sim99\": \"\"}\n",
    "\n",
    "datasets_unfilt={\"cell1_sim97\": \"\",\n",
    "          \"cell1_sim99\": \"\", \n",
    "          \"cell2_sim97\": \"\", \n",
    "          \"cell2_sim99\": \"\",\n",
    "          \"cellCombined_sim97\": \"\",\n",
    "          \"cellCombined_sim99\": \"\"}\n",
    "\n",
    "\n",
    "# load summary tables as dataframes\n",
    "sum_tables_filt = read_into_dic(dictionary=datasets_filt, input_dir=input_dir_filt)\n",
    "\n",
    "sum_tables_unfilt = read_into_dic(dictionary=datasets_unfilt, input_dir=input_dir_unfilt)\n",
    "\n",
    "\n",
    "# retrain only vampyrellida ASVs\n",
    "vamp_filt = filt_vamp(sum_tables_filt)\n",
    "vamp_unfilt = filt_vamp(sum_tables_unfilt)\n",
    "\n",
    "\n",
    "# creating table with total number of vampyrellid OTUs found in each dataset and all samples combined   \n",
    "vamp_filt_allsamples=num_otus_allsample(vamp_filt)\n",
    "vamp_unfilt_allsamples=num_otus_allsample(vamp_unfilt)\n",
    "\n",
    "# creating a table with total number of vampyrellid OTUs found in each sample and each dataset\n",
    "vamp_filt_persample = num_otus_persample(vamp_spec_dict=vamp_filt, samples=samples)\n",
    "vamp_unfilt_persample = num_otus_persample(vamp_spec_dict=vamp_unfilt, samples=samples)"
   ]
  },
  {
   "cell_type": "code",
   "execution_count": 194,
   "id": "da6ae5b3",
   "metadata": {},
   "outputs": [
    {
     "data": {
      "image/png": "[encoded data removed]",
      "text/plain": [
       "<Figure size 842.4x595.44 with 2 Axes>"
      ]
     },
     "metadata": {},
     "output_type": "display_data"
    }
   ],
   "source": [
    "# plotting all sample combined results\n",
    "\n",
    "path=\"../raw_data/OTU_summary_tables\"\n",
    "fig, axes = plt.subplots(1, 2, sharex=True, sharey=True, figsize=(11.7,8.27))\n",
    "sns.set_style(\"white\")\n",
    "\n",
    "# vamp unfilt allsamples\n",
    "vamp_unfilt_plot=sns.barplot(ax=axes[0], x=vamp_unfilt_allsamples.index, \n",
    "                            y=\"num_otus\", \n",
    "                            data=vamp_unfilt_allsamples, \n",
    "                            palette=\"colorblind\")\n",
    "axes[0].set_title(\"rare OTUs included\")\n",
    "\n",
    "# vamp filt allsamples\n",
    "vamp_filt_plot=sns.barplot(ax=axes[1], x=vamp_filt_allsamples.index, \n",
    "                            y=\"num_otus\", \n",
    "                            data=vamp_filt_allsamples, \n",
    "                            palette=\"colorblind\")\n",
    "axes[1].set_title(\"rare OTUs filtered out\")\n",
    "\n",
    "vamp_filt_plot.set_xticklabels([\"cell 1\\nsim 97\",\n",
    "                                 \"cell 1\\nsim 99\",\n",
    "                                 \"cell 2\\nsim 97\",\n",
    "                                 \"cell 2\\nsim 99\",\n",
    "                                 \"comb.\\nsim 97\",\n",
    "                                 \"comb.\\nsim 99\"])\n",
    "\n",
    "vamp_unfilt_plot.set(xlabel=\"\", ylabel = \"number of OTUs\")\n",
    "vamp_filt_plot.set(xlabel=\"\", ylabel = \"\")\n",
    "sns.despine()\n",
    "\n",
    "plt.savefig(f\"{path}/number_of_vamp_otus_allsamples.png\", dpi=300)"
   ]
  },
  {
   "cell_type": "code",
   "execution_count": 231,
   "id": "06b7f5aa",
   "metadata": {},
   "outputs": [
    {
     "data": {
      "image/png": "[encoded data removed]",
      "text/plain": [
       "<Figure size 842.4x595.44 with 2 Axes>"
      ]
     },
     "metadata": {},
     "output_type": "display_data"
    }
   ],
   "source": [
    "# plotting per sample results\n",
    "\n",
    "path=\"../raw_data/OTU_summary_tables\"\n",
    "dataset_labels=[\"cell 1, similarity 97\",\n",
    "                \"cell 1, similarity 99\",\n",
    "                \"cell 2, similarity 97\",\n",
    "                \"cell 2, similarity 99\",\n",
    "                \"combined cells, similarity 97\",\n",
    "                \"combined cells, similarity 99\"]\n",
    "\n",
    "\n",
    "fig, axes = plt.subplots(1, 2, sharex=True, sharey=True, figsize=(11.7,8.27))\n",
    "sns.set_style(\"white\")\n",
    "\n",
    "# vamp unfilt allsamples\n",
    "vamp_unfilt_plot=sns.barplot(ax=axes[0], data=vamp_unfilt_persample,\n",
    "                                y=\"sample\",\n",
    "                                x=\"num_otus\",\n",
    "                                hue=\"dataset\",\n",
    "                                palette=\"colorblind\")\n",
    "axes[0].set_title(\"rare OTUs included\")\n",
    "\n",
    "# vamp filt allsamples\n",
    "vamp_filt_plot=sns.barplot(ax=axes[1], data=vamp_filt_persample,\n",
    "                                y=\"sample\",\n",
    "                                x=\"num_otus\",\n",
    "                                hue=\"dataset\",\n",
    "                                palette=\"colorblind\")\n",
    "axes[1].set_title(\"rare OTUs filtered out\")\n",
    "\n",
    "\n",
    "\n",
    "# adjusting legend\n",
    "h, l = vamp_persample_plot.get_legend_handles_labels()\n",
    "vamp_filt_plot.legend(handles=h, \n",
    "                           labels=dataset_labels, \n",
    "                           title=\"Dataset\", \n",
    "                           loc='lower right', \n",
    "                           frameon=False);\n",
    "\n",
    "vamp_unfilt_plot.legend([],[], frameon=False)\n",
    "\n",
    "vamp_unfilt_plot.set(xlabel=\"\", ylabel=\"sample ID\")\n",
    "vamp_filt_plot.set(xlabel=\"\", ylabel = \"\")\n",
    "\n",
    "\n",
    "fig.text(0.5, 0.05, 'number of OTUs', ha='center')\n",
    "\n",
    "sns.despine()\n",
    "\n",
    "plt.savefig(f\"{path}/number_of_vamp_otus_persample.png\", dpi=300)"
   ]
  },
  {
   "cell_type": "code",
   "execution_count": null,
   "id": "c7af2fea",
   "metadata": {},
   "outputs": [],
   "source": []
  },
  {
   "cell_type": "code",
   "execution_count": null,
   "id": "24f4545a",
   "metadata": {},
   "outputs": [],
   "source": []
  },
  {
   "cell_type": "code",
   "execution_count": null,
   "id": "57b75ab3",
   "metadata": {},
   "outputs": [],
   "source": []
  },
  {
   "cell_type": "code",
   "execution_count": null,
   "id": "1121f1bd",
   "metadata": {},
   "outputs": [],
   "source": []
  },
  {
   "cell_type": "code",
   "execution_count": null,
   "id": "ae517b74",
   "metadata": {},
   "outputs": [],
   "source": []
  },
  {
   "cell_type": "code",
   "execution_count": null,
   "id": "9788e8e9",
   "metadata": {},
   "outputs": [],
   "source": []
  },
  {
   "cell_type": "markdown",
   "id": "47354a6d",
   "metadata": {},
   "source": [
    "### Vampyrellids after filtering rare OTUs out"
   ]
  },
  {
   "cell_type": "code",
   "execution_count": 37,
   "id": "cf94106b",
   "metadata": {
    "scrolled": true
   },
   "outputs": [],
   "source": [
    "# creating vampyrellida specific ASVs dataframes from tsv summary tables  \n",
    "\n",
    "# read tsv summary tables into sum_tables dictionary as individual dataframes\n",
    "sum_tables={\"cell1_sim97\": \"\", \n",
    "            \"cell1_sim99\": \"\", \n",
    "            \"cell2_sim97\": \"\", \n",
    "            \"cell2_sim99\": \"\",\n",
    "            \"cellCombined_sim97\": \"\",\n",
    "            \"cellCombined_sim99\": \"\"}\n",
    "\n",
    "for dataset in sum_tables:\n",
    "    cell, sim = dataset.split(\"_\")\n",
    "    sum_tables[dataset]=load_data(\"Full18S\", cell, sim)\n",
    "\n",
    "\n",
    "# we will filtered only vampyrellida ASVs for each dataframe and save it into new df_vamp_filt dictionary\n",
    "df_vamp_filt={}\n",
    "\n",
    "for dataset in sum_tables.keys():\n",
    "    df_vamp_filt[dataset]= sum_tables[dataset][sum_tables[dataset][\"Order\"] == \"Vampyrellida\"]"
   ]
  },
  {
   "cell_type": "code",
   "execution_count": 72,
   "id": "cb167694",
   "metadata": {},
   "outputs": [],
   "source": [
    "# check how many vampyrellid taxa were found in all samples combined and across the individual datasets\n",
    "\n",
    "# creating table with total number of vampyrellid OTUs found in each dataset\n",
    "\n",
    "data_for_table={\"num_otus\": []}\n",
    "\n",
    "for dataset in df_vamp_filt.keys():\n",
    "    data_for_table[\"num_otus\"].append(df_vamp_filt[dataset].shape[0])\n",
    "    \n",
    "df_vamp_allsamples=pd.DataFrame(data=data_for_table, index=df_vamp_filt.keys())"
   ]
  },
  {
   "cell_type": "code",
   "execution_count": 73,
   "id": "e08c99a5",
   "metadata": {},
   "outputs": [
    {
     "data": {
      "image/png": "[encoded data removed]",
      "text/plain": [
       "<Figure size 842.4x595.44 with 1 Axes>"
      ]
     },
     "metadata": {},
     "output_type": "display_data"
    }
   ],
   "source": [
    "# plotting \n",
    "path=\"../raw_data/OTU_summary_tables\"\n",
    "\n",
    "sns.set(rc={'figure.figsize':(11.7,8.27)})\n",
    "sns.set_style(\"white\")\n",
    "vamp_allsamples=sns.barplot(x=df_vamp_allsamples.index, \n",
    "                            y=\"num_otus\", \n",
    "                            data=df_vamp_allsamples, \n",
    "                            palette=\"colorblind\")\n",
    "vamp_allsamples.set_xticklabels([\"cell 1\\nsimilarity 97\",\n",
    "                                 \"cell 1\\nsimilarity 99\",\n",
    "                                 \"cell 2\\nsimilarity 97\",\n",
    "                                 \"cell 2\\nsimilarity 99\",\n",
    "                                 \"combined cells\\nsimilarity 97\",\n",
    "                                 \"combined cells\\nsimilarity 99\"])\n",
    "\n",
    "\n",
    "vamp_allsamples.set(xlabel=\"dataset\", ylabel = \"number of OTUs\")\n",
    "\n",
    "\n",
    "sns.despine()\n",
    "\n",
    "plt.savefig(f\"{path}/number_of_otus_allsamples.png\", dpi=300)"
   ]
  },
  {
   "cell_type": "code",
   "execution_count": 80,
   "id": "348048c6",
   "metadata": {},
   "outputs": [],
   "source": [
    "# check how many vampyrellid taxa were found per sample and across the individual datasets\n",
    "\n",
    "# creating a table with total number of vampyrellid OTUs found in each sample and each dataset\n",
    "\n",
    "data_for_table={\"sample\": [],\n",
    "                \"num_otus\": [], \n",
    "                \"dataset\": []}\n",
    "\n",
    "samples=['A3', 'Mock', 'NH1', 'NH4', 'Sim17', 'Sim22', 'Th16', 'Th38', 'Th40', 'X17007']\n",
    "\n",
    "for dataset in df_vamp_filt.keys():\n",
    "    current_dataset = df_vamp_filt[dataset]\n",
    "    for sample in samples:\n",
    "        data_for_table[\"sample\"].append(sample)\n",
    "        individual_sample=current_dataset[current_dataset[sample] != 0]\n",
    "        data_for_table[\"num_otus\"].append(individual_sample.shape[0])\n",
    "        data_for_table[\"dataset\"].append(dataset)\n",
    "\n",
    "    \n",
    "df_vamp_persample=pd.DataFrame(data=data_for_table)"
   ]
  },
  {
   "cell_type": "code",
   "execution_count": 92,
   "id": "74b91c99",
   "metadata": {},
   "outputs": [
    {
     "data": {
      "image/png": "[encoded data removed]",
      "text/plain": [
       "<Figure size 842.4x595.44 with 1 Axes>"
      ]
     },
     "metadata": {},
     "output_type": "display_data"
    }
   ],
   "source": [
    "# plotting\n",
    "\n",
    "dataset_labels=[\"cell 1, similarity 97\",\n",
    "                \"cell 1, similarity 99\",\n",
    "                \"cell 2, similarity 97\",\n",
    "                \"cell 2, similarity 99\",\n",
    "                \"combined cells, similarity 97\",\n",
    "                \"combined cells, similarity 99\"]\n",
    "\n",
    "\n",
    "sns.set(rc={'figure.figsize':(11.7,8.27)})\n",
    "sns.set_style(\"white\")\n",
    "vamp_persample=sns.barplot(data=df_vamp_persample,\n",
    "                           x=\"sample\",\n",
    "                           y=\"num_otus\",\n",
    "                           hue=\"dataset\",\n",
    "                           palette=\"colorblind\")\n",
    "\n",
    "# adjusting legend\n",
    "h, l = vamp_persample.get_legend_handles_labels()\n",
    "vamp_persample.legend(handles=h, \n",
    "                  labels=dataset_labels, \n",
    "                  title=\"Dataset\", \n",
    "                  loc='upper right', \n",
    "                  frameon=False);\n",
    "\n",
    "vamp_persample.set(xlabel=\"sample ID\", ylabel = \"number of OTUs\")\n",
    "sns.despine()\n",
    "\n",
    "plt.savefig(f\"{path}/number_of_otus_persample.png\", dpi=300)"
   ]
  },
  {
   "cell_type": "code",
   "execution_count": null,
   "id": "6d5f948f",
   "metadata": {},
   "outputs": [],
   "source": []
  },
  {
   "cell_type": "code",
   "execution_count": null,
   "id": "236af194",
   "metadata": {},
   "outputs": [],
   "source": []
  },
  {
   "cell_type": "code",
   "execution_count": null,
   "id": "d59e9893",
   "metadata": {},
   "outputs": [],
   "source": []
  },
  {
   "cell_type": "code",
   "execution_count": null,
   "id": "7b40e0d7",
   "metadata": {},
   "outputs": [],
   "source": []
  },
  {
   "cell_type": "markdown",
   "id": "cdc1a538",
   "metadata": {},
   "source": [
    "## Similarity of the vampyrellid ASV sequences"
   ]
  },
  {
   "cell_type": "code",
   "execution_count": null,
   "id": "ceefaad5",
   "metadata": {},
   "outputs": [],
   "source": []
  },
  {
   "cell_type": "code",
   "execution_count": null,
   "id": "ef29c30a",
   "metadata": {},
   "outputs": [],
   "source": []
  },
  {
   "cell_type": "code",
   "execution_count": null,
   "id": "66831412",
   "metadata": {},
   "outputs": [],
   "source": []
  },
  {
   "cell_type": "code",
   "execution_count": null,
   "id": "ed1a43b7",
   "metadata": {},
   "outputs": [],
   "source": []
  },
  {
   "cell_type": "code",
   "execution_count": null,
   "id": "4f33c98d",
   "metadata": {},
   "outputs": [],
   "source": []
  },
  {
   "cell_type": "code",
   "execution_count": null,
   "id": "43c3123f",
   "metadata": {},
   "outputs": [],
   "source": []
  },
  {
   "cell_type": "code",
   "execution_count": null,
   "id": "148037e4",
   "metadata": {},
   "outputs": [],
   "source": []
  },
  {
   "cell_type": "code",
   "execution_count": null,
   "id": "352bce20",
   "metadata": {},
   "outputs": [],
   "source": []
  },
  {
   "cell_type": "code",
   "execution_count": null,
   "id": "6416fe77",
   "metadata": {},
   "outputs": [],
   "source": []
  },
  {
   "cell_type": "code",
   "execution_count": null,
   "id": "44b1acf8",
   "metadata": {},
   "outputs": [],
   "source": []
  }
 ],
 "metadata": {
  "kernelspec": {
   "display_name": "Python 3 (ipykernel)",
   "language": "python",
   "name": "python3"
  },
  "language_info": {
   "codemirror_mode": {
    "name": "ipython",
    "version": 3
   },
   "file_extension": ".py",
   "mimetype": "text/x-python",
   "name": "python",
   "nbconvert_exporter": "python",
   "pygments_lexer": "ipython3",
   "version": "3.8.12"
  },
  "toc": {
   "base_numbering": 1,
   "nav_menu": {},
   "number_sections": true,
   "sideBar": true,
   "skip_h1_title": false,
   "title_cell": "Table of Contents",
   "title_sidebar": "Contents",
   "toc_cell": false,
   "toc_position": {},
   "toc_section_display": true,
   "toc_window_display": false
  }
 },
 "nbformat": 4,
 "nbformat_minor": 5
}
