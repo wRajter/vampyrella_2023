{
 "cells": [
  {
   "cell_type": "code",
   "execution_count": 3,
   "id": "cf2b9d0c",
   "metadata": {},
   "outputs": [],
   "source": [
    "# imports\n",
    "import os\n",
    "import pandas as pd"
   ]
  },
  {
   "cell_type": "code",
   "execution_count": 1,
   "id": "72de5349",
   "metadata": {},
   "outputs": [],
   "source": [
    "# VARIABLES\n",
    "\n",
    "project = 'Jamy_2022'\n",
    "cell = 'cell'\n",
    "marker = 'rDNA'\n",
    "sim = 'sim97'\n",
    "raw_data = '../raw_data'\n",
    "tax_assign_results =  f'{raw_data}/tax_assign_results/{project}/{marker}/{cell}/{sim}'\n",
    "otu_results = f'{raw_data}/OTU_results/{project}'"
   ]
  },
  {
   "cell_type": "code",
   "execution_count": 5,
   "id": "94ecee0d",
   "metadata": {},
   "outputs": [],
   "source": [
    "# get paths\n",
    "\n",
    "files = os.listdir(tax_assign_results)\n",
    "paths = [tax_assign_results + '/' + file for file in files]\n",
    "\n",
    "record = {'otu_id': [], \n",
    "          'abundance': [],\n",
    "          'kingdom': [], \n",
    "          'domain': [], \n",
    "          'phyllum': [], \n",
    "          'class': [], \n",
    "          'order': [], \n",
    "          'family': [], \n",
    "          'genus': [], \n",
    "          'species': [], \n",
    "          'closest_match': [],\n",
    "          'percent_identity': [], \n",
    "          'sample': []}\n",
    "    \n",
    "for path in paths:\n",
    "    with open(path, 'rt') as f:\n",
    "        lines = f.readlines()\n",
    "        for line in lines:\n",
    "            record['otu_id'].append(line.split('\\t')[0])\n",
    "            record['abundance'].append(line.split('\\t')[0].split('=')[-1])\n",
    "            tax_assign = line.split('\\t')[1]\n",
    "            record['kingdom'].append(tax_assign.split(',')[0].split(':')[1])\n",
    "            record['domain'].append(tax_assign.split(',')[1].lstrip('d:'))\n",
    "            record['phyllum'].append(tax_assign.split(',')[2].lstrip('p:'))\n",
    "            record['class'].append(tax_assign.split(',')[3].lstrip('c:'))\n",
    "            record['order'].append(tax_assign.split(',')[4].lstrip('o:'))\n",
    "            record['family'].append(tax_assign.split(',')[5].lstrip('f:'))\n",
    "            record['genus'].append(tax_assign.split(',')[6].lstrip('g:'))\n",
    "            record['species'].append(tax_assign.split(',')[7].lstrip('s:'))\n",
    "            record['closest_match'].append(line.split('\\t')[1].split(';')[0].split('.')[0])\n",
    "            record['percent_identity'].append(line.split('\\t')[2])\n",
    "            record['sample'].append(path.split('/')[-1].lstrip('blast6_').rstrip('.tab'))\n",
    "\n",
    "        \n",
    "sum_table = pd.DataFrame.from_dict(record)"
   ]
  },
  {
   "cell_type": "code",
   "execution_count": 39,
   "id": "8dc829f9",
   "metadata": {},
   "outputs": [],
   "source": [
    "# removing the '_21R' from all the sample names if present (this applied for Suthaus 2022 rDNA data)\n",
    "sum_table['sample'] = sum_table['sample'].str.replace('_21R','')"
   ]
  },
  {
   "cell_type": "code",
   "execution_count": 12,
   "id": "74b24e68",
   "metadata": {},
   "outputs": [],
   "source": [
    "sum_table_filtered = sum_table[sum_table['abundance'] != '1']"
   ]
  },
  {
   "cell_type": "code",
   "execution_count": 7,
   "id": "3a3d1bb2",
   "metadata": {},
   "outputs": [],
   "source": [
    "# save the summary table as excel tables\n",
    "\n",
    "sum_table.to_excel(f'{otu_results}/OTU_summary_table_{marker}_{cell}_{sim}.xlsx')"
   ]
  },
  {
   "cell_type": "code",
   "execution_count": 8,
   "id": "3ec2c48a",
   "metadata": {},
   "outputs": [],
   "source": [
    "# save the summary table as tsv tables\n",
    "\n",
    "sum_table.to_csv(f'{otu_results}/OTU_summary_table_{marker}_{cell}_{sim}.tsv', sep = '\\t')"
   ]
  },
  {
   "cell_type": "code",
   "execution_count": 13,
   "id": "ab2adfa8",
   "metadata": {},
   "outputs": [],
   "source": [
    "# save the filtered summary table as tsv tables\n",
    "\n",
    "sum_table_filtered.to_csv(f'{otu_results}/OTU_summary_table_{marker}_{cell}_{sim}_filtered.tsv', sep = '\\t')"
   ]
  },
  {
   "cell_type": "code",
   "execution_count": null,
   "id": "9161adf5",
   "metadata": {},
   "outputs": [],
   "source": []
  },
  {
   "cell_type": "code",
   "execution_count": null,
   "id": "66b611e0",
   "metadata": {},
   "outputs": [],
   "source": []
  },
  {
   "cell_type": "code",
   "execution_count": null,
   "id": "8b117811",
   "metadata": {},
   "outputs": [],
   "source": []
  },
  {
   "cell_type": "code",
   "execution_count": null,
   "id": "16e6ca11",
   "metadata": {},
   "outputs": [],
   "source": []
  },
  {
   "cell_type": "code",
   "execution_count": null,
   "id": "0e7416d9",
   "metadata": {},
   "outputs": [],
   "source": []
  },
  {
   "cell_type": "code",
   "execution_count": null,
   "id": "5b0d72e7",
   "metadata": {},
   "outputs": [],
   "source": []
  }
 ],
 "metadata": {
  "kernelspec": {
   "display_name": "Python 3 (ipykernel)",
   "language": "python",
   "name": "python3"
  },
  "language_info": {
   "codemirror_mode": {
    "name": "ipython",
    "version": 3
   },
   "file_extension": ".py",
   "mimetype": "text/x-python",
   "name": "python",
   "nbconvert_exporter": "python",
   "pygments_lexer": "ipython3",
   "version": "3.10.8"
  },
  "toc": {
   "base_numbering": 1,
   "nav_menu": {},
   "number_sections": true,
   "sideBar": true,
   "skip_h1_title": false,
   "title_cell": "Table of Contents",
   "title_sidebar": "Contents",
   "toc_cell": false,
   "toc_position": {},
   "toc_section_display": true,
   "toc_window_display": false
  }
 },
 "nbformat": 4,
 "nbformat_minor": 5
}
