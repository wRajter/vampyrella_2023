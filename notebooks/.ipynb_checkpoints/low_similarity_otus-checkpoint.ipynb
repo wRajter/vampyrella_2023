{
 "cells": [
  {
   "cell_type": "code",
   "execution_count": 1,
   "id": "0a67722f",
   "metadata": {},
   "outputs": [],
   "source": [
    "# imports\n",
    "from Bio import SeqIO\n",
    "from Bio import Entrez\n",
    "from dotenv import load_dotenv\n",
    "import pandas as pd\n",
    "import os\n",
    "import re\n",
    "import sys\n",
    "import openpyxl\n",
    "\n",
    "\n",
    "# Custom functions\n",
    "python_dir_path = os.path.join('..', 'scripts', 'python')\n",
    "sys.path.append(python_dir_path)\n",
    "from low_similarity_otus import extract_data_from_filename, read_and_augment_csv, get_taxonomy_from_genbank, add_taxopath_column"
   ]
  },
  {
   "cell_type": "code",
   "execution_count": 3,
   "id": "cb0820aa",
   "metadata": {},
   "outputs": [],
   "source": [
    "# variables\n",
    "project = 'Suthaus_2022'\n",
    "cell = 'cellCombined'\n",
    "sim = 'sim90'\n",
    "marker = 'Full18S'\n",
    "denoise_method = 'RAD'\n",
    "raw_data = os.path.join('..', 'raw_data')\n",
    "otu_results = os.path.join(raw_data, 'OTU_results', project)\n",
    "load_dotenv(os.path.join('..', 'secrets.env'))\n",
    "fasta_dir = os.path.join(raw_data, 'OTU_nonchimeric', project, marker, cell, sim, denoise_method)\n",
    "low_similarity_dir = os.path.join(raw_data, 'low_similarity_OTUs', project, marker, denoise_method, sim)\n",
    "blast_results_dir = os.path.join(low_similarity_dir, 'BLASTn')"
   ]
  },
  {
   "cell_type": "markdown",
   "id": "5dea9b9d",
   "metadata": {},
   "source": [
    "# Create FASTA file with the low similarity OTUs"
   ]
  },
  {
   "cell_type": "markdown",
   "id": "98aa5631",
   "metadata": {},
   "source": [
    "## Load data into dataframe"
   ]
  },
  {
   "cell_type": "code",
   "execution_count": null,
   "id": "009a7854",
   "metadata": {},
   "outputs": [],
   "source": [
    "tax_assign_df = pd.read_csv(os.path.join(otu_results, 'final_tax_table_Full18S_sim90.csv'))"
   ]
  },
  {
   "cell_type": "markdown",
   "id": "35aade51",
   "metadata": {},
   "source": [
    "## Subset the dataframe based on the similarity threshold"
   ]
  },
  {
   "cell_type": "code",
   "execution_count": null,
   "id": "1579b1ff",
   "metadata": {},
   "outputs": [],
   "source": [
    "similarity_threshold = 80\n",
    "\n",
    "low_assign_df = tax_assign_df[tax_assign_df['Pident'] < similarity_threshold]"
   ]
  },
  {
   "cell_type": "markdown",
   "id": "bfc8bc6d",
   "metadata": {},
   "source": [
    "## Create FASTA file for the OTUs in the subset dataframe"
   ]
  },
  {
   "cell_type": "code",
   "execution_count": null,
   "id": "758ae3ef",
   "metadata": {},
   "outputs": [],
   "source": [
    "# Create a copy of the dataframe\n",
    "low_assign_df = low_assign_df.copy()\n",
    "\n",
    "# Format the OTU ID\n",
    "low_assign_df['OTU_FASTA_id'] = 'centroid=' + low_assign_df['OTU'] + ';seqs=' + low_assign_df['OTU_Num'].astype(str)\n",
    "\n",
    "# List of OTUs to extract\n",
    "otus_to_extract = low_assign_df['OTU_FASTA_id'].tolist()  # replace 'OTU_id_column' with the name of the column with OTU IDs\n",
    "\n",
    "# Maintain a set of sequence IDs that have been added to the list\n",
    "added_ids = set()\n",
    "\n",
    "# Initialize an empty list to store sequences\n",
    "sequences = []\n",
    "\n",
    "# Loop through each file in the directory\n",
    "for fasta_file in os.listdir(fasta_dir):\n",
    "    # Ensure you only process .fasta files\n",
    "    if fasta_file.endswith('.fasta') and fasta_file != 'Mock_18S_otu.fasta':\n",
    "        file_path = os.path.join(fasta_dir, fasta_file)\n",
    "        \n",
    "        # Parse the FASTA file and extract sequences as before\n",
    "        for record in SeqIO.parse(file_path, 'fasta'):\n",
    "            if record.id in otus_to_extract and record.id not in added_ids:\n",
    "                sequences.append(record)\n",
    "                added_ids.add(record.id)\n",
    "\n",
    "# Writing sequences to a new FASTA file\n",
    "SeqIO.write(sequences, os.path.join(low_similarity_dir, \n",
    "                                    'FASTA', \n",
    "                                    f'low_similarity_OTUs_TH{str(similarity_threshold)}.fasta'), \n",
    "                                    'fasta')"
   ]
  },
  {
   "cell_type": "markdown",
   "id": "98d3f048",
   "metadata": {},
   "source": [
    "# Creating a single table with all the BLASTn search"
   ]
  },
  {
   "cell_type": "markdown",
   "id": "b7efaddc",
   "metadata": {},
   "source": [
    "Checking the OTUs with the low percentage similarity to the reference sequences. In other words, checking OTUs that are not similar or close to the known sequences in the database used."
   ]
  },
  {
   "cell_type": "markdown",
   "id": "694e30a8",
   "metadata": {},
   "source": [
    "## Defining variables"
   ]
  },
  {
   "cell_type": "code",
   "execution_count": 7,
   "id": "8d89536b",
   "metadata": {},
   "outputs": [],
   "source": [
    "# Files\n",
    "blast_tables = [blast_table for blast_table in os.listdir(blast_results_dir) if blast_table.endswith('.tsv')]\n",
    "\n",
    "# List of dataframes\n",
    "dfs = []\n",
    "\n",
    "# Regex patterns for extracting data from the CSV table names:\n",
    "# Sequence ID:\n",
    "reg_sequence_id = 'seq\\d+_\\d+'\n",
    "# Taxon name:\n",
    "reg_taxon_name = '[^_]+(?:_[^_]+)*'\n",
    "# Percentage coverage from taxonomical assignement:\n",
    "reg_score_tax_assign = '\\d+\\.\\d+'\n",
    "# Sample name:\n",
    "reg_sample_name = '\\w+'\n",
    "# Final regex pattern\n",
    "pattern = re.compile(fr'^(centroid={reg_sequence_id})_({reg_taxon_name})_({reg_score_tax_assign})_({reg_sample_name})\\.tsv$')"
   ]
  },
  {
   "cell_type": "markdown",
   "id": "18ca1cbd",
   "metadata": {},
   "source": [
    "## Creating the table"
   ]
  },
  {
   "cell_type": "code",
   "execution_count": 8,
   "id": "2c359abd",
   "metadata": {},
   "outputs": [
    {
     "name": "stdout",
     "output_type": "stream",
     "text": [
      "Filename centroid=seq149_11;seqs=1.tsv did not match the pattern!\n",
      "Filename centroid=seq302_14;seqs=1.tsv did not match the pattern!\n",
      "Filename centroid=seq203_53;seqs=1.tsv did not match the pattern!\n",
      "Filename centroid=seq29_39;seqs=4.tsv did not match the pattern!\n",
      "Filename centroid=seq168_20;seqs=1.tsv did not match the pattern!\n",
      "Filename centroid=seq395_6;seqs=1.tsv did not match the pattern!\n",
      "Filename centroid=seq102_34;seqs=1.tsv did not match the pattern!\n",
      "Filename centroid=seq437_6;seqs=1.tsv did not match the pattern!\n",
      "Filename centroid=seq247_15;seqs=1.tsv did not match the pattern!\n",
      "Filename centroid=seq173_41;seqs=17.tsv did not match the pattern!\n",
      "Filename centroid=seq121_35;seqs=1.tsv did not match the pattern!\n",
      "Filename centroid=seq64_18;seqs=1.tsv did not match the pattern!\n",
      "Filename centroid=seq303_9;seqs=1.tsv did not match the pattern!\n",
      "Filename centroid=seq112_23;seqs=1.tsv did not match the pattern!\n",
      "Filename centroid=seq354_6;seqs=1.tsv did not match the pattern!\n",
      "Filename centroid=seq223_11;seqs=1.tsv did not match the pattern!\n",
      "Filename centroid=seq293_25;seqs=1.tsv did not match the pattern!\n",
      "Filename centroid=seq199_6;seqs=1.tsv did not match the pattern!\n",
      "Filename centroid=seq4_235;seqs=1.tsv did not match the pattern!\n",
      "Filename centroid=seq125_12;seqs=1.tsv did not match the pattern!\n",
      "Filename centroid=seq252_22;seqs=7.tsv did not match the pattern!\n",
      "Filename centroid=seq200_6;seqs=1.tsv did not match the pattern!\n",
      "Filename centroid=seq36_48;seqs=1.tsv did not match the pattern!\n",
      "Filename centroid=seq357_20;seqs=1.tsv did not match the pattern!\n",
      "Filename centroid=seq300_6;seqs=1.tsv did not match the pattern!\n"
     ]
    },
    {
     "ename": "ValueError",
     "evalue": "No objects to concatenate",
     "output_type": "error",
     "traceback": [
      "\u001b[0;31m---------------------------------------------------------------------------\u001b[0m",
      "\u001b[0;31mValueError\u001b[0m                                Traceback (most recent call last)",
      "Cell \u001b[0;32mIn[8], line 14\u001b[0m\n\u001b[1;32m     11\u001b[0m     dfs\u001b[38;5;241m.\u001b[39mappend(df)\n\u001b[1;32m     13\u001b[0m \u001b[38;5;66;03m# Merge all the dataframes together\u001b[39;00m\n\u001b[0;32m---> 14\u001b[0m blastn_df \u001b[38;5;241m=\u001b[39m \u001b[43mpd\u001b[49m\u001b[38;5;241;43m.\u001b[39;49m\u001b[43mconcat\u001b[49m\u001b[43m(\u001b[49m\u001b[43mdfs\u001b[49m\u001b[43m,\u001b[49m\u001b[43m \u001b[49m\u001b[43mignore_index\u001b[49m\u001b[38;5;241;43m=\u001b[39;49m\u001b[38;5;28;43;01mTrue\u001b[39;49;00m\u001b[43m)\u001b[49m\n",
      "File \u001b[0;32m~/miniconda3/lib/python3.10/site-packages/pandas/util/_decorators.py:331\u001b[0m, in \u001b[0;36mdeprecate_nonkeyword_arguments.<locals>.decorate.<locals>.wrapper\u001b[0;34m(*args, **kwargs)\u001b[0m\n\u001b[1;32m    325\u001b[0m \u001b[38;5;28;01mif\u001b[39;00m \u001b[38;5;28mlen\u001b[39m(args) \u001b[38;5;241m>\u001b[39m num_allow_args:\n\u001b[1;32m    326\u001b[0m     warnings\u001b[38;5;241m.\u001b[39mwarn(\n\u001b[1;32m    327\u001b[0m         msg\u001b[38;5;241m.\u001b[39mformat(arguments\u001b[38;5;241m=\u001b[39m_format_argument_list(allow_args)),\n\u001b[1;32m    328\u001b[0m         \u001b[38;5;167;01mFutureWarning\u001b[39;00m,\n\u001b[1;32m    329\u001b[0m         stacklevel\u001b[38;5;241m=\u001b[39mfind_stack_level(),\n\u001b[1;32m    330\u001b[0m     )\n\u001b[0;32m--> 331\u001b[0m \u001b[38;5;28;01mreturn\u001b[39;00m \u001b[43mfunc\u001b[49m\u001b[43m(\u001b[49m\u001b[38;5;241;43m*\u001b[39;49m\u001b[43margs\u001b[49m\u001b[43m,\u001b[49m\u001b[43m \u001b[49m\u001b[38;5;241;43m*\u001b[39;49m\u001b[38;5;241;43m*\u001b[39;49m\u001b[43mkwargs\u001b[49m\u001b[43m)\u001b[49m\n",
      "File \u001b[0;32m~/miniconda3/lib/python3.10/site-packages/pandas/core/reshape/concat.py:368\u001b[0m, in \u001b[0;36mconcat\u001b[0;34m(objs, axis, join, ignore_index, keys, levels, names, verify_integrity, sort, copy)\u001b[0m\n\u001b[1;32m    146\u001b[0m \u001b[38;5;129m@deprecate_nonkeyword_arguments\u001b[39m(version\u001b[38;5;241m=\u001b[39m\u001b[38;5;28;01mNone\u001b[39;00m, allowed_args\u001b[38;5;241m=\u001b[39m[\u001b[38;5;124m\"\u001b[39m\u001b[38;5;124mobjs\u001b[39m\u001b[38;5;124m\"\u001b[39m])\n\u001b[1;32m    147\u001b[0m \u001b[38;5;28;01mdef\u001b[39;00m \u001b[38;5;21mconcat\u001b[39m(\n\u001b[1;32m    148\u001b[0m     objs: Iterable[NDFrame] \u001b[38;5;241m|\u001b[39m Mapping[HashableT, NDFrame],\n\u001b[0;32m   (...)\u001b[0m\n\u001b[1;32m    157\u001b[0m     copy: \u001b[38;5;28mbool\u001b[39m \u001b[38;5;241m=\u001b[39m \u001b[38;5;28;01mTrue\u001b[39;00m,\n\u001b[1;32m    158\u001b[0m ) \u001b[38;5;241m-\u001b[39m\u001b[38;5;241m>\u001b[39m DataFrame \u001b[38;5;241m|\u001b[39m Series:\n\u001b[1;32m    159\u001b[0m \u001b[38;5;250m    \u001b[39m\u001b[38;5;124;03m\"\"\"\u001b[39;00m\n\u001b[1;32m    160\u001b[0m \u001b[38;5;124;03m    Concatenate pandas objects along a particular axis.\u001b[39;00m\n\u001b[1;32m    161\u001b[0m \n\u001b[0;32m   (...)\u001b[0m\n\u001b[1;32m    366\u001b[0m \u001b[38;5;124;03m    1   3   4\u001b[39;00m\n\u001b[1;32m    367\u001b[0m \u001b[38;5;124;03m    \"\"\"\u001b[39;00m\n\u001b[0;32m--> 368\u001b[0m     op \u001b[38;5;241m=\u001b[39m \u001b[43m_Concatenator\u001b[49m\u001b[43m(\u001b[49m\n\u001b[1;32m    369\u001b[0m \u001b[43m        \u001b[49m\u001b[43mobjs\u001b[49m\u001b[43m,\u001b[49m\n\u001b[1;32m    370\u001b[0m \u001b[43m        \u001b[49m\u001b[43maxis\u001b[49m\u001b[38;5;241;43m=\u001b[39;49m\u001b[43maxis\u001b[49m\u001b[43m,\u001b[49m\n\u001b[1;32m    371\u001b[0m \u001b[43m        \u001b[49m\u001b[43mignore_index\u001b[49m\u001b[38;5;241;43m=\u001b[39;49m\u001b[43mignore_index\u001b[49m\u001b[43m,\u001b[49m\n\u001b[1;32m    372\u001b[0m \u001b[43m        \u001b[49m\u001b[43mjoin\u001b[49m\u001b[38;5;241;43m=\u001b[39;49m\u001b[43mjoin\u001b[49m\u001b[43m,\u001b[49m\n\u001b[1;32m    373\u001b[0m \u001b[43m        \u001b[49m\u001b[43mkeys\u001b[49m\u001b[38;5;241;43m=\u001b[39;49m\u001b[43mkeys\u001b[49m\u001b[43m,\u001b[49m\n\u001b[1;32m    374\u001b[0m \u001b[43m        \u001b[49m\u001b[43mlevels\u001b[49m\u001b[38;5;241;43m=\u001b[39;49m\u001b[43mlevels\u001b[49m\u001b[43m,\u001b[49m\n\u001b[1;32m    375\u001b[0m \u001b[43m        \u001b[49m\u001b[43mnames\u001b[49m\u001b[38;5;241;43m=\u001b[39;49m\u001b[43mnames\u001b[49m\u001b[43m,\u001b[49m\n\u001b[1;32m    376\u001b[0m \u001b[43m        \u001b[49m\u001b[43mverify_integrity\u001b[49m\u001b[38;5;241;43m=\u001b[39;49m\u001b[43mverify_integrity\u001b[49m\u001b[43m,\u001b[49m\n\u001b[1;32m    377\u001b[0m \u001b[43m        \u001b[49m\u001b[43mcopy\u001b[49m\u001b[38;5;241;43m=\u001b[39;49m\u001b[43mcopy\u001b[49m\u001b[43m,\u001b[49m\n\u001b[1;32m    378\u001b[0m \u001b[43m        \u001b[49m\u001b[43msort\u001b[49m\u001b[38;5;241;43m=\u001b[39;49m\u001b[43msort\u001b[49m\u001b[43m,\u001b[49m\n\u001b[1;32m    379\u001b[0m \u001b[43m    \u001b[49m\u001b[43m)\u001b[49m\n\u001b[1;32m    381\u001b[0m     \u001b[38;5;28;01mreturn\u001b[39;00m op\u001b[38;5;241m.\u001b[39mget_result()\n",
      "File \u001b[0;32m~/miniconda3/lib/python3.10/site-packages/pandas/core/reshape/concat.py:425\u001b[0m, in \u001b[0;36m_Concatenator.__init__\u001b[0;34m(self, objs, axis, join, keys, levels, names, ignore_index, verify_integrity, copy, sort)\u001b[0m\n\u001b[1;32m    422\u001b[0m     objs \u001b[38;5;241m=\u001b[39m \u001b[38;5;28mlist\u001b[39m(objs)\n\u001b[1;32m    424\u001b[0m \u001b[38;5;28;01mif\u001b[39;00m \u001b[38;5;28mlen\u001b[39m(objs) \u001b[38;5;241m==\u001b[39m \u001b[38;5;241m0\u001b[39m:\n\u001b[0;32m--> 425\u001b[0m     \u001b[38;5;28;01mraise\u001b[39;00m \u001b[38;5;167;01mValueError\u001b[39;00m(\u001b[38;5;124m\"\u001b[39m\u001b[38;5;124mNo objects to concatenate\u001b[39m\u001b[38;5;124m\"\u001b[39m)\n\u001b[1;32m    427\u001b[0m \u001b[38;5;28;01mif\u001b[39;00m keys \u001b[38;5;129;01mis\u001b[39;00m \u001b[38;5;28;01mNone\u001b[39;00m:\n\u001b[1;32m    428\u001b[0m     objs \u001b[38;5;241m=\u001b[39m \u001b[38;5;28mlist\u001b[39m(com\u001b[38;5;241m.\u001b[39mnot_none(\u001b[38;5;241m*\u001b[39mobjs))\n",
      "\u001b[0;31mValueError\u001b[0m: No objects to concatenate"
     ]
    }
   ],
   "source": [
    "# 2. Iterate over each file\n",
    "for blast_table in blast_tables:\n",
    "    # Extracting details from filename\n",
    "    details = extract_data_from_filename(blast_table, pattern)\n",
    "    if not details:\n",
    "        continue\n",
    "    sequence_id, taxon_name, score_tax_assign, sample_name = details\n",
    "    \n",
    "    # Reading and augmenting dataframe\n",
    "    df = read_and_augment_csv(os.path.join(blast_results_dir, blast_table), *details)\n",
    "    dfs.append(df)\n",
    "\n",
    "# Merge all the dataframes together\n",
    "blastn_df = pd.concat(dfs, ignore_index=True)"
   ]
  },
  {
   "cell_type": "code",
   "execution_count": null,
   "id": "d8524ba9",
   "metadata": {
    "scrolled": true
   },
   "outputs": [],
   "source": [
    "blastn_df"
   ]
  },
  {
   "cell_type": "markdown",
   "id": "b57804ff",
   "metadata": {},
   "source": [
    "## Adding the taxopath for each sequence using Entrez APIs"
   ]
  },
  {
   "cell_type": "code",
   "execution_count": null,
   "id": "43837472",
   "metadata": {},
   "outputs": [],
   "source": [
    "Entrez.email = os.getenv('ENTREZ_EMAIL')\n",
    "\n",
    "# Add the taxopath column (can take some time)\n",
    "blastn_df = add_taxopath_column(blastn_df)"
   ]
  },
  {
   "cell_type": "code",
   "execution_count": null,
   "id": "66cdf9fa",
   "metadata": {},
   "outputs": [],
   "source": [
    "blastn_df"
   ]
  },
  {
   "cell_type": "markdown",
   "id": "509fd39b",
   "metadata": {},
   "source": [
    "## Save the table as Excel and TSV files"
   ]
  },
  {
   "cell_type": "code",
   "execution_count": null,
   "id": "fcc82c3d",
   "metadata": {},
   "outputs": [],
   "source": [
    "# Save to Excel\n",
    "filename_excel = \"blastn_results_table.xlsx\"\n",
    "blastn_df.to_excel(os.path.join(low_similarity_dir, 'tables', filename_excel), index=False)"
   ]
  },
  {
   "cell_type": "code",
   "execution_count": null,
   "id": "adcdb658",
   "metadata": {},
   "outputs": [],
   "source": [
    "# Save to TSV\n",
    "filename_tsv = \"blastn_results_table.tsv\"\n",
    "blastn_df.to_csv(os.path.join(low_similarity_dir, 'tables', filename_tsv), sep='\\t', index=False)"
   ]
  },
  {
   "cell_type": "code",
   "execution_count": null,
   "id": "7f3cd3a8",
   "metadata": {},
   "outputs": [],
   "source": []
  },
  {
   "cell_type": "code",
   "execution_count": null,
   "id": "1c054b88",
   "metadata": {},
   "outputs": [],
   "source": []
  },
  {
   "cell_type": "code",
   "execution_count": null,
   "id": "13bf7de5",
   "metadata": {},
   "outputs": [],
   "source": []
  }
 ],
 "metadata": {
  "kernelspec": {
   "display_name": "Python 3 (ipykernel)",
   "language": "python",
   "name": "python3"
  },
  "language_info": {
   "codemirror_mode": {
    "name": "ipython",
    "version": 3
   },
   "file_extension": ".py",
   "mimetype": "text/x-python",
   "name": "python",
   "nbconvert_exporter": "python",
   "pygments_lexer": "ipython3",
   "version": "3.10.8"
  },
  "toc": {
   "base_numbering": 1,
   "nav_menu": {},
   "number_sections": true,
   "sideBar": true,
   "skip_h1_title": false,
   "title_cell": "Table of Contents",
   "title_sidebar": "Contents",
   "toc_cell": false,
   "toc_position": {},
   "toc_section_display": true,
   "toc_window_display": false
  }
 },
 "nbformat": 4,
 "nbformat_minor": 5
}
