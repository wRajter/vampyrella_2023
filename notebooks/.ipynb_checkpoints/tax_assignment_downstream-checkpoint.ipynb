{
 "cells": [
  {
   "cell_type": "markdown",
   "id": "307a3d28-5dc1-4638-ade5-8581610ce6ae",
   "metadata": {},
   "source": [
    "## Imports"
   ]
  },
  {
   "cell_type": "code",
   "execution_count": 1,
   "id": "5648b2d5-927e-4f1b-a5a3-9537a18852e6",
   "metadata": {},
   "outputs": [],
   "source": [
    "import os\n",
    "import pandas as pd\n",
    "import seaborn as sns\n",
    "import matplotlib.pyplot as plt\n",
    "import sys\n",
    "\n",
    "# my scripts\n",
    "sys.path.append('../scripts/python/')\n",
    "from tax_assignment_downstream import create_count_plot_all_samples, standardize_taxopath, tax_composition_per_sample, tax_composition_per_sample_percentages"
   ]
  },
  {
   "cell_type": "markdown",
   "id": "37e979a9-f43f-41b5-8718-f4601e799bdf",
   "metadata": {},
   "source": [
    "## Variables"
   ]
  },
  {
   "cell_type": "code",
   "execution_count": 2,
   "id": "c0ea457f-6cba-4d28-a9ed-8ea9a9e446cf",
   "metadata": {},
   "outputs": [],
   "source": [
    "project = 'Suthaus_2022'\n",
    "marker = 'Full18S'\n",
    "sim = 'sim_90'\n",
    "denoise_method = 'RAD'\n",
    "raw_data = os.path.join('..', 'raw_data')\n",
    "results = os.path.join('..', 'results')"
   ]
  },
  {
   "cell_type": "markdown",
   "id": "ab7ac5ae-cbb7-4014-a34f-390b52ab2b40",
   "metadata": {},
   "source": [
    "# Phylogenetic placement"
   ]
  },
  {
   "cell_type": "markdown",
   "id": "ebd40df0-6f30-42e2-9be8-76bbd902fb34",
   "metadata": {},
   "source": [
    "## Variables"
   ]
  },
  {
   "cell_type": "code",
   "execution_count": 3,
   "id": "68891685-d365-41a7-a510-62ff82a780a6",
   "metadata": {},
   "outputs": [],
   "source": [
    "tax_assign_dir = os.path.join(results, 'phyl_placement', 'tax_assignment', project, marker, denoise_method, sim, 'vampyrella')"
   ]
  },
  {
   "cell_type": "code",
   "execution_count": 4,
   "id": "beb93361-28c3-461e-80b7-24c1a106caa9",
   "metadata": {},
   "outputs": [],
   "source": [
    "tax_assign_files = [file for file in os.listdir(tax_assign_dir) if file.endswith('_per_query.tsv')]"
   ]
  },
  {
   "cell_type": "code",
   "execution_count": 5,
   "id": "09565bbb-2d64-46e5-a441-401e68d1fe41",
   "metadata": {},
   "outputs": [],
   "source": [
    "# Initialize an empty DataFrame to store all data\n",
    "tax_assign = pd.DataFrame()\n",
    "\n",
    "for file in tax_assign_files:\n",
    "    # Read each file into a DataFrame\n",
    "    data = os.path.join(tax_assign_dir, file)\n",
    "    df = pd.read_csv(data, sep='\\t')\n",
    "    # Extract sample name\n",
    "    sample_name = file.split('_')[0]\n",
    "    # Add the sample name as a new column\n",
    "    df['sample'] = sample_name\n",
    "    # Concatenate this DataFrame with the main DataFrame\n",
    "    tax_assign = pd.concat([tax_assign, df], ignore_index = True)"
   ]
  },
  {
   "cell_type": "code",
   "execution_count": 6,
   "id": "d3598050-ace6-43ba-86f4-66fab3703fe1",
   "metadata": {},
   "outputs": [
    {
     "data": {
      "text/html": [
       "<div>\n",
       "<style scoped>\n",
       "    .dataframe tbody tr th:only-of-type {\n",
       "        vertical-align: middle;\n",
       "    }\n",
       "\n",
       "    .dataframe tbody tr th {\n",
       "        vertical-align: top;\n",
       "    }\n",
       "\n",
       "    .dataframe thead th {\n",
       "        text-align: right;\n",
       "    }\n",
       "</style>\n",
       "<table border=\"1\" class=\"dataframe\">\n",
       "  <thead>\n",
       "    <tr style=\"text-align: right;\">\n",
       "      <th></th>\n",
       "      <th>name</th>\n",
       "      <th>LWR</th>\n",
       "      <th>fract</th>\n",
       "      <th>aLWR</th>\n",
       "      <th>afract</th>\n",
       "      <th>taxopath</th>\n",
       "      <th>sample</th>\n",
       "    </tr>\n",
       "  </thead>\n",
       "  <tbody>\n",
       "    <tr>\n",
       "      <th>0</th>\n",
       "      <td>centroid=seq65_61;seqs=1</td>\n",
       "      <td>0.0</td>\n",
       "      <td>0.0</td>\n",
       "      <td>0.9995</td>\n",
       "      <td>1.0</td>\n",
       "      <td>Vampyrellida</td>\n",
       "      <td>Sim17</td>\n",
       "    </tr>\n",
       "    <tr>\n",
       "      <th>1</th>\n",
       "      <td>centroid=seq65_61;seqs=1</td>\n",
       "      <td>0.0</td>\n",
       "      <td>0.0</td>\n",
       "      <td>0.9995</td>\n",
       "      <td>1.0</td>\n",
       "      <td>Vampyrellida;Vampyrellida_clade_PurpleVamp</td>\n",
       "      <td>Sim17</td>\n",
       "    </tr>\n",
       "    <tr>\n",
       "      <th>2</th>\n",
       "      <td>centroid=seq65_61;seqs=1</td>\n",
       "      <td>0.0</td>\n",
       "      <td>0.0</td>\n",
       "      <td>0.9995</td>\n",
       "      <td>1.0</td>\n",
       "      <td>Vampyrellida;Vampyrellida_clade_PurpleVamp;cla...</td>\n",
       "      <td>Sim17</td>\n",
       "    </tr>\n",
       "  </tbody>\n",
       "</table>\n",
       "</div>"
      ],
      "text/plain": [
       "                       name  LWR  fract    aLWR  afract  \\\n",
       "0  centroid=seq65_61;seqs=1  0.0    0.0  0.9995     1.0   \n",
       "1  centroid=seq65_61;seqs=1  0.0    0.0  0.9995     1.0   \n",
       "2  centroid=seq65_61;seqs=1  0.0    0.0  0.9995     1.0   \n",
       "\n",
       "                                            taxopath sample  \n",
       "0                                       Vampyrellida  Sim17  \n",
       "1         Vampyrellida;Vampyrellida_clade_PurpleVamp  Sim17  \n",
       "2  Vampyrellida;Vampyrellida_clade_PurpleVamp;cla...  Sim17  "
      ]
     },
     "execution_count": 6,
     "metadata": {},
     "output_type": "execute_result"
    }
   ],
   "source": [
    "tax_assign.head(3)"
   ]
  },
  {
   "cell_type": "markdown",
   "id": "b8cf45d1-1189-4bf8-8a70-9ac34b817cbb",
   "metadata": {},
   "source": [
    "## Dataframe adjustments"
   ]
  },
  {
   "cell_type": "code",
   "execution_count": 7,
   "id": "61f8635f-4f47-48e0-a31d-9877a77e89ec",
   "metadata": {},
   "outputs": [],
   "source": [
    "# Continue with the 'name', 'LWR', 'taxopath', 'sample' columns\n",
    "tax_assign = tax_assign[['name', 'LWR', 'taxopath', 'sample']]"
   ]
  },
  {
   "cell_type": "code",
   "execution_count": 8,
   "id": "ec4c928f-7bb8-476a-acd9-a158db9a5a4b",
   "metadata": {},
   "outputs": [],
   "source": [
    "# Group by otu_id and select the row with the longest taxopath for each group\n",
    "tax_assign = tax_assign.groupby('name').apply(lambda x: x[x['taxopath'].str.len() == x['taxopath'].str.len().max()])\n",
    "\n",
    "# Reset the index of the DataFrame\n",
    "tax_assign.reset_index(drop=True, inplace=True)"
   ]
  },
  {
   "cell_type": "code",
   "execution_count": 9,
   "id": "1d014017-2db8-44f0-9258-86ad3fed4fe9",
   "metadata": {},
   "outputs": [],
   "source": [
    "# Group by otu_id and select the row with the highest LWR for each group\n",
    "tax_assign = tax_assign.groupby('name').apply(lambda x: x[x['LWR'] == x['LWR'].max()])\n",
    "\n",
    "# Reset the index of the DataFrame\n",
    "tax_assign.reset_index(drop=True, inplace=True)"
   ]
  },
  {
   "cell_type": "code",
   "execution_count": 10,
   "id": "cfecd441-98a3-4283-bc0c-22130b22e719",
   "metadata": {},
   "outputs": [],
   "source": [
    "# standardize the taxopath column by ensuring that each entry has the same level of taxonomic detail.\n",
    "# In our case, we want each taxopath to have four levels:\n",
    "# order, family, genus, and species.\n",
    "# If any level is missing, it should be filled with 'unassigned'.\n",
    "\n",
    "# Apply the function to the 'taxopath' column\n",
    "tax_assign['taxopath'] = tax_assign['taxopath'].apply(standardize_taxopath)"
   ]
  },
  {
   "cell_type": "code",
   "execution_count": 11,
   "id": "25fc64c8-a609-4514-9fd1-3dc04708da71",
   "metadata": {},
   "outputs": [],
   "source": [
    "# split the taxopath into individual columns for each taxonomic level is correct and efficient.\n",
    "# The code will create new columns named:\n",
    "# 'order', 'family', 'genus', and 'species',\n",
    "# each containing the respective taxonomic level extracted from the taxopath.\n",
    "\n",
    "tax_levels = ['order', 'family', 'genus', 'species']\n",
    "\n",
    "for i in range(len(tax_levels)):\n",
    "    tax_assign[f'{tax_levels[i]}'] = tax_assign['taxopath'].apply(lambda a: a.split(';')[i])"
   ]
  },
  {
   "cell_type": "code",
   "execution_count": 12,
   "id": "b3b58baf-77fe-4fd7-b96a-5018569955a6",
   "metadata": {},
   "outputs": [],
   "source": [
    "# Rename 'Vampyrellida_clade_PurpleVamp' to 'PurpleVamp' in the 'family' column\n",
    "tax_assign['family'] = tax_assign['family'].replace('Vampyrellida_clade_PurpleVamp', 'PurpleVamp')"
   ]
  },
  {
   "cell_type": "markdown",
   "id": "6bd1a872-b027-4575-beaa-77505fb184ce",
   "metadata": {},
   "source": [
    "## Plotting number of OTUs at different taxonomic level for all samples except mock community"
   ]
  },
  {
   "cell_type": "code",
   "execution_count": null,
   "id": "cb8f50ea-07fe-44e8-aee7-5949b35159d9",
   "metadata": {},
   "outputs": [],
   "source": [
    "save_dir = os.path.join(results, 'phyl_placement', 'figures', project, marker, denoise_method, sim)\n",
    "tax_level = 'genus'\n",
    "\n",
    "# Note:\n",
    "# If the x-axis labels are overlapped set: xlabels_rotation=30, xlabels_ha = 'right'\n",
    "# Otherwise xlabels_rotation=0, xlabels_ha = 'center'\n",
    "\n",
    "create_count_plot_all_samples(dataframe = tax_assign, tax_level = tax_level, save_dir = save_dir, xlabels_rotation=30, xlabels_ha = 'right')"
   ]
  },
  {
   "cell_type": "markdown",
   "id": "2f09621f-8bb6-443b-ac33-a7a7d817ed2e",
   "metadata": {},
   "source": [
    "## Creating taxonomic composition plots"
   ]
  },
  {
   "cell_type": "markdown",
   "id": "8e201522-0cfa-4754-be18-6eff04f43c5e",
   "metadata": {},
   "source": [
    "Compare the taxonomic composition between individual samples and create a stacked bar plot."
   ]
  },
  {
   "cell_type": "code",
   "execution_count": null,
   "id": "957f2af1-36fe-47e4-b603-3ca241f70c2d",
   "metadata": {},
   "outputs": [],
   "source": [
    "tax_assign.head(3)"
   ]
  },
  {
   "cell_type": "markdown",
   "id": "20b2c174-f520-4161-86f8-cd9f4a8aa4bb",
   "metadata": {},
   "source": [
    "### Dataframe adjustments"
   ]
  },
  {
   "cell_type": "code",
   "execution_count": null,
   "id": "720778a4-7899-4a6f-b3a7-be7f9fea19b2",
   "metadata": {
    "scrolled": true
   },
   "outputs": [],
   "source": [
    "taxonomic_level = 'genus'\n",
    "\n",
    "# Filter out the mock sample\n",
    "tax_assign_filtered = tax_assign[tax_assign['sample'] != 'Mock']\n",
    "\n",
    "# Aggregate data to get counts per taxonomic group per sample\n",
    "group_counts = tax_assign_filtered.groupby(['sample', taxonomic_level]).size().reset_index(name='counts')\n",
    "\n",
    "# Prepare data for plotting\n",
    "pivot_table = group_counts.pivot(index='sample', columns=taxonomic_level, values='counts').fillna(0)"
   ]
  },
  {
   "cell_type": "markdown",
   "id": "39d7b0a7-96ad-4a3a-9b9d-0ba6c6ade0ec",
   "metadata": {},
   "source": [
    "### Plotting"
   ]
  },
  {
   "cell_type": "code",
   "execution_count": null,
   "id": "73ff7819-0bff-47f4-b735-e72ce21ffdb9",
   "metadata": {},
   "outputs": [],
   "source": [
    "save_dir = os.path.join(results, 'phyl_placement', 'figures', project, marker, denoise_method, sim)\n",
    "rename_dict = {\n",
    "    'NH1': 'Neuenhähnen 1',\n",
    "    'NH4': 'Neuenhähnen 4',\n",
    "    'Sim17': 'Simmelried 17',\n",
    "    'Sim22': 'Simmelried 22',\n",
    "    'Th16': 'Thielenbruch 16',\n",
    "    'Th38': 'Thielenbruch 38',\n",
    "    'X17007': 'Deep Sea X17007'}"
   ]
  },
  {
   "cell_type": "code",
   "execution_count": null,
   "id": "4b7ade72-1fca-45db-8ac5-08dd64ca91c1",
   "metadata": {},
   "outputs": [],
   "source": [
    "# Taxonomic composition plot per sample with absolute numbers (Number of OTUs)\n",
    "tax_composition_per_sample(pivot_table = pivot_table, \n",
    "                           taxonomic_level = taxonomic_level,\n",
    "                           rename_dict = rename_dict,\n",
    "                           save_dir = save_dir, \n",
    "                           xlabels_rotation = 30, \n",
    "                           xlabels_ha = 'right', \n",
    "                           xlabels_fontsize = 9)"
   ]
  },
  {
   "cell_type": "code",
   "execution_count": null,
   "id": "0db21f4d-da0e-4eb5-aeca-339631e41be6",
   "metadata": {},
   "outputs": [],
   "source": [
    "# Taxonomic composition per sample as percentages\n",
    "tax_composition_per_sample_percentages(pivot_table = pivot_table, \n",
    "                                       taxonomic_level = taxonomic_level,\n",
    "                                       rename_dict = rename_dict,\n",
    "                                       save_dir = save_dir, \n",
    "                                       xlabels_rotation = 30, \n",
    "                                       xlabels_ha = 'right', \n",
    "                                       xlabels_fontsize = 9)"
   ]
  },
  {
   "cell_type": "markdown",
   "id": "78965e58-1401-44de-8c40-a2ca87624615",
   "metadata": {},
   "source": [
    "## Plotting LWR ratio distribution"
   ]
  },
  {
   "cell_type": "code",
   "execution_count": null,
   "id": "b82683f2-4fbb-49cb-a72a-d955b81768da",
   "metadata": {},
   "outputs": [],
   "source": []
  },
  {
   "cell_type": "markdown",
   "id": "26ccb1c6-8e5b-4506-8c09-159e646da7e6",
   "metadata": {},
   "source": [
    "# VSEARCH Taxonomic Assignment"
   ]
  },
  {
   "cell_type": "markdown",
   "id": "c4c0f621-345d-4801-a98e-98f37a9270ce",
   "metadata": {},
   "source": [
    "## Variables"
   ]
  },
  {
   "cell_type": "code",
   "execution_count": 22,
   "id": "6323533f-5901-4602-a6f4-a1093a1acedc",
   "metadata": {},
   "outputs": [],
   "source": [
    "tax_assign_dir = os.path.join(results, 'tax_assignment_vsearch', project, marker, sim, denoise_method, 'blast')\n",
    "tax_assign_files = [file for file in os.listdir(tax_assign_dir) if file.startswith('blast6_') and file.endswith('.tab')]"
   ]
  },
  {
   "cell_type": "markdown",
   "id": "5eea85c5-3e2f-4b6c-a773-f63cc2cedbd8",
   "metadata": {},
   "source": [
    "## Creating dataframe"
   ]
  },
  {
   "cell_type": "code",
   "execution_count": 51,
   "id": "c4d7089d-fd03-4b62-adf6-67cf5cf35d7c",
   "metadata": {},
   "outputs": [
    {
     "data": {
      "text/html": [
       "<div>\n",
       "<style scoped>\n",
       "    .dataframe tbody tr th:only-of-type {\n",
       "        vertical-align: middle;\n",
       "    }\n",
       "\n",
       "    .dataframe tbody tr th {\n",
       "        vertical-align: top;\n",
       "    }\n",
       "\n",
       "    .dataframe thead th {\n",
       "        text-align: right;\n",
       "    }\n",
       "</style>\n",
       "<table border=\"1\" class=\"dataframe\">\n",
       "  <thead>\n",
       "    <tr style=\"text-align: right;\">\n",
       "      <th></th>\n",
       "      <th>0</th>\n",
       "      <th>1</th>\n",
       "      <th>2</th>\n",
       "      <th>3</th>\n",
       "      <th>4</th>\n",
       "      <th>5</th>\n",
       "      <th>6</th>\n",
       "      <th>7</th>\n",
       "      <th>8</th>\n",
       "      <th>9</th>\n",
       "      <th>10</th>\n",
       "      <th>11</th>\n",
       "      <th>sample</th>\n",
       "    </tr>\n",
       "  </thead>\n",
       "  <tbody>\n",
       "    <tr>\n",
       "      <th>0</th>\n",
       "      <td>centroid=seq138_68;seqs=1</td>\n",
       "      <td>EF165145.1.1730_U;tax=k:Eukaryota,d:TSAR,p:Str...</td>\n",
       "      <td>95.1</td>\n",
       "      <td>884</td>\n",
       "      <td>78</td>\n",
       "      <td>5</td>\n",
       "      <td>1</td>\n",
       "      <td>874</td>\n",
       "      <td>1</td>\n",
       "      <td>1730</td>\n",
       "      <td>-1</td>\n",
       "      <td>0</td>\n",
       "      <td>Th38</td>\n",
       "    </tr>\n",
       "    <tr>\n",
       "      <th>1</th>\n",
       "      <td>centroid=seq178_66;seqs=1</td>\n",
       "      <td>JN185476.1.1710_U;tax=k:Eukaryota,d:Obazoa,p:O...</td>\n",
       "      <td>93.3</td>\n",
       "      <td>1712</td>\n",
       "      <td>110</td>\n",
       "      <td>5</td>\n",
       "      <td>1</td>\n",
       "      <td>1757</td>\n",
       "      <td>1</td>\n",
       "      <td>1710</td>\n",
       "      <td>-1</td>\n",
       "      <td>0</td>\n",
       "      <td>Th38</td>\n",
       "    </tr>\n",
       "    <tr>\n",
       "      <th>2</th>\n",
       "      <td>centroid=seq128_36;seqs=1</td>\n",
       "      <td>AY082993.1.1825_U;tax=k:Eukaryota,d:TSAR,p:Rhi...</td>\n",
       "      <td>94.7</td>\n",
       "      <td>1781</td>\n",
       "      <td>88</td>\n",
       "      <td>6</td>\n",
       "      <td>1</td>\n",
       "      <td>1776</td>\n",
       "      <td>1</td>\n",
       "      <td>1825</td>\n",
       "      <td>-1</td>\n",
       "      <td>0</td>\n",
       "      <td>Th38</td>\n",
       "    </tr>\n",
       "  </tbody>\n",
       "</table>\n",
       "</div>"
      ],
      "text/plain": [
       "                           0  \\\n",
       "0  centroid=seq138_68;seqs=1   \n",
       "1  centroid=seq178_66;seqs=1   \n",
       "2  centroid=seq128_36;seqs=1   \n",
       "\n",
       "                                                   1     2     3    4  5  6  \\\n",
       "0  EF165145.1.1730_U;tax=k:Eukaryota,d:TSAR,p:Str...  95.1   884   78  5  1   \n",
       "1  JN185476.1.1710_U;tax=k:Eukaryota,d:Obazoa,p:O...  93.3  1712  110  5  1   \n",
       "2  AY082993.1.1825_U;tax=k:Eukaryota,d:TSAR,p:Rhi...  94.7  1781   88  6  1   \n",
       "\n",
       "      7  8     9  10  11 sample  \n",
       "0   874  1  1730  -1   0   Th38  \n",
       "1  1757  1  1710  -1   0   Th38  \n",
       "2  1776  1  1825  -1   0   Th38  "
      ]
     },
     "execution_count": 51,
     "metadata": {},
     "output_type": "execute_result"
    }
   ],
   "source": [
    "tax_assign = pd.DataFrame()\n",
    "\n",
    "for file in tax_assign_files:\n",
    "    sample_name = file.split('_')[1]\n",
    "    path = os.path.join(tax_assign_dir, file)\n",
    "    df = pd.read_csv(path, sep='\\t', header=None)\n",
    "    df['sample'] = sample_name\n",
    "    tax_assign = pd.concat([tax_assign, df], ignore_index = True)\n",
    "\n",
    "tax_assign.head(3)"
   ]
  },
  {
   "cell_type": "markdown",
   "id": "2f29ed6f-0313-4aa0-887a-92ee0ed3268d",
   "metadata": {},
   "source": [
    "## Dataframe adjustments"
   ]
  },
  {
   "cell_type": "code",
   "execution_count": 52,
   "id": "ebffd316-513e-4a63-8d80-8b7e220866eb",
   "metadata": {},
   "outputs": [],
   "source": [
    "# Dropping unnecessery columns\n",
    "tax_assign = tax_assign[[0, 1, 2, 'sample']]"
   ]
  },
  {
   "cell_type": "code",
   "execution_count": 56,
   "id": "6f75ae30-ea74-4e99-ad7d-a7c23a91255e",
   "metadata": {},
   "outputs": [],
   "source": [
    "# Rename columns\n",
    "tax_assign.rename(columns={0: 'otu', 1: 'taxopath', 2: 'sim_perc'}, inplace=True)"
   ]
  },
  {
   "cell_type": "code",
   "execution_count": 57,
   "id": "d287c317-d5f0-4e61-9f4e-eb6673d61c2a",
   "metadata": {},
   "outputs": [
    {
     "data": {
      "text/html": [
       "<div>\n",
       "<style scoped>\n",
       "    .dataframe tbody tr th:only-of-type {\n",
       "        vertical-align: middle;\n",
       "    }\n",
       "\n",
       "    .dataframe tbody tr th {\n",
       "        vertical-align: top;\n",
       "    }\n",
       "\n",
       "    .dataframe thead th {\n",
       "        text-align: right;\n",
       "    }\n",
       "</style>\n",
       "<table border=\"1\" class=\"dataframe\">\n",
       "  <thead>\n",
       "    <tr style=\"text-align: right;\">\n",
       "      <th></th>\n",
       "      <th>otu</th>\n",
       "      <th>taxopath</th>\n",
       "      <th>sim_perc</th>\n",
       "      <th>sample</th>\n",
       "    </tr>\n",
       "  </thead>\n",
       "  <tbody>\n",
       "    <tr>\n",
       "      <th>0</th>\n",
       "      <td>centroid=seq138_68;seqs=1</td>\n",
       "      <td>EF165145.1.1730_U;tax=k:Eukaryota,d:TSAR,p:Str...</td>\n",
       "      <td>95.1</td>\n",
       "      <td>Th38</td>\n",
       "    </tr>\n",
       "    <tr>\n",
       "      <th>1</th>\n",
       "      <td>centroid=seq178_66;seqs=1</td>\n",
       "      <td>JN185476.1.1710_U;tax=k:Eukaryota,d:Obazoa,p:O...</td>\n",
       "      <td>93.3</td>\n",
       "      <td>Th38</td>\n",
       "    </tr>\n",
       "    <tr>\n",
       "      <th>2</th>\n",
       "      <td>centroid=seq128_36;seqs=1</td>\n",
       "      <td>AY082993.1.1825_U;tax=k:Eukaryota,d:TSAR,p:Rhi...</td>\n",
       "      <td>94.7</td>\n",
       "      <td>Th38</td>\n",
       "    </tr>\n",
       "  </tbody>\n",
       "</table>\n",
       "</div>"
      ],
      "text/plain": [
       "                         otu  \\\n",
       "0  centroid=seq138_68;seqs=1   \n",
       "1  centroid=seq178_66;seqs=1   \n",
       "2  centroid=seq128_36;seqs=1   \n",
       "\n",
       "                                            taxopath  sim_perc sample  \n",
       "0  EF165145.1.1730_U;tax=k:Eukaryota,d:TSAR,p:Str...      95.1   Th38  \n",
       "1  JN185476.1.1710_U;tax=k:Eukaryota,d:Obazoa,p:O...      93.3   Th38  \n",
       "2  AY082993.1.1825_U;tax=k:Eukaryota,d:TSAR,p:Rhi...      94.7   Th38  "
      ]
     },
     "execution_count": 57,
     "metadata": {},
     "output_type": "execute_result"
    }
   ],
   "source": [
    "tax_assign.head(3)"
   ]
  },
  {
   "cell_type": "code",
   "execution_count": 59,
   "id": "2605cfa1-15f3-4164-96ff-e9c097e97b27",
   "metadata": {},
   "outputs": [],
   "source": [
    "# Keep only vampyrellids\n",
    "tax_assign = tax_assign[tax_assign['taxopath'].str.contains('o:Vampyrellida')]"
   ]
  },
  {
   "cell_type": "code",
   "execution_count": 72,
   "id": "5ba1295b-5b3e-4e5b-bf87-77957c7b1a7d",
   "metadata": {
    "scrolled": true
   },
   "outputs": [
    {
     "name": "stderr",
     "output_type": "stream",
     "text": [
      "/tmp/ipykernel_3518/1171791868.py:4: SettingWithCopyWarning: \n",
      "A value is trying to be set on a copy of a slice from a DataFrame.\n",
      "Try using .loc[row_indexer,col_indexer] = value instead\n",
      "\n",
      "See the caveats in the documentation: https://pandas.pydata.org/pandas-docs/stable/user_guide/indexing.html#returning-a-view-versus-a-copy\n",
      "  tax_assign[f'{tax_levels[i]}'] = tax_assign['taxopath'].apply(lambda a: a.split(',')[i+4].split(':')[1])\n"
     ]
    }
   ],
   "source": [
    "# split the taxopath into individual columns for each taxonomic level is correct and efficient.\n",
    "# The code will create new columns named:\n",
    "# 'order', 'family', 'genus', and 'species',\n",
    "# each containing the respective taxonomic level extracted from the taxopath.\n",
    "\n",
    "tax_levels = ['order', 'family', 'genus', 'species']\n",
    "\n",
    "for i in range(len(tax_levels)):\n",
    "    tax_assign[f'{tax_levels[i]}'] = tax_assign['taxopath'].apply(lambda a: a.split(',')[i+4].split(':')[1])"
   ]
  },
  {
   "cell_type": "code",
   "execution_count": 75,
   "id": "c05652db-111b-4c43-a1fc-b6a80767b061",
   "metadata": {},
   "outputs": [],
   "source": [
    "# remove the 'taxopath' column\n",
    "tax_assign = tax_assign.drop('taxopath', axis=1)"
   ]
  },
  {
   "cell_type": "code",
   "execution_count": 81,
   "id": "04a12999-2b3b-40a8-a575-3a5c72326551",
   "metadata": {},
   "outputs": [],
   "source": [
    "# filter out all sequences associated with the 'mock' sample\n",
    "tax_assign = tax_assign[tax_assign['sample'] != 'Mock']"
   ]
  },
  {
   "cell_type": "code",
   "execution_count": 85,
   "id": "d7947715-4bd7-4991-ad51-464d0f7a0631",
   "metadata": {},
   "outputs": [],
   "source": [
    "# Rename 'Vampyrellida_clade_PurpleVamp' to 'PurpleVamp' in the 'family' column\n",
    "tax_assign['family'] = tax_assign['family'].replace('Vampyrellida_clade_PurpleVamp', 'PurpleVamp')"
   ]
  },
  {
   "cell_type": "code",
   "execution_count": 87,
   "id": "aa6db046-5dca-404b-bfca-fc32f9c09466",
   "metadata": {},
   "outputs": [
    {
     "data": {
      "text/html": [
       "<div>\n",
       "<style scoped>\n",
       "    .dataframe tbody tr th:only-of-type {\n",
       "        vertical-align: middle;\n",
       "    }\n",
       "\n",
       "    .dataframe tbody tr th {\n",
       "        vertical-align: top;\n",
       "    }\n",
       "\n",
       "    .dataframe thead th {\n",
       "        text-align: right;\n",
       "    }\n",
       "</style>\n",
       "<table border=\"1\" class=\"dataframe\">\n",
       "  <thead>\n",
       "    <tr style=\"text-align: right;\">\n",
       "      <th></th>\n",
       "      <th>otu</th>\n",
       "      <th>sim_perc</th>\n",
       "      <th>sample</th>\n",
       "      <th>order</th>\n",
       "      <th>family</th>\n",
       "      <th>genus</th>\n",
       "      <th>species</th>\n",
       "    </tr>\n",
       "  </thead>\n",
       "  <tbody>\n",
       "    <tr>\n",
       "      <th>40</th>\n",
       "      <td>centroid=seq36_87;seqs=2</td>\n",
       "      <td>96.0</td>\n",
       "      <td>Th38</td>\n",
       "      <td>Vampyrellida</td>\n",
       "      <td>Leptophryidae</td>\n",
       "      <td>Theratromyxa</td>\n",
       "      <td>Theratromyxa_weberi</td>\n",
       "    </tr>\n",
       "    <tr>\n",
       "      <th>58</th>\n",
       "      <td>centroid=seq74_34;seqs=1</td>\n",
       "      <td>99.4</td>\n",
       "      <td>Th38</td>\n",
       "      <td>Vampyrellida</td>\n",
       "      <td>Leptophryidae</td>\n",
       "      <td>Leptophryidae_X</td>\n",
       "      <td>Leptophryidae_XX</td>\n",
       "    </tr>\n",
       "    <tr>\n",
       "      <th>113</th>\n",
       "      <td>centroid=seq123_26;seqs=5</td>\n",
       "      <td>97.5</td>\n",
       "      <td>Sim22</td>\n",
       "      <td>Vampyrellida</td>\n",
       "      <td>Leptophryidae</td>\n",
       "      <td>Theratromyxa</td>\n",
       "      <td>Theratromyxa_weberi</td>\n",
       "    </tr>\n",
       "  </tbody>\n",
       "</table>\n",
       "</div>"
      ],
      "text/plain": [
       "                           otu  sim_perc sample         order         family  \\\n",
       "40    centroid=seq36_87;seqs=2      96.0   Th38  Vampyrellida  Leptophryidae   \n",
       "58    centroid=seq74_34;seqs=1      99.4   Th38  Vampyrellida  Leptophryidae   \n",
       "113  centroid=seq123_26;seqs=5      97.5  Sim22  Vampyrellida  Leptophryidae   \n",
       "\n",
       "               genus              species  \n",
       "40      Theratromyxa  Theratromyxa_weberi  \n",
       "58   Leptophryidae_X     Leptophryidae_XX  \n",
       "113     Theratromyxa  Theratromyxa_weberi  "
      ]
     },
     "execution_count": 87,
     "metadata": {},
     "output_type": "execute_result"
    }
   ],
   "source": [
    "tax_assign.head(3)"
   ]
  },
  {
   "cell_type": "markdown",
   "id": "5072ba38-b821-426b-9fa8-1ae583798e77",
   "metadata": {},
   "source": [
    "## Plotting number of OTUs at different taxonomic level for all samples except mock community"
   ]
  },
  {
   "cell_type": "code",
   "execution_count": 89,
   "id": "335f6d72-936b-430e-8444-1bde75898b93",
   "metadata": {},
   "outputs": [
    {
     "name": "stderr",
     "output_type": "stream",
     "text": [
      "/home/lubo/code/wRajter/vampyrella_2023/notebooks/../scripts/python/tax_assignment_downstream.py:66: UserWarning: set_ticklabels() should only be used with a fixed number of ticks, i.e. after set_ticks() or using a FixedLocator.\n",
      "  ax.set_xticklabels(labels, rotation=xlabels_rotation, ha=xlabels_ha, fontsize=10)\n"
     ]
    },
    {
     "data": {
      "image/png": "[encoded data removed]",
      "text/plain": [
       "<Figure size 1000x600 with 1 Axes>"
      ]
     },
     "metadata": {},
     "output_type": "display_data"
    }
   ],
   "source": [
    "save_dir = os.path.join(results, 'tax_assignment_vsearch', 'figures', project, marker, denoise_method, sim)\n",
    "tax_level = 'family'\n",
    "\n",
    "# Note:\n",
    "# If the x-axis labels are overlapped set: xlabels_rotation=30, xlabels_ha = 'right'\n",
    "# Otherwise xlabels_rotation=0, xlabels_ha = 'center'\n",
    "\n",
    "create_count_plot_all_samples(dataframe = tax_assign, tax_level = tax_level, save_dir = save_dir, xlabels_rotation=0, xlabels_ha = 'center')"
   ]
  },
  {
   "cell_type": "markdown",
   "id": "b3125857-86d2-49df-9d06-56a475103195",
   "metadata": {},
   "source": [
    "## Creating taxonomic composition plots"
   ]
  },
  {
   "cell_type": "markdown",
   "id": "57c0dbd5-8d18-48ef-9d5c-786708665f84",
   "metadata": {},
   "source": [
    "Compare the taxonomic composition between individual samples and create a stacked bar plot."
   ]
  },
  {
   "cell_type": "markdown",
   "id": "230394c9-2eb1-4e9f-8dca-cfb2c3212591",
   "metadata": {},
   "source": [
    "### Dataframe adjustments"
   ]
  },
  {
   "cell_type": "code",
   "execution_count": 91,
   "id": "c2cf4c28-2fa4-4b43-833f-f37c4053a1e6",
   "metadata": {},
   "outputs": [],
   "source": [
    "taxonomic_level = 'family'\n",
    "\n",
    "# Aggregate data to get counts per taxonomic group per sample\n",
    "group_counts = tax_assign.groupby(['sample', taxonomic_level]).size().reset_index(name='counts')\n",
    "\n",
    "# Prepare data for plotting\n",
    "pivot_table = group_counts.pivot(index='sample', columns=taxonomic_level, values='counts').fillna(0)"
   ]
  },
  {
   "cell_type": "code",
   "execution_count": 92,
   "id": "9b9659a9-19e6-4f02-877d-bd2ad44f0921",
   "metadata": {},
   "outputs": [
    {
     "data": {
      "text/html": [
       "<div>\n",
       "<style scoped>\n",
       "    .dataframe tbody tr th:only-of-type {\n",
       "        vertical-align: middle;\n",
       "    }\n",
       "\n",
       "    .dataframe tbody tr th {\n",
       "        vertical-align: top;\n",
       "    }\n",
       "\n",
       "    .dataframe thead th {\n",
       "        text-align: right;\n",
       "    }\n",
       "</style>\n",
       "<table border=\"1\" class=\"dataframe\">\n",
       "  <thead>\n",
       "    <tr style=\"text-align: right;\">\n",
       "      <th>family</th>\n",
       "      <th>Leptophryidae</th>\n",
       "      <th>PurpleVamp</th>\n",
       "      <th>Sericomyxidae</th>\n",
       "      <th>Vampyrellida_clade_B2</th>\n",
       "      <th>Vampyrellidae</th>\n",
       "    </tr>\n",
       "    <tr>\n",
       "      <th>sample</th>\n",
       "      <th></th>\n",
       "      <th></th>\n",
       "      <th></th>\n",
       "      <th></th>\n",
       "      <th></th>\n",
       "    </tr>\n",
       "  </thead>\n",
       "  <tbody>\n",
       "    <tr>\n",
       "      <th>NH1</th>\n",
       "      <td>1.0</td>\n",
       "      <td>0.0</td>\n",
       "      <td>0.0</td>\n",
       "      <td>0.0</td>\n",
       "      <td>0.0</td>\n",
       "    </tr>\n",
       "    <tr>\n",
       "      <th>NH4</th>\n",
       "      <td>1.0</td>\n",
       "      <td>0.0</td>\n",
       "      <td>0.0</td>\n",
       "      <td>0.0</td>\n",
       "      <td>1.0</td>\n",
       "    </tr>\n",
       "    <tr>\n",
       "      <th>Sim17</th>\n",
       "      <td>1.0</td>\n",
       "      <td>1.0</td>\n",
       "      <td>0.0</td>\n",
       "      <td>0.0</td>\n",
       "      <td>0.0</td>\n",
       "    </tr>\n",
       "    <tr>\n",
       "      <th>Sim22</th>\n",
       "      <td>1.0</td>\n",
       "      <td>1.0</td>\n",
       "      <td>1.0</td>\n",
       "      <td>0.0</td>\n",
       "      <td>0.0</td>\n",
       "    </tr>\n",
       "    <tr>\n",
       "      <th>Th16</th>\n",
       "      <td>0.0</td>\n",
       "      <td>0.0</td>\n",
       "      <td>0.0</td>\n",
       "      <td>1.0</td>\n",
       "      <td>1.0</td>\n",
       "    </tr>\n",
       "    <tr>\n",
       "      <th>Th38</th>\n",
       "      <td>2.0</td>\n",
       "      <td>0.0</td>\n",
       "      <td>0.0</td>\n",
       "      <td>0.0</td>\n",
       "      <td>0.0</td>\n",
       "    </tr>\n",
       "    <tr>\n",
       "      <th>X17007</th>\n",
       "      <td>0.0</td>\n",
       "      <td>0.0</td>\n",
       "      <td>1.0</td>\n",
       "      <td>0.0</td>\n",
       "      <td>0.0</td>\n",
       "    </tr>\n",
       "  </tbody>\n",
       "</table>\n",
       "</div>"
      ],
      "text/plain": [
       "family  Leptophryidae  PurpleVamp  Sericomyxidae  Vampyrellida_clade_B2  \\\n",
       "sample                                                                    \n",
       "NH1               1.0         0.0            0.0                    0.0   \n",
       "NH4               1.0         0.0            0.0                    0.0   \n",
       "Sim17             1.0         1.0            0.0                    0.0   \n",
       "Sim22             1.0         1.0            1.0                    0.0   \n",
       "Th16              0.0         0.0            0.0                    1.0   \n",
       "Th38              2.0         0.0            0.0                    0.0   \n",
       "X17007            0.0         0.0            1.0                    0.0   \n",
       "\n",
       "family  Vampyrellidae  \n",
       "sample                 \n",
       "NH1               0.0  \n",
       "NH4               1.0  \n",
       "Sim17             0.0  \n",
       "Sim22             0.0  \n",
       "Th16              1.0  \n",
       "Th38              0.0  \n",
       "X17007            0.0  "
      ]
     },
     "execution_count": 92,
     "metadata": {},
     "output_type": "execute_result"
    }
   ],
   "source": [
    "pivot_table"
   ]
  },
  {
   "cell_type": "markdown",
   "id": "3092267c-4ef9-450d-8086-a48826e050f9",
   "metadata": {},
   "source": [
    "### Plotting"
   ]
  },
  {
   "cell_type": "code",
   "execution_count": 93,
   "id": "1f1b6451-158e-4fb1-a2be-8f88b477c52d",
   "metadata": {},
   "outputs": [],
   "source": [
    "save_dir = os.path.join(results, 'tax_assignment_vsearch', 'figures', project, marker, denoise_method, sim)\n",
    "rename_dict = {\n",
    "    'NH1': 'Neuenhähnen 1',\n",
    "    'NH4': 'Neuenhähnen 4',\n",
    "    'Sim17': 'Simmelried 17',\n",
    "    'Sim22': 'Simmelried 22',\n",
    "    'Th16': 'Thielenbruch 16',\n",
    "    'Th38': 'Thielenbruch 38',\n",
    "    'X17007': 'Deep Sea X17007'}"
   ]
  },
  {
   "cell_type": "code",
   "execution_count": 95,
   "id": "a734d7bf-9d78-4eb5-9297-1eeca31c2b92",
   "metadata": {},
   "outputs": [
    {
     "data": {
      "text/plain": [
       "<Figure size 1000x600 with 0 Axes>"
      ]
     },
     "metadata": {},
     "output_type": "display_data"
    },
    {
     "data": {
      "image/png": "[encoded data removed]",
      "text/plain": [
       "<Figure size 640x480 with 1 Axes>"
      ]
     },
     "metadata": {},
     "output_type": "display_data"
    }
   ],
   "source": [
    "# Taxonomic composition plot per sample with absolute numbers (Number of OTUs)\n",
    "tax_composition_per_sample(pivot_table = pivot_table, \n",
    "                           taxonomic_level = taxonomic_level,\n",
    "                           rename_dict = rename_dict,\n",
    "                           save_dir = save_dir, \n",
    "                           xlabels_rotation = 30, \n",
    "                           xlabels_ha = 'right', \n",
    "                           xlabels_fontsize = 9)"
   ]
  },
  {
   "cell_type": "code",
   "execution_count": 96,
   "id": "e4295548-989c-4009-8819-6635691c4f48",
   "metadata": {},
   "outputs": [
    {
     "data": {
      "text/plain": [
       "<Figure size 1000x600 with 0 Axes>"
      ]
     },
     "metadata": {},
     "output_type": "display_data"
    },
    {
     "data": {
      "image/png": "[encoded data removed]",
      "text/plain": [
       "<Figure size 640x480 with 1 Axes>"
      ]
     },
     "metadata": {},
     "output_type": "display_data"
    }
   ],
   "source": [
    "# Taxonomic composition per sample as percentages\n",
    "tax_composition_per_sample_percentages(pivot_table = pivot_table, \n",
    "                                       taxonomic_level = taxonomic_level,\n",
    "                                       rename_dict = rename_dict,\n",
    "                                       save_dir = save_dir, \n",
    "                                       xlabels_rotation = 30, \n",
    "                                       xlabels_ha = 'right', \n",
    "                                       xlabels_fontsize = 9)"
   ]
  },
  {
   "cell_type": "markdown",
   "id": "d70fbeb7-9600-484e-bae2-2605455d58d5",
   "metadata": {},
   "source": [
    "# Phylogenetic placement (*GAPPA*) vs. Blast (*VSEARCH*)"
   ]
  },
  {
   "cell_type": "code",
   "execution_count": null,
   "id": "08575d4e-2f3b-4e4e-8c69-189bbf9ea7b4",
   "metadata": {},
   "outputs": [],
   "source": []
  },
  {
   "cell_type": "code",
   "execution_count": null,
   "id": "d3bd7515-b187-45dc-a8d0-79162124ed64",
   "metadata": {},
   "outputs": [],
   "source": []
  },
  {
   "cell_type": "code",
   "execution_count": null,
   "id": "ec4a28e3-c468-4716-87e1-b81abf22baf6",
   "metadata": {},
   "outputs": [],
   "source": []
  },
  {
   "cell_type": "code",
   "execution_count": null,
   "id": "dea312f7-b191-43e0-b26a-074bf09e7c0f",
   "metadata": {},
   "outputs": [],
   "source": []
  },
  {
   "cell_type": "code",
   "execution_count": null,
   "id": "6a56882c-9bfe-47cb-8c1c-a8b21d05044e",
   "metadata": {},
   "outputs": [],
   "source": []
  },
  {
   "cell_type": "code",
   "execution_count": null,
   "id": "a6bd00bd-640b-4099-997d-a0b166766ad2",
   "metadata": {},
   "outputs": [],
   "source": []
  },
  {
   "cell_type": "code",
   "execution_count": null,
   "id": "3c865541-43ca-4823-ae71-2cf3a3d6202e",
   "metadata": {},
   "outputs": [],
   "source": []
  },
  {
   "cell_type": "code",
   "execution_count": null,
   "id": "cfc86926-ec99-43be-a22f-57398158a333",
   "metadata": {},
   "outputs": [],
   "source": []
  }
 ],
 "metadata": {
  "kernelspec": {
   "display_name": "Python 3 (ipykernel)",
   "language": "python",
   "name": "python3"
  },
  "language_info": {
   "codemirror_mode": {
    "name": "ipython",
    "version": 3
   },
   "file_extension": ".py",
   "mimetype": "text/x-python",
   "name": "python",
   "nbconvert_exporter": "python",
   "pygments_lexer": "ipython3",
   "version": "3.11.0"
  }
 },
 "nbformat": 4,
 "nbformat_minor": 5
}
