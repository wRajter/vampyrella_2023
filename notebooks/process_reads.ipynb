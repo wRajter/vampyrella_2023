{
 "cells": [
  {
   "cell_type": "markdown",
   "id": "6da8c08c",
   "metadata": {},
   "source": [
    "# Process reads"
   ]
  },
  {
   "cell_type": "markdown",
   "id": "ffe4135f",
   "metadata": {},
   "source": [
    "### Access the read directory"
   ]
  },
  {
   "cell_type": "code",
   "execution_count": 1,
   "id": "3a26c823",
   "metadata": {},
   "outputs": [
    {
     "name": "stdout",
     "output_type": "stream",
     "text": [
      "/home/lubomir/projects/vampyrella_2023/raw_data/reads\n"
     ]
    }
   ],
   "source": [
    "cd ../raw_data/reads/"
   ]
  },
  {
   "cell_type": "markdown",
   "id": "edf0eded",
   "metadata": {},
   "source": [
    "You should now find two files with the ending fastq.gz."
   ]
  },
  {
   "cell_type": "code",
   "execution_count": 2,
   "id": "eb9b18ed",
   "metadata": {},
   "outputs": [
    {
     "name": "stdout",
     "output_type": "stream",
     "text": [
      "\u001b[0m\u001b[01;31mX17007_18S.hifi_reads.fastq.gz\u001b[0m\r\n"
     ]
    }
   ],
   "source": [
    "ls"
   ]
  },
  {
   "cell_type": "markdown",
   "id": "5a57c723",
   "metadata": {},
   "source": [
    "### Unpacking compressed FASTQ files"
   ]
  },
  {
   "cell_type": "markdown",
   "id": "01e728ad",
   "metadata": {},
   "source": [
    "Unpacked the files with the command below and save the output to:\\\n",
    "Creno_1.fastq\\\n",
    "Creno_2.fastq\n",
    "\\\n",
    "\\\n",
    "gunzip −c filename.fastq.gz > filename.fastq \\\n",
    "note: “ > ” saves the output in the file filename.fastq. Always replace filename with the name of your file!"
   ]
  },
  {
   "cell_type": "code",
   "execution_count": 3,
   "id": "cbcb21e5",
   "metadata": {},
   "outputs": [],
   "source": [
    "!gunzip -c X17007_18S.hifi_reads.fastq.gz > X17007.fastq"
   ]
  },
  {
   "cell_type": "code",
   "execution_count": 4,
   "id": "fb694eed",
   "metadata": {},
   "outputs": [
    {
     "name": "stdout",
     "output_type": "stream",
     "text": [
      "\u001b[0m\u001b[01;31mX17007_18S.hifi_reads.fastq.gz\u001b[0m  X17007.fastq\r\n"
     ]
    }
   ],
   "source": [
    "ls"
   ]
  },
  {
   "cell_type": "markdown",
   "id": "df0e42da",
   "metadata": {},
   "source": [
    "To check the files, use the commands below and try to answer:\\\n",
    "What is the output for each of the file?\\\n",
    "\\\n",
    "Try one after another and look at the differences."
   ]
  },
  {
   "cell_type": "code",
   "execution_count": 6,
   "id": "e770029a",
   "metadata": {},
   "outputs": [
    {
     "name": "stdout",
     "output_type": "stream",
     "text": [
      "24020\r\n"
     ]
    }
   ],
   "source": [
    "!cat X17007.fastq | wc -l"
   ]
  },
  {
   "cell_type": "code",
   "execution_count": 8,
   "id": "97041095",
   "metadata": {},
   "outputs": [
    {
     "name": "stdout",
     "output_type": "stream",
     "text": [
      "@m54326U_221118_213712/65619/ccs\r\n",
      "CTGGTTGATCCTGCCAGTGGCGAAGGTGAAGGTGAGGGTGAAGGTGAGGGTGAAGGTGAGGGTGAAGGTGAGGGTGAAGGTGAACCTGCAGAAGGATCA\r\n",
      "+\r\n",
      "~~~~~~~~~~~~~~~~~~~~~~~~~~~~~~~~~~~~~~~~~~~~~~~~~~~~~~~~~~~~~~~~~~~~~~~~~~~~e~~~~~~~~~~~~~~~~~~~~~~\r\n",
      "@m54326U_221118_213712/66646/ccs\r\n",
      "CTGGTTGATCCTGCCAGCATGCACTGTGTAATGCCCACCACTTGAGAGAGCTGGAGCGTGCATGGGAACAAGACAAGCAGCAATGGGCCGAACAGATTCAGGAGCTGTTGCTGGAAATCAATGATGCAGTCAATGCAGCAGGTGAAAAGCTTAACAATGCAGAGGCTGACGCATTCAGAGAGCGGTACCGACAAATACTGGAAGAGGCAGAAACAGAGTGTCCTCCACCGGATGAGTCAGAACGAAAAAAAGGCCAGAGAGGTCGATTGAAACGATCCAAGGCCAGAAACTTACTGGAGCGCCTGCTCAAGTATGAAGAAGATGTGCTGCGCTTTATGGTGGAGGCCGAGGTGCCGTTTACCAATAATCAGGGCGAGCGGGATCTGCGTATGACCAAGGTGCAGCAAAAGATCTCTGGCTGCTTCCGTTCTGAAAAAGGGGCAATGATGTTTGCTCGCATACGCAGCTATCTCTCCACCTGTCAGAAGAATGGAGTATCCTCTTCTGAGGCTTTGAGACTGCTCTACGAGGGACGGTGGCCTGAGTTTATGGAAATGACCCCTGAATAGTTACAAACAAGTTTATATAGTCGGGACTCAAATAGACATAACTGAACGAAAGAGATCTGAGCAATTTATCTTAAAAACATCAGATATCCTAAGAATGACGGCAGTAGGTGAACCTGCAGAAGGATCA\r\n",
      "+\r\n",
      "~~~~~~~~~~~~~~~~~~~~~~~~~~~~~~~~~~~~~~~~~~~~~~~~~~~~~~~~~~~~~~~~~~~~~~~~~~~~~~~~~~~~~~~~~~~~~~~~~~~~~~~~~~~~~~~~~~~~~~~~~~~~~~~~~~~~~~~~~~~~~~~~~~~~~~~~~~~~~~~~~~~~~~~~~~~~~~~~~~~~~~~~~~~~~~~~~~~~~~~~~~~~~~~~~~~~~~~~~~~~~~~~~~~~~~~~~~~~~~~~~~~~~~~~~~~~~~~~~~~~~~~~~~~~~~~~~~~~~~~~~~~~~~~~~~~~~~~~~~~~~~~~~~~~~~~~~~~~~~~~~~~~~~~~~~~~~~~~~~~~~~~~~~~~~~~~~~~~~~~~~~~~~~~~~~~~~~~~~~~~~~~~~~~~~~~~~~~~~~~~~~~~~~~~~~~~~~~~~~~~~~~~~~~~~~~~~~~~~~~~~~~~~~~~~~~~~~~~~~~~~~~~~~~~~~~~~~~~~~~~~~~~~~~~~~~~~~~~~~~~~~~~~~~~~~~~~~~~~~~~~~~~~~~~~~~~~~~~~~~~~~~~~~~~~~~~~~~~~~~~~~~~~~~~~~~~~~~~~~~~~~~~~~~~~~~~~~~~~~~~~~~~~~~~~~~~~~~~~~~~~~~~~~~~~~~~~~~~~~~~~~~~~~~~~~~~~~~~~~~~~~~~~~~~~~~~~~~~~~~~~~~~~~~~~~~~~~~~\r\n",
      "@m54326U_221118_213712/131454/ccs\r\n",
      "TGATCCTTCTGCAGGTTCACCTACCCTCGCCGATCCGACAACTACCCCACTCACCCTGCCCAGACTGCCGGCTCCCAGACCCAAAACCGCCGAACCCCGTTTTTTCTTCCCTCCACGAACCCGCCTGGTTTCAACTTCACAATTCAAAACTGGTTGACACAAACCCTGGCGACTTTTCCTGACATTCCTAAGTTTTTTGACTCACGGTCGAGGTTCTGTGAGACATTGGCCTGGTGATGATGAAATTAATTTTGCGATCATCAAATCAATTTTTTTTCTTCTCACAGATCACTAATAGAACAAAAATGAAACGAACGGCGTCCCAAGCCGGGCTTCCCGACGAAAAGCAACAAGAAGAGTCGAAAGAGGAGGAGGCCAAGGAGCAGAGCCAGGCGGAACTCGACCGCGCGCTCTACGACGCCTCTCGGTTCGTGTGTTTGCCATCGAAACTTTTGACATTCCACGTGACCATCGCACTAAGGACGAAGGGGAGAGGCGCTTTACTGTTTAAATTTCTTCGCCTTACTGTTTAAATTTCTTGGTTCGTCATTCTTTTTCATAATTGTTTTTATCGGCGATTTTGTCTTTTCCGCCAGTTCGGGCGACCTGGGCGAGGTCGAGCGGCTGCTGGCCCTGAACGCCGACCCAAACTCGAAACACGAAGTGCCGGACGGAGATCAAGAAGAGGACTGGCAGAATCAACCAG\r\n"
     ]
    }
   ],
   "source": [
    "!head X17007.fastq"
   ]
  },
  {
   "cell_type": "code",
   "execution_count": 10,
   "id": "fea114be",
   "metadata": {},
   "outputs": [
    {
     "name": "stdout",
     "output_type": "stream",
     "text": [
      "+\r\n",
      "~~~~~~~~~~~~~~~~~~~~~~~~~~~~~~~~~~~~~~~~~~~~~~~~~~~~~~~~~~~~~~~~~~~~~~~~~~~~~~~~~~~~~~~~~~~~~~~~~~J~~~~~~~~~~~~~~~~~~~~~~~~~~~~~~~~~~~~~~~~~~~~~~~~~~~~~~~~~~~~~~~~~~~~~~~~~~~~~~~~~~~~~~~~~~~~~~~~~~~~~~~~~~~~~~~~~~~~~~~_~~~~~~~~~~~~~~~~~~~~~~~}~~~~~~~~~~~~~~w~~~~~~~~~~~~~~~~~~~~~~~~~~~~~~~~~~~~~~~~~~~~~~~~~~~~~~~~~~~~i~~~~~~~~~~~~~~~~~~~~~~~~~~~~~~~~~l~~~~~~e~~~~~~~~}~~~~~~~~~~~~~~~~u~~~~~~~~~~~~~~~~~~~~~~~~~~~~~~~~~~~~~~~~~~~~~~~g~~~~~{~~~~~~~~~~~~~~~~~~~~~~~~~~~~~~~~~~~~~~~~~~~~~~~~~~~~~~~~~~~~~~~~~~~~~~~~~~~~~~~~~~~~~~~~~~~~~~~~~~~~~~~~~~~~~~~~~~~~z~~~~~~~~~~~~~~~~~~~~~~~~~~~~~~~~~~~~~~~~~~r~~~~~~~~~~~~~~6~~~~~~~~~~~~~~~~~~~~~~~~~~~~~~~~~~~~~~~~~c~~~~~~~~~~~~~~~~~~~~~~~~~~~~~~~~~~~~~~~~~~~~~~~~~~~~~~~~~~~~~~~~~~~~r~~~~~~~~~~~~~m~y~~~~~~~~~~~~~~~~~~~~~~~~~~~~~~~~~~~~~~~~~~~~~~~~~~~~~~~~~~~~~~~~~~~~~~~~~~~~~~~~~~~~~~n~~~~~~~~~~~~~~~~~~~~~~~~~~~~~~~~~~~~~~~~~~~~V~~~~~~~~~~~~~~~~~~~~~~~~~~~~~~~~~~~~~~~~~~~~~~~~~~~~~~~~~~~~~~~~~~~~~~~~~~~~~~~~~~}~~~~~~~~~~~~~~~~~~~~~~~~~M~~~~~~~~~~~~~~~~~~~~~~~~~~~~~~~~~~~~~~~~r~~~~~~~n~~~~~~~~~~~~m~~~~~~~~~~~~~~~~~~~~~~~~~~~~~~~~~~~~~~~~~~~~~~~~~~~~~~~~~d~~~~~~~~~~~~~~~~~~~~~~~~~~~~~~~~~~~~~~~~~~~~~~~~~~~~~~~~|~~~~~~~~~~~~~~~~~~~~~~~~~~~~~~~~~]~~o~~~~~~~~~~}~~~~~~~~~~]~~~~~~~~~~~~~~~~~~~~~~~~~~~~~~~~~~~~~~~`~~~~~~~~~~~~~~~~~~~~~~~~~~~~~~~~~~~~~{~~~~~~~~~~~~~~~~~~~~~~~~~~~~~~~~~~z~~~~~~~z~~~~~~~x~~~~~~~~~~~~~~~~~~~~~~~~~~~~~~~~~~~~~~~~~~~~~~~~~~~~~~~~~~~~~~~~~~~~~~~~~~~~~~~~~~~~~~~Z~~~~~~~~~~~~~~~~~~~~~~~~~~~~~~~~~~~~~~~~~~~~~~~~~r~~~~~~~~~I~~~~~~b~~~~u~~~~~~~F~~~~~~v~~~~~~~~~~~~~~~~~~~~~~~~~~~~~~~~~~~~~~~~~~m~~~~~~~~~~~~~~~~f~~~~~~~~~~~~~~~~~~~~~~~~~~~~~~~y~~~~~~~~~~~~~~~~~~~~}~~~~~~~~~~~~~~~~~~~~~~~~~~~~~~~~~~~~~~~~~~~~~~~~~~~~~~~~~~~~~~~R~~~~~~~~~~~~~~~~~~~~~~~~~~~~~~~~~~~~~~~~~~~~~~~~~~~~~~~~~~~~~~~~~~~~~~~~~~~~~~~~~~~~~~~~~~~\r\n",
      "@m54326U_221118_213712/180552047/ccs\r\n",
      "TGATCCTTCTGCAGGTTCACCTACCCAAACAACACGTCAAGTAAACAACGCTACCAGACAAGCAAAAGTCATTCCCGTTCAAATCCCAAACAAGCACATGCAACTTAAGTATTCACTCATTGGGATAACATACTTAATCGTTTTCATGCTTTTCTCCATACATTATTGCCAGCACGCATGGGCAGATCTGGCAGGATCAACCAG\r\n",
      "+\r\n",
      "~~~~~~~~~~~~~~~~~~~~~~~~~~~~~~~~~~~~~~~~~~~~~~~~~~~~~~~~~~~~~~~~~~~~~~~~~~~~~~~~~~~~~~~~~~~~~~~~~~~~~~~~~~~~~~~~~~~~~~~~~~~~~~~~~~~~~~~~~~~~~~~~~~~~~~~~~~~~~~~~~~~~~~~~~~~~~~~~~~~~~~~~~~~~~~~~~~~~~~~~~~~~\r\n",
      "@m54326U_221118_213712/180553498/ccs\r\n",
      "CTGGTTGATCCTGCCAGATCTGCCCATGCGTGCTGGCAATAATGTATGGAGAAAAGCATGAAAACGATTAAGTATGTTATCCCAATGAGTGAATACTTAAGTTGCATGTGCTTGTTTGGGATTTGAACGGGAATGACTTTTGCTTGTCTGGTAGCGTTGTTTACTTGACGTGTTGTTTGGGTAGGTGAACCTGCAGAAGGATCA\r\n",
      "+\r\n",
      "~~~~~~~~~~~~~~~~~~~~~~~~~~f~~~~~~~~~~~~~~~~~~~~~~~~~~~~~~~~~~~~~~~~~~~~~~~~~~~~~~~~~~~~~~~~~~~~~~~~~~~~~~~~~~~~~~~~~~~~~~~~~~~~~~~~~~~~~~~~~~~~~~~~~~~~~~~~~~~~~~~~~~~~~~~~~~~~~~~~~~~~~~~~~~~~~~~~~~~~~~~~~\r\n"
     ]
    }
   ],
   "source": [
    "!tail X17007.fastq"
   ]
  },
  {
   "cell_type": "markdown",
   "id": "ab82bf02",
   "metadata": {},
   "source": [
    "The commands cat, head, tail, more and less are different commands to see\n",
    "what the file contains.\\\n",
    "Cat prints the whole file, head the first 10 lines, tail the last 10\n",
    "lines.\\\n",
    "It might look like more lines, but that depends on the size of\n",
    "the window, in a smaller window 1 line might appear like 2 and more.\\\n",
    "The number of lines that are returned can be changed with -n, see\n",
    "head --help.\\"
   ]
  },
  {
   "cell_type": "markdown",
   "id": "61f553c3",
   "metadata": {},
   "source": [
    "So, what is actually shown in the FASTQ files? We already saw it in the lecture. The\n",
    "file contains the sequence, ID and quality of each read in four rows:\n",
    "\\\n",
    "@SEQ ID\\\n",
    "GATTTGGGGTTCAAAGCAGTATCGATCAAATAGTAAATCCATTTGTTCAACTCACAGTTT\\\n",
    "+\\\n",
    "!’’*((((***+))%%%++)(%%%%).1***−+* ’’))**55CCF>>>>>>CCCCCCC65\\"
   ]
  },
  {
   "cell_type": "code",
   "execution_count": 6,
   "id": "ab30eada",
   "metadata": {},
   "outputs": [
    {
     "data": {
      "image/png": "[encoded data removed]",
      "text/plain": [
       "<IPython.core.display.Image object>"
      ]
     },
     "execution_count": 6,
     "metadata": {},
     "output_type": "execute_result"
    }
   ],
   "source": [
    "from IPython import display\n",
    "display.Image(\"../images/fastq.png\")\n",
    "# From: https://www.gdc-docs.ethz.ch/MDA/site/getdata/"
   ]
  },
  {
   "cell_type": "markdown",
   "id": "55d7a3c4",
   "metadata": {},
   "source": [
    "The second row is the actual sequence.\\\n",
    "The third row is mostly represented by a ’+’ or ’+ ID’.\\\n",
    "The fourth row contains the quality values, encoded as ASCII values.\\\n",
    "\\\n",
    "Look at the read ID line and answer the three questions below."
   ]
  },
  {
   "cell_type": "markdown",
   "id": "27e644c6",
   "metadata": {},
   "source": [
    "1. What is the instrument name in our FASTQ file?"
   ]
  },
  {
   "cell_type": "code",
   "execution_count": 11,
   "id": "86f1ccaa",
   "metadata": {},
   "outputs": [
    {
     "name": "stdout",
     "output_type": "stream",
     "text": [
      "@m54326U_221118_213712/65619/ccs\r\n"
     ]
    }
   ],
   "source": [
    "!head -n 1 X17007.fastq"
   ]
  },
  {
   "cell_type": "markdown",
   "id": "698b7089",
   "metadata": {},
   "source": [
    "<details>\n",
    "  <summary>Reveal the answer 👀</summary>\n",
    "\n",
    "The instrument name is DE18INS60511\n",
    "\n",
    "\n",
    "</details>"
   ]
  },
  {
   "cell_type": "markdown",
   "id": "bbcc21ee",
   "metadata": {},
   "source": [
    "2. Are the reads paired? If so, is the file the forward or reverse read?"
   ]
  },
  {
   "cell_type": "code",
   "execution_count": 12,
   "id": "1b6d6233",
   "metadata": {},
   "outputs": [
    {
     "name": "stdout",
     "output_type": "stream",
     "text": [
      "@m54326U_221118_213712/65619/ccs\r\n"
     ]
    }
   ],
   "source": [
    "!head -n 1 X17007.fastq"
   ]
  },
  {
   "cell_type": "code",
   "execution_count": 18,
   "id": "559082d9",
   "metadata": {},
   "outputs": [
    {
     "name": "stdout",
     "output_type": "stream",
     "text": [
      "2028\r\n"
     ]
    }
   ],
   "source": [
    "!grep \"CTGGTTGAT.*CTGCCAGT\" X17007.fastq | wc -l"
   ]
  },
  {
   "cell_type": "code",
   "execution_count": 17,
   "id": "ccc40397",
   "metadata": {},
   "outputs": [
    {
     "name": "stdout",
     "output_type": "stream",
     "text": [
      "2379\r\n"
     ]
    }
   ],
   "source": [
    "!grep \"TGATCCTTCTGCAGGTTCACCTAC\" X17007.fastq | wc -l"
   ]
  },
  {
   "cell_type": "code",
   "execution_count": 21,
   "id": "80acef0c",
   "metadata": {},
   "outputs": [
    {
     "name": "stdout",
     "output_type": "stream",
     "text": [
      "6005\r\n"
     ]
    }
   ],
   "source": [
    "!grep \"@m54326U\" X17007.fastq | wc -l"
   ]
  },
  {
   "cell_type": "markdown",
   "id": "a1990153",
   "metadata": {},
   "source": [
    "## Transforming a FASTQ into a tabular file"
   ]
  },
  {
   "cell_type": "markdown",
   "id": "3f342ce2",
   "metadata": {},
   "source": [
    "In the FASTQ format, each sequence record take up four lines. It is sometimes more handy to have one sequence record per line and the corresponding sequence data as rows.\\\n",
    "So we will learn how to convert the FASTQ file into tabular format "
   ]
  },
  {
   "cell_type": "code",
   "execution_count": 22,
   "id": "301b6a97",
   "metadata": {},
   "outputs": [
    {
     "name": "stdout",
     "output_type": "stream",
     "text": [
      "\u001b[0m\u001b[01;31mX17007_18S.hifi_reads.fastq.gz\u001b[0m  X17007.fastq\r\n"
     ]
    }
   ],
   "source": [
    "ls"
   ]
  },
  {
   "cell_type": "code",
   "execution_count": 22,
   "id": "f0bace28",
   "metadata": {},
   "outputs": [],
   "source": [
    "cat X17007.fastq | paste - - - - > X17007_tab.txt"
   ]
  },
  {
   "cell_type": "markdown",
   "id": "542706a4",
   "metadata": {},
   "source": [
    "How does this command work? 😕 \\\n",
    "In the first part, the 'cat' command reads the content of the FASTQ file. Then the content is send as an input to the 'paste' command through the pipe '|' operator. Number of dashes '-' represent how many lines will by converted into the columns/fields. So in our case, the four lines from the old file will be converted into one line in the new file. In this way, we will have one line per sequence record."
   ]
  },
  {
   "cell_type": "markdown",
   "id": "c9005660",
   "metadata": {},
   "source": [
    "To prove that a single line represents a single sequence record we can use the head command and print only a single line:"
   ]
  },
  {
   "cell_type": "code",
   "execution_count": 23,
   "id": "0be21d01",
   "metadata": {},
   "outputs": [
    {
     "name": "stdout",
     "output_type": "stream",
     "text": [
      "@m54326U_221118_213712/65619/ccs\tCTGGTTGATCCTGCCAGTGGCGAAGGTGAAGGTGAGGGTGAAGGTGAGGGTGAAGGTGAGGGTGAAGGTGAGGGTGAAGGTGAACCTGCAGAAGGATCA\t+\t~~~~~~~~~~~~~~~~~~~~~~~~~~~~~~~~~~~~~~~~~~~~~~~~~~~~~~~~~~~~~~~~~~~~~~~~~~~~e~~~~~~~~~~~~~~~~~~~~~~\r\n"
     ]
    }
   ],
   "source": [
    "!head -1 X17007_tab.txt"
   ]
  },
  {
   "cell_type": "markdown",
   "id": "d0ee4851",
   "metadata": {},
   "source": [
    "We can also print the record per line by using less command with the '-S' option (chop-long-lines), but we cannot navigate through the output using less command here in the jupyter notebook. We can go outside of the jupyter notebook to the command line and use the following command:\\\n",
    "less -S Creno_1_tab.txt"
   ]
  },
  {
   "cell_type": "markdown",
   "id": "987b3426",
   "metadata": {},
   "source": [
    "## Quality assessment"
   ]
  },
  {
   "cell_type": "code",
   "execution_count": 24,
   "id": "dec55203",
   "metadata": {},
   "outputs": [
    {
     "data": {
      "text/plain": [
       "'/home/lubomir/projects/vampyrella_2023/raw_data/reads'"
      ]
     },
     "execution_count": 24,
     "metadata": {},
     "output_type": "execute_result"
    }
   ],
   "source": [
    "pwd"
   ]
  },
  {
   "cell_type": "code",
   "execution_count": 25,
   "id": "63959c6d",
   "metadata": {},
   "outputs": [
    {
     "name": "stdout",
     "output_type": "stream",
     "text": [
      "Started analysis of X17007.fastq\n",
      "Approx 15% complete for X17007.fastq\n",
      "Approx 30% complete for X17007.fastq\n",
      "Approx 45% complete for X17007.fastq\n",
      "Approx 65% complete for X17007.fastq\n",
      "Approx 80% complete for X17007.fastq\n",
      "Approx 100% complete for X17007.fastq\n",
      "Analysis complete for X17007.fastq\n"
     ]
    }
   ],
   "source": [
    "! ../packages/FastQC/fastqc X17007.fastq"
   ]
  },
  {
   "cell_type": "markdown",
   "id": "eebfa5f1",
   "metadata": {},
   "source": [
    "## Removing adapter sequences and low quality bases and reads"
   ]
  },
  {
   "cell_type": "code",
   "execution_count": 33,
   "id": "585287de",
   "metadata": {},
   "outputs": [
    {
     "name": "stdout",
     "output_type": "stream",
     "text": [
      "4.2\r\n"
     ]
    }
   ],
   "source": [
    "# comment: The output files can be named as you like,\n",
    "# but replace all parameters in capital letters with the correct numbers,\n",
    "# adapters and input files\n",
    "\n",
    "!cutadapt -q 20 -m 50 -p X17007.fastq -o X17007_clean.fastq"
   ]
  },
  {
   "cell_type": "code",
   "execution_count": 28,
   "id": "487f59d7",
   "metadata": {},
   "outputs": [
    {
     "name": "stdout",
     "output_type": "stream",
     "text": [
      "\u001b[0m\u001b[01;31mX17007_18S.hifi_reads.fastq.gz\u001b[0m  X17007_fastqc.html  X17007_tab.txt\r\n",
      "X17007.fastq                    \u001b[01;31mX17007_fastqc.zip\u001b[0m\r\n"
     ]
    }
   ],
   "source": [
    "ls"
   ]
  },
  {
   "cell_type": "code",
   "execution_count": null,
   "id": "08e6f00c",
   "metadata": {},
   "outputs": [],
   "source": []
  },
  {
   "cell_type": "code",
   "execution_count": null,
   "id": "4eb19103",
   "metadata": {},
   "outputs": [],
   "source": []
  },
  {
   "cell_type": "code",
   "execution_count": null,
   "id": "e6ea7c0d",
   "metadata": {},
   "outputs": [],
   "source": []
  },
  {
   "cell_type": "code",
   "execution_count": null,
   "id": "feecefec",
   "metadata": {},
   "outputs": [],
   "source": []
  },
  {
   "cell_type": "code",
   "execution_count": null,
   "id": "c4073a5d",
   "metadata": {},
   "outputs": [],
   "source": []
  }
 ],
 "metadata": {
  "kernelspec": {
   "display_name": "Python 3 (ipykernel)",
   "language": "python",
   "name": "python3"
  },
  "language_info": {
   "codemirror_mode": {
    "name": "ipython",
    "version": 3
   },
   "file_extension": ".py",
   "mimetype": "text/x-python",
   "name": "python",
   "nbconvert_exporter": "python",
   "pygments_lexer": "ipython3",
   "version": "3.8.12"
  },
  "toc": {
   "base_numbering": 1,
   "nav_menu": {},
   "number_sections": true,
   "sideBar": true,
   "skip_h1_title": false,
   "title_cell": "Table of Contents",
   "title_sidebar": "Contents",
   "toc_cell": false,
   "toc_position": {},
   "toc_section_display": true,
   "toc_window_display": false
  }
 },
 "nbformat": 4,
 "nbformat_minor": 5
}
