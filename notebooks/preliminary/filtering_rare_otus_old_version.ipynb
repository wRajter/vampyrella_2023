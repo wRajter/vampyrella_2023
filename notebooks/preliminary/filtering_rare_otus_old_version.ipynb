{
 "cells": [
  {
   "cell_type": "code",
   "execution_count": 1,
   "id": "3ea40006",
   "metadata": {},
   "outputs": [],
   "source": [
    "# load modules\n",
    "import qiime2\n",
    "import pandas as pd\n",
    "import math\n",
    "\n",
    "# note: qiime2 is install in the qiime2-2022.11 conda environment"
   ]
  },
  {
   "cell_type": "code",
   "execution_count": 2,
   "id": "ccba76fa",
   "metadata": {},
   "outputs": [],
   "source": [
    "# filtering rare OTUs\n",
    "datasets_labels=[\"cell1_sim97\", \n",
    "                 \"cell1_sim99\", \n",
    "                 \"cell2_sim97\", \n",
    "                 \"cell2_sim99\",\n",
    "                 \"cellCombined_sim97\",\n",
    "                 \"cellCombined_sim99\"]\n",
    "\n",
    "\n",
    "for dataset in datasets_labels:\n",
    "    # load data into dataframe\n",
    "    cell, sim = dataset.split(\"_\")\n",
    "    raw_data=\"../raw_data\"\n",
    "    otu_table_fp=f\"{raw_data}/OTU_clust/Full18S/{cell}/{sim}/otu_table.qza\"\n",
    "    otu_table_qiime=qiime2.Artifact.load(otu_table_fp)\n",
    "    otu_table=otu_table_qiime.view(pd.DataFrame)\n",
    "    # otu abundance (total observation) per sample\n",
    "    abundance_per_sample=otu_table.sum(axis=1)\n",
    "    # minimal OTU frequency threshold per sample\n",
    "    threshold = 0.001\n",
    "    sample_thresholds={}\n",
    "    for i in range(len(abundance_per_sample)):\n",
    "        sample_thresholds[abundance_per_sample.index[i]]=math.floor(abundance_per_sample[i]*threshold)\n",
    "    # changing abundance of otus below threshold to zero\n",
    "    for sample in sample_thresholds:\n",
    "        current_threshold=sample_thresholds[sample]\n",
    "        otu_table[otu_table.loc[[sample],] < current_threshold] = 0\n",
    "    # transpose the table\n",
    "    otu_table=otu_table.transpose()\n",
    "    # save to tsv\n",
    "    raw_data=\"../raw_data\"\n",
    "    path=f\"{raw_data}/OTU_filtered/Full18S/{cell}/{sim}\"\n",
    "    otu_table.to_csv(f\"{path}/table_rarefilt.tsv\", sep=\"\\t\")"
   ]
  },
  {
   "cell_type": "code",
   "execution_count": null,
   "id": "eb66e9aa",
   "metadata": {},
   "outputs": [],
   "source": []
  },
  {
   "cell_type": "code",
   "execution_count": 6,
   "id": "b81e96fb",
   "metadata": {},
   "outputs": [],
   "source": []
  }
 ],
 "metadata": {
  "kernelspec": {
   "display_name": "Python 3 (ipykernel)",
   "language": "python",
   "name": "python3"
  },
  "language_info": {
   "codemirror_mode": {
    "name": "ipython",
    "version": 3
   },
   "file_extension": ".py",
   "mimetype": "text/x-python",
   "name": "python",
   "nbconvert_exporter": "python",
   "pygments_lexer": "ipython3",
   "version": "3.10.8"
  },
  "toc": {
   "base_numbering": 1,
   "nav_menu": {},
   "number_sections": true,
   "sideBar": true,
   "skip_h1_title": false,
   "title_cell": "Table of Contents",
   "title_sidebar": "Contents",
   "toc_cell": false,
   "toc_position": {},
   "toc_section_display": true,
   "toc_window_display": false
  }
 },
 "nbformat": 4,
 "nbformat_minor": 5
}
