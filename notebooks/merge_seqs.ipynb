{
 "cells": [
  {
   "cell_type": "code",
   "execution_count": 2,
   "id": "7c68cb52",
   "metadata": {},
   "outputs": [],
   "source": [
    "# imports\n",
    "import os\n",
    "import re"
   ]
  },
  {
   "cell_type": "markdown",
   "id": "298c4c46",
   "metadata": {},
   "source": [
    "# Merge and filter sequences from the OTU_nonchimeric file"
   ]
  },
  {
   "cell_type": "code",
   "execution_count": 3,
   "id": "930d9a6d",
   "metadata": {},
   "outputs": [],
   "source": [
    "# Variables\n",
    "raw_data = '../raw_data'"
   ]
  },
  {
   "cell_type": "code",
   "execution_count": 4,
   "id": "5ca80760",
   "metadata": {},
   "outputs": [],
   "source": [
    "def tester(seq_path):\n",
    "    \"\"\"\n",
    "    Count the number of headers and sequences in a sequence file.\n",
    "\n",
    "    Args:\n",
    "        seq_path (str): The path to the sequence file.\n",
    "\n",
    "    Returns:\n",
    "        str: A string containing the count of headers and sequences in the format:\n",
    "             \"number of headers: <count>\\nnumber of sequences: <count>\"\n",
    "    \"\"\"\n",
    "    with open(seq_path, 'rt') as f:\n",
    "        lines = f.readlines()\n",
    "        count_headers = 0\n",
    "        count_seqs = 0\n",
    "        for line in lines:\n",
    "            if line.startswith('>'):\n",
    "                count_headers += 1\n",
    "                if not line.rstrip('\\n')[-1].isalnum():\n",
    "                    print(f'something wrong with the sequence:\\n{line}')\n",
    "            elif line.rstrip('\\n').isupper():\n",
    "                    count_seqs += 1\n",
    "            else:\n",
    "                print(f'something wrong with the sequence:\\n{line}')\n",
    "        return f'number of headers: {count_headers}\\nnumber of sequences: {count_seqs}'"
   ]
  },
  {
   "cell_type": "markdown",
   "id": "2c115e90",
   "metadata": {},
   "source": [
    "## Create a single FASTA file for OTU_nonchimeric sequences per project (so all the samples within a single project and marker)"
   ]
  },
  {
   "cell_type": "code",
   "execution_count": null,
   "id": "f5eaa922",
   "metadata": {},
   "outputs": [],
   "source": [
    "project = 'Suthaus_2022'\n",
    "cell = 'cellCombined'\n",
    "marker = 'Full18S'\n",
    "sim = 'sim97'\n",
    "otu_chim_filt = f'{raw_data}/OTU_nonchimeric/{project}/{marker}/{cell}/{sim}'\n",
    "\n",
    "\n",
    "file_names = os.listdir(otu_chim_filt)\n",
    "file_paths = [otu_chim_filt + '/' + file_name for file_name in file_names if file_name.startswith('otu')]\n",
    "\n",
    "file_paths\n",
    "\n",
    "adjusted_seqs = []\n",
    "\n",
    "for file in file_paths:\n",
    "    with open(file, 'rt') as f:\n",
    "        lines = f.readlines()\n",
    "        for index, line in enumerate(lines):\n",
    "            if line.startswith('>'):\n",
    "                header = re.sub('^.*?=.*?=', '', line)\n",
    "                abundance = f\"abund={header.split(';')[-1].strip('seqs=')}\"\n",
    "                if project.startswith('Jamy_'):\n",
    "                    sample_name_and_id = header.split(';')[0]\n",
    "                    sample_name = sample_name_and_id.split('.')[0]\n",
    "                    id_ = sample_name_and_id.split('.')[1]\n",
    "                if project.startswith('Suthaus_'):\n",
    "                    id_ = header.split('/')[1]\n",
    "                    sample_name = file.split('/')[-1].lstrip('otu_').rstrip('.fasta')\n",
    "                adjusted_header = f'>{id_}_{sample_name}_{project}_{abundance}'\n",
    "                adjusted_seqs.append(adjusted_header.rstrip('\\n') + '\\n')\n",
    "            else:\n",
    "                adjusted_seqs.append(line.upper().rstrip('\\n') + '\\n')\n",
    "                \n",
    "with open(f'{otu_chim_filt}/{project}_{marker}_{sim}_all_seqs.fasta', 'w') as fp:\n",
    "    for adjusted_seq in adjusted_seqs:\n",
    "        fp.write(adjusted_seq)"
   ]
  },
  {
   "cell_type": "code",
   "execution_count": null,
   "id": "aa8b3140",
   "metadata": {},
   "outputs": [],
   "source": [
    "print(tester(f'{otu_chim_filt}/{project}_{marker}_{sim}_all_seqs.fasta'))"
   ]
  },
  {
   "cell_type": "markdown",
   "id": "07616b1b",
   "metadata": {},
   "source": [
    "## Filter singletons from the single FASTA file for OTU_nonchimeric sequences"
   ]
  },
  {
   "cell_type": "code",
   "execution_count": null,
   "id": "23b598cf",
   "metadata": {},
   "outputs": [],
   "source": [
    "project = 'Suthaus_2022'\n",
    "cell = 'cellCombined'\n",
    "marker = 'Full18S'\n",
    "sim = 'sim97'\n",
    "otu_chim_filt = f'{raw_data}/OTU_nonchimeric/{project}/{marker}/{cell}/{sim}'\n",
    "all_seqs_file = f'{otu_chim_filt}/{project}_{marker}_{sim}_all_seqs.fasta'\n",
    "threshold = 1\n",
    "seqs_nonsingl = []\n",
    "\n",
    "\n",
    "# filter singletons\n",
    "with open(all_seqs_file, 'rt') as f:\n",
    "    lines = f.readlines()\n",
    "    for line in lines[::-1]:\n",
    "        if not line.startswith('>'):\n",
    "            seq_ = line\n",
    "        if ('>' in line):\n",
    "            abundance = int(line.split('=')[-1].rstrip('\\n'))\n",
    "            if abundance > threshold:\n",
    "                seqs_nonsingl.append(line)\n",
    "                seqs_nonsingl.append(seq_)\n",
    "\n",
    "# write the file into fasta\n",
    "with open(f'{otu_chim_filt}/{project}_{marker}_{sim}_all_seqs_filtered.fasta', 'w') as fp:\n",
    "    for seq in seqs_nonsingl:\n",
    "        fp.write(seq)"
   ]
  },
  {
   "cell_type": "code",
   "execution_count": null,
   "id": "3d0e850c",
   "metadata": {},
   "outputs": [],
   "source": [
    "print(tester(f'{otu_chim_filt}/{project}_{marker}_{sim}_all_seqs_filtered.fasta'))"
   ]
  },
  {
   "cell_type": "markdown",
   "id": "bfdd6420",
   "metadata": {},
   "source": [
    "# Merge and filter sequences from the extracted_18S"
   ]
  },
  {
   "cell_type": "markdown",
   "id": "6e39c490",
   "metadata": {},
   "source": [
    "## Create a single FASTA file for extracted sequences per project (so all the samples within a single project and marker)"
   ]
  },
  {
   "cell_type": "code",
   "execution_count": null,
   "id": "fa1e4fc2",
   "metadata": {},
   "outputs": [],
   "source": [
    "project = 'Jamy_2022'\n",
    "cell = 'cell'\n",
    "marker = 'rDNA'\n",
    "sim = 'sim97'\n",
    "extracted_18S = f'{raw_data}/extracted_18S/{project}/{marker}/{cell}/{sim}'\n",
    "\n",
    "file_names = os.listdir(extracted_18S)\n",
    "file_paths = [extracted_18S + '/' + file_name for file_name in file_names if file_name.startswith('extracted_18S_')]\n",
    "\n",
    "\n",
    "adjusted_seqs = []\n",
    "\n",
    "for file in file_paths:\n",
    "    with open(file, 'rt') as f:\n",
    "        lines = f.readlines()\n",
    "        for index, line in enumerate(lines):\n",
    "            if line.startswith('>'):\n",
    "                header = re.sub('^.*?=.*?=', '', line)\n",
    "                abundance = f\"abund={header.split(';')[-1].strip('seqs=')}\"\n",
    "                if project.startswith('Jamy_'):\n",
    "                    sample_name_and_id = header.split(';')[0]\n",
    "                    sample_name = sample_name_and_id.split('.')[0]\n",
    "                    id_ = sample_name_and_id.split('.')[1]\n",
    "                if project.startswith('Suthaus_'):\n",
    "                    id_ = header.split('/')[1]\n",
    "                    sample_name = file.split('/')[-1].lstrip('extracted_18S_').rstrip('.fasta')\n",
    "                adjusted_header = f'>{id_}_{sample_name}_{project}_{abundance}'\n",
    "                adjusted_seqs.append(adjusted_header.rstrip('\\n') + '\\n')\n",
    "            else:\n",
    "                adjusted_seqs.append(line.upper().rstrip('\\n') + '\\n')\n",
    "                \n",
    "with open(f'{extracted_18S}/{project}_{marker}_{sim}_all_seqs.fasta', 'w') as fp:\n",
    "    for adjusted_seq in adjusted_seqs:\n",
    "        fp.write(adjusted_seq)"
   ]
  },
  {
   "cell_type": "code",
   "execution_count": null,
   "id": "d5da72b6",
   "metadata": {},
   "outputs": [],
   "source": [
    "print(tester(f'{extracted_18S}/{project}_{marker}_{sim}_all_seqs.fasta'))"
   ]
  },
  {
   "cell_type": "markdown",
   "id": "23339062",
   "metadata": {},
   "source": [
    "## Filter singletons from the single FASTA file for extracted 18S sequences"
   ]
  },
  {
   "cell_type": "code",
   "execution_count": null,
   "id": "ff014489",
   "metadata": {},
   "outputs": [],
   "source": [
    "project = 'Jamy_2022'\n",
    "cell = 'cell'\n",
    "marker = 'rDNA'\n",
    "sim = 'sim97'\n",
    "extracted_18S = f'{raw_data}/extracted_18S/{project}/{marker}/{cell}/{sim}'\n",
    "all_seqs_file = f'{extracted_18S}/{project}_{marker}_{sim}_all_seqs.fasta'\n",
    "threshold = 1\n",
    "seqs_nonsingl = []\n",
    "\n",
    "\n",
    "# filter singletons\n",
    "with open(all_seqs_file, 'rt') as f:\n",
    "    lines = f.readlines()\n",
    "    for line in lines[::-1]:\n",
    "        if not line.startswith('>'):\n",
    "            seq_ = line\n",
    "        if ('>' in line):\n",
    "            abundance = int(line.split('=')[-1].rstrip('\\n'))\n",
    "            if abundance > threshold:\n",
    "                seqs_nonsingl.append(line)\n",
    "                seqs_nonsingl.append(seq_)\n",
    "\n",
    "# write the file into fasta\n",
    "with open(f'{extracted_18S}/{project}_{marker}_{sim}_all_seqs_filtered.fasta', 'w') as fp:\n",
    "    for seq in seqs_nonsingl:\n",
    "        fp.write(seq)"
   ]
  },
  {
   "cell_type": "code",
   "execution_count": null,
   "id": "a84aa3b7",
   "metadata": {},
   "outputs": [],
   "source": [
    "print(tester(f'{extracted_18S}/{project}_{marker}_{sim}_all_seqs.fasta'))"
   ]
  },
  {
   "cell_type": "markdown",
   "id": "6583e4ea",
   "metadata": {},
   "source": [
    "# Merging the all_seqs fasta files for individual projects into a single fasta file"
   ]
  },
  {
   "cell_type": "markdown",
   "id": "10500523",
   "metadata": {},
   "source": [
    "## Unfiltered sequences (singletons retained)"
   ]
  },
  {
   "cell_type": "code",
   "execution_count": 5,
   "id": "d12eed57",
   "metadata": {},
   "outputs": [],
   "source": [
    "# List of input files\n",
    "input_files = [\n",
    "               f'{raw_data}/extracted_18S/Jamy_2019/rDNA/cell/sim97/Jamy_2019_rDNA_sim97_all_seqs.fasta', \n",
    "               f'{raw_data}/extracted_18S/Jamy_2022/rDNA/cell/sim97/Jamy_2022_rDNA_sim97_all_seqs.fasta', \n",
    "               f'{raw_data}/OTU_filtered/Suthaus_2022/Full18S/cellCombined/sim97/qiime/otu_seqs_filtered.fasta'\n",
    "#                f'{raw_data}/OTU_nonchimeric/Suthaus_2022/Full18S/cellCombined/sim97/Suthaus_2022_Full18S_sim97_all_seqs.fasta'\n",
    "              ]\n",
    "\n",
    "\n",
    "# Output file\n",
    "output_file = f'{raw_data}/OTU_results/all_projects/all_seqs.fasta'\n",
    "\n",
    "# Remove the existing output file if it exists\n",
    "if os.path.exists(output_file):\n",
    "    os.remove(output_file)\n",
    "\n",
    "# Open the output file in 'append' mode\n",
    "with open(output_file, 'a') as outfile:\n",
    "    # Iterate over each input file\n",
    "    for file in input_files:\n",
    "        # Open each input file in 'read' mode\n",
    "        with open(file, 'r') as infile:\n",
    "            # Read the contents of the input file\n",
    "            content = infile.read()\n",
    "            # Write the contents to the output file\n",
    "            outfile.write(content)"
   ]
  },
  {
   "cell_type": "code",
   "execution_count": null,
   "id": "36030cfd",
   "metadata": {},
   "outputs": [],
   "source": [
    "print(tester(f'{raw_data}/OTU_results/all_projects/all_seqs.fasta'))"
   ]
  },
  {
   "cell_type": "code",
   "execution_count": null,
   "id": "72d45f60",
   "metadata": {},
   "outputs": [],
   "source": [
    "print(tester(f'{raw_data}/OTU_results/all_projects/all_seqs_test.fasta'))"
   ]
  },
  {
   "cell_type": "markdown",
   "id": "70ea1cea",
   "metadata": {},
   "source": [
    "## Filtered sequences (singletons filtered out)"
   ]
  },
  {
   "cell_type": "code",
   "execution_count": null,
   "id": "1774054a",
   "metadata": {},
   "outputs": [],
   "source": [
    "# List of input files\n",
    "input_files = [\n",
    "               f'{raw_data}/extracted_18S/Jamy_2019/rDNA/cell/sim97/Jamy_2019_rDNA_sim97_all_seqs_filtered.fasta', \n",
    "               f'{raw_data}/extracted_18S/Jamy_2022/rDNA/cell/sim97/Jamy_2022_rDNA_sim97_all_seqs_filtered.fasta',\n",
    "               f'{raw_data}/OTU_nonchimeric/Suthaus_2022/Full18S/cellCombined/sim97/Suthaus_2022_Full18S_sim97_all_seqs_filtered.fasta'\n",
    "              ]\n",
    "\n",
    "\n",
    "# Output file\n",
    "output_file = f'{raw_data}/OTU_results/all_projects/all_seqs_filtered.fasta'\n",
    "\n",
    "# Remove the existing output file if it exists\n",
    "if os.path.exists(output_file):\n",
    "    os.remove(output_file)\n",
    "\n",
    "# Open the output file in 'append' mode\n",
    "with open(output_file, 'a') as outfile:\n",
    "    # Iterate over each input file\n",
    "    for file in input_files:\n",
    "        # Open each input file in 'read' mode\n",
    "        with open(file, 'r') as infile:\n",
    "            # Read the contents of the input file\n",
    "            content = infile.read()\n",
    "            # Write the contents to the output file\n",
    "            outfile.write(content)"
   ]
  },
  {
   "cell_type": "code",
   "execution_count": null,
   "id": "a43c7651",
   "metadata": {},
   "outputs": [],
   "source": [
    "print(tester(f'{raw_data}/OTU_results/all_projects/all_seqs_filtered.fasta'))"
   ]
  },
  {
   "cell_type": "code",
   "execution_count": null,
   "id": "ab67572b",
   "metadata": {},
   "outputs": [],
   "source": []
  },
  {
   "cell_type": "code",
   "execution_count": null,
   "id": "f0d63bd0",
   "metadata": {},
   "outputs": [],
   "source": []
  }
 ],
 "metadata": {
  "kernelspec": {
   "display_name": "Python 3 (ipykernel)",
   "language": "python",
   "name": "python3"
  },
  "language_info": {
   "codemirror_mode": {
    "name": "ipython",
    "version": 3
   },
   "file_extension": ".py",
   "mimetype": "text/x-python",
   "name": "python",
   "nbconvert_exporter": "python",
   "pygments_lexer": "ipython3",
   "version": "3.10.8"
  },
  "toc": {
   "base_numbering": 1,
   "nav_menu": {},
   "number_sections": true,
   "sideBar": true,
   "skip_h1_title": false,
   "title_cell": "Table of Contents",
   "title_sidebar": "Contents",
   "toc_cell": false,
   "toc_position": {},
   "toc_section_display": true,
   "toc_window_display": false
  }
 },
 "nbformat": 4,
 "nbformat_minor": 5
}
