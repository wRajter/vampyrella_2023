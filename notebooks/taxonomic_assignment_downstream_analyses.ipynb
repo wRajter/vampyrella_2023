{
 "cells": [
  {
   "cell_type": "markdown",
   "id": "da856db9",
   "metadata": {},
   "source": [
    "# Taxonomic assignment: Downstream analyses"
   ]
  },
  {
   "cell_type": "code",
   "execution_count": null,
   "id": "2f063168",
   "metadata": {},
   "outputs": [],
   "source": [
    "pip install openpyxl"
   ]
  },
  {
   "cell_type": "code",
   "execution_count": 1,
   "id": "af53cc40",
   "metadata": {},
   "outputs": [
    {
     "name": "stderr",
     "output_type": "stream",
     "text": [
      "/home/lubo/.pyenv/versions/3.8.12/envs/lewagon/lib/python3.8/site-packages/scipy/__init__.py:146: UserWarning: A NumPy version >=1.16.5 and <1.23.0 is required for this version of SciPy (detected version 1.24.1\n",
      "  warnings.warn(f\"A NumPy version >={np_minversion} and <{np_maxversion}\"\n"
     ]
    }
   ],
   "source": [
    "import pandas as pd\n",
    "import seaborn as sns\n",
    "import matplotlib.pyplot as plt\n",
    "from openpyxl.workbook import Workbook"
   ]
  },
  {
   "cell_type": "code",
   "execution_count": 12,
   "id": "1be970a4",
   "metadata": {},
   "outputs": [],
   "source": [
    "# load dataset\n",
    "marker=\"Full18S\"\n",
    "cell=\"cell1\"\n",
    "project_path=\"/home/lubo/code/wRajter/vampyrella_2023\"\n",
    "# at uni local machine:\"/home/lubomir/projects/vampyrella_2023\"\n",
    "data_path=f\"{project_path}/raw_data/qiime_output/dada2_output/asv_summary_table_{marker}_{cell}.tsv\"\n",
    "\n",
    "\n",
    "asv_data=pd.read_csv(data_path, sep=\"\\t\")"
   ]
  },
  {
   "cell_type": "code",
   "execution_count": 13,
   "id": "9c33ae2b",
   "metadata": {},
   "outputs": [],
   "source": [
    "# save as an excel table\n",
    "asv_data.to_excel(f'ASV_summary_table_{marker}_{cell}.xlsx')"
   ]
  },
  {
   "cell_type": "code",
   "execution_count": null,
   "id": "ea2cbb2d",
   "metadata": {
    "scrolled": false
   },
   "outputs": [],
   "source": [
    "asv_data"
   ]
  },
  {
   "cell_type": "code",
   "execution_count": null,
   "id": "483ed1ba",
   "metadata": {},
   "outputs": [],
   "source": [
    "asv_data.info()"
   ]
  },
  {
   "cell_type": "code",
   "execution_count": null,
   "id": "cf94106b",
   "metadata": {},
   "outputs": [],
   "source": [
    "# vampyrellida ASVs\n",
    "\n",
    "vamp = asv_data[asv_data['Order'] == 'Vampyrellida']\n",
    "\n",
    "vamp[['ID', 'Total', 'A3', 'Mock', 'NH1', 'NH4', 'Sim17', 'Sim22', 'Th16',\n",
    "   'Th38', 'Th40', 'X17007', 'Order', 'Family', 'Genus', 'Species', \n",
    "   'Percent_similarity']]"
   ]
  },
  {
   "cell_type": "code",
   "execution_count": null,
   "id": "3dd48c89",
   "metadata": {},
   "outputs": [],
   "source": [
    "# count plot\n",
    "%matplotlib inline\n",
    "sns.set(rc={'figure.figsize':(15,6)})\n",
    "\n",
    "sns.histplot(data=asv_data, x='Domain');"
   ]
  },
  {
   "cell_type": "markdown",
   "id": "9dc2b7cc",
   "metadata": {},
   "source": [
    "## Relative Abundance Barplots"
   ]
  },
  {
   "cell_type": "code",
   "execution_count": null,
   "id": "977b951f",
   "metadata": {},
   "outputs": [],
   "source": [
    "### Import needed modules\n",
    "#ggplot is used for plotting and is based on the R package ggplot2\n",
    "#Pandas is a widely-used Python library for statistics, particularly on tabular data. It installed with Anaconda.\n",
    "#We will use it to read and write tables in .csv format.\n",
    "\n"
   ]
  },
  {
   "cell_type": "code",
   "execution_count": null,
   "id": "179dc783",
   "metadata": {},
   "outputs": [],
   "source": [
    "# prepare data\n",
    "\n",
    "relab_data = asv_data[['ID',\n",
    "                       'Total', \n",
    "                       'A3', \n",
    "                       'Mock', \n",
    "                       'NH1', \n",
    "                       'NH4', \n",
    "                       'Sim17', \n",
    "                       'Sim22', \n",
    "                       'Th16',\n",
    "                       'Th38', \n",
    "                       'Th40', \n",
    "                       'X17007',\n",
    "                      'Domain']]"
   ]
  },
  {
   "cell_type": "code",
   "execution_count": null,
   "id": "64c0824a",
   "metadata": {},
   "outputs": [],
   "source": [
    "relab_data_melt = relab_data.melt(id_vars=['ID', 'Domain'], var_name='Sample', value_name='Abundance')"
   ]
  },
  {
   "cell_type": "code",
   "execution_count": null,
   "id": "f2a84b73",
   "metadata": {},
   "outputs": [],
   "source": [
    "%matplotlib inline\n",
    "sns.set(rc={'figure.figsize':(15,6)})\n",
    "\n",
    "relab_data.plot(kind ='bar', stacked = True)"
   ]
  },
  {
   "cell_type": "code",
   "execution_count": null,
   "id": "ed56b190",
   "metadata": {},
   "outputs": [],
   "source": []
  },
  {
   "cell_type": "code",
   "execution_count": null,
   "id": "44b1acf8",
   "metadata": {},
   "outputs": [],
   "source": []
  }
 ],
 "metadata": {
  "kernelspec": {
   "display_name": "Python 3 (ipykernel)",
   "language": "python",
   "name": "python3"
  },
  "language_info": {
   "codemirror_mode": {
    "name": "ipython",
    "version": 3
   },
   "file_extension": ".py",
   "mimetype": "text/x-python",
   "name": "python",
   "nbconvert_exporter": "python",
   "pygments_lexer": "ipython3",
   "version": "3.8.12"
  },
  "toc": {
   "base_numbering": 1,
   "nav_menu": {},
   "number_sections": true,
   "sideBar": true,
   "skip_h1_title": false,
   "title_cell": "Table of Contents",
   "title_sidebar": "Contents",
   "toc_cell": false,
   "toc_position": {},
   "toc_section_display": true,
   "toc_window_display": false
  }
 },
 "nbformat": 4,
 "nbformat_minor": 5
}
