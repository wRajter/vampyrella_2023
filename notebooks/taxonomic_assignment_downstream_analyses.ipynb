{
 "cells": [
  {
   "cell_type": "markdown",
   "id": "da856db9",
   "metadata": {},
   "source": [
    "# Taxonomic assignment: Downstream analyses"
   ]
  },
  {
   "cell_type": "code",
   "execution_count": null,
   "id": "2f063168",
   "metadata": {},
   "outputs": [],
   "source": [
    "# !pip install openpyxl"
   ]
  },
  {
   "cell_type": "code",
   "execution_count": 2,
   "id": "af53cc40",
   "metadata": {},
   "outputs": [],
   "source": [
    "import pandas as pd\n",
    "import seaborn as sns\n",
    "import matplotlib.pyplot as plt\n",
    "from openpyxl.workbook import Workbook"
   ]
  },
  {
   "cell_type": "code",
   "execution_count": 4,
   "id": "1be970a4",
   "metadata": {},
   "outputs": [],
   "source": [
    "# load dataset\n",
    "marker=\"Full18S\"\n",
    "cell=\"cell2\"\n",
    "project_path=\"/home/lubo/code/wRajter/vampyrella_2023\"\n",
    "# at uni local machine:\"/home/lubomir/projects/vampyrella_2023\"\n",
    "data_path=f\"{project_path}/raw_data/qiime_output/dada2_output/asv_summary_table_{marker}_{cell}.tsv\"\n",
    "\n",
    "\n",
    "asv_data=pd.read_csv(data_path, sep=\"\\t\")"
   ]
  },
  {
   "cell_type": "code",
   "execution_count": null,
   "id": "9c33ae2b",
   "metadata": {},
   "outputs": [],
   "source": [
    "# save as an excel table\n",
    "asv_data.to_excel(f'ASV_summary_table_{marker}_{cell}.xlsx')"
   ]
  },
  {
   "cell_type": "code",
   "execution_count": null,
   "id": "ea2cbb2d",
   "metadata": {
    "scrolled": false
   },
   "outputs": [],
   "source": [
    "asv_data"
   ]
  },
  {
   "cell_type": "code",
   "execution_count": 5,
   "id": "483ed1ba",
   "metadata": {},
   "outputs": [
    {
     "name": "stdout",
     "output_type": "stream",
     "text": [
      "<class 'pandas.core.frame.DataFrame'>\n",
      "RangeIndex: 2302 entries, 0 to 2301\n",
      "Data columns (total 22 columns):\n",
      " #   Column              Non-Null Count  Dtype  \n",
      "---  ------              --------------  -----  \n",
      " 0   ID                  2302 non-null   object \n",
      " 1   Total               2302 non-null   int64  \n",
      " 2   A3                  2302 non-null   float64\n",
      " 3   Mock                2302 non-null   float64\n",
      " 4   NH1                 2302 non-null   float64\n",
      " 5   NH4                 2302 non-null   float64\n",
      " 6   Sim17               2302 non-null   float64\n",
      " 7   Sim22               2302 non-null   float64\n",
      " 8   Th16                2302 non-null   float64\n",
      " 9   Th38                2302 non-null   float64\n",
      " 10  Th40                2302 non-null   float64\n",
      " 11  X17007              2302 non-null   float64\n",
      " 12  Kingdom             2302 non-null   object \n",
      " 13  Domain              2148 non-null   object \n",
      " 14  Phyllum             2137 non-null   object \n",
      " 15  Class               2073 non-null   object \n",
      " 16  Order               2003 non-null   object \n",
      " 17  Family              1865 non-null   object \n",
      " 18  Genus               1175 non-null   object \n",
      " 19  Species             817 non-null    object \n",
      " 20  Percent_similarity  2302 non-null   float64\n",
      " 21  Sequence            2302 non-null   object \n",
      "dtypes: float64(11), int64(1), object(10)\n",
      "memory usage: 395.8+ KB\n"
     ]
    }
   ],
   "source": [
    "asv_data.info()"
   ]
  },
  {
   "cell_type": "code",
   "execution_count": null,
   "id": "cf94106b",
   "metadata": {},
   "outputs": [],
   "source": [
    "# vampyrellida ASVs\n",
    "\n",
    "vamp = asv_data[asv_data['Order'] == 'Vampyrellida']\n",
    "\n",
    "vamp[['ID', 'Total', 'A3', 'Mock', 'NH1', 'NH4', 'Sim17', 'Sim22', 'Th16',\n",
    "   'Th38', 'Th40', 'X17007', 'Order', 'Family', 'Genus', 'Species', \n",
    "   'Percent_similarity']]"
   ]
  },
  {
   "cell_type": "code",
   "execution_count": null,
   "id": "3dd48c89",
   "metadata": {},
   "outputs": [],
   "source": [
    "# count plot\n",
    "%matplotlib inline\n",
    "sns.set(rc={'figure.figsize':(15,6)})\n",
    "\n",
    "sns.histplot(data=asv_data, x='Domain');"
   ]
  },
  {
   "cell_type": "markdown",
   "id": "9dc2b7cc",
   "metadata": {},
   "source": [
    "## Relative Abundance Barplots"
   ]
  },
  {
   "cell_type": "code",
   "execution_count": null,
   "id": "977b951f",
   "metadata": {},
   "outputs": [],
   "source": [
    "### Import needed modules\n",
    "#ggplot is used for plotting and is based on the R package ggplot2\n",
    "#Pandas is a widely-used Python library for statistics, particularly on tabular data. It installed with Anaconda.\n",
    "#We will use it to read and write tables in .csv format.\n",
    "\n"
   ]
  },
  {
   "cell_type": "code",
   "execution_count": 6,
   "id": "179dc783",
   "metadata": {},
   "outputs": [],
   "source": [
    "# prepare data\n",
    "\n",
    "relab_data = asv_data[['ID',\n",
    "                       'Total', \n",
    "                       'A3', \n",
    "                       'Mock', \n",
    "                       'NH1', \n",
    "                       'NH4', \n",
    "                       'Sim17', \n",
    "                       'Sim22', \n",
    "                       'Th16',\n",
    "                       'Th38', \n",
    "                       'Th40', \n",
    "                       'X17007',\n",
    "                      'Domain']]"
   ]
  },
  {
   "cell_type": "code",
   "execution_count": 7,
   "id": "64c0824a",
   "metadata": {},
   "outputs": [],
   "source": [
    "relab_data_melt = relab_data.melt(id_vars=['ID', 'Domain'], var_name='Sample', value_name='Abundance')"
   ]
  },
  {
   "cell_type": "code",
   "execution_count": 11,
   "id": "f2a84b73",
   "metadata": {},
   "outputs": [
    {
     "ename": "NameError",
     "evalue": "name 'bar_plot' is not defined",
     "output_type": "error",
     "traceback": [
      "\u001b[0;31m---------------------------------------------------------------------------\u001b[0m",
      "\u001b[0;31mNameError\u001b[0m                                 Traceback (most recent call last)",
      "Cell \u001b[0;32mIn[11], line 4\u001b[0m\n\u001b[1;32m      1\u001b[0m get_ipython()\u001b[38;5;241m.\u001b[39mrun_line_magic(\u001b[38;5;124m'\u001b[39m\u001b[38;5;124mmatplotlib\u001b[39m\u001b[38;5;124m'\u001b[39m, \u001b[38;5;124m'\u001b[39m\u001b[38;5;124minline\u001b[39m\u001b[38;5;124m'\u001b[39m)\n\u001b[1;32m      2\u001b[0m sns\u001b[38;5;241m.\u001b[39mset(rc\u001b[38;5;241m=\u001b[39m{\u001b[38;5;124m'\u001b[39m\u001b[38;5;124mfigure.figsize\u001b[39m\u001b[38;5;124m'\u001b[39m:(\u001b[38;5;241m15\u001b[39m,\u001b[38;5;241m6\u001b[39m)})\n\u001b[0;32m----> 4\u001b[0m \u001b[43mbar_plot\u001b[49m\u001b[38;5;241m.\u001b[39mplot (kind \u001b[38;5;241m=\u001b[39m\u001b[38;5;124m'\u001b[39m\u001b[38;5;124mbar\u001b[39m\u001b[38;5;124m'\u001b[39m, stacked \u001b[38;5;241m=\u001b[39m \u001b[38;5;28;01mTrue\u001b[39;00m)\n",
      "\u001b[0;31mNameError\u001b[0m: name 'bar_plot' is not defined"
     ]
    }
   ],
   "source": [
    "%matplotlib inline\n",
    "sns.set(rc={'figure.figsize':(15,6)})\n",
    "\n",
    "relab_data.plot(kind ='bar', stacked = True)"
   ]
  },
  {
   "cell_type": "code",
   "execution_count": null,
   "id": "ed56b190",
   "metadata": {},
   "outputs": [],
   "source": []
  },
  {
   "cell_type": "code",
   "execution_count": null,
   "id": "44b1acf8",
   "metadata": {},
   "outputs": [],
   "source": []
  }
 ],
 "metadata": {
  "kernelspec": {
   "display_name": "Python 3 (ipykernel)",
   "language": "python",
   "name": "python3"
  },
  "language_info": {
   "codemirror_mode": {
    "name": "ipython",
    "version": 3
   },
   "file_extension": ".py",
   "mimetype": "text/x-python",
   "name": "python",
   "nbconvert_exporter": "python",
   "pygments_lexer": "ipython3",
   "version": "3.8.15"
  },
  "toc": {
   "base_numbering": 1,
   "nav_menu": {},
   "number_sections": true,
   "sideBar": true,
   "skip_h1_title": false,
   "title_cell": "Table of Contents",
   "title_sidebar": "Contents",
   "toc_cell": false,
   "toc_position": {},
   "toc_section_display": true,
   "toc_window_display": false
  }
 },
 "nbformat": 4,
 "nbformat_minor": 5
}
