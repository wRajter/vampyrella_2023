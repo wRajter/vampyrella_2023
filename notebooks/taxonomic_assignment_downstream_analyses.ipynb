{
 "cells": [
  {
   "cell_type": "markdown",
   "id": "da856db9",
   "metadata": {},
   "source": [
    "# Taxonomic assignment: Downstream analyses"
   ]
  },
  {
   "cell_type": "code",
   "execution_count": null,
   "id": "2f063168",
   "metadata": {},
   "outputs": [],
   "source": [
    "# !pip install openpyxl\n",
    "# !pip install venn"
   ]
  },
  {
   "cell_type": "code",
   "execution_count": 1,
   "id": "af53cc40",
   "metadata": {},
   "outputs": [
    {
     "name": "stderr",
     "output_type": "stream",
     "text": [
      "/home/lubo/.pyenv/versions/3.8.12/envs/lewagon/lib/python3.8/site-packages/scipy/__init__.py:146: UserWarning: A NumPy version >=1.16.5 and <1.23.0 is required for this version of SciPy (detected version 1.24.1\n",
      "  warnings.warn(f\"A NumPy version >={np_minversion} and <{np_maxversion}\"\n"
     ]
    }
   ],
   "source": [
    "# load modules\n",
    "import pandas as pd\n",
    "import seaborn as sns\n",
    "import matplotlib.pyplot as plt\n",
    "from venn import venn\n",
    "from openpyxl.workbook import Workbook"
   ]
  },
  {
   "cell_type": "code",
   "execution_count": 9,
   "id": "1be970a4",
   "metadata": {},
   "outputs": [],
   "source": [
    "# load dataset function\n",
    "\n",
    "def load_summary_to_df(marker, cell, sim):\n",
    "    \"\"\"loading summary taxonomic assignment table into a dataframes\"\"\"\n",
    "    raw_data=\"../raw_data\"\n",
    "    data_path=f\"{raw_data}/OTU_summary_tables/otu_summary_table_{marker}_{cell}_{sim}.tsv\"\n",
    "    return pd.read_csv(data_path, sep=\"\\t\")\n",
    "\n",
    "sum_tables={\"cell1_sim97\": \"\", \n",
    "                \"cell1_sim99\": \"\", \n",
    "                \"cell2_sim97\": \"\", \n",
    "                \"cell2_sim99\": \"\",\n",
    "                \"cellCombined_sim97\": \"\",\n",
    "                \"cellCombined_sim99\": \"\"}\n",
    "\n",
    "def load_summary_to_dict(sum_tables=sum_tables):\n",
    "    \"\"\"load summary taxonomic assignment table into a dictionary\"\"\"\n",
    "    for dataset in sum_tables:\n",
    "        cell, sim = dataset.split(\"_\")\n",
    "        sum_tables[dataset]=load_summary_to_df(\"Full18S\", cell, sim)\n",
    "    return sum_tables"
   ]
  },
  {
   "cell_type": "markdown",
   "id": "46b9210c",
   "metadata": {},
   "source": [
    "## Summary tables"
   ]
  },
  {
   "cell_type": "code",
   "execution_count": null,
   "id": "958e10a5",
   "metadata": {
    "scrolled": true
   },
   "outputs": [],
   "source": [
    "sum_tables=load_summary_to_dict()"
   ]
  },
  {
   "cell_type": "code",
   "execution_count": null,
   "id": "9c33ae2b",
   "metadata": {
    "scrolled": true
   },
   "outputs": [],
   "source": [
    "# save all the summary table as excel tables\n",
    "marker=\"Full18S\"\n",
    "data_path=\"../raw_data/OTU_summary_tables\"\n",
    "\n",
    "for dataset in sum_tables:\n",
    "    cell, sim = dataset.split(\"_\")\n",
    "    sum_tables[dataset].to_excel(f\"{data_path}/OTU_summary_table_{marker}_{cell}_{sim}.xlsx\")"
   ]
  },
  {
   "cell_type": "code",
   "execution_count": null,
   "id": "6812afef",
   "metadata": {
    "scrolled": true
   },
   "outputs": [],
   "source": [
    "samples=['A3', 'Mock', 'NH1', 'NH4', 'Sim17', 'Sim22', 'Th16', 'Th38',\n",
    "       'Th40', 'X17007']\n",
    "\n",
    "# creating a dictonary with sample names where we will store abundance information for each sample\n",
    "abundance = {}\n",
    "for sample in samples:\n",
    "    abundance[sample] = []\n",
    "\n",
    "# loop through each dataset and calculate number of unique OTUs for each sample\n",
    "for dataset in sum_tables:\n",
    "    for sample_name in samples:\n",
    "        abundance[f'{sample_name}'].append(len(sum_tables[dataset][sum_tables[dataset][f'{sample_name}'] != 0]))\n",
    "    \n",
    "unique_otus = pd.DataFrame(data=abundance, index=sum_tables.keys())\n",
    "unique_otus"
   ]
  },
  {
   "cell_type": "code",
   "execution_count": null,
   "id": "fd44a8f9",
   "metadata": {},
   "outputs": [],
   "source": [
    "# number of unique OTUs for all samples together\n",
    "unique_otus[\"total\"] = unique_otus.iloc[0:9].sum(axis=1)\n",
    "unique_otus"
   ]
  },
  {
   "cell_type": "markdown",
   "id": "d962688c",
   "metadata": {},
   "source": [
    "## Inspecting how abundances declined through the pipeline (per sample)"
   ]
  },
  {
   "cell_type": "markdown",
   "id": "bc08c44c",
   "metadata": {},
   "source": [
    "Changing number of features (reads, asvs, otus) through the pipeline\n",
    "Steps in pipelines:\n",
    "- raw reads\n",
    "- denoise (filter, denoise, chimeric seqs)\n",
    "- OTU custering\n",
    "- otu filter."
   ]
  },
  {
   "cell_type": "markdown",
   "id": "a67e38b2",
   "metadata": {},
   "source": [
    "### Denoise table"
   ]
  },
  {
   "cell_type": "code",
   "execution_count": null,
   "id": "4192152a",
   "metadata": {},
   "outputs": [],
   "source": [
    "raw_data=\"../raw_data\"\n",
    "datasets=[\"cell1\", \"cell2\", \"cellCombined\"]\n",
    "\n",
    "df_denoise={}\n",
    "\n",
    "for dataset in datasets:\n",
    "    df_denoise[dataset]=pd.read_csv(f\"{raw_data}/denoise/Full18S/{dataset}/asv_stats.tsv\", sep=\"\\t\")\n",
    "    df_denoise[dataset]=df_denoise[dataset][[\"sample-id\", \"input\", \"primer-removed\", \"filtered\", \"denoised\", \"non-chimeric\"]]\n",
    "    df_denoise[dataset]=df_denoise[dataset].tail(-1)\n",
    "    df_denoise[dataset]=df_denoise[dataset].rename(columns={\"sample-id\": \"sample_id\", \"input\": \"raw_reads\", \"input\": \"raw_reads\", \"filtered\": \"asv_filtered\"})\n",
    "    id_splited=df_denoise[dataset]['sample_id'].str.split(pat=\"_\", expand=True)\n",
    "    df_denoise[dataset][\"sample_id\"]=id_splited[0]\n",
    "    df_denoise[dataset]=df_denoise[dataset].set_index(\"sample_id\")"
   ]
  },
  {
   "cell_type": "code",
   "execution_count": null,
   "id": "e8a87431",
   "metadata": {},
   "outputs": [],
   "source": [
    "df_denoise[\"cellCombined\"]"
   ]
  },
  {
   "cell_type": "markdown",
   "id": "45e433a7",
   "metadata": {},
   "source": [
    "### OTU clustering table"
   ]
  },
  {
   "cell_type": "code",
   "execution_count": null,
   "id": "b48ca61d",
   "metadata": {},
   "outputs": [],
   "source": [
    "raw_data=\"../raw_data\"\n",
    "datasets=[\"cell1\", \"cell2\", \"cellCombined\"]\n",
    "\n",
    "df_otu={}\n",
    "\n",
    "for dataset in datasets:\n",
    "    df_otu[dataset]=pd.read_csv(f\"{raw_data}/OTU_clust/Full18S/{dataset}/sim99/feature_count.tsv\", sep=\"\\t\")\n",
    "    id_splited=df_otu[dataset]['Sample_ID'].str.split(pat=\"_\", expand=True)\n",
    "    df_otu[dataset]['Sample_ID']=id_splited[0]\n",
    "    df_otu[dataset]=df_otu[dataset].rename(columns={\"Sample_ID\": \"sample_id\", \"Feature_Count\": \"otu_clustered\"})\n",
    "    df_otu[dataset]=df_otu[dataset].set_index(\"sample_id\")"
   ]
  },
  {
   "cell_type": "code",
   "execution_count": null,
   "id": "f57d54f6",
   "metadata": {},
   "outputs": [],
   "source": [
    "df_otu[\"cellCombined\"]"
   ]
  },
  {
   "cell_type": "markdown",
   "id": "f840d518",
   "metadata": {},
   "source": [
    "### OTU filtering table"
   ]
  },
  {
   "cell_type": "code",
   "execution_count": null,
   "id": "765012c3",
   "metadata": {},
   "outputs": [],
   "source": [
    "# changing number of features (reads, asvs, otus) through the pipeline\n",
    "# steps in pipelines: raw reads, denoise, otu, otu filter"
   ]
  },
  {
   "cell_type": "code",
   "execution_count": null,
   "id": "f332f446",
   "metadata": {},
   "outputs": [],
   "source": [
    "raw_data=\"../raw_data\"\n",
    "datasets=[\"cell1\", \"cell2\", \"cellCombined\"]\n",
    "\n",
    "df_otu_filt={}\n",
    "\n",
    "for dataset in datasets:\n",
    "    df_otu_filt[dataset]=pd.read_csv(f\"{raw_data}/OTU_filtered/Full18S/{dataset}/sim99/feature_count.tsv\", sep=\"\\t\")\n",
    "    id_splited=df_otu_filt[dataset]['Sample_ID'].str.split(pat=\"_\", expand=True)\n",
    "    df_otu_filt[dataset]['Sample_ID']=id_splited[0]\n",
    "    df_otu_filt[dataset]=df_otu_filt[dataset].rename(columns={\"Sample_ID\": \"sample_id\", \"Feature_Count\": \"otu_filt_sim99\"})\n",
    "    df_otu_filt[dataset]=df_otu_filt[dataset].set_index(\"sample_id\")"
   ]
  },
  {
   "cell_type": "code",
   "execution_count": null,
   "id": "8d056164",
   "metadata": {},
   "outputs": [],
   "source": [
    "df_otu_filt[\"cellCombined\"]"
   ]
  },
  {
   "cell_type": "markdown",
   "id": "05a15b56",
   "metadata": {},
   "source": [
    "### Merging all tables together"
   ]
  },
  {
   "cell_type": "code",
   "execution_count": null,
   "id": "d3923a86",
   "metadata": {},
   "outputs": [],
   "source": [
    "datasets=[\"cell1\", \"cell2\", \"cellCombined\"]\n",
    "\n",
    "df_abundances={}\n",
    "\n",
    "for dataset in datasets:\n",
    "    df_abundances[dataset]=df_denoise[dataset] \\\n",
    "    .merge(df_otu[dataset], left_index=True, right_index=True) \\\n",
    "    .merge(df_otu_filt[dataset], left_index=True, right_index=True)\n",
    "    df_abundances[dataset]=df_abundances[dataset].astype(int)"
   ]
  },
  {
   "cell_type": "code",
   "execution_count": null,
   "id": "da9e3339",
   "metadata": {},
   "outputs": [],
   "source": [
    "df_abundances[\"cellCombined\"]"
   ]
  },
  {
   "cell_type": "code",
   "execution_count": null,
   "id": "31b0d169",
   "metadata": {},
   "outputs": [],
   "source": [
    "# save the final table to an excel file\n",
    "\n",
    "path=\"../raw_data/OTU_summary_tables\"\n",
    "\n",
    "with pd.ExcelWriter(f\"{path}/abundances.xlsx\") as writer:  \n",
    "    df_abundances[\"cell1\"].to_excel(writer, sheet_name=\"cell1\")\n",
    "    df_abundances[\"cell2\"].to_excel(writer, sheet_name=\"cell2\")\n",
    "    df_abundances[\"cellCombined\"].to_excel(writer, sheet_name=\"cellCombined\")"
   ]
  },
  {
   "cell_type": "markdown",
   "id": "2a1a5706",
   "metadata": {},
   "source": [
    "## Inspecting how abundances declined through the pipeline (all samples together)"
   ]
  },
  {
   "cell_type": "code",
   "execution_count": null,
   "id": "9dc2d7f1",
   "metadata": {
    "scrolled": true
   },
   "outputs": [],
   "source": [
    "datasets=[\"cell1\", \"cell2\", \"cellCombined\"]\n",
    "\n",
    "df_abundances_total={}\n",
    "\n",
    "for dataset in datasets:\n",
    "    df_abundances_total[dataset] = df_abundances[dataset].sum(axis=0).to_frame().reset_index()\n",
    "    df_abundances_total[dataset] = df_abundances_total[dataset].rename(columns= {0: 'total'})"
   ]
  },
  {
   "cell_type": "code",
   "execution_count": null,
   "id": "baa0af2b",
   "metadata": {},
   "outputs": [],
   "source": [
    "df_abundances_total[\"cell1\"]"
   ]
  },
  {
   "cell_type": "code",
   "execution_count": null,
   "id": "0cdf039b",
   "metadata": {},
   "outputs": [],
   "source": [
    "dataset=\"cell2\"\n",
    "path=\"../raw_data/OTU_summary_tables\"\n",
    "\n",
    "\n",
    "\n",
    "sns.set(rc={'figure.figsize':(11.7,8.27)})\n",
    "sns.set_style(\"white\")\n",
    "abund_bar=sns.barplot(x=\"index\", y=\"total\", data=df_abundances_total[dataset], palette=\"rocket\");\n",
    "abund_bar.set(xlabel=\"\", ylabel = \"Abundance\", title =f\"Decline of abundances throughout the pipeline\")\n",
    "abund_bar.set_xticklabels([\"Raw reads\", \n",
    "                           \"Primers\\nfiltering\", \n",
    "                           \"Length\\nfiltering\", \n",
    "                           \"ASV\\ndenoised\", \n",
    "                           \"Chimeras\\nremoved\",\n",
    "                           \"OTU\\nclustered\",\n",
    "                           \"OTU\\nfiltered\"])\n",
    "sns.despine()\n",
    "\n",
    "# plt.savefig(f\"{path}/abundance_{dataset}.png\", dpi=300, transparent=False)"
   ]
  },
  {
   "cell_type": "markdown",
   "id": "8fd9b004",
   "metadata": {},
   "source": [
    "## Reducing number of representative sequences throughout the pipeline"
   ]
  },
  {
   "cell_type": "markdown",
   "id": "1fe3b87e",
   "metadata": {},
   "source": [
    "We used three steps that reduce number of the features (representative sequences) in our pipeline:\n",
    "\n",
    "1. **Denoising raw sequences:** primers and length filtering, denoising, chimeras filtering\n",
    "2. **OTU clustering:** based on 97 and 99 similarity threshold\n",
    "3. **OTU filtering:** filtering out taxonomically unassigned OTUs at phyllum level and filtering out rare OTUs\n",
    "\n",
    "Let's check how many unique number of features was reduced during these three steps."
   ]
  },
  {
   "cell_type": "code",
   "execution_count": null,
   "id": "75ce5d84",
   "metadata": {},
   "outputs": [],
   "source": [
    "datasets=[\"cell1\", \"cell2\", \"cellCombined\"]\n",
    "denoise_path=\"../raw_data/denoise/Full18S\"\n",
    "otu_clust_path=\"../raw_data/OTU_clust/Full18S\"\n",
    "otu_filt_path=\"../raw_data/OTU_filtered/Full18S\"\n",
    "sim=\"sim99\"\n",
    "\n",
    "# creating dictionary where we will append the values in the loop below for our table\n",
    "rep_seqs_data={\"denoised\": [],\n",
    "               \"OTU_clustered\": [],\n",
    "               \"OTU_filtered\": []}\n",
    "\n",
    "# gathering information for the table\n",
    "for dataset in datasets:\n",
    "    \n",
    "    # gather the total number of unique ASVs\n",
    "    with open(f\"{denoise_path}/{dataset}/asv_seqs.fasta\", 'r') as file:\n",
    "        denoised_fasta = file.read()\n",
    "    rep_seqs_data[\"denoised\"].append(denoised_fasta.count(\">\"))\n",
    "    \n",
    "    # gather the total number of unique OTUs\n",
    "    with open(f\"{otu_clust_path}/{dataset}/{sim}/otu_seqs.fasta\", 'r') as file:\n",
    "        otu_clust_fasta = file.read()\n",
    "    rep_seqs_data[\"OTU_clustered\"].append(otu_clust_fasta.count(\">\"))\n",
    "    \n",
    "    # gather the total number of unique OTUs after filtering\n",
    "    with open(f\"{otu_filt_path}/{dataset}/{sim}/otu_seqs_filtered.fasta\", 'r') as file:\n",
    "        otu_filt_fasta = file.read()\n",
    "    rep_seqs_data[\"OTU_filtered\"].append(otu_filt_fasta.count(\">\"))\n",
    "    \n",
    "\n",
    "# creating the final table that we will populate with data gather in the loop above\n",
    "rep_seqs=pd.DataFrame(data=rep_seqs_data, index=[\"cell1\", \"cell2\", \"cellCombined\"])\n",
    "rep_seqs"
   ]
  },
  {
   "cell_type": "code",
   "execution_count": null,
   "id": "4613ee39",
   "metadata": {},
   "outputs": [],
   "source": [
    "# bar plot of decreasing unique representative sequences after individual steps in the pipeline\n",
    "path=\"../raw_data/OTU_summary_tables\"\n",
    "\n",
    "# adjusting the data table for plotting\n",
    "df_plot=rep_seqs.reset_index()\n",
    "df_plot=df_plot.melt(id_vars=['index'], value_vars=['denoised', 'OTU_clustered', 'OTU_filtered'])\n",
    "\n",
    "# plotting code\n",
    "sns.set(rc={'figure.figsize':(11.7,8.27)})\n",
    "sns.set_style(\"white\")\n",
    "repseq_bar=sns.barplot(data=df_plot, x=\"variable\", y=\"value\", hue=\"index\")\n",
    "repseq_bar.set(xlabel=\"\", \n",
    "                ylabel = \"number of representative sequences\", \n",
    "                title =f\"\")\n",
    "repseq_bar.set_xticklabels([\"ASV denoised\", \"OTU clustered\", \"OTU filtered\"])\n",
    "sns.despine()\n",
    "\n",
    "# adjusting legend\n",
    "h, l = repseq_bar.get_legend_handles_labels()\n",
    "repseq_bar.legend(handles=h, \n",
    "                  labels=[\"Cell 1\", \"Cell 2\", \"Combined Cells\"], \n",
    "                  title=\"Flow Cell\", \n",
    "                  loc=\"upper right\", \n",
    "                  frameon=False);\n",
    "\n",
    "# save\n",
    "plt.savefig(f\"{path}/unique_representative_sequences.png\", dpi=300, transparent=False)"
   ]
  },
  {
   "cell_type": "markdown",
   "id": "f2c6cffc",
   "metadata": {},
   "source": [
    "## Vampyrella specific data"
   ]
  },
  {
   "cell_type": "markdown",
   "id": "a10e8678",
   "metadata": {},
   "source": [
    "We want to:\n",
    "- check how many vampyrellid taxa were found in individual samples and in total\n",
    "- how clustering thresholds affect number of vampyrellid taxa in mock community\n",
    "- how filtering rare OTUs affect number of vampyrellid taxa in mock community\n",
    "\n",
    "We supposed to find five taxa (different species) in mock sample"
   ]
  },
  {
   "cell_type": "markdown",
   "id": "746e8734",
   "metadata": {},
   "source": [
    "### Vampyrellid ASVs, OTUs, and OTUs with filtered rare sequences out"
   ]
  },
  {
   "cell_type": "code",
   "execution_count": 13,
   "id": "c65de971",
   "metadata": {},
   "outputs": [],
   "source": [
    "# defining a few functions for loading data and adjusting datasets for plotting data\n",
    "\n",
    "def read_into_dic(dataset_names, input_dir, marker=\"Full18S\"):\n",
    "    \"\"\"read tsv summary tables as dataframes and save them into a dictionary.\n",
    "    Each dataframe will represent a key in the dictionary.\n",
    "    Provide a list with dataset names as input file in the following pattern:\n",
    "    cell_sim. Also provide a path to the directory with the summary tables\"\"\"\n",
    "    dictionary=dict.fromkeys(dataset_names, \"\")\n",
    "    for dataset in dictionary:\n",
    "        cell, sim = dataset.split(\"_\")\n",
    "        data_path=f\"{input_dir}/otu_summary_table_{marker}_{cell}_{sim}.tsv\"\n",
    "        dictionary[dataset]=pd.read_csv(data_path, sep=\"\\t\")\n",
    "    return dictionary\n",
    "\n",
    "def filt_vamp(dataset_dict):\n",
    "    \"\"\"filtered only vampyrellida ASVs for each dataframe and \n",
    "    save it into new a dictionary\"\"\"\n",
    "    vamp_spec_dict={}\n",
    "    for dataset in dataset_dict.keys():\n",
    "        vamp_spec_dict[dataset]=dataset_dict[dataset][dataset_dict[dataset][\"Order\"] == \"Vampyrellida\"]\n",
    "    return vamp_spec_dict\n",
    "\n",
    "def num_otus_allsample(vamp_spec_dict):\n",
    "    \"\"\"create a dataframe with total number of vampyrellid OTUs \n",
    "    found in each dataset for all samples combined\"\"\"\n",
    "    data_for_table={\"num_otus\": []}\n",
    "    for dataset in vamp_spec_dict.keys():\n",
    "        data_for_table[\"num_otus\"].append(vamp_spec_dict[dataset].shape[0])\n",
    "    return pd.DataFrame(data=data_for_table, index=vamp_spec_dict.keys())\n",
    "\n",
    "def num_otus_persample(samples, vamp_spec_dict):\n",
    "    \"\"\"create a dataframe with total number of vampyrellid OTUs \n",
    "    found in each dataset and each sample. Provide: i) list of samples,\n",
    "    ii) dictionary with individual datasets.\"\"\"\n",
    "    data_for_table={\"sample\": [],\n",
    "                    \"num_otus\": [], \n",
    "                    \"dataset\": []}\n",
    "    for dataset in vamp_spec_dict.keys():\n",
    "        current_dataset = vamp_spec_dict[dataset]\n",
    "        for sample in samples:\n",
    "            data_for_table[\"sample\"].append(sample)\n",
    "            individual_sample=current_dataset[current_dataset[sample] != 0]\n",
    "            data_for_table[\"num_otus\"].append(individual_sample.shape[0])\n",
    "            data_for_table[\"dataset\"].append(dataset)\n",
    "    return pd.DataFrame(data=data_for_table)"
   ]
  },
  {
   "cell_type": "code",
   "execution_count": null,
   "id": "50eddd99",
   "metadata": {},
   "outputs": [],
   "source": [
    "# variables\n",
    "input_dir_unfilt=\"../raw_data/OTU_summary_tables/unfiltered\"\n",
    "input_dir_filt=\"../raw_data/OTU_summary_tables\"\n",
    "samples=['A3', 'Mock', 'NH1', 'NH4', 'Sim17', 'Sim22', 'Th16', 'Th38', 'Th40', 'X17007']\n",
    "dataset_names=[\"cell1_sim97\", \"cell1_sim99\", \"cell2_sim97\", \"cell2_sim99\", \"cellCombined_sim97\", \"cellCombined_sim99\"]\n",
    "\n",
    "\n",
    "# load summary tables as dataframes\n",
    "sum_tables_filt = read_into_dic(dataset_names=dataset_names, input_dir=input_dir_filt)\n",
    "\n",
    "sum_tables_unfilt = read_into_dic(dataset_names=dataset_names, input_dir=input_dir_unfilt)\n",
    "\n",
    "\n",
    "# retrain only vampyrellida ASVs\n",
    "vamp_filt = filt_vamp(sum_tables_filt)\n",
    "vamp_unfilt = filt_vamp(sum_tables_unfilt)\n",
    "\n",
    "\n",
    "# creating table with total number of vampyrellid OTUs found in each dataset and all samples combined   \n",
    "vamp_filt_allsamples=num_otus_allsample(vamp_filt)\n",
    "vamp_unfilt_allsamples=num_otus_allsample(vamp_unfilt)\n",
    "\n",
    "# creating a table with total number of vampyrellid OTUs found in each sample and each dataset\n",
    "vamp_filt_persample = num_otus_persample(vamp_spec_dict=vamp_filt, samples=samples)\n",
    "vamp_unfilt_persample = num_otus_persample(vamp_spec_dict=vamp_unfilt, samples=samples)"
   ]
  },
  {
   "cell_type": "code",
   "execution_count": null,
   "id": "da6ae5b3",
   "metadata": {},
   "outputs": [],
   "source": [
    "# plotting all sample combined results\n",
    "\n",
    "path=\"../raw_data/OTU_summary_tables\"\n",
    "fig, axes = plt.subplots(1, 2, sharex=True, sharey=True, figsize=(11.7,8.27))\n",
    "sns.set_style(\"white\")\n",
    "\n",
    "# vamp unfilt allsamples\n",
    "vamp_unfilt_plot=sns.barplot(ax=axes[0], x=vamp_unfilt_allsamples.index, \n",
    "                            y=\"num_otus\", \n",
    "                            data=vamp_unfilt_allsamples, \n",
    "                            palette=\"colorblind\")\n",
    "axes[0].set_title(\"rare OTUs included\")\n",
    "\n",
    "# vamp filt allsamples\n",
    "vamp_filt_plot=sns.barplot(ax=axes[1], x=vamp_filt_allsamples.index, \n",
    "                            y=\"num_otus\", \n",
    "                            data=vamp_filt_allsamples, \n",
    "                            palette=\"colorblind\")\n",
    "axes[1].set_title(\"rare OTUs filtered out\")\n",
    "\n",
    "vamp_filt_plot.set_xticklabels([\"cell 1\\nsim 97\",\n",
    "                                 \"cell 1\\nsim 99\",\n",
    "                                 \"cell 2\\nsim 97\",\n",
    "                                 \"cell 2\\nsim 99\",\n",
    "                                 \"comb.\\nsim 97\",\n",
    "                                 \"comb.\\nsim 99\"])\n",
    "\n",
    "vamp_unfilt_plot.set(xlabel=\"\", ylabel = \"number of OTUs\")\n",
    "vamp_filt_plot.set(xlabel=\"\", ylabel = \"\")\n",
    "sns.despine()\n",
    "\n",
    "plt.savefig(f\"{path}/number_of_vamp_otus_allsamples.png\", dpi=300, transparent=False)"
   ]
  },
  {
   "cell_type": "code",
   "execution_count": null,
   "id": "06b7f5aa",
   "metadata": {},
   "outputs": [],
   "source": [
    "# plotting per sample results\n",
    "\n",
    "path=\"../raw_data/OTU_summary_tables\"\n",
    "dataset_labels=[\"cell 1, similarity 97\",\n",
    "                \"cell 1, similarity 99\",\n",
    "                \"cell 2, similarity 97\",\n",
    "                \"cell 2, similarity 99\",\n",
    "                \"combined cells, similarity 97\",\n",
    "                \"combined cells, similarity 99\"]\n",
    "\n",
    "\n",
    "fig, axes = plt.subplots(1, 2, sharex=True, sharey=True, figsize=(11.7,8.27))\n",
    "sns.set_style(\"white\")\n",
    "\n",
    "# vamp unfilt allsamples\n",
    "vamp_unfilt_plot=sns.barplot(ax=axes[0], data=vamp_unfilt_persample,\n",
    "                                y=\"sample\",\n",
    "                                x=\"num_otus\",\n",
    "                                hue=\"dataset\",\n",
    "                                palette=\"colorblind\")\n",
    "axes[0].set_title(\"rare OTUs included\")\n",
    "\n",
    "# vamp filt allsamples\n",
    "vamp_filt_plot=sns.barplot(ax=axes[1], data=vamp_filt_persample,\n",
    "                                y=\"sample\",\n",
    "                                x=\"num_otus\",\n",
    "                                hue=\"dataset\",\n",
    "                                palette=\"colorblind\")\n",
    "axes[1].set_title(\"rare OTUs filtered out\")\n",
    "\n",
    "\n",
    "\n",
    "# adjusting legend\n",
    "h, l = vamp_filt_plot.get_legend_handles_labels()\n",
    "vamp_filt_plot.legend(handles=h, \n",
    "                           labels=dataset_labels, \n",
    "                           title=\"Dataset\", \n",
    "                           loc='lower right', \n",
    "                           frameon=False);\n",
    "\n",
    "vamp_unfilt_plot.legend([],[], frameon=False)\n",
    "\n",
    "vamp_unfilt_plot.set(xlabel=\"\", ylabel=\"sample ID\")\n",
    "vamp_filt_plot.set(xlabel=\"\", ylabel = \"\")\n",
    "\n",
    "\n",
    "fig.text(0.5, 0.05, 'number of OTUs', ha='center')\n",
    "\n",
    "sns.despine()\n",
    "\n",
    "plt.savefig(f\"{path}/number_of_vamp_otus_persample.png\", dpi=300, transparent=False)"
   ]
  },
  {
   "cell_type": "markdown",
   "id": "729c5ca7",
   "metadata": {},
   "source": [
    "### Visualize vampyrellid OTUs that were filtered out based on their abundance"
   ]
  },
  {
   "cell_type": "code",
   "execution_count": null,
   "id": "a38b7034",
   "metadata": {},
   "outputs": [],
   "source": [
    "# variables\n",
    "input_dir_unfilt=\"../raw_data/OTU_summary_tables/unfiltered\"\n",
    "input_dir_filt=\"../raw_data/OTU_summary_tables\"\n",
    "samples=['A3', 'Mock', 'NH1', 'NH4', 'Sim17', 'Sim22', 'Th16', 'Th38', 'Th40', 'X17007']\n",
    "dataset_names=[\"cell1_sim97\", \"cell1_sim99\", \"cell2_sim97\", \"cell2_sim99\", \"cellCombined_sim97\", \"cellCombined_sim99\"]\n",
    "\n",
    "\n",
    "# load summary tables as dataframes\n",
    "sum_tables_filt = read_into_dic(dataset_names=dataset_names, input_dir=input_dir_filt)\n",
    "\n",
    "sum_tables_unfilt = read_into_dic(dataset_names=dataset_names, input_dir=input_dir_unfilt)\n",
    "\n",
    "\n",
    "# retrain only vampyrellida ASVs\n",
    "vamp_filt = filt_vamp(sum_tables_filt)\n",
    "vamp_unfilt = filt_vamp(sum_tables_unfilt)"
   ]
  },
  {
   "cell_type": "code",
   "execution_count": null,
   "id": "ae517b74",
   "metadata": {
    "scrolled": true
   },
   "outputs": [],
   "source": [
    "# create a dataframe for each dataset with the following columns:\n",
    "    # OTU ID\n",
    "    # total OTU abundance\n",
    "    # information on OTU was filtred out or not\n",
    "    # dataset name\n",
    "# and save each dataframe into the abundance_dict dictionary\n",
    "\n",
    "abundance_dict = {}\n",
    "sample=\"Total\"\n",
    "\n",
    "for dataset in vamp_filt.keys():\n",
    "    unfilt=vamp_unfilt[dataset][[\"ID\", sample]]\n",
    "    filt=vamp_filt[dataset][[\"ID\", sample]]\n",
    "    merged=unfilt.merge(filt.drop_duplicates(), on=[\"ID\"], how='left', indicator=True)\n",
    "    merged=merged.drop(columns=[f\"{sample}_y\"])\n",
    "    merged=merged.rename(columns={f\"{sample}_x\": \"abundance\", \"_merge\": \"filtered_out\"})\n",
    "    merged[\"filtered_out\"]=merged[\"filtered_out\"].map({\"left_only\": \"removed\", \"both\": \"retained\"})\n",
    "    merged[\"dataset\"]=f\"{dataset}\"\n",
    "    abundance_dict[dataset]=merged\n",
    "\n",
    "\n",
    "df_abundance=pd.concat(abundance_dict.values())"
   ]
  },
  {
   "cell_type": "code",
   "execution_count": null,
   "id": "713b0287",
   "metadata": {},
   "outputs": [],
   "source": [
    "# plotting: vampyrellid OTUs that were filtered out based on their abundance\n",
    "\n",
    "path=\"../raw_data/OTU_summary_tables\"\n",
    "\n",
    "\n",
    "sns.set_style(\"white\")\n",
    "\n",
    "palette = {'removed': \"#D81B60\", \"retained\": \"#1E88E5\"}\n",
    "\n",
    "abundance_plot=sns.catplot(data=df_abundance, \n",
    "                            x=\"dataset\", \n",
    "                            y=\"abundance\",\n",
    "                            hue=\"filtered_out\", \n",
    "                            palette=palette,  size=5, aspect=1.4)\n",
    "\n",
    "\n",
    "abundance_plot.set_xticklabels([\"cell 1\\nsim 97\",\n",
    "                                 \"cell 1\\nsim 99\",\n",
    "                                 \"cell 2\\nsim 97\",\n",
    "                                 \"cell 2\\nsim 99\",\n",
    "                                 \"comb.\\nsim 97\",\n",
    "                                 \"comb.\\nsim 99\"])\n",
    "\n",
    "abundance_plot.set(xlabel=\"dataset\", ylabel = \"abundance\")\n",
    "\n",
    "sns.move_legend(abundance_plot, title=\"\", loc=\"center right\")\n",
    "# plt.yscale('log')\n",
    "\n",
    "\n",
    "sns.despine()\n",
    "\n",
    "plt.savefig(f\"{path}/filtered_vs_retained_vamp_OTUs_mock.png\", dpi=300, transparent=False)"
   ]
  },
  {
   "cell_type": "code",
   "execution_count": null,
   "id": "29a25287",
   "metadata": {},
   "outputs": [],
   "source": [
    "# Save the list of removed and retained OTUs for combinedCell similarity99 dataset as excel\n",
    "\n",
    "path=\"../raw_data/OTU_summary_tables\"\n",
    "\n",
    "removed_vs_retained=abundance_dict[\"cellCombined_sim99\"]. \\\n",
    "                    sort_values(by=\"abundance\", ascending=False). \\\n",
    "                    drop(columns=[\"dataset\"])\n",
    "\n",
    "removed_vs_retained.to_excel(f\"{path}/filtered_vs_retained_table_cellComb_sim99.xlsx\", index=False)"
   ]
  },
  {
   "cell_type": "code",
   "execution_count": null,
   "id": "c566be52",
   "metadata": {},
   "outputs": [],
   "source": []
  },
  {
   "cell_type": "markdown",
   "id": "091d7bad",
   "metadata": {},
   "source": [
    "## Venn diagrams"
   ]
  },
  {
   "cell_type": "markdown",
   "id": "971e6adc",
   "metadata": {},
   "source": [
    "We want to determine how many OTUs are unique for each dataset/flows cells (cell1, cell2, and cellCombined), and how many OTUs are shared between the datasets. We will do it for dataset with OTUs created based on 99 similarity percentage."
   ]
  },
  {
   "cell_type": "code",
   "execution_count": 5,
   "id": "27eb60d2",
   "metadata": {},
   "outputs": [],
   "source": [
    "# functions\n",
    "def venn_df(dataset_dict):\n",
    "    \"\"\"Returns a dataframe with OTUs and their present/absent information for each dataset.\n",
    "    As an input, please enter the dictionary with three summary tables\"\"\"\n",
    "    df1, df2, df3 = dataset_dict.keys()\n",
    "    cell12=datasets[df1].merge(datasets[df2], on=[\"ID\"], indicator=True, how=\"outer\")\n",
    "    cell12[df1]=cell12[\"_merge\"].map({\"left_only\": 1, \"both\": 1, \"right_only\": 0})\n",
    "    cell12[df2]=cell12[\"_merge\"].map({\"left_only\": 0, \"both\": 1, \"right_only\": 1})\n",
    "    cell12.drop(columns=([\"dataset_x\", \"dataset_y\", \"_merge\"]), inplace=True)\n",
    "    venn_table=cell12.merge(datasets[df3], on=[\"ID\"], indicator=True, how=\"outer\")\n",
    "    venn_table[df3]=venn_table[\"_merge\"].map({\"left_only\": 0, \"both\": 1, \"right_only\": 1})\n",
    "    venn_table.drop(columns=([\"dataset\", \"_merge\"]), inplace=True)\n",
    "    venn_table[df1]=venn_table[df1].fillna(0)\n",
    "    venn_table[df2]=venn_table[df2].fillna(0)\n",
    "    return venn_table"
   ]
  },
  {
   "cell_type": "code",
   "execution_count": 15,
   "id": "aa1ce412",
   "metadata": {},
   "outputs": [],
   "source": [
    "# load summary tables of your choice\n",
    "\n",
    "# variables\n",
    "input_dir_unfilt=\"../raw_data/OTU_summary_tables/unfiltered\"\n",
    "samples=['A3', 'Mock', 'NH1', 'NH4', 'Sim17', 'Sim22', 'Th16', 'Th38', 'Th40', 'X17007']\n",
    "dataset_names=[\"cell1_sim97\", \"cell1_sim99\", \"cell2_sim97\", \"cell2_sim99\", \"cellCombined_sim97\", \"cellCombined_sim99\"]\n",
    "\n",
    "venn_datasets={}\n",
    "\n",
    "# all OTUs after filtered rare OTUs\n",
    "venn_datasets[\"all_otu_filt\"]=load_summary_to_dict()\n",
    "\n",
    "# retrain only vampyrellida ASVs\n",
    "venn_datasets[\"vamp_otu_filt\"]=filt_vamp(sum_tables)\n",
    "\n",
    "# rare OTUs unfiltered datasets, all OTUs\n",
    "venn_datasets[\"all_otu_unfilt\"]=read_into_dic(dataset_names=dataset_names, input_dir=input_dir_unfilt)\n",
    "\n",
    "# rare OTUs unfiltered datasets, retrain only vampyrellida ASVs\n",
    "venn_datasets[\"vamp_otu_unfilt\"]=filt_vamp(venn_datasets[\"all_otu_unfilt\"])"
   ]
  },
  {
   "cell_type": "code",
   "execution_count": 16,
   "id": "b99ffeee",
   "metadata": {},
   "outputs": [],
   "source": [
    "# for plotting, we need input files in a different format and not in dataframes (as above)\n",
    "# we need a dictionary with individual datasets as keys (set) and all the OTU IDs occured in a given dataset as values (list)\n",
    "\n",
    "subdataset_labels=[\"cell1_sim99\", \"cell2_sim99\", \"cellCombined_sim99\"]\n",
    "\n",
    "for dataset in venn_datasets.keys():\n",
    "    venn_datasets[dataset].pop(\"cell1_sim97\")\n",
    "    venn_datasets[dataset].pop(\"cell2_sim97\")\n",
    "    venn_datasets[dataset].pop(\"cellCombined_sim97\")\n",
    "    for subdataset in subdataset_labels:\n",
    "        venn_datasets[dataset][subdataset]=set(venn_datasets[dataset][subdataset].to_dict('list')['ID'])"
   ]
  },
  {
   "cell_type": "code",
   "execution_count": 57,
   "id": "6d9ea854",
   "metadata": {},
   "outputs": [
    {
     "data": {
      "image/png": "[encoded data removed]",
      "text/plain": [
       "<Figure size 576x576 with 4 Axes>"
      ]
     },
     "metadata": {},
     "output_type": "display_data"
    }
   ],
   "source": [
    "# venn diagram using the pyvenn library: https://pypi.org/project/venn/\n",
    "\n",
    "from matplotlib.colors import ListedColormap\n",
    "path=\"../raw_data/OTU_summary_tables\"\n",
    "dataset_labels=[\"all_otu_unfilt\", \"all_otu_filt\", \"vamp_otu_filt\", \"vamp_otu_filt\"]\n",
    "axes_labels=[\"ax1\", \"ax2\", \"ax3\", \"ax4\"]\n",
    "\n",
    "fig, ((ax1, ax2), (ax3, ax4)) = plt.subplots(nrows=2, ncols=2, figsize=(8,8))\n",
    "\n",
    "# all otus, rare OTUs rertained\n",
    "all_otu_unfilt_c = venn(venn_datasets[\"all_otu_unfilt\"],\n",
    "                      alpha=0.5,\n",
    "                      figsize=(10, 5),\n",
    "                      fontsize=9,\n",
    "                      legend_loc=None,\n",
    "                      cmap=ListedColormap([\"#CC79A7\", \"#009E73\", \"#0072B2\"]),\n",
    "                      ax=ax1)\n",
    "ax1.set_title(\"All taxa\\nRare OTUs included\", pad=5)\n",
    "\n",
    "\n",
    "# all otus, rare OTUs filtrated\n",
    "all_otu_filt_c = venn(venn_datasets[\"all_otu_filt\"],\n",
    "                      alpha=0.5,\n",
    "                      figsize=(10, 5),\n",
    "                      fontsize=9,\n",
    "                      legend_loc=None,\n",
    "                      cmap=ListedColormap([\"#CC79A7\", \"#009E73\", \"#0072B2\"]),\n",
    "                      ax=ax2)\n",
    "ax2.set_title(\"All taxa\\nRare OTUs filtered out\", pad=5)\n",
    "\n",
    "\n",
    "# vampyrella otus, rare OTUs retained\n",
    "vamp_otu_filt_c = venn(venn_datasets[\"vamp_otu_unfilt\"],\n",
    "                      alpha=0.5,\n",
    "                      figsize=(10, 5),\n",
    "                      fontsize=9,\n",
    "                      legend_loc=None,\n",
    "                      cmap=ListedColormap([\"#CC79A7\", \"#009E73\", \"#0072B2\"]),\n",
    "                      ax=ax3)\n",
    "ax3.set_title(\"Vampyrella-specific\\nRare OTUs included\", pad=5)\n",
    "\n",
    "# vampyrella otus, rare OTUs filtrated\n",
    "vamp_otu_filt_c = venn(venn_datasets[\"vamp_otu_filt\"],\n",
    "                      alpha=0.5,\n",
    "                      figsize=(10, 5),\n",
    "                      fontsize=9,\n",
    "                      legend_loc=None,\n",
    "                      cmap=ListedColormap([\"#CC79A7\", \"#009E73\", \"#0072B2\"]),\n",
    "                      ax=ax4)\n",
    "ax4.set_title(\"Vampyrella-specific\\nRare OTUs filtered out\", pad=5)\n",
    "\n",
    "# plt.subplots_adjust(top=1.01, bottom=1) \n",
    "\n",
    "plt.tight_layout()\n",
    "\n",
    "# save\n",
    "plt.savefig(f\"{path}/venn_datasets_sim99.png\", dpi=300, transparent=False, facecolor='white')"
   ]
  },
  {
   "cell_type": "code",
   "execution_count": null,
   "id": "236af194",
   "metadata": {},
   "outputs": [],
   "source": [
    "# creating tabels with OTU ID and dataset name columns for sim99 datasets\n",
    "# we will use the OTU IDs in the next step to find out which OTUs are unique and which are shared across the datasets\n",
    "\n",
    "# choose if you want to continue with all OTUs or just vampyrella specific OTUs\n",
    "sum_tables=sum_tables_vamp_unfilt\n",
    "\n",
    "datasets={}\n",
    "dataset_labels=[\"cell1_sim99\", \"cell2_sim99\", \"cellCombined_sim99\"]\n",
    "\n",
    "for dataset in dataset_labels:\n",
    "    sum_tables[dataset][\"dataset\"]=f\"{dataset}\"\n",
    "    datasets[dataset]=sum_tables[dataset][[\"ID\", \"dataset\"]]"
   ]
  },
  {
   "cell_type": "code",
   "execution_count": null,
   "id": "a77cdd0d",
   "metadata": {},
   "outputs": [],
   "source": [
    "# creating tabels with OTU ID and dataset name columns for sim99 datasets\n",
    "# we will use the OTU IDs in the next step to find out which OTUs are unique and which are shared across the datasets\n",
    "\n",
    "# choose if you want to continue with all OTUs or just vampyrella specific OTUs\n",
    "sum_tables=sum_tables_vamp_unfilt\n",
    "\n",
    "datasets={}\n",
    "dataset_labels=[\"cell1_sim99\", \"cell2_sim99\", \"cellCombined_sim99\"]\n",
    "\n",
    "for dataset in dataset_labels:\n",
    "    sum_tables[dataset][\"dataset\"]=f\"{dataset}\"\n",
    "    datasets[dataset]=sum_tables[dataset][[\"ID\", \"dataset\"]]"
   ]
  },
  {
   "cell_type": "code",
   "execution_count": null,
   "id": "055fb860",
   "metadata": {},
   "outputs": [],
   "source": [
    "# create a dataframe for venn diagrams\n",
    "venn_table=venn_df(datasets)"
   ]
  },
  {
   "cell_type": "code",
   "execution_count": null,
   "id": "395de74d",
   "metadata": {
    "scrolled": false
   },
   "outputs": [],
   "source": [
    "# checking the number of shared and unique OTUs between datasets\n",
    "venn_table[(venn_table[\"cell1_sim99\"] == 1) & \n",
    "           (venn_table[\"cell2_sim99\"] == 0) & \n",
    "           (venn_table[\"cellCombined_sim99\"] == 1)]"
   ]
  },
  {
   "cell_type": "code",
   "execution_count": null,
   "id": "d9fc0261",
   "metadata": {},
   "outputs": [],
   "source": []
  },
  {
   "cell_type": "code",
   "execution_count": null,
   "id": "2ad6e13b",
   "metadata": {},
   "outputs": [],
   "source": []
  },
  {
   "cell_type": "code",
   "execution_count": null,
   "id": "cdeb749a",
   "metadata": {},
   "outputs": [],
   "source": []
  },
  {
   "cell_type": "code",
   "execution_count": null,
   "id": "c3a5ade6",
   "metadata": {},
   "outputs": [],
   "source": []
  },
  {
   "cell_type": "code",
   "execution_count": null,
   "id": "ceefaad5",
   "metadata": {},
   "outputs": [],
   "source": []
  },
  {
   "cell_type": "code",
   "execution_count": null,
   "id": "ef29c30a",
   "metadata": {},
   "outputs": [],
   "source": []
  },
  {
   "cell_type": "code",
   "execution_count": null,
   "id": "66831412",
   "metadata": {},
   "outputs": [],
   "source": []
  },
  {
   "cell_type": "code",
   "execution_count": null,
   "id": "ed1a43b7",
   "metadata": {},
   "outputs": [],
   "source": []
  },
  {
   "cell_type": "code",
   "execution_count": null,
   "id": "4f33c98d",
   "metadata": {},
   "outputs": [],
   "source": []
  },
  {
   "cell_type": "code",
   "execution_count": null,
   "id": "43c3123f",
   "metadata": {},
   "outputs": [],
   "source": []
  },
  {
   "cell_type": "code",
   "execution_count": null,
   "id": "148037e4",
   "metadata": {},
   "outputs": [],
   "source": []
  },
  {
   "cell_type": "code",
   "execution_count": null,
   "id": "352bce20",
   "metadata": {},
   "outputs": [],
   "source": []
  },
  {
   "cell_type": "code",
   "execution_count": null,
   "id": "6416fe77",
   "metadata": {},
   "outputs": [],
   "source": []
  },
  {
   "cell_type": "code",
   "execution_count": null,
   "id": "44b1acf8",
   "metadata": {},
   "outputs": [],
   "source": []
  }
 ],
 "metadata": {
  "kernelspec": {
   "display_name": "Python 3 (ipykernel)",
   "language": "python",
   "name": "python3"
  },
  "language_info": {
   "codemirror_mode": {
    "name": "ipython",
    "version": 3
   },
   "file_extension": ".py",
   "mimetype": "text/x-python",
   "name": "python",
   "nbconvert_exporter": "python",
   "pygments_lexer": "ipython3",
   "version": "3.8.12"
  },
  "toc": {
   "base_numbering": 1,
   "nav_menu": {},
   "number_sections": true,
   "sideBar": true,
   "skip_h1_title": false,
   "title_cell": "Table of Contents",
   "title_sidebar": "Contents",
   "toc_cell": false,
   "toc_position": {},
   "toc_section_display": true,
   "toc_window_display": false
  }
 },
 "nbformat": 4,
 "nbformat_minor": 5
}
