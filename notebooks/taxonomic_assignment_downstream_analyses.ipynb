{
 "cells": [
  {
   "cell_type": "markdown",
   "id": "da856db9",
   "metadata": {},
   "source": [
    "# Taxonomic assignment: Downstream analyses"
   ]
  },
  {
   "cell_type": "code",
   "execution_count": null,
   "id": "2f063168",
   "metadata": {},
   "outputs": [],
   "source": [
    "pip install openpyxl"
   ]
  },
  {
   "cell_type": "code",
   "execution_count": 1,
   "id": "af53cc40",
   "metadata": {},
   "outputs": [
    {
     "name": "stderr",
     "output_type": "stream",
     "text": [
      "/home/lubo/.pyenv/versions/3.8.12/envs/lewagon/lib/python3.8/site-packages/scipy/__init__.py:146: UserWarning: A NumPy version >=1.16.5 and <1.23.0 is required for this version of SciPy (detected version 1.24.1\n",
      "  warnings.warn(f\"A NumPy version >={np_minversion} and <{np_maxversion}\"\n"
     ]
    }
   ],
   "source": [
    "import pandas as pd\n",
    "import seaborn as sns\n",
    "import matplotlib.pyplot as plt\n",
    "from openpyxl.workbook import Workbook"
   ]
  },
  {
   "cell_type": "code",
   "execution_count": 2,
   "id": "1be970a4",
   "metadata": {},
   "outputs": [],
   "source": [
    "# load dataset\n",
    "\n",
    "def load_data(marker, cell, sim):\n",
    "    # loading summary taxonomic assignment table into a dataframes\n",
    "    raw_data=\"../raw_data\"\n",
    "    data_path=f\"{raw_data}/OTU_summary_tables/otu_summary_table_{marker}_{cell}_{sim}.tsv\"\n",
    "    return pd.read_csv(data_path, sep=\"\\t\")"
   ]
  },
  {
   "cell_type": "markdown",
   "id": "46b9210c",
   "metadata": {},
   "source": [
    "### Summary tables"
   ]
  },
  {
   "cell_type": "code",
   "execution_count": 96,
   "id": "389a0213",
   "metadata": {},
   "outputs": [],
   "source": [
    "datasets={\"cellCombined_sim97\": \"\",\n",
    "          \"cellCombined_sim99\": \"\"}\n",
    "\n",
    "#           \"cell1_sim97\": \"\", \n",
    "#           \"cell1_sim99\": \"\", \n",
    "#           \"cell2_sim97\": \"\", \n",
    "#           \"cell2_sim99\": \"\",\n",
    "\n",
    "\n",
    "for dataset in datasets:\n",
    "    cell, sim = dataset.split(\"_\")\n",
    "    datasets[dataset]=load_data(\"Full18S\", cell, sim)"
   ]
  },
  {
   "cell_type": "code",
   "execution_count": null,
   "id": "9c33ae2b",
   "metadata": {},
   "outputs": [],
   "source": [
    "# save as an excel table\n",
    "otu_sim99.to_excel(f'ASV_summary_table_{marker}_{cell}_{sim}.xlsx')"
   ]
  },
  {
   "cell_type": "code",
   "execution_count": 95,
   "id": "6812afef",
   "metadata": {
    "scrolled": true
   },
   "outputs": [
    {
     "data": {
      "text/html": [
       "<div>\n",
       "<style scoped>\n",
       "    .dataframe tbody tr th:only-of-type {\n",
       "        vertical-align: middle;\n",
       "    }\n",
       "\n",
       "    .dataframe tbody tr th {\n",
       "        vertical-align: top;\n",
       "    }\n",
       "\n",
       "    .dataframe thead th {\n",
       "        text-align: right;\n",
       "    }\n",
       "</style>\n",
       "<table border=\"1\" class=\"dataframe\">\n",
       "  <thead>\n",
       "    <tr style=\"text-align: right;\">\n",
       "      <th></th>\n",
       "      <th>A3</th>\n",
       "      <th>Mock</th>\n",
       "      <th>NH1</th>\n",
       "      <th>NH4</th>\n",
       "      <th>Sim17</th>\n",
       "      <th>Sim22</th>\n",
       "      <th>Th16</th>\n",
       "      <th>Th38</th>\n",
       "      <th>Th40</th>\n",
       "      <th>X17007</th>\n",
       "      <th>Total</th>\n",
       "    </tr>\n",
       "  </thead>\n",
       "  <tbody>\n",
       "    <tr>\n",
       "      <th>cellCombined_sim97</th>\n",
       "      <td>112</td>\n",
       "      <td>18</td>\n",
       "      <td>76</td>\n",
       "      <td>87</td>\n",
       "      <td>218</td>\n",
       "      <td>125</td>\n",
       "      <td>159</td>\n",
       "      <td>107</td>\n",
       "      <td>127</td>\n",
       "      <td>75</td>\n",
       "      <td>560</td>\n",
       "    </tr>\n",
       "    <tr>\n",
       "      <th>cellCombined_sim99</th>\n",
       "      <td>98</td>\n",
       "      <td>18</td>\n",
       "      <td>92</td>\n",
       "      <td>123</td>\n",
       "      <td>271</td>\n",
       "      <td>134</td>\n",
       "      <td>162</td>\n",
       "      <td>116</td>\n",
       "      <td>131</td>\n",
       "      <td>57</td>\n",
       "      <td>731</td>\n",
       "    </tr>\n",
       "  </tbody>\n",
       "</table>\n",
       "</div>"
      ],
      "text/plain": [
       "                     A3  Mock  NH1  NH4  Sim17  Sim22  Th16  Th38  Th40  \\\n",
       "cellCombined_sim97  112    18   76   87    218    125   159   107   127   \n",
       "cellCombined_sim99   98    18   92  123    271    134   162   116   131   \n",
       "\n",
       "                    X17007  Total  \n",
       "cellCombined_sim97      75    560  \n",
       "cellCombined_sim99      57    731  "
      ]
     },
     "execution_count": 95,
     "metadata": {},
     "output_type": "execute_result"
    }
   ],
   "source": [
    "samples=['A3', 'Mock', 'NH1', 'NH4', 'Sim17', 'Sim22', 'Th16', 'Th38',\n",
    "       'Th40', 'X17007', 'Total']\n",
    "\n",
    "# creating a dictonary with sample names where we will store abundance information for each sample\n",
    "abundance = {}\n",
    "for sample in samples:\n",
    "    abundance[sample] = []\n",
    "\n",
    "# loop through each dataset and calculate otu abundance for each sample\n",
    "for dataset in datasets:\n",
    "    for sample_name in samples:\n",
    "        abundance[f'{sample_name}'].append(len(datasets[dataset][datasets[dataset][f'{sample_name}'] != 0]))\n",
    "    \n",
    "df = pd.DataFrame(data=abundance, index=datasets.keys())\n",
    "df"
   ]
  },
  {
   "cell_type": "code",
   "execution_count": null,
   "id": "5a29be13",
   "metadata": {},
   "outputs": [],
   "source": []
  },
  {
   "cell_type": "markdown",
   "id": "f2c6cffc",
   "metadata": {},
   "source": [
    "### Vampyrella specific data"
   ]
  },
  {
   "cell_type": "code",
   "execution_count": null,
   "id": "ea2cbb2d",
   "metadata": {
    "scrolled": false
   },
   "outputs": [],
   "source": [
    "asv_data"
   ]
  },
  {
   "cell_type": "code",
   "execution_count": null,
   "id": "483ed1ba",
   "metadata": {},
   "outputs": [],
   "source": [
    "asv_data.info()"
   ]
  },
  {
   "cell_type": "code",
   "execution_count": null,
   "id": "cf94106b",
   "metadata": {
    "scrolled": true
   },
   "outputs": [],
   "source": [
    "# vampyrellida ASVs\n",
    "\n",
    "vamp99 = otu_sim99[otu_sim99['Order'] == 'Vampyrellida']\n",
    "\n",
    "vamp99[['ID', 'Total', 'A3', 'Mock', 'NH1', 'NH4', 'Sim17', 'Sim22', 'Th16',\n",
    "   'Th38', 'Th40', 'X17007', 'Order', 'Family', 'Genus', 'Species', \n",
    "   'Percent_similarity']]"
   ]
  },
  {
   "cell_type": "code",
   "execution_count": null,
   "id": "f1ee2d3d",
   "metadata": {},
   "outputs": [],
   "source": [
    "vamp99[vamp99['Mock'] != 0]"
   ]
  },
  {
   "cell_type": "markdown",
   "id": "9dc2b7cc",
   "metadata": {},
   "source": [
    "## Raw reads"
   ]
  },
  {
   "cell_type": "code",
   "execution_count": null,
   "id": "ed56b190",
   "metadata": {},
   "outputs": [],
   "source": []
  },
  {
   "cell_type": "code",
   "execution_count": null,
   "id": "44b1acf8",
   "metadata": {},
   "outputs": [],
   "source": []
  }
 ],
 "metadata": {
  "kernelspec": {
   "display_name": "Python 3 (ipykernel)",
   "language": "python",
   "name": "python3"
  },
  "language_info": {
   "codemirror_mode": {
    "name": "ipython",
    "version": 3
   },
   "file_extension": ".py",
   "mimetype": "text/x-python",
   "name": "python",
   "nbconvert_exporter": "python",
   "pygments_lexer": "ipython3",
   "version": "3.8.12"
  },
  "toc": {
   "base_numbering": 1,
   "nav_menu": {},
   "number_sections": true,
   "sideBar": true,
   "skip_h1_title": false,
   "title_cell": "Table of Contents",
   "title_sidebar": "Contents",
   "toc_cell": false,
   "toc_position": {},
   "toc_section_display": true,
   "toc_window_display": false
  }
 },
 "nbformat": 4,
 "nbformat_minor": 5
}
