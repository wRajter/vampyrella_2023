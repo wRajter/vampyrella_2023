{
 "cells": [
  {
   "cell_type": "markdown",
   "id": "476c0aef",
   "metadata": {},
   "source": [
    "## Imports"
   ]
  },
  {
   "cell_type": "code",
   "execution_count": 1,
   "id": "cf2b9d0c",
   "metadata": {},
   "outputs": [],
   "source": [
    "import os\n",
    "import pandas as pd\n",
    "import seaborn as sns\n",
    "import sys\n",
    "\n",
    "# Custome functions\n",
    "sys.path.append('../scripts/python')\n",
    "from taxonomic_composition_tables import adjust_suthaus_2020_df, prepare_data_for_plotting, plot_taxonomic_data"
   ]
  },
  {
   "cell_type": "markdown",
   "id": "267218dc",
   "metadata": {},
   "source": [
    "## Global variables"
   ]
  },
  {
   "cell_type": "code",
   "execution_count": 2,
   "id": "e7945e64",
   "metadata": {},
   "outputs": [],
   "source": [
    "project = 'Suthaus_2022'\n",
    "cell = 'cellCombined'\n",
    "marker = 'Full18S'\n",
    "sim = 'sim90'\n",
    "denoise_method = 'RAD'\n",
    "raw_data = os.path.join('..', 'raw_data')\n",
    "tax_assign_results = os.path.join(raw_data, 'tax_assign_results', project, marker, cell, sim, denoise_method)\n",
    "otu_results = os.path.join(raw_data, 'OTU_results', project)"
   ]
  },
  {
   "cell_type": "markdown",
   "id": "d6c3ea4d",
   "metadata": {
    "heading_collapsed": true
   },
   "source": [
    "# Creating taxonomic table"
   ]
  },
  {
   "cell_type": "code",
   "execution_count": null,
   "id": "72de5349",
   "metadata": {
    "hidden": true
   },
   "outputs": [],
   "source": [
    "# VARIABLES\n",
    "\n",
    "project = 'Jamy_2022'\n",
    "cell = 'cell'\n",
    "marker = 'rDNA'\n",
    "sim = 'sim97'\n",
    "raw_data = '../raw_data'\n",
    "tax_assign_results =  f'{raw_data}/tax_assign_results/{project}/{marker}/{cell}/{sim}'\n",
    "otu_results = f'{raw_data}/OTU_results/{project}'"
   ]
  },
  {
   "cell_type": "code",
   "execution_count": null,
   "id": "94ecee0d",
   "metadata": {
    "hidden": true
   },
   "outputs": [],
   "source": [
    "# get paths\n",
    "\n",
    "files = os.listdir(tax_assign_results)\n",
    "paths = [tax_assign_results + '/' + file for file in files]\n",
    "\n",
    "record = {'otu_id': [], \n",
    "          'abundance': [],\n",
    "          'kingdom': [], \n",
    "          'domain': [], \n",
    "          'phyllum': [], \n",
    "          'class': [], \n",
    "          'order': [], \n",
    "          'family': [], \n",
    "          'genus': [], \n",
    "          'species': [], \n",
    "          'closest_match': [],\n",
    "          'percent_identity': [], \n",
    "          'sample': []}\n",
    "    \n",
    "for path in paths:\n",
    "    with open(path, 'rt') as f:\n",
    "        lines = f.readlines()\n",
    "        for line in lines:\n",
    "            record['otu_id'].append(line.split('\\t')[0])\n",
    "            record['abundance'].append(line.split('\\t')[0].split('=')[-1])\n",
    "            tax_assign = line.split('\\t')[1]\n",
    "            record['kingdom'].append(tax_assign.split(',')[0].split(':')[1])\n",
    "            record['domain'].append(tax_assign.split(',')[1].lstrip('d:'))\n",
    "            record['phyllum'].append(tax_assign.split(',')[2].lstrip('p:'))\n",
    "            record['class'].append(tax_assign.split(',')[3].lstrip('c:'))\n",
    "            record['order'].append(tax_assign.split(',')[4].lstrip('o:'))\n",
    "            record['family'].append(tax_assign.split(',')[5].lstrip('f:'))\n",
    "            record['genus'].append(tax_assign.split(',')[6].lstrip('g:'))\n",
    "            record['species'].append(tax_assign.split(',')[7].lstrip('s:'))\n",
    "            record['closest_match'].append(line.split('\\t')[1].split(';')[0].split('.')[0])\n",
    "            record['percent_identity'].append(line.split('\\t')[2])\n",
    "            record['sample'].append(path.split('/')[-1].lstrip('blast6_').rstrip('.tab'))\n",
    "\n",
    "        \n",
    "sum_table = pd.DataFrame.from_dict(record)"
   ]
  },
  {
   "cell_type": "code",
   "execution_count": null,
   "id": "8dc829f9",
   "metadata": {
    "hidden": true
   },
   "outputs": [],
   "source": [
    "# removing the '_21R' from all the sample names if present (this applied for Suthaus 2022 rDNA data)\n",
    "sum_table['sample'] = sum_table['sample'].str.replace('_21R','')"
   ]
  },
  {
   "cell_type": "code",
   "execution_count": null,
   "id": "74b24e68",
   "metadata": {
    "hidden": true
   },
   "outputs": [],
   "source": [
    "sum_table_filtered = sum_table[sum_table['abundance'] != '1']"
   ]
  },
  {
   "cell_type": "code",
   "execution_count": null,
   "id": "3a3d1bb2",
   "metadata": {
    "hidden": true
   },
   "outputs": [],
   "source": [
    "# save the summary table as excel tables\n",
    "\n",
    "sum_table.to_excel(f'{otu_results}/OTU_summary_table_{marker}_{cell}_{sim}.xlsx')"
   ]
  },
  {
   "cell_type": "code",
   "execution_count": null,
   "id": "3ec2c48a",
   "metadata": {
    "hidden": true
   },
   "outputs": [],
   "source": [
    "# save the summary table as tsv tables\n",
    "\n",
    "sum_table.to_csv(f'{otu_results}/OTU_summary_table_{marker}_{cell}_{sim}.tsv', sep = '\\t')"
   ]
  },
  {
   "cell_type": "code",
   "execution_count": null,
   "id": "ab2adfa8",
   "metadata": {
    "hidden": true
   },
   "outputs": [],
   "source": [
    "# save the filtered summary table as tsv tables\n",
    "\n",
    "sum_table_filtered.to_csv(f'{otu_results}/OTU_summary_table_{marker}_{cell}_{sim}_filtered.tsv', sep = '\\t')"
   ]
  },
  {
   "cell_type": "code",
   "execution_count": null,
   "id": "9161adf5",
   "metadata": {
    "hidden": true
   },
   "outputs": [],
   "source": []
  },
  {
   "cell_type": "markdown",
   "id": "c14438ec",
   "metadata": {
    "heading_collapsed": true
   },
   "source": [
    "# Creating final taxonomic table"
   ]
  },
  {
   "cell_type": "markdown",
   "id": "28ab4aa8",
   "metadata": {
    "heading_collapsed": true,
    "hidden": true
   },
   "source": [
    "## DataFrame"
   ]
  },
  {
   "cell_type": "markdown",
   "id": "0561bd9d",
   "metadata": {
    "hidden": true
   },
   "source": [
    "Read all the files from the tax_assign_results directory and concatenate them into a single DataFrame"
   ]
  },
  {
   "cell_type": "code",
   "execution_count": null,
   "id": "df2b77d2",
   "metadata": {
    "hidden": true
   },
   "outputs": [],
   "source": [
    "# 1. List all files in the directory\n",
    "files = [f for f in os.listdir(tax_assign_results) if f.endswith('.tab')]\n",
    "\n",
    "# 2. Iterate over each file\n",
    "dfs = []\n",
    "\n",
    "for f in files:\n",
    "    # extract sample name\n",
    "    sample_name = f.split('_')[1]\n",
    "    # Load file into DataFrame\n",
    "    df = pd.read_csv(f'{tax_assign_results}/{f}', sep='\\t', header=None)\n",
    "    # Add a new column for sample name\n",
    "    df['Sample'] = sample_name\n",
    "    dfs.append(df)\n",
    "\n",
    "# 3. Concatenate all DataFrames\n",
    "all_samples = pd.concat(dfs, ignore_index=True)\n",
    "\n",
    "# 4. Dataframe adjustments\n",
    "all_samples = adjust_suthaus_2020_df(all_samples)"
   ]
  },
  {
   "cell_type": "code",
   "execution_count": null,
   "id": "d1f435b6",
   "metadata": {
    "hidden": true,
    "scrolled": true
   },
   "outputs": [],
   "source": [
    "all_samples.head(5)"
   ]
  },
  {
   "cell_type": "code",
   "execution_count": null,
   "id": "9201336d",
   "metadata": {
    "hidden": true
   },
   "outputs": [],
   "source": [
    "all_samples['Sample'].unique()"
   ]
  },
  {
   "cell_type": "code",
   "execution_count": null,
   "id": "e515d472",
   "metadata": {
    "hidden": true
   },
   "outputs": [],
   "source": [
    "# Save the DataFrame to CSV\n",
    "output_filename = f'final_tax_table_{marker}_{sim}.csv'\n",
    "output_path = os.path.join(otu_results, output_filename)\n",
    "\n",
    "all_samples.to_csv(output_path, index=False)"
   ]
  },
  {
   "cell_type": "markdown",
   "id": "9f607ecd",
   "metadata": {
    "heading_collapsed": true
   },
   "source": [
    "# Taxonomic composition plots"
   ]
  },
  {
   "cell_type": "markdown",
   "id": "075e8dd9",
   "metadata": {
    "heading_collapsed": true,
    "hidden": true
   },
   "source": [
    "## Variables"
   ]
  },
  {
   "cell_type": "code",
   "execution_count": null,
   "id": "5c79c3ca",
   "metadata": {
    "hidden": true
   },
   "outputs": [],
   "source": [
    "grouping = 'unique_otus' # Options: 'unique_otus' or 'abundances'\n",
    "taxonomic_level = 'Class' # Taxonomic level for the plotting\n",
    "threshold_percentage = 0 # Set the percentage treshold based on what the tax. groups will be grouped together as 'Others'\n",
    "save_path = os.path.join(otu_results, f'tax_composition_{taxonomic_level}_{grouping}_{marker}_{sim}.png')\n",
    "load_data_path = os.path.join(otu_results, f'final_tax_table_{marker}_{sim}.csv')\n",
    "\n",
    "# Define the new sample names if you want to change it in the plot\n",
    "sample_name_mapping = {'deep_sea_A3': 'Deep Sea A3', \n",
    "                       'deep_sea_X17007': 'Deep Sea X17007', \n",
    "                       'NH1': 'Neuenhähnen 1', \n",
    "                       'NH4': 'Neuenhähnen 4', \n",
    "                       'Sim17': 'Simmelried 17', \n",
    "                       'Sim22': 'Simmelried 22', \n",
    "                       'Th16': 'Thielenbruch 16', \n",
    "                       'Th38': 'Thielenbruch 38',\n",
    "                       'Th40': 'Thielenbruch 40',}"
   ]
  },
  {
   "cell_type": "markdown",
   "id": "600a9321",
   "metadata": {
    "hidden": true
   },
   "source": [
    "## Loading data"
   ]
  },
  {
   "cell_type": "code",
   "execution_count": null,
   "id": "675b3a1b",
   "metadata": {
    "hidden": true
   },
   "outputs": [],
   "source": [
    "all_samples = pd.read_csv(load_data_path)"
   ]
  },
  {
   "cell_type": "markdown",
   "id": "ed535e22",
   "metadata": {
    "hidden": true
   },
   "source": [
    "## Filtering out unwanted samples and taxonomic groups"
   ]
  },
  {
   "cell_type": "code",
   "execution_count": null,
   "id": "9597ea14",
   "metadata": {
    "hidden": true
   },
   "outputs": [],
   "source": [
    "# Filter out the 'Mock' sample, 'Bacteria_X' domain, and 'Metazoa' phyllum\n",
    "filtered_samples = all_samples[(all_samples['Sample'] != 'Mock') \n",
    "                               & (all_samples['Domain'] != 'Bacteria_X') \n",
    "                               & (all_samples['Phyllum'] != 'Metazoa')]"
   ]
  },
  {
   "cell_type": "markdown",
   "id": "b8c4d26a",
   "metadata": {
    "hidden": true
   },
   "source": [
    "## Preparing data for plotting"
   ]
  },
  {
   "cell_type": "code",
   "execution_count": null,
   "id": "0eb950ea",
   "metadata": {
    "hidden": true
   },
   "outputs": [],
   "source": [
    "# Preparing data for plotting\n",
    "pivot_table, excluded_columns = prepare_data_for_plotting(dataframe = filtered_samples, \n",
    "                                                          taxonomic_level = taxonomic_level, \n",
    "                                                          threshold_percentage = threshold_percentage, grouping = grouping)"
   ]
  },
  {
   "cell_type": "markdown",
   "id": "d7df4a54",
   "metadata": {
    "hidden": true
   },
   "source": [
    "## Plotting & Saving"
   ]
  },
  {
   "cell_type": "code",
   "execution_count": null,
   "id": "ff939269",
   "metadata": {
    "hidden": true
   },
   "outputs": [],
   "source": [
    "plot_taxonomic_data(pivot_table, \n",
    "                    excluded_columns, \n",
    "                    taxonomic_level = taxonomic_level, \n",
    "                    grouping= grouping, \n",
    "                    sample_name_mapping = sample_name_mapping,\n",
    "                    save_path = False)"
   ]
  },
  {
   "cell_type": "markdown",
   "id": "c56ce26c",
   "metadata": {},
   "source": [
    "# Taxonomic composition plots: Subgrouping"
   ]
  },
  {
   "cell_type": "markdown",
   "id": "62f59c89",
   "metadata": {},
   "source": [
    "Examining taxonomic composition within a specific group"
   ]
  },
  {
   "cell_type": "markdown",
   "id": "660b0f4c",
   "metadata": {},
   "source": [
    "## Variables"
   ]
  },
  {
   "cell_type": "code",
   "execution_count": null,
   "id": "096efe2a",
   "metadata": {},
   "outputs": [],
   "source": [
    "all_samples"
   ]
  },
  {
   "cell_type": "code",
   "execution_count": null,
   "id": "0d0fd78c",
   "metadata": {},
   "outputs": [],
   "source": [
    "all_samples['Phyllum'].unique()"
   ]
  },
  {
   "cell_type": "code",
   "execution_count": 3,
   "id": "ef7bce98",
   "metadata": {},
   "outputs": [],
   "source": [
    "grouping = 'unique_otus' # Options: 'unique_otus' or 'abundances'\n",
    "taxonomic_level = 'Species' # Taxonomic level for the plotting\n",
    "threshold_percentage = 2 # Set the percentage treshold based on what the tax. groups will be grouped together as 'Others'\n",
    "\n",
    "# Subgrouping Option:\n",
    "# If you wish to further examine the taxonomic composition within a specific group, \n",
    "# provide the specific taxa and its corresponding taxonomic level.\n",
    "taxa_specific = 'Armophorea' \n",
    "taxa_specific_level = 'Class' \n",
    "\n",
    "load_data_path = os.path.join(otu_results, f'final_tax_table_{marker}_{sim}.csv')\n",
    "save_path = os.path.join(otu_results, f'tax_composition_{taxonomic_level}_{grouping}_{marker}_{sim}_{taxa_specific}.png')\n",
    "\n",
    "# Define the new sample names if you want to change it in the plot\n",
    "sample_name_mapping = {'deep_sea_A3': 'Deep Sea A3', \n",
    "                       'deep_sea_X17007': 'Deep Sea X17007', \n",
    "                       'NH1': 'Neuenhähnen 1', \n",
    "                       'NH4': 'Neuenhähnen 4', \n",
    "                       'Sim17': 'Simmelried 17', \n",
    "                       'Sim22': 'Simmelried 22', \n",
    "                       'Th16': 'Thielenbruch 16', \n",
    "                       'Th38': 'Thielenbruch 38',\n",
    "                       'Th40': 'Thielenbruch 40',}"
   ]
  },
  {
   "cell_type": "markdown",
   "id": "2f8b7797",
   "metadata": {},
   "source": [
    "## Loading data"
   ]
  },
  {
   "cell_type": "code",
   "execution_count": 4,
   "id": "46ddf711",
   "metadata": {},
   "outputs": [],
   "source": [
    "all_samples = pd.read_csv(load_data_path)"
   ]
  },
  {
   "cell_type": "markdown",
   "id": "abbf8371",
   "metadata": {},
   "source": [
    "## Selecting specific taxonomic group"
   ]
  },
  {
   "cell_type": "code",
   "execution_count": 5,
   "id": "f75a55b4",
   "metadata": {},
   "outputs": [],
   "source": [
    "# Filter the samples based on the specified taxonomic group and its level.\n",
    "subgrouped_samples = all_samples[all_samples[taxa_specific_level] == taxa_specific]"
   ]
  },
  {
   "cell_type": "markdown",
   "id": "5df1b9db",
   "metadata": {},
   "source": [
    "## Filtering out unwanted samples and taxonomic groups"
   ]
  },
  {
   "cell_type": "code",
   "execution_count": 6,
   "id": "7d889b1e",
   "metadata": {},
   "outputs": [],
   "source": [
    "# Filter out the 'Mock' sample, 'Bacteria_X' domain, and 'Metazoa' phyllum\n",
    "filtered_samples = subgrouped_samples[(subgrouped_samples['Sample'] != 'Mock') \n",
    "                                      & (subgrouped_samples['Domain'] != 'Bacteria_X') \n",
    "                                      & (subgrouped_samples['Phyllum'] != 'Metazoa')]"
   ]
  },
  {
   "cell_type": "markdown",
   "id": "1ecf2bd1",
   "metadata": {},
   "source": [
    "## Preparing data for plotting"
   ]
  },
  {
   "cell_type": "code",
   "execution_count": 7,
   "id": "d1223af3",
   "metadata": {},
   "outputs": [],
   "source": [
    "# Preparing data for plotting\n",
    "pivot_table, excluded_columns = prepare_data_for_plotting(dataframe = filtered_samples, \n",
    "                                                          taxonomic_level = taxonomic_level, \n",
    "                                                          threshold_percentage = threshold_percentage, grouping = grouping)"
   ]
  },
  {
   "cell_type": "markdown",
   "id": "c9b5e50c",
   "metadata": {},
   "source": [
    "## Plotting"
   ]
  },
  {
   "cell_type": "code",
   "execution_count": 8,
   "id": "33a257ff",
   "metadata": {},
   "outputs": [
    {
     "data": {
      "image/png": "[encoded data removed]",
      "text/plain": [
       "<Figure size 1000x700 with 1 Axes>"
      ]
     },
     "metadata": {},
     "output_type": "display_data"
    }
   ],
   "source": [
    "plot_taxonomic_data(pivot_table, \n",
    "                    excluded_columns, \n",
    "                    taxonomic_level = taxonomic_level, \n",
    "                    grouping= grouping, \n",
    "                    sample_name_mapping = sample_name_mapping,\n",
    "                    save_path = False, \n",
    "                    subgroup = taxa_specific)"
   ]
  },
  {
   "cell_type": "code",
   "execution_count": null,
   "id": "0a69d2d9",
   "metadata": {},
   "outputs": [],
   "source": []
  },
  {
   "cell_type": "code",
   "execution_count": null,
   "id": "5b0d72e7",
   "metadata": {},
   "outputs": [],
   "source": []
  },
  {
   "cell_type": "code",
   "execution_count": null,
   "id": "99cf1770",
   "metadata": {},
   "outputs": [],
   "source": []
  },
  {
   "cell_type": "code",
   "execution_count": null,
   "id": "df151101",
   "metadata": {},
   "outputs": [],
   "source": []
  },
  {
   "cell_type": "code",
   "execution_count": null,
   "id": "59f38a88",
   "metadata": {},
   "outputs": [],
   "source": []
  },
  {
   "cell_type": "code",
   "execution_count": null,
   "id": "74b2e60c",
   "metadata": {},
   "outputs": [],
   "source": []
  }
 ],
 "metadata": {
  "kernelspec": {
   "display_name": "Python 3 (ipykernel)",
   "language": "python",
   "name": "python3"
  },
  "language_info": {
   "codemirror_mode": {
    "name": "ipython",
    "version": 3
   },
   "file_extension": ".py",
   "mimetype": "text/x-python",
   "name": "python",
   "nbconvert_exporter": "python",
   "pygments_lexer": "ipython3",
   "version": "3.10.8"
  },
  "toc": {
   "base_numbering": 1,
   "nav_menu": {},
   "number_sections": true,
   "sideBar": true,
   "skip_h1_title": false,
   "title_cell": "Table of Contents",
   "title_sidebar": "Contents",
   "toc_cell": false,
   "toc_position": {},
   "toc_section_display": true,
   "toc_window_display": false
  }
 },
 "nbformat": 4,
 "nbformat_minor": 5
}
