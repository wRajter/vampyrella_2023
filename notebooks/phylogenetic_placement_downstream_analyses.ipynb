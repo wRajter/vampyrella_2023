{
 "cells": [
  {
   "cell_type": "code",
   "execution_count": 1,
   "id": "b19b590f",
   "metadata": {},
   "outputs": [
    {
     "name": "stderr",
     "output_type": "stream",
     "text": [
      "/home/lubo/.pyenv/versions/3.8.12/envs/lewagon/lib/python3.8/site-packages/scipy/__init__.py:146: UserWarning: A NumPy version >=1.16.5 and <1.23.0 is required for this version of SciPy (detected version 1.24.1\n",
      "  warnings.warn(f\"A NumPy version >={np_minversion} and <{np_maxversion}\"\n"
     ]
    }
   ],
   "source": [
    "# load modules\n",
    "import pandas as pd\n",
    "import seaborn as sns\n",
    "import matplotlib.pyplot as plt\n",
    "from venn import venn\n",
    "from matplotlib.colors import ListedColormap"
   ]
  },
  {
   "cell_type": "markdown",
   "id": "5431b9fe",
   "metadata": {},
   "source": [
    "## Summary tables"
   ]
  },
  {
   "cell_type": "code",
   "execution_count": 2,
   "id": "b84baf82",
   "metadata": {},
   "outputs": [],
   "source": [
    "raw_data=\"../raw_data\"\n",
    "data_path=f\"{raw_data}/phyl_placement/vampyrellida/downstream_analyses/tax_assignment/tax_assign_summary_table.tsv\"\n",
    "\n",
    "sum_table=pd.read_csv(data_path, sep=\"\\t\")"
   ]
  },
  {
   "cell_type": "code",
   "execution_count": 3,
   "id": "1142096b",
   "metadata": {},
   "outputs": [],
   "source": [
    "# Adjust summary table\n",
    "\n",
    "# get rid off allsamples otus\n",
    "sum_table=sum_table[sum_table[\"sample_id\"] != \"allsamples\"]\n",
    "\n",
    "# get sample as a categorical variable into indicator (1/0) variable\n",
    "sum_table=pd.get_dummies(sum_table, columns=[\"sample_id\"], prefix=\"\", prefix_sep=\"\")\n",
    "\n",
    "# split the taxopath column into individual columns (each for one taxon level)\n",
    "taxpath_labels=[\"Kingdom\", \"Domain\", \"Phyllum\", \"Class\", \"Order\", \"Family\", \"Genus\", \"Species\"]\n",
    "sum_table[taxpath_labels]=sum_table[\"taxopath\"].str.split(pat=\";\", expand=True)\n",
    "sum_table=sum_table.drop(columns=[\"taxopath\"])\n",
    "\n",
    "sum_table.sort_values(by=\"otu_id\", inplace=True)"
   ]
  },
  {
   "cell_type": "code",
   "execution_count": 5,
   "id": "afd896c6",
   "metadata": {},
   "outputs": [],
   "source": [
    "# save as tsv\n",
    "raw_data=\"../raw_data\"\n",
    "data_path=f\"{raw_data}/phyl_placement/vampyrellida/downstream_analyses/results\"\n",
    "\n",
    "sum_table.to_csv(f\"{data_path}/summary_table.tsv\", sep=\"\\t\", index=False)"
   ]
  },
  {
   "cell_type": "markdown",
   "id": "63cd8345",
   "metadata": {},
   "source": [
    "## Comparing taxonomic assignment and phylogenetic placement methods"
   ]
  },
  {
   "cell_type": "markdown",
   "id": "8ec3a963",
   "metadata": {},
   "source": [
    "### Load data"
   ]
  },
  {
   "cell_type": "code",
   "execution_count": 6,
   "id": "c9e5affc",
   "metadata": {},
   "outputs": [],
   "source": [
    "# taxonomic assignment table\n",
    "marker=\"Full18S\"\n",
    "cell=\"cellCombined\"\n",
    "sim=\"sim99\"\n",
    "raw_data=\"../raw_data\"\n",
    "data_path=f\"{raw_data}/OTU_results/otu_summary_table_{marker}_{cell}_{sim}.tsv\"\n",
    "tax_assign=pd.read_csv(data_path, sep=\"\\t\")\n",
    "tax_assign=tax_assign[tax_assign[\"Order\"] == \"Vampyrellida\"] # filter only vampyrellids\n",
    "tax_assign=tax_assign.drop(columns=[\"Sequence\"]) # drop the sequence column that we don't need"
   ]
  },
  {
   "cell_type": "code",
   "execution_count": 7,
   "id": "689fa0e7",
   "metadata": {},
   "outputs": [],
   "source": [
    "# phylogenetic placement\n",
    "raw_data=\"../raw_data\"\n",
    "data_path=f\"{raw_data}/phyl_placement/vampyrellida/downstream_analyses/tax_assignment/tax_assign_summary_table.tsv\"\n",
    "\n",
    "phyl_placement=pd.read_csv(data_path, sep=\"\\t\")\n",
    "phyl_placement=phyl_placement[phyl_placement[\"sample_id\"] == \"allsamples\"]\n",
    "# split the taxopath column into individual columns (each for one taxon level)\n",
    "taxpath_labels=[\"Kingdom\", \"Domain\", \"Phyllum\", \"Class\", \"Order\", \"Family\", \"Genus\", \"Species\"]\n",
    "phyl_placement[taxpath_labels]=phyl_placement[\"taxopath\"].str.split(pat=\";\", expand=True)\n",
    "phyl_placement=phyl_placement.drop(columns=[\"taxopath\"])"
   ]
  },
  {
   "cell_type": "code",
   "execution_count": 9,
   "id": "d47cf12f",
   "metadata": {},
   "outputs": [],
   "source": [
    "# prepare data for plotting\n",
    "tax_levels=[\"Order\", \"Family\", \"Genus\", \"Species\"]\n",
    "data={\"taxonomy\": [],\n",
    "     \"count\": [],\n",
    "     \"method\": []}\n",
    "\n",
    "for tax_level in tax_levels:\n",
    "    # loop for the taxonomic assignment part\n",
    "    data[\"taxonomy\"].append(tax_level)\n",
    "    data[\"count\"].append(tax_assign[tax_level].count())\n",
    "    data[\"method\"].append(\"taxonomic assignment\")\n",
    "    # loop for the phylogenetic placement part\n",
    "    data[\"taxonomy\"].append(tax_level)\n",
    "    data[\"count\"].append(phyl_placement[tax_level].count())\n",
    "    data[\"method\"].append(\"phylogenetic placement\")"
   ]
  },
  {
   "cell_type": "code",
   "execution_count": 68,
   "id": "1769d56e",
   "metadata": {},
   "outputs": [
    {
     "data": {
      "image/png": "[encoded data removed]",
      "text/plain": [
       "<Figure size 432x288 with 1 Axes>"
      ]
     },
     "metadata": {},
     "output_type": "display_data"
    }
   ],
   "source": [
    "# plotting\n",
    "raw_data=\"../raw_data\"\n",
    "data_path=f\"{raw_data}/phyl_placement/vampyrellida/downstream_analyses/results\"\n",
    "\n",
    "\n",
    "sns.set_style(\"white\")\n",
    "sns.barplot(data=data, x=\"taxonomy\", y=\"count\", hue=\"method\", palette=[\"#D81B60\", \"#1E88E5\"])\n",
    "\n",
    "sns.despine();\n",
    "\n",
    "# save\n",
    "plt.savefig(f\"{data_path}/assignment_method_comparison.png\", dpi=300, transparent=False, facecolor='white')"
   ]
  },
  {
   "cell_type": "markdown",
   "id": "bf87006d",
   "metadata": {},
   "source": [
    "### Venn diagrams"
   ]
  },
  {
   "cell_type": "code",
   "execution_count": 20,
   "id": "e0986abb",
   "metadata": {},
   "outputs": [],
   "source": [
    "# prepare input data for the venn diagrams\n",
    "\n",
    "venn_data = {\n",
    "    \"Taxonomic Assignment\": set(tax_assign[\"ID\"].tolist()),\n",
    "    \"Phylogenetic Placement\": set(phyl_placement[\"otu_id\"].tolist())\n",
    "}"
   ]
  },
  {
   "cell_type": "code",
   "execution_count": 71,
   "id": "ce38f04d",
   "metadata": {
    "scrolled": false
   },
   "outputs": [
    {
     "data": {
      "image/png": "[encoded data removed]",
      "text/plain": [
       "<Figure size 720x360 with 1 Axes>"
      ]
     },
     "metadata": {},
     "output_type": "display_data"
    }
   ],
   "source": [
    "# plotting\n",
    "# venn diagram using the pyvenn library: https://pypi.org/project/venn/\n",
    "\n",
    "raw_data=\"../raw_data\"\n",
    "data_path=f\"{raw_data}/phyl_placement/vampyrellida/downstream_analyses/results\"\n",
    "\n",
    "fig, ax1 = plt.subplots(figsize=(10,5), nrows=1, ncols=1)\n",
    "\n",
    "c = venn(venn_data, \n",
    "         alpha=0.6, \n",
    "         figsize=(10, 5), \n",
    "         fontsize=16, \n",
    "         cmap=ListedColormap([\"#D81B60\", \"#1E88E5\"]), \n",
    "         ax=ax1)\n",
    "\n",
    "ax1.get_legend().remove()\n",
    "plt.text(0.20, # horizontal\n",
    "         0.79, # vertical\n",
    "         'taxonomic\\nassignment', \n",
    "         fontsize=12, color='#D81B60')\n",
    "\n",
    "plt.text(0.55, # horizontal\n",
    "         0.79, # vertical\n",
    "         'phylogenetic\\nplacement', \n",
    "         fontsize=12, color='#1E88E5')\n",
    "\n",
    "# save\n",
    "plt.savefig(f\"{data_path}/venn_assignment_method_comparison.png\", dpi=300, transparent=False, facecolor='white')"
   ]
  }
 ],
 "metadata": {
  "kernelspec": {
   "display_name": "Python 3 (ipykernel)",
   "language": "python",
   "name": "python3"
  },
  "language_info": {
   "codemirror_mode": {
    "name": "ipython",
    "version": 3
   },
   "file_extension": ".py",
   "mimetype": "text/x-python",
   "name": "python",
   "nbconvert_exporter": "python",
   "pygments_lexer": "ipython3",
   "version": "3.8.12"
  },
  "toc": {
   "base_numbering": 1,
   "nav_menu": {},
   "number_sections": true,
   "sideBar": true,
   "skip_h1_title": false,
   "title_cell": "Table of Contents",
   "title_sidebar": "Contents",
   "toc_cell": false,
   "toc_position": {},
   "toc_section_display": true,
   "toc_window_display": false
  }
 },
 "nbformat": 4,
 "nbformat_minor": 5
}
