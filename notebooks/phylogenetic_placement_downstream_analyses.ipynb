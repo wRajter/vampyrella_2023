{
 "cells": [
  {
   "cell_type": "code",
   "execution_count": 1,
   "id": "b19b590f",
   "metadata": {},
   "outputs": [
    {
     "name": "stderr",
     "output_type": "stream",
     "text": [
      "/home/lubo/.pyenv/versions/3.8.12/envs/lewagon/lib/python3.8/site-packages/scipy/__init__.py:146: UserWarning: A NumPy version >=1.16.5 and <1.23.0 is required for this version of SciPy (detected version 1.24.1\n",
      "  warnings.warn(f\"A NumPy version >={np_minversion} and <{np_maxversion}\"\n"
     ]
    }
   ],
   "source": [
    "# load modules\n",
    "import pandas as pd\n",
    "import seaborn as sns\n",
    "import matplotlib.pyplot as plt\n",
    "from venn import venn\n",
    "from matplotlib.colors import ListedColormap"
   ]
  },
  {
   "cell_type": "markdown",
   "id": "5431b9fe",
   "metadata": {},
   "source": [
    "## Summary tables"
   ]
  },
  {
   "cell_type": "code",
   "execution_count": 2,
   "id": "b84baf82",
   "metadata": {},
   "outputs": [],
   "source": [
    "raw_data=\"../raw_data\"\n",
    "data_path=f\"{raw_data}/phyl_placement/Suthaus_2022/vampyrellida/downstream_analyses/tax_assignment/tax_assign_summary_table.tsv\"\n",
    "\n",
    "sum_table=pd.read_csv(data_path, sep=\"\\t\")"
   ]
  },
  {
   "cell_type": "code",
   "execution_count": 3,
   "id": "104d8405",
   "metadata": {},
   "outputs": [
    {
     "data": {
      "text/html": [
       "<div>\n",
       "<style scoped>\n",
       "    .dataframe tbody tr th:only-of-type {\n",
       "        vertical-align: middle;\n",
       "    }\n",
       "\n",
       "    .dataframe tbody tr th {\n",
       "        vertical-align: top;\n",
       "    }\n",
       "\n",
       "    .dataframe thead th {\n",
       "        text-align: right;\n",
       "    }\n",
       "</style>\n",
       "<table border=\"1\" class=\"dataframe\">\n",
       "  <thead>\n",
       "    <tr style=\"text-align: right;\">\n",
       "      <th></th>\n",
       "      <th>otu_id</th>\n",
       "      <th>sample_id</th>\n",
       "      <th>lwr</th>\n",
       "      <th>taxopath</th>\n",
       "    </tr>\n",
       "  </thead>\n",
       "  <tbody>\n",
       "    <tr>\n",
       "      <th>0</th>\n",
       "      <td>0839853ce3690d3c59a2d7cd42ea129c</td>\n",
       "      <td>A3</td>\n",
       "      <td>0.926500</td>\n",
       "      <td>Eukaryota;Rhizaria;Cercozoa;Endomyxa;Vampyrell...</td>\n",
       "    </tr>\n",
       "    <tr>\n",
       "      <th>1</th>\n",
       "      <td>80f49b9008a21d1bd6f1f1e8f4141ad9</td>\n",
       "      <td>A3</td>\n",
       "      <td>1.000000</td>\n",
       "      <td>Eukaryota;Rhizaria;Cercozoa;Endomyxa;Vampyrell...</td>\n",
       "    </tr>\n",
       "    <tr>\n",
       "      <th>2</th>\n",
       "      <td>00d88e1a2b4a6dbc357779d624208b48</td>\n",
       "      <td>allsamples</td>\n",
       "      <td>0.000015</td>\n",
       "      <td>Eukaryota;Rhizaria;Cercozoa;Endomyxa;Vampyrell...</td>\n",
       "    </tr>\n",
       "    <tr>\n",
       "      <th>3</th>\n",
       "      <td>0839853ce3690d3c59a2d7cd42ea129c</td>\n",
       "      <td>allsamples</td>\n",
       "      <td>0.889200</td>\n",
       "      <td>Eukaryota;Rhizaria;Cercozoa;Endomyxa;Vampyrell...</td>\n",
       "    </tr>\n",
       "    <tr>\n",
       "      <th>4</th>\n",
       "      <td>084e07bed6d405882c51c4761b10319c</td>\n",
       "      <td>allsamples</td>\n",
       "      <td>0.014950</td>\n",
       "      <td>Eukaryota;Rhizaria;Cercozoa;Endomyxa;Vampyrell...</td>\n",
       "    </tr>\n",
       "    <tr>\n",
       "      <th>...</th>\n",
       "      <td>...</td>\n",
       "      <td>...</td>\n",
       "      <td>...</td>\n",
       "      <td>...</td>\n",
       "    </tr>\n",
       "    <tr>\n",
       "      <th>117</th>\n",
       "      <td>472118fe46f7c580e02ea4275241ddb0</td>\n",
       "      <td>Th38</td>\n",
       "      <td>0.000233</td>\n",
       "      <td>Eukaryota;Rhizaria;Cercozoa;Endomyxa;Vampyrell...</td>\n",
       "    </tr>\n",
       "    <tr>\n",
       "      <th>118</th>\n",
       "      <td>70b7cf2cb7c70245a8ea9a860886dbce</td>\n",
       "      <td>Th38</td>\n",
       "      <td>1.000000</td>\n",
       "      <td>Eukaryota;Rhizaria;Cercozoa;Endomyxa;Vampyrell...</td>\n",
       "    </tr>\n",
       "    <tr>\n",
       "      <th>119</th>\n",
       "      <td>472118fe46f7c580e02ea4275241ddb0</td>\n",
       "      <td>Th40</td>\n",
       "      <td>0.000233</td>\n",
       "      <td>Eukaryota;Rhizaria;Cercozoa;Endomyxa;Vampyrell...</td>\n",
       "    </tr>\n",
       "    <tr>\n",
       "      <th>120</th>\n",
       "      <td>24321d950a776becc82a94429481b330</td>\n",
       "      <td>X17007</td>\n",
       "      <td>0.991600</td>\n",
       "      <td>Eukaryota;Rhizaria;Cercozoa;Endomyxa;Vampyrell...</td>\n",
       "    </tr>\n",
       "    <tr>\n",
       "      <th>121</th>\n",
       "      <td>5a73982a4bb60abd0a9bc8d3855fbc69</td>\n",
       "      <td>X17007</td>\n",
       "      <td>1.000000</td>\n",
       "      <td>Eukaryota;Rhizaria;Cercozoa;Endomyxa;Vampyrell...</td>\n",
       "    </tr>\n",
       "  </tbody>\n",
       "</table>\n",
       "<p>122 rows × 4 columns</p>\n",
       "</div>"
      ],
      "text/plain": [
       "                               otu_id   sample_id       lwr  \\\n",
       "0    0839853ce3690d3c59a2d7cd42ea129c          A3  0.926500   \n",
       "1    80f49b9008a21d1bd6f1f1e8f4141ad9          A3  1.000000   \n",
       "2    00d88e1a2b4a6dbc357779d624208b48  allsamples  0.000015   \n",
       "3    0839853ce3690d3c59a2d7cd42ea129c  allsamples  0.889200   \n",
       "4    084e07bed6d405882c51c4761b10319c  allsamples  0.014950   \n",
       "..                                ...         ...       ...   \n",
       "117  472118fe46f7c580e02ea4275241ddb0        Th38  0.000233   \n",
       "118  70b7cf2cb7c70245a8ea9a860886dbce        Th38  1.000000   \n",
       "119  472118fe46f7c580e02ea4275241ddb0        Th40  0.000233   \n",
       "120  24321d950a776becc82a94429481b330      X17007  0.991600   \n",
       "121  5a73982a4bb60abd0a9bc8d3855fbc69      X17007  1.000000   \n",
       "\n",
       "                                              taxopath  \n",
       "0    Eukaryota;Rhizaria;Cercozoa;Endomyxa;Vampyrell...  \n",
       "1    Eukaryota;Rhizaria;Cercozoa;Endomyxa;Vampyrell...  \n",
       "2    Eukaryota;Rhizaria;Cercozoa;Endomyxa;Vampyrell...  \n",
       "3    Eukaryota;Rhizaria;Cercozoa;Endomyxa;Vampyrell...  \n",
       "4    Eukaryota;Rhizaria;Cercozoa;Endomyxa;Vampyrell...  \n",
       "..                                                 ...  \n",
       "117  Eukaryota;Rhizaria;Cercozoa;Endomyxa;Vampyrell...  \n",
       "118  Eukaryota;Rhizaria;Cercozoa;Endomyxa;Vampyrell...  \n",
       "119  Eukaryota;Rhizaria;Cercozoa;Endomyxa;Vampyrell...  \n",
       "120  Eukaryota;Rhizaria;Cercozoa;Endomyxa;Vampyrell...  \n",
       "121  Eukaryota;Rhizaria;Cercozoa;Endomyxa;Vampyrell...  \n",
       "\n",
       "[122 rows x 4 columns]"
      ]
     },
     "execution_count": 3,
     "metadata": {},
     "output_type": "execute_result"
    }
   ],
   "source": [
    "sum_table"
   ]
  },
  {
   "cell_type": "code",
   "execution_count": 4,
   "id": "1142096b",
   "metadata": {},
   "outputs": [],
   "source": [
    "# Adjust summary table\n",
    "\n",
    "# get rid off allsamples otus\n",
    "sum_table=sum_table[sum_table[\"sample_id\"] != \"allsamples\"]\n",
    "\n",
    "# get sample as a categorical variable into indicator (1/0) variable\n",
    "sum_table=pd.get_dummies(sum_table, columns=[\"sample_id\"], prefix=\"\", prefix_sep=\"\")\n",
    "\n",
    "# split the taxopath column into individual columns (each for one taxon level)\n",
    "taxpath_labels=[\"Kingdom\", \"Domain\", \"Phyllum\", \"Class\", \"Order\", \"Family\", \"Genus\", \"Species\"]\n",
    "sum_table[taxpath_labels]=sum_table[\"taxopath\"].str.split(pat=\";\", expand=True)\n",
    "sum_table=sum_table.drop(columns=[\"taxopath\"])\n",
    "\n",
    "sum_table.sort_values(by=\"otu_id\", inplace=True)"
   ]
  },
  {
   "cell_type": "code",
   "execution_count": 5,
   "id": "afd896c6",
   "metadata": {},
   "outputs": [],
   "source": [
    "# save as tsv\n",
    "raw_data=\"../raw_data\"\n",
    "data_path=f\"{raw_data}/phyl_placement/Suthaus_2022/vampyrellida/downstream_analyses/results\"\n",
    "\n",
    "sum_table.to_csv(f\"{data_path}/summary_table.tsv\", sep=\"\\t\", index=False)"
   ]
  },
  {
   "cell_type": "markdown",
   "id": "63cd8345",
   "metadata": {},
   "source": [
    "## Comparing taxonomic assignment and phylogenetic placement methods"
   ]
  },
  {
   "cell_type": "markdown",
   "id": "8ec3a963",
   "metadata": {},
   "source": [
    "### Load data"
   ]
  },
  {
   "cell_type": "code",
   "execution_count": 6,
   "id": "c9e5affc",
   "metadata": {},
   "outputs": [],
   "source": [
    "# taxonomic assignment table\n",
    "project=\"Suthaus_2022\"\n",
    "marker=\"Full18S\"\n",
    "cell=\"cellCombined\"\n",
    "sim=\"sim99\"\n",
    "raw_data=\"../raw_data\"\n",
    "data_path=f\"{raw_data}/OTU_results/{project}/otu_summary_table_{marker}_{cell}_{sim}.tsv\"\n",
    "tax_assign=pd.read_csv(data_path, sep=\"\\t\")\n",
    "tax_assign=tax_assign[tax_assign[\"Order\"] == \"Vampyrellida\"] # filter only vampyrellids\n",
    "tax_assign=tax_assign.drop(columns=[\"Sequence\"]) # drop the sequence column that we don't need"
   ]
  },
  {
   "cell_type": "code",
   "execution_count": 7,
   "id": "689fa0e7",
   "metadata": {},
   "outputs": [],
   "source": [
    "# phylogenetic placement\n",
    "project=\"Suthaus_2022\"\n",
    "raw_data=\"../raw_data\"\n",
    "data_path=f\"{raw_data}/phyl_placement/{project}/vampyrellida/downstream_analyses/tax_assignment/tax_assign_summary_table.tsv\"\n",
    "\n",
    "phyl_placement=pd.read_csv(data_path, sep=\"\\t\")\n",
    "phyl_placement=phyl_placement[phyl_placement[\"sample_id\"] == \"allsamples\"]\n",
    "# split the taxopath column into individual columns (each for one taxon level)\n",
    "taxpath_labels=[\"Kingdom\", \"Domain\", \"Phyllum\", \"Class\", \"Order\", \"Family\", \"Genus\", \"Species\"]\n",
    "phyl_placement[taxpath_labels]=phyl_placement[\"taxopath\"].str.split(pat=\";\", expand=True)\n",
    "phyl_placement=phyl_placement.drop(columns=[\"taxopath\"])"
   ]
  },
  {
   "cell_type": "code",
   "execution_count": 8,
   "id": "d47cf12f",
   "metadata": {},
   "outputs": [],
   "source": [
    "# prepare data for plotting\n",
    "tax_levels=[\"Order\", \"Family\", \"Genus\", \"Species\"]\n",
    "data={\"taxonomy\": [],\n",
    "     \"count\": [],\n",
    "     \"method\": []}\n",
    "\n",
    "for tax_level in tax_levels:\n",
    "    # loop for the taxonomic assignment part\n",
    "    data[\"taxonomy\"].append(tax_level)\n",
    "    data[\"count\"].append(tax_assign[tax_level].count())\n",
    "    data[\"method\"].append(\"taxonomic assignment\")\n",
    "    # loop for the phylogenetic placement part\n",
    "    data[\"taxonomy\"].append(tax_level)\n",
    "    data[\"count\"].append(phyl_placement[tax_level].count())\n",
    "    data[\"method\"].append(\"phylogenetic placement\")"
   ]
  },
  {
   "cell_type": "code",
   "execution_count": 9,
   "id": "1769d56e",
   "metadata": {},
   "outputs": [
    {
     "data": {
      "image/png": "[encoded data removed]",
      "text/plain": [
       "<Figure size 432x288 with 1 Axes>"
      ]
     },
     "metadata": {
      "needs_background": "light"
     },
     "output_type": "display_data"
    }
   ],
   "source": [
    "# plotting\n",
    "project=\"Suthaus_2022\"\n",
    "raw_data=\"../raw_data\"\n",
    "data_path=f\"{raw_data}/phyl_placement/{project}/vampyrellida/downstream_analyses/results\"\n",
    "\n",
    "\n",
    "sns.set_style(\"white\")\n",
    "sns.barplot(data=data, x=\"taxonomy\", y=\"count\", hue=\"method\", palette=[\"#D81B60\", \"#1E88E5\"])\n",
    "\n",
    "sns.despine();\n",
    "\n",
    "# save\n",
    "plt.savefig(f\"{data_path}/assignment_method_comparison.png\", dpi=300, transparent=False, facecolor='white')"
   ]
  },
  {
   "cell_type": "markdown",
   "id": "bf87006d",
   "metadata": {},
   "source": [
    "### Venn diagrams"
   ]
  },
  {
   "cell_type": "code",
   "execution_count": 10,
   "id": "e0986abb",
   "metadata": {},
   "outputs": [],
   "source": [
    "# prepare input data for the venn diagrams\n",
    "\n",
    "venn_data = {\n",
    "    \"Taxonomic Assignment\": set(tax_assign[\"ID\"].tolist()),\n",
    "    \"Phylogenetic Placement\": set(phyl_placement[\"otu_id\"].tolist())\n",
    "}"
   ]
  },
  {
   "cell_type": "code",
   "execution_count": 12,
   "id": "ce38f04d",
   "metadata": {
    "scrolled": false
   },
   "outputs": [
    {
     "data": {
      "image/png": "[encoded data removed]",
      "text/plain": [
       "<Figure size 720x360 with 1 Axes>"
      ]
     },
     "metadata": {},
     "output_type": "display_data"
    }
   ],
   "source": [
    "# plotting\n",
    "# venn diagram using the pyvenn library: https://pypi.org/project/venn/\n",
    "\n",
    "project=\"Suthaus_2022\"\n",
    "raw_data=\"../raw_data\"\n",
    "data_path=f\"{raw_data}/phyl_placement/{project}/vampyrellida/downstream_analyses/results\"\n",
    "\n",
    "fig, ax1 = plt.subplots(figsize=(10,5), nrows=1, ncols=1)\n",
    "\n",
    "c = venn(venn_data, \n",
    "         alpha=0.6, \n",
    "         figsize=(10, 5), \n",
    "         fontsize=16, \n",
    "         cmap=ListedColormap([\"#D81B60\", \"#1E88E5\"]), \n",
    "         ax=ax1)\n",
    "\n",
    "ax1.get_legend().remove()\n",
    "plt.text(0.20, # horizontal\n",
    "         0.79, # vertical\n",
    "         'taxonomic\\nassignment', \n",
    "         fontsize=12, color='#D81B60')\n",
    "\n",
    "plt.text(0.55, # horizontal\n",
    "         0.79, # vertical\n",
    "         'phylogenetic\\nplacement', \n",
    "         fontsize=12, color='#1E88E5')\n",
    "\n",
    "# save\n",
    "plt.savefig(f\"{data_path}/venn_assignment_method_comparison.png\", dpi=300, transparent=False, facecolor='white')"
   ]
  }
 ],
 "metadata": {
  "kernelspec": {
   "display_name": "Python 3 (ipykernel)",
   "language": "python",
   "name": "python3"
  },
  "language_info": {
   "codemirror_mode": {
    "name": "ipython",
    "version": 3
   },
   "file_extension": ".py",
   "mimetype": "text/x-python",
   "name": "python",
   "nbconvert_exporter": "python",
   "pygments_lexer": "ipython3",
   "version": "3.8.12"
  },
  "toc": {
   "base_numbering": 1,
   "nav_menu": {},
   "number_sections": true,
   "sideBar": true,
   "skip_h1_title": false,
   "title_cell": "Table of Contents",
   "title_sidebar": "Contents",
   "toc_cell": false,
   "toc_position": {},
   "toc_section_display": true,
   "toc_window_display": false
  }
 },
 "nbformat": 4,
 "nbformat_minor": 5
}
