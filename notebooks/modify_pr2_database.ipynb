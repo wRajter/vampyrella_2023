{
 "cells": [
  {
   "cell_type": "markdown",
   "id": "132d2056-af5e-4f12-95f0-413f4ca3cdd1",
   "metadata": {},
   "source": [
    "## Imports"
   ]
  },
  {
   "cell_type": "code",
   "execution_count": 3,
   "id": "d12e1d43-1b4d-4723-baec-2fcb37ac37f7",
   "metadata": {},
   "outputs": [],
   "source": [
    "from Bio import SeqIO\n",
    "import os"
   ]
  },
  {
   "cell_type": "markdown",
   "id": "c791f476-7508-4483-9994-5db710469846",
   "metadata": {},
   "source": [
    "## Variables"
   ]
  },
  {
   "cell_type": "code",
   "execution_count": 16,
   "id": "d28d8895-349a-4822-942c-aa704d0e0e2d",
   "metadata": {},
   "outputs": [],
   "source": [
    "project = 'Suthaus_2022'\n",
    "marker = 'Full18S'\n",
    "sim = 'sim90'\n",
    "denoise_method = 'RAD'\n",
    "raw_data = os.path.join('..', 'raw_data')\n",
    "original_pr2 = os.path.join(raw_data, 'reference_alignments', 'pr2_v5', 'pr2_version_5.0.0_SSU_UTAX.fasta')\n",
    "vamp_alignment = os.path.join(raw_data, 'reference_alignments', 'vamp', '2023_VAMPYRELLIDA_SSU_annotated_PR2_AM_AS_not_aligned_version.fasta')\n",
    "adjusted_vamp_alignment = os.path.join(raw_data, 'reference_alignments', 'pr2_v5', 'vamp_alignment.fasta')\n",
    "modified_pr2 = os.path.join(raw_data, 'reference_alignments', 'pr2_v5', 'pr2_version_5.0.0_SSU_UTAX_plus_vamp_2023.fasta')"
   ]
  },
  {
   "cell_type": "markdown",
   "id": "34a1112b-3fb8-4eec-b0b1-805824a2f7fe",
   "metadata": {},
   "source": [
    "# Removing vampyrellids from PR2 database"
   ]
  },
  {
   "cell_type": "markdown",
   "id": "f23525f7-f706-41a1-bd2d-97e2c88eea16",
   "metadata": {},
   "source": [
    "Before we will make a taxonomic assignment using VSEARCH, we want to adjust the PR2 reference alignment. We want to enrich this database with our own alignment with sequences that belong to the order Vampyrellida. Therefore, we need to delete all the sequences from pr2 database that belong to Vampyrellida first and then attach our vampyrellida-specific alignment to the pr2 database."
   ]
  },
  {
   "cell_type": "code",
   "execution_count": 17,
   "id": "2931d68e-a792-4f98-8c4a-4804da0963db",
   "metadata": {},
   "outputs": [],
   "source": [
    "# Load the PR2 database and filter out Vampyrellida\n",
    "\n",
    "with open(original_pr2, 'r') as original, open(modified_pr2, 'w') as modified:\n",
    "    for record in SeqIO.parse(original, 'fasta'):\n",
    "        if 'vampyrellida' not in record.description.lower():\n",
    "            SeqIO.write(record, modified, 'fasta')"
   ]
  },
  {
   "cell_type": "markdown",
   "id": "4e1f5fd3-bfb0-4f02-8b55-49ca9076cee8",
   "metadata": {},
   "source": [
    "# Adjusting the sequence IDs of our vampyrellid alignment to match the format used in the PR2 database"
   ]
  },
  {
   "cell_type": "code",
   "execution_count": 18,
   "id": "19f5177c-94a6-45da-b580-10e6803448a1",
   "metadata": {},
   "outputs": [],
   "source": [
    "# Adjust the sequence IDs\n",
    "with open(vamp_alignment, 'r') as infile, open(adjusted_vamp_alignment, 'w') as outfile:\n",
    "    for record in SeqIO.parse(infile, 'fasta'):\n",
    "        # Split the header at the pipe characters\n",
    "        parts = record.description.split('|')\n",
    "        \n",
    "        # Reconstruct the header with the correct format\n",
    "        taxonomic_hierarchy = f';tax=k:Eukaryota,d:TSAR,p:Rhizaria-Cercozoa,c:Endomyxa,o:Vampyrellida,f:{parts[2]},g:{parts[3]},s:{parts[4]}'\n",
    "        \n",
    "        # Replace the first pipe with the taxonomic hierarchy\n",
    "        record.id = parts[0] + taxonomic_hierarchy\n",
    "        record.description = ''  # Clear the redundant description\n",
    "        \n",
    "        # Write the adjusted record to the new file\n",
    "        SeqIO.write(record, outfile, 'fasta')"
   ]
  },
  {
   "cell_type": "markdown",
   "id": "44657fcf-82b6-48e9-9a21-f762771623fe",
   "metadata": {},
   "source": [
    "# Adding vampyrellid-specific alignment to PR2 database"
   ]
  },
  {
   "cell_type": "code",
   "execution_count": 19,
   "id": "6da22b4a-f46d-4303-bc75-4138738e0528",
   "metadata": {},
   "outputs": [],
   "source": [
    "# Now, append your vampyrellida-specific sequences\n",
    "with open(adjusted_vamp_alignment, 'r') as vamp, open(modified_pr2, 'a') as pr2:\n",
    "    for record in SeqIO.parse(vamp, 'fasta'):\n",
    "        SeqIO.write(record, pr2, 'fasta')"
   ]
  },
  {
   "cell_type": "code",
   "execution_count": null,
   "id": "c3bf86cb-fbab-47df-bf94-67b66eb5ad99",
   "metadata": {},
   "outputs": [],
   "source": []
  },
  {
   "cell_type": "code",
   "execution_count": null,
   "id": "8ec645ac-4221-4198-972c-5bc48c02ed07",
   "metadata": {},
   "outputs": [],
   "source": []
  }
 ],
 "metadata": {
  "kernelspec": {
   "display_name": "Python 3 (ipykernel)",
   "language": "python",
   "name": "python3"
  },
  "language_info": {
   "codemirror_mode": {
    "name": "ipython",
    "version": 3
   },
   "file_extension": ".py",
   "mimetype": "text/x-python",
   "name": "python",
   "nbconvert_exporter": "python",
   "pygments_lexer": "ipython3",
   "version": "3.11.0"
  }
 },
 "nbformat": 4,
 "nbformat_minor": 5
}
