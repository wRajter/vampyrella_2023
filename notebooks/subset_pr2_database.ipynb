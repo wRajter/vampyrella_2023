{
 "cells": [
  {
   "cell_type": "markdown",
   "id": "fe7637cc",
   "metadata": {},
   "source": [
    "## Libraries"
   ]
  },
  {
   "cell_type": "code",
   "execution_count": 1,
   "id": "14800a36",
   "metadata": {},
   "outputs": [],
   "source": [
    "from Bio import SeqIO\n",
    "import re\n",
    "import os"
   ]
  },
  {
   "cell_type": "markdown",
   "id": "548eefb4",
   "metadata": {},
   "source": [
    "## Variables"
   ]
  },
  {
   "cell_type": "code",
   "execution_count": 77,
   "id": "5ef55fd3",
   "metadata": {},
   "outputs": [],
   "source": [
    "project = 'Suthaus_2022'\n",
    "cell = 'cellCombined'\n",
    "marker = 'Full18S'\n",
    "sim = 'sim90'\n",
    "denoise_method = 'RAD'\n",
    "raw_data = os.path.join('..', 'raw_data')\n",
    "alignment_dir = os.path.join(raw_data, 'reference_alignments', 'pr2')\n",
    "alignment_file = 'pr2_version_4.14.0_SSU_UTAX.fasta'\n",
    "otu_eukaryotes_dir = os.path.join(raw_data, 'OTU_eukaryotes', project, marker, cell, sim, denoise_method)\n",
    "tax_assign_dir = os.path.join(raw_data, 'tax_assign_results', project, marker, cell, sim, denoise_method)\n",
    "otu_nonchimeric_dir = os.path.join(raw_data, 'OTU_nonchimeric', project, marker, cell, sim, denoise_method)"
   ]
  },
  {
   "cell_type": "markdown",
   "id": "4e5732bc",
   "metadata": {},
   "source": [
    "# Subsetting PR2 alignment"
   ]
  },
  {
   "cell_type": "markdown",
   "id": "28e4e9a7",
   "metadata": {},
   "source": [
    "Subseting the PR2 alignment to reduce computational load. Keeping a maximum of limited occurrences per taxonomic level (e.g. max 3 occurrences per genus) to retain diversity while significantly reducing the size of the alignment."
   ]
  },
  {
   "cell_type": "code",
   "execution_count": 3,
   "id": "20841cb1",
   "metadata": {},
   "outputs": [],
   "source": [
    "# Load your sequences\n",
    "input_file = os.path.join(alignment_dir, alignment_file)\n",
    "output_file = os.path.join(alignment_dir, 'pr2_version_4.14.0_SSU_UTAX_subset.fasta')\n",
    "\n",
    "\n",
    "# Set parameters\n",
    "limit = 1 # threshold: max sequences for one taxonomic level (e.g. genus or family)\n",
    "tax_level = 'f' # taxonomic level (e.g., f for family, g for genus, and so on)\n",
    "max_length = 3000  # set maximum sequence length\n",
    "\n",
    "\n",
    "# Initialize dictionary to hold sequences per taxon level\n",
    "tax_dict = {}\n",
    "\n",
    "# Read and parse sequences\n",
    "with open(input_file, 'r') as handle:\n",
    "    for record in SeqIO.parse(handle, 'fasta'):\n",
    "        # Check the length of the sequence\n",
    "        if len(record.seq) <= max_length:\n",
    "            # Extract genus information from header\n",
    "            tax_match = re.search(rf'{tax_level}:([^,]+)', record.description)\n",
    "            if tax_match:\n",
    "                taxon = tax_match.group(1)\n",
    "\n",
    "                # Add sequence to tax_dict, if taxon count is below the threshold/limit\n",
    "                if taxon not in tax_dict:\n",
    "                    tax_dict[taxon] = [record]\n",
    "                elif len(tax_dict[taxon]) < limit:\n",
    "                    tax_dict[taxon].append(record)\n",
    "\n",
    "# Write filtered sequences to a new file\n",
    "with open(output_file, 'w') as output_handle:\n",
    "    for taxon_records in tax_dict.values():\n",
    "        SeqIO.write(taxon_records, output_handle, \"fasta\")"
   ]
  },
  {
   "cell_type": "code",
   "execution_count": 4,
   "id": "0f997e09",
   "metadata": {},
   "outputs": [
    {
     "name": "stdout",
     "output_type": "stream",
     "text": [
      "2162\r\n"
     ]
    }
   ],
   "source": [
    "!grep '>' $output_file | wc -l"
   ]
  },
  {
   "cell_type": "code",
   "execution_count": 25,
   "id": "262af6fc",
   "metadata": {},
   "outputs": [],
   "source": [
    "seqs_to_remove = ['X93221.1.842_U;tax=k:Eukaryota,d:Excavata,p:Discoba,c:Heterolobosea,o:Tetramitia_VI,f:Vahlkampfiidae_VI,g:Willaertia_VI,s:Willaertia_VI_magna', \n",
    "                  'JN082914.1.1718_U;tax=k:Eukaryota,d:Opisthokonta,p:Metazoa,c:Arthropoda,o:Hexapoda,f:Hexapoda_X,g:Tridactylophagus,s:Tridactylophagus_sp.',\n",
    "                  'JN566139.1.2860_U;tax=k:Eukaryota,d:Excavata,p:Discoba,c:Euglenida,o:Euglenida_X,f:Euglenida_XX,g:Heteronema,s:Heteronema_scaphurum',\n",
    "                  'AJ937879.1.1048_U;tax=k:Eukaryota,d:Opisthokonta,p:Metazoa,c:Myxozoa,o:Myxozoa_X,f:Myxozoa_XX,g:Myxozoa_XXX,s:Myxozoa_XXX_sp.',\n",
    "                  'JQ519509.1.1706_U;tax=k:Eukaryota,d:Amoebozoa,p:Lobosa,c:Tubulinea,o:Arcellinida,f:Difflugiidae,g:Netzelia,s:Netzelia_wailesi',\n",
    "                  'DQ205365.1.1268_U;tax=k:Eukaryota,d:Rhizaria,p:Foraminifera,c:Globothalamea,o:Rotaliida,f:Cibicididae,g:Cibicidoides,s:Cibicidoides_refulgens',\n",
    "                  'FJ705910.1.1268_U;tax=k:Eukaryota,d:Rhizaria,p:Foraminifera,c:Globothalamea,o:Rotaliida,f:Fursenkoinacea,g:Virgulina,s:Virgulina_concava',\n",
    "                  'DQ205383.1.1263_U;tax=k:Eukaryota,d:Rhizaria,p:Foraminifera,c:Globothalamea,o:Rotaliida,f:Pulleniidae,g:Pullenia,s:Pullenia_subcarinata',\n",
    "                  'DQ205389.1.1342_U;tax=k:Eukaryota,d:Rhizaria,p:Foraminifera,c:Globothalamea,o:Rotaliida,f:Buliminidae,g:Bulimina,s:Bulimina_marginata',\n",
    "                  'FJ705907.1.1336_U;tax=k:Eukaryota,d:Rhizaria,p:Foraminifera,c:Globothalamea,o:Rotaliida,f:Cassidulinidae,g:Cassidulina,s:Cassidulina_laevigata',\n",
    "                  'DQ205362.1.1195_U;tax=k:Eukaryota,d:Rhizaria,p:Foraminifera,c:Globothalamea,o:Rotaliida,f:Planorbulinidae,g:Hyalinea,s:Hyalinea_balthica',\n",
    "                  'AJ628838.1.1178_U;tax=k:Eukaryota:plas,d:Alveolata:plas,p:Dinoflagellata:plas,c:Dinophyceae:plas,o:Gonyaulacales:plas,f:Ceratiaceae:plas,g:Neoceratium:plas,s:Neoceratium_horridum:plas',\n",
    "                  'DQ264858.1.1219_U;tax=k:Eukaryota:plas,d:Alveolata:plas,p:Dinoflagellata:plas,c:Dinophyceae:plas,o:Gonyaulacales:plas,f:Gonyaulacaceae:plas,g:Lingulodinium:plas,s:Lingulodinium_polyedra:plas',\n",
    "                  'LN735525.1.1205_U;tax=k:Eukaryota:plas,d:Alveolata:plas,p:Dinoflagellata:plas,c:Dinophyceae:plas,o:Suessiales:plas,f:Symbiodiniaceae:plas,g:Breviolum:plas,s:Breviolum_sp.:plas',\n",
    "                  'AY123745.1.924_UC;tax=k:Eukaryota,d:Opisthokonta,p:Fungi,c:Ascomycota,o:Pezizomycotina,f:Sordariomycetes,g:Sordariomycetes_X,s:Sordariomycetes_X_sp.']\n",
    "\n",
    "substring_to_remove = ['k:Bacteria', 'k:Archaea']"
   ]
  },
  {
   "cell_type": "code",
   "execution_count": 26,
   "id": "6d563af2",
   "metadata": {},
   "outputs": [],
   "source": [
    "# Load the sequences into a list\n",
    "input_file =os.path.join(alignment_dir, 'pr2_version_4.14.0_SSU_UTAX_subset.fasta')\n",
    "\n",
    "sequences = list(SeqIO.parse(input_file, \"fasta\"))"
   ]
  },
  {
   "cell_type": "code",
   "execution_count": 28,
   "id": "feca7ba8",
   "metadata": {},
   "outputs": [],
   "source": [
    "# Filtering based on seqs_to_remove:\n",
    "filtered_sequences = [seq for seq in sequences if seq.id not in seqs_to_remove]\n",
    "# Filtering based on substrings_to_remove:\n",
    "filtered_sequences = [seq for seq in filtered_sequences if not any(sub in seq.id for sub in substring_to_remove)]"
   ]
  },
  {
   "cell_type": "code",
   "execution_count": 33,
   "id": "942f2847",
   "metadata": {},
   "outputs": [],
   "source": [
    "output_file = os.path.join(alignment_dir, 'pr2_version_4.14.0_SSU_UTAX_subset_filtered.fasta')\n",
    "\n",
    "with open(output_file, \"w\") as output_handle:\n",
    "    SeqIO.write(filtered_sequences, output_handle, \"fasta\")"
   ]
  },
  {
   "cell_type": "code",
   "execution_count": 29,
   "id": "d6e2edfc",
   "metadata": {},
   "outputs": [
    {
     "data": {
      "text/plain": [
       "1600"
      ]
     },
     "execution_count": 29,
     "metadata": {},
     "output_type": "execute_result"
    }
   ],
   "source": [
    "len(filtered_sequences)"
   ]
  },
  {
   "cell_type": "markdown",
   "id": "14d31d2f",
   "metadata": {},
   "source": [
    "# Extracting the sequence names and taxonomic paths"
   ]
  },
  {
   "cell_type": "code",
   "execution_count": 34,
   "id": "3af449c0",
   "metadata": {},
   "outputs": [],
   "source": [
    "input_file = os.path.join(alignment_dir, 'pr2_version_4.14.0_SSU_UTAX_subset_filtered.fasta')\n",
    "output_file = os.path.join(alignment_dir, 'ids_list.txt')\n",
    "\n",
    "# Open the input file for reading and output file for writing\n",
    "with open(input_file, 'r') as infile, open(output_file, 'w') as outfile:\n",
    "    # Read through each line in the input file\n",
    "    for line in infile:\n",
    "        # If the line starts with '>', it's a header line\n",
    "        if line.startswith('>'):\n",
    "            # Write the line to the output file, excluding the '>' and trimming whitespace\n",
    "            outfile.write(line[1:].strip() + '\\n')  # write the id without '>' and add a newline\n"
   ]
  },
  {
   "cell_type": "code",
   "execution_count": null,
   "id": "1394f230",
   "metadata": {},
   "outputs": [],
   "source": [
    "# Creating taxon file\n",
    "\n",
    "input_file = os.path.join(alignment_dir, 'ids_list.txt')\n",
    "output_file = os.path.join(alignment_dir, 'taxon_file.txt')\n",
    "\n",
    "# Open the input file for reading and output file for writing\n",
    "with open(input_file, 'r') as infile, open(output_file, 'w') as outfile:\n",
    "    # Read through each line in the input file\n",
    "    for line in infile:\n",
    "        # If the line starts with '>', it's a header line\n",
    "        if line.startswith('>'):\n",
    "            # Write the line to the output file, excluding the '>' and trimming whitespace\n",
    "            outfile.write(line[1:].strip() + '\\n')  # write the id without '>' and add a newline\n",
    "\n",
    "AJ875130.1.1731_U;tax=k:Eukaryota,d:Opisthokonta,p:Metazoa,c:Nematoda,o:Enoplea,f:Enoplea_X,g:Enoplea_XX,s:Enoplea_XX_sp."
   ]
  },
  {
   "cell_type": "markdown",
   "id": "100ac740",
   "metadata": {},
   "source": [
    "# Removing taxopath from the PR2 subset alignment"
   ]
  },
  {
   "cell_type": "code",
   "execution_count": null,
   "id": "68c64e47",
   "metadata": {},
   "outputs": [],
   "source": [
    "from Bio import SeqIO\n",
    "\n",
    "input_file = os.path.join(alignment_dir, 'pr2_version_4.14.0_SSU_UTAX_subset.fasta')\n",
    "output_file = os.path.join(alignment_dir, 'pr2_version_4.14.0_SSU_UTAX_subset_modified.fasta')\n",
    "\n",
    "# Open the input file, parse sequences, modify IDs, and write to output file\n",
    "with open(input_file, 'r') as infile, open(output_file, 'w') as outfile:\n",
    "    # Iterate over each record in the input file\n",
    "    for record in SeqIO.parse(infile, \"fasta\"):\n",
    "        # Split the ID at the '.' character and keep only the first part\n",
    "        new_id = record.id.split('.')[0]\n",
    "        # Update the record's ID with the new ID\n",
    "        record.id = new_id\n",
    "        record.description = new_id  # Update the description to match the new ID\n",
    "        # Write the modified record to the output file\n",
    "        SeqIO.write(record, outfile, \"fasta\")"
   ]
  },
  {
   "cell_type": "markdown",
   "id": "715d5d6f",
   "metadata": {},
   "source": [
    "# Using Gblocks"
   ]
  },
  {
   "cell_type": "code",
   "execution_count": null,
   "id": "53b780f2",
   "metadata": {},
   "outputs": [],
   "source": [
    "GBLOCKS = '../raw_data/packages/Gblocks_0.91b/Gblocks'\n",
    "ALIGNMENT = '../raw_data/reference_alignments/pr2/pr2_version_4.14.0_SSU_UTAX_subset_modified_align.fasta'\n",
    "\n",
    "!$GBLOCKS $ALIGNMENT -t=d -b4=2 -b5=H -b3=2000 -e=.gb1"
   ]
  },
  {
   "cell_type": "code",
   "execution_count": null,
   "id": "08e7eb7e",
   "metadata": {},
   "outputs": [],
   "source": []
  },
  {
   "cell_type": "code",
   "execution_count": null,
   "id": "0148d642",
   "metadata": {},
   "outputs": [],
   "source": []
  },
  {
   "cell_type": "markdown",
   "id": "52d2d494",
   "metadata": {},
   "source": [
    "# Subset Query Sequences"
   ]
  },
  {
   "cell_type": "markdown",
   "id": "4b290746",
   "metadata": {},
   "source": [
    "## Filter out all the bacterial and archaeal sequences from the OTUs"
   ]
  },
  {
   "cell_type": "code",
   "execution_count": 88,
   "id": "952eede8",
   "metadata": {},
   "outputs": [],
   "source": [
    "# Functions\n",
    "\n",
    "# Extract sequence IDs with Bacteria or Archaea in their taxonomic assignment\n",
    "def find_bacteria_archaea(tax_assign_dir, file):\n",
    "    '''\n",
    "    Extract sequence IDs with Bacteria or Archaea in their taxonomic assignment.\n",
    "\n",
    "    Parameters:\n",
    "    - tax_assign_dir (str): Directory path containing taxonomic assignment files.\n",
    "    - file (str): Taxonomic assignment file.\n",
    "\n",
    "    Returns:\n",
    "    - bacterial_and_archaeal_ids (set): Set of sequence IDs with either Bacteria or Archaea in their taxonomic assignment.\n",
    "    '''\n",
    "    bacterial_and_archaeal_ids = []\n",
    "    with open(os.path.join(tax_assign_dir, file), \"r\") as f:\n",
    "        for line in f:\n",
    "            parts = line.strip().split(\"\\t\")\n",
    "            taxonomy = parts[1]\n",
    "            seq_id = parts[0]\n",
    "            if 'k:Bacteria' in taxonomy or 'k:Archaea' in taxonomy:\n",
    "                bacterial_and_archaeal_ids.append(seq_id)\n",
    "    return bacterial_and_archaeal_ids\n",
    "\n",
    "# Filter fasta files\n",
    "def filter_fasta_file(input_file, output_file, ids_to_exclude):\n",
    "    '''\n",
    "    Filters sequences in a fasta file based on a list of sequence IDs to exclude.\n",
    "\n",
    "    Parameters:\n",
    "    - input_file (str): Path to the input fasta file.\n",
    "    - output_file (str): Path where the filtered fasta file should be saved.\n",
    "    - ids_to_exclude (set): Set of sequence IDs to exclude.\n",
    "    '''\n",
    "    sequences = [record for record in SeqIO.parse(input_file, \"fasta\") if record.id not in ids_to_exclude]\n",
    "    SeqIO.write(sequences, output_file, \"fasta\")"
   ]
  },
  {
   "cell_type": "code",
   "execution_count": 81,
   "id": "739b17d2",
   "metadata": {},
   "outputs": [],
   "source": [
    "# list of samples you want to filter\n",
    "samples = ['A3', \n",
    "           'NH1', \n",
    "           'NH4', \n",
    "           'Sim17', \n",
    "           'Sim22', \n",
    "           'Th16', \n",
    "           'Th38', \n",
    "           'Th40', \n",
    "           'X17007']"
   ]
  },
  {
   "cell_type": "code",
   "execution_count": 89,
   "id": "77340a6d",
   "metadata": {},
   "outputs": [],
   "source": [
    "# Usage\n",
    "\n",
    "# Loop through the samples\n",
    "for sample in samples:\n",
    "    \n",
    "    # Step 1: Extract sequence IDs with Bacteria or Archaea from the taxonomy assignment file\n",
    "    file_name = f'blast6_{sample}_18S.tab'\n",
    "    bacterial_and_archaeal_ids = find_bacteria_archaea(tax_assign_dir, file_name)\n",
    "    \n",
    "    # Define input and output paths for fasta files\n",
    "    input_fasta_file = os.path.join(otu_nonchimeric_dir, f'{sample}_18S_otu.fasta')\n",
    "    output_fasta_file = os.path.join(otu_eukaryotes_dir, f'{sample}_18S_otu_filtered.fasta')\n",
    "    \n",
    "    \n",
    "    # Step 2: Filter fasta files and save them to the designated directory\n",
    "    filter_fasta_file(input_fasta_file, output_fasta_file, bacterial_and_archaeal_ids)"
   ]
  },
  {
   "cell_type": "code",
   "execution_count": null,
   "id": "946f4617",
   "metadata": {},
   "outputs": [],
   "source": []
  },
  {
   "cell_type": "code",
   "execution_count": null,
   "id": "b35dd53f",
   "metadata": {},
   "outputs": [],
   "source": []
  }
 ],
 "metadata": {
  "kernelspec": {
   "display_name": "Python 3 (ipykernel)",
   "language": "python",
   "name": "python3"
  },
  "language_info": {
   "codemirror_mode": {
    "name": "ipython",
    "version": 3
   },
   "file_extension": ".py",
   "mimetype": "text/x-python",
   "name": "python",
   "nbconvert_exporter": "python",
   "pygments_lexer": "ipython3",
   "version": "3.8.12"
  },
  "toc": {
   "base_numbering": 1,
   "nav_menu": {},
   "number_sections": true,
   "sideBar": true,
   "skip_h1_title": false,
   "title_cell": "Table of Contents",
   "title_sidebar": "Contents",
   "toc_cell": false,
   "toc_position": {},
   "toc_section_display": true,
   "toc_window_display": false
  }
 },
 "nbformat": 4,
 "nbformat_minor": 5
}
