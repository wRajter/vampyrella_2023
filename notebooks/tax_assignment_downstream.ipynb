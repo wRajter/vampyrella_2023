{
 "cells": [
  {
   "cell_type": "markdown",
   "id": "307a3d28-5dc1-4638-ade5-8581610ce6ae",
   "metadata": {},
   "source": [
    "## Imports"
   ]
  },
  {
   "cell_type": "code",
   "execution_count": 6,
   "id": "5648b2d5-927e-4f1b-a5a3-9537a18852e6",
   "metadata": {},
   "outputs": [],
   "source": [
    "import os\n",
    "import pandas as pd\n",
    "import seaborn as sns\n",
    "import matplotlib.pyplot as plt\n",
    "import sys\n",
    "\n",
    "\n",
    "# my scripts\n",
    "sys.path.append('../scripts/python/')\n",
    "from tax_assignment_downstream import create_count_plot_all_samples, standardize_taxopath, tax_composition_per_sample, tax_composition_per_sample_percentages, create_venn, count_tax_assigned_otus"
   ]
  },
  {
   "cell_type": "markdown",
   "id": "37e979a9-f43f-41b5-8718-f4601e799bdf",
   "metadata": {},
   "source": [
    "## Variables"
   ]
  },
  {
   "cell_type": "code",
   "execution_count": 2,
   "id": "c0ea457f-6cba-4d28-a9ed-8ea9a9e446cf",
   "metadata": {},
   "outputs": [],
   "source": [
    "project = 'Suthaus_2022'\n",
    "marker = 'Full18S'\n",
    "sim = 'sim_90'\n",
    "denoise_method = 'RAD'\n",
    "raw_data = os.path.join('..', 'raw_data')\n",
    "results = os.path.join('..', 'results')"
   ]
  },
  {
   "cell_type": "markdown",
   "id": "ab7ac5ae-cbb7-4014-a34f-390b52ab2b40",
   "metadata": {},
   "source": [
    "# Phylogenetic placement"
   ]
  },
  {
   "cell_type": "markdown",
   "id": "ebd40df0-6f30-42e2-9be8-76bbd902fb34",
   "metadata": {},
   "source": [
    "## Variables"
   ]
  },
  {
   "cell_type": "code",
   "execution_count": null,
   "id": "68891685-d365-41a7-a510-62ff82a780a6",
   "metadata": {},
   "outputs": [],
   "source": [
    "tax_assign_dir = os.path.join(results, 'phyl_placement', 'tax_assignment', project, marker, denoise_method, sim, 'vampyrella')\n",
    "tax_assign_files = [file for file in os.listdir(tax_assign_dir) if file.endswith('_per_query.tsv')]\n",
    "save_dir = os.path.join(results, 'phyl_placement', 'figures', project, marker, denoise_method, sim)"
   ]
  },
  {
   "cell_type": "code",
   "execution_count": null,
   "id": "09565bbb-2d64-46e5-a441-401e68d1fe41",
   "metadata": {},
   "outputs": [],
   "source": [
    "# Initialize an empty DataFrame to store all data\n",
    "tax_assign = pd.DataFrame()\n",
    "\n",
    "for file in tax_assign_files:\n",
    "    # Read each file into a DataFrame\n",
    "    data = os.path.join(tax_assign_dir, file)\n",
    "    df = pd.read_csv(data, sep='\\t')\n",
    "    # Extract sample name\n",
    "    sample_name = file.split('_')[0]\n",
    "    # Add the sample name as a new column\n",
    "    df['sample'] = sample_name\n",
    "    # Concatenate this DataFrame with the main DataFrame\n",
    "    tax_assign = pd.concat([tax_assign, df], ignore_index = True)"
   ]
  },
  {
   "cell_type": "code",
   "execution_count": null,
   "id": "de672678-ff9a-45b9-9b49-8067716ebff6",
   "metadata": {},
   "outputs": [],
   "source": [
    "tax_assign.head(1)"
   ]
  },
  {
   "cell_type": "markdown",
   "id": "b8cf45d1-1189-4bf8-8a70-9ac34b817cbb",
   "metadata": {},
   "source": [
    "## Dataframe adjustments"
   ]
  },
  {
   "cell_type": "code",
   "execution_count": null,
   "id": "61f8635f-4f47-48e0-a31d-9877a77e89ec",
   "metadata": {},
   "outputs": [],
   "source": [
    "# Continue with the 'name', 'LWR', 'taxopath', 'sample' columns\n",
    "tax_assign = tax_assign[['name', 'LWR', 'taxopath', 'sample']]"
   ]
  },
  {
   "cell_type": "code",
   "execution_count": null,
   "id": "ec4c928f-7bb8-476a-acd9-a158db9a5a4b",
   "metadata": {},
   "outputs": [],
   "source": [
    "# Group by otu_id and select the row with the longest taxopath for each group\n",
    "tax_assign = tax_assign.groupby('name').apply(lambda x: x[x['taxopath'].str.len() == x['taxopath'].str.len().max()])\n",
    "\n",
    "# Reset the index of the DataFrame\n",
    "tax_assign.reset_index(drop=True, inplace=True)"
   ]
  },
  {
   "cell_type": "code",
   "execution_count": null,
   "id": "1d014017-2db8-44f0-9258-86ad3fed4fe9",
   "metadata": {},
   "outputs": [],
   "source": [
    "# Group by otu_id and select the row with the highest LWR for each group\n",
    "tax_assign = tax_assign.groupby('name').apply(lambda x: x[x['LWR'] == x['LWR'].max()])\n",
    "\n",
    "# Reset the index of the DataFrame\n",
    "tax_assign.reset_index(drop=True, inplace=True)"
   ]
  },
  {
   "cell_type": "code",
   "execution_count": null,
   "id": "cfecd441-98a3-4283-bc0c-22130b22e719",
   "metadata": {},
   "outputs": [],
   "source": [
    "# standardize the taxopath column by ensuring that each entry has the same level of taxonomic detail.\n",
    "# In our case, we want each taxopath to have four levels:\n",
    "# order, family, genus, and species.\n",
    "# If any level is missing, it should be filled with 'unassigned'.\n",
    "\n",
    "# Apply the function to the 'taxopath' column\n",
    "tax_assign['taxopath'] = tax_assign['taxopath'].apply(standardize_taxopath)"
   ]
  },
  {
   "cell_type": "code",
   "execution_count": null,
   "id": "25fc64c8-a609-4514-9fd1-3dc04708da71",
   "metadata": {},
   "outputs": [],
   "source": [
    "# split the taxopath into individual columns for each taxonomic level is correct and efficient.\n",
    "# The code will create new columns named:\n",
    "# 'order', 'family', 'genus', and 'species',\n",
    "# each containing the respective taxonomic level extracted from the taxopath.\n",
    "\n",
    "tax_levels = ['order', 'family', 'genus', 'species']\n",
    "\n",
    "for i in range(len(tax_levels)):\n",
    "    tax_assign[f'{tax_levels[i]}'] = tax_assign['taxopath'].apply(lambda a: a.split(';')[i])"
   ]
  },
  {
   "cell_type": "code",
   "execution_count": null,
   "id": "68cbe353-9e63-4df9-9484-7ea6362ebfb2",
   "metadata": {},
   "outputs": [],
   "source": [
    "# remove the 'taxopath' column\n",
    "tax_assign = tax_assign.drop('taxopath', axis=1)"
   ]
  },
  {
   "cell_type": "code",
   "execution_count": null,
   "id": "b3b58baf-77fe-4fd7-b96a-5018569955a6",
   "metadata": {},
   "outputs": [],
   "source": [
    "# Rename 'Vampyrellida_clade_PurpleVamp' to 'PurpleVamp' in the 'family' column\n",
    "tax_assign['family'] = tax_assign['family'].replace('Vampyrellida_clade_PurpleVamp', 'PurpleVamp')"
   ]
  },
  {
   "cell_type": "code",
   "execution_count": null,
   "id": "c3d4dc1c-783c-422a-a2dc-8e9b8691bcdb",
   "metadata": {},
   "outputs": [],
   "source": [
    "# Rename columns\n",
    "tax_assign.rename(columns={'name': 'otu', 'LWR': 'confidence'}, inplace=True)"
   ]
  },
  {
   "cell_type": "code",
   "execution_count": null,
   "id": "66405995-1f96-4f94-ac75-e206c7413369",
   "metadata": {},
   "outputs": [],
   "source": [
    "tax_assign.head(3)"
   ]
  },
  {
   "cell_type": "code",
   "execution_count": null,
   "id": "36013f65-7dd8-477c-8c28-8eaf1173745d",
   "metadata": {},
   "outputs": [],
   "source": [
    "# Save 'tax_assign' DataFrame as csv\n",
    "tax_assign.to_csv(os.path.join(tax_assign_dir, 'tax_assign.csv'), index=False)"
   ]
  },
  {
   "cell_type": "markdown",
   "id": "6bd1a872-b027-4575-beaa-77505fb184ce",
   "metadata": {},
   "source": [
    "## Plotting number of OTUs at different taxonomic level for all samples except mock community"
   ]
  },
  {
   "cell_type": "code",
   "execution_count": null,
   "id": "cb8f50ea-07fe-44e8-aee7-5949b35159d9",
   "metadata": {},
   "outputs": [],
   "source": [
    "tax_level = 'genus'\n",
    "\n",
    "# Note:\n",
    "# If the x-axis labels are overlapped set: xlabels_rotation=30, xlabels_ha = 'right'\n",
    "# Otherwise xlabels_rotation=0, xlabels_ha = 'center'\n",
    "\n",
    "create_count_plot_all_samples(dataframe = tax_assign, tax_level = tax_level, save_dir = save_dir, xlabels_rotation=30, xlabels_ha = 'right')"
   ]
  },
  {
   "cell_type": "markdown",
   "id": "2f09621f-8bb6-443b-ac33-a7a7d817ed2e",
   "metadata": {},
   "source": [
    "## Creating taxonomic composition plots"
   ]
  },
  {
   "cell_type": "markdown",
   "id": "8e201522-0cfa-4754-be18-6eff04f43c5e",
   "metadata": {},
   "source": [
    "Compare the taxonomic composition between individual samples and create a stacked bar plot."
   ]
  },
  {
   "cell_type": "code",
   "execution_count": null,
   "id": "957f2af1-36fe-47e4-b603-3ca241f70c2d",
   "metadata": {},
   "outputs": [],
   "source": [
    "tax_assign.head(3)"
   ]
  },
  {
   "cell_type": "markdown",
   "id": "20b2c174-f520-4161-86f8-cd9f4a8aa4bb",
   "metadata": {},
   "source": [
    "### Dataframe adjustments"
   ]
  },
  {
   "cell_type": "code",
   "execution_count": null,
   "id": "720778a4-7899-4a6f-b3a7-be7f9fea19b2",
   "metadata": {
    "scrolled": true
   },
   "outputs": [],
   "source": [
    "taxonomic_level = 'genus'\n",
    "\n",
    "# Filter out the mock sample\n",
    "tax_assign_filtered = tax_assign[tax_assign['sample'] != 'Mock']\n",
    "\n",
    "# Aggregate data to get counts per taxonomic group per sample\n",
    "group_counts = tax_assign_filtered.groupby(['sample', taxonomic_level]).size().reset_index(name='counts')\n",
    "\n",
    "# Prepare data for plotting\n",
    "pivot_table = group_counts.pivot(index='sample', columns=taxonomic_level, values='counts').fillna(0)"
   ]
  },
  {
   "cell_type": "markdown",
   "id": "39d7b0a7-96ad-4a3a-9b9d-0ba6c6ade0ec",
   "metadata": {},
   "source": [
    "### Plotting"
   ]
  },
  {
   "cell_type": "code",
   "execution_count": null,
   "id": "73ff7819-0bff-47f4-b735-e72ce21ffdb9",
   "metadata": {},
   "outputs": [],
   "source": [
    "save_dir = os.path.join(results, 'phyl_placement', 'figures', project, marker, denoise_method, sim)\n",
    "rename_dict = {\n",
    "    'NH1': 'Neuenhähnen 1',\n",
    "    'NH4': 'Neuenhähnen 4',\n",
    "    'Sim17': 'Simmelried 17',\n",
    "    'Sim22': 'Simmelried 22',\n",
    "    'Th16': 'Thielenbruch 16',\n",
    "    'Th38': 'Thielenbruch 38',\n",
    "    'X17007': 'Deep Sea X17007'}"
   ]
  },
  {
   "cell_type": "code",
   "execution_count": null,
   "id": "4b7ade72-1fca-45db-8ac5-08dd64ca91c1",
   "metadata": {},
   "outputs": [],
   "source": [
    "# Taxonomic composition plot per sample with absolute numbers (Number of OTUs)\n",
    "tax_composition_per_sample(pivot_table = pivot_table, \n",
    "                           taxonomic_level = taxonomic_level,\n",
    "                           rename_dict = rename_dict,\n",
    "                           save_dir = save_dir, \n",
    "                           xlabels_rotation = 30, \n",
    "                           xlabels_ha = 'right', \n",
    "                           xlabels_fontsize = 9)"
   ]
  },
  {
   "cell_type": "code",
   "execution_count": null,
   "id": "0db21f4d-da0e-4eb5-aeca-339631e41be6",
   "metadata": {},
   "outputs": [],
   "source": [
    "# Taxonomic composition per sample as percentages\n",
    "tax_composition_per_sample_percentages(pivot_table = pivot_table, \n",
    "                                       taxonomic_level = taxonomic_level,\n",
    "                                       rename_dict = rename_dict,\n",
    "                                       save_dir = save_dir, \n",
    "                                       xlabels_rotation = 30, \n",
    "                                       xlabels_ha = 'right', \n",
    "                                       xlabels_fontsize = 9)"
   ]
  },
  {
   "cell_type": "markdown",
   "id": "78965e58-1401-44de-8c40-a2ca87624615",
   "metadata": {},
   "source": [
    "## Plotting LWR ratio distribution"
   ]
  },
  {
   "cell_type": "code",
   "execution_count": null,
   "id": "b82683f2-4fbb-49cb-a72a-d955b81768da",
   "metadata": {},
   "outputs": [],
   "source": []
  },
  {
   "cell_type": "markdown",
   "id": "26ccb1c6-8e5b-4506-8c09-159e646da7e6",
   "metadata": {},
   "source": [
    "# VSEARCH Taxonomic Assignment"
   ]
  },
  {
   "cell_type": "markdown",
   "id": "c4c0f621-345d-4801-a98e-98f37a9270ce",
   "metadata": {},
   "source": [
    "## Variables"
   ]
  },
  {
   "cell_type": "code",
   "execution_count": null,
   "id": "6323533f-5901-4602-a6f4-a1093a1acedc",
   "metadata": {},
   "outputs": [],
   "source": [
    "tax_assign_dir = os.path.join(results, 'tax_assignment_vsearch', project, marker, sim, denoise_method, 'blast')\n",
    "tax_assign_files = [file for file in os.listdir(tax_assign_dir) if file.startswith('blast6_') and file.endswith('.tab')]\n",
    "save_dir = os.path.join(results, 'tax_assignment_vsearch', 'figures', project, marker, denoise_method, sim)"
   ]
  },
  {
   "cell_type": "markdown",
   "id": "5eea85c5-3e2f-4b6c-a773-f63cc2cedbd8",
   "metadata": {},
   "source": [
    "## Creating dataframe"
   ]
  },
  {
   "cell_type": "code",
   "execution_count": null,
   "id": "c4d7089d-fd03-4b62-adf6-67cf5cf35d7c",
   "metadata": {},
   "outputs": [],
   "source": [
    "tax_assign = pd.DataFrame()\n",
    "\n",
    "for file in tax_assign_files:\n",
    "    sample_name = file.split('_')[1]\n",
    "    path = os.path.join(tax_assign_dir, file)\n",
    "    df = pd.read_csv(path, sep='\\t', header=None)\n",
    "    df['sample'] = sample_name\n",
    "    tax_assign = pd.concat([tax_assign, df], ignore_index = True)\n",
    "\n",
    "tax_assign.head(3)"
   ]
  },
  {
   "cell_type": "markdown",
   "id": "2f29ed6f-0313-4aa0-887a-92ee0ed3268d",
   "metadata": {},
   "source": [
    "## Dataframe adjustments"
   ]
  },
  {
   "cell_type": "code",
   "execution_count": null,
   "id": "ebffd316-513e-4a63-8d80-8b7e220866eb",
   "metadata": {},
   "outputs": [],
   "source": [
    "# Dropping unnecessery columns\n",
    "tax_assign = tax_assign[[0, 1, 2, 'sample']]"
   ]
  },
  {
   "cell_type": "code",
   "execution_count": null,
   "id": "6f75ae30-ea74-4e99-ad7d-a7c23a91255e",
   "metadata": {},
   "outputs": [],
   "source": [
    "# Rename columns\n",
    "tax_assign.rename(columns={0: 'otu', 1: 'taxopath', 2: 'confidence'}, inplace=True)"
   ]
  },
  {
   "cell_type": "code",
   "execution_count": null,
   "id": "2605cfa1-15f3-4164-96ff-e9c097e97b27",
   "metadata": {},
   "outputs": [],
   "source": [
    "# Keep only vampyrellids\n",
    "tax_assign = tax_assign[tax_assign['taxopath'].str.contains('o:Vampyrellida')]"
   ]
  },
  {
   "cell_type": "code",
   "execution_count": null,
   "id": "5ba1295b-5b3e-4e5b-bf87-77957c7b1a7d",
   "metadata": {
    "scrolled": true
   },
   "outputs": [],
   "source": [
    "# split the taxopath into individual columns for each taxonomic level is correct and efficient.\n",
    "# The code will create new columns named:\n",
    "# 'order', 'family', 'genus', and 'species',\n",
    "# each containing the respective taxonomic level extracted from the taxopath.\n",
    "\n",
    "tax_levels = ['order', 'family', 'genus', 'species']\n",
    "\n",
    "for i in range(len(tax_levels)):\n",
    "    tax_assign[f'{tax_levels[i]}'] = tax_assign['taxopath'].apply(lambda a: a.split(',')[i+4].split(':')[1])"
   ]
  },
  {
   "cell_type": "code",
   "execution_count": null,
   "id": "c05652db-111b-4c43-a1fc-b6a80767b061",
   "metadata": {},
   "outputs": [],
   "source": [
    "# remove the 'taxopath' column\n",
    "tax_assign = tax_assign.drop('taxopath', axis=1)"
   ]
  },
  {
   "cell_type": "code",
   "execution_count": null,
   "id": "04a12999-2b3b-40a8-a575-3a5c72326551",
   "metadata": {},
   "outputs": [],
   "source": [
    "# filter out all sequences associated with the 'mock' sample\n",
    "tax_assign = tax_assign[tax_assign['sample'] != 'Mock']"
   ]
  },
  {
   "cell_type": "code",
   "execution_count": null,
   "id": "d7947715-4bd7-4991-ad51-464d0f7a0631",
   "metadata": {},
   "outputs": [],
   "source": [
    "# Rename 'Vampyrellida_clade_PurpleVamp' to 'PurpleVamp' in the 'family' column\n",
    "tax_assign['family'] = tax_assign['family'].replace('Vampyrellida_clade_PurpleVamp', 'PurpleVamp')"
   ]
  },
  {
   "cell_type": "code",
   "execution_count": null,
   "id": "aa6db046-5dca-404b-bfca-fc32f9c09466",
   "metadata": {},
   "outputs": [],
   "source": [
    "tax_assign.head(3)"
   ]
  },
  {
   "cell_type": "code",
   "execution_count": null,
   "id": "48b944cf-921e-496d-a70a-6c6850e9e9c1",
   "metadata": {},
   "outputs": [],
   "source": [
    "# Save 'tax_assign' DataFrame as csv\n",
    "tax_assign.to_csv(os.path.join(tax_assign_dir, 'tax_assign.csv'), index=False)"
   ]
  },
  {
   "cell_type": "markdown",
   "id": "5072ba38-b821-426b-9fa8-1ae583798e77",
   "metadata": {},
   "source": [
    "## Plotting number of OTUs at different taxonomic level for all samples except mock community"
   ]
  },
  {
   "cell_type": "code",
   "execution_count": null,
   "id": "335f6d72-936b-430e-8444-1bde75898b93",
   "metadata": {},
   "outputs": [],
   "source": [
    "tax_level = 'family'\n",
    "\n",
    "# Note:\n",
    "# If the x-axis labels are overlapped set: xlabels_rotation=30, xlabels_ha = 'right'\n",
    "# Otherwise xlabels_rotation=0, xlabels_ha = 'center'\n",
    "\n",
    "create_count_plot_all_samples(dataframe = tax_assign, tax_level = tax_level, save_dir = save_dir, xlabels_rotation=0, xlabels_ha = 'center')"
   ]
  },
  {
   "cell_type": "markdown",
   "id": "b3125857-86d2-49df-9d06-56a475103195",
   "metadata": {},
   "source": [
    "## Creating taxonomic composition plots"
   ]
  },
  {
   "cell_type": "markdown",
   "id": "57c0dbd5-8d18-48ef-9d5c-786708665f84",
   "metadata": {},
   "source": [
    "Compare the taxonomic composition between individual samples and create a stacked bar plot."
   ]
  },
  {
   "cell_type": "markdown",
   "id": "230394c9-2eb1-4e9f-8dca-cfb2c3212591",
   "metadata": {},
   "source": [
    "### Dataframe adjustments"
   ]
  },
  {
   "cell_type": "code",
   "execution_count": null,
   "id": "c2cf4c28-2fa4-4b43-833f-f37c4053a1e6",
   "metadata": {},
   "outputs": [],
   "source": [
    "taxonomic_level = 'family'\n",
    "\n",
    "# Aggregate data to get counts per taxonomic group per sample\n",
    "group_counts = tax_assign.groupby(['sample', taxonomic_level]).size().reset_index(name='counts')\n",
    "\n",
    "# Prepare data for plotting\n",
    "pivot_table = group_counts.pivot(index='sample', columns=taxonomic_level, values='counts').fillna(0)"
   ]
  },
  {
   "cell_type": "code",
   "execution_count": null,
   "id": "9b9659a9-19e6-4f02-877d-bd2ad44f0921",
   "metadata": {},
   "outputs": [],
   "source": [
    "pivot_table"
   ]
  },
  {
   "cell_type": "markdown",
   "id": "3092267c-4ef9-450d-8086-a48826e050f9",
   "metadata": {},
   "source": [
    "### Plotting"
   ]
  },
  {
   "cell_type": "code",
   "execution_count": null,
   "id": "1f1b6451-158e-4fb1-a2be-8f88b477c52d",
   "metadata": {},
   "outputs": [],
   "source": [
    "save_dir = os.path.join(results, 'tax_assignment_vsearch', 'figures', project, marker, denoise_method, sim)\n",
    "rename_dict = {\n",
    "    'NH1': 'Neuenhähnen 1',\n",
    "    'NH4': 'Neuenhähnen 4',\n",
    "    'Sim17': 'Simmelried 17',\n",
    "    'Sim22': 'Simmelried 22',\n",
    "    'Th16': 'Thielenbruch 16',\n",
    "    'Th38': 'Thielenbruch 38',\n",
    "    'X17007': 'Deep Sea X17007'}"
   ]
  },
  {
   "cell_type": "code",
   "execution_count": null,
   "id": "a734d7bf-9d78-4eb5-9297-1eeca31c2b92",
   "metadata": {},
   "outputs": [],
   "source": [
    "# Taxonomic composition plot per sample with absolute numbers (Number of OTUs)\n",
    "tax_composition_per_sample(pivot_table = pivot_table, \n",
    "                           taxonomic_level = taxonomic_level,\n",
    "                           rename_dict = rename_dict,\n",
    "                           save_dir = save_dir, \n",
    "                           xlabels_rotation = 30, \n",
    "                           xlabels_ha = 'right', \n",
    "                           xlabels_fontsize = 9)"
   ]
  },
  {
   "cell_type": "code",
   "execution_count": null,
   "id": "e4295548-989c-4009-8819-6635691c4f48",
   "metadata": {},
   "outputs": [],
   "source": [
    "# Taxonomic composition per sample as percentages\n",
    "tax_composition_per_sample_percentages(pivot_table = pivot_table, \n",
    "                                       taxonomic_level = taxonomic_level,\n",
    "                                       rename_dict = rename_dict,\n",
    "                                       save_dir = save_dir, \n",
    "                                       xlabels_rotation = 30, \n",
    "                                       xlabels_ha = 'right', \n",
    "                                       xlabels_fontsize = 9)"
   ]
  },
  {
   "cell_type": "markdown",
   "id": "d70fbeb7-9600-484e-bae2-2605455d58d5",
   "metadata": {},
   "source": [
    "# Phylogenetic placement (*GAPPA*) vs. Blast (*VSEARCH*)"
   ]
  },
  {
   "cell_type": "markdown",
   "id": "db3b742e-f15d-45b5-ad2f-6664955b752c",
   "metadata": {},
   "source": [
    "## Variables"
   ]
  },
  {
   "cell_type": "code",
   "execution_count": 3,
   "id": "dea312f7-b191-43e0-b26a-074bf09e7c0f",
   "metadata": {},
   "outputs": [],
   "source": [
    "phyl_placement_dir = os.path.join(results, 'phyl_placement', 'tax_assignment', project, marker, denoise_method, sim, 'vampyrella')\n",
    "blast_results_dir = os.path.join(results, 'tax_assignment_vsearch', project, marker, sim, denoise_method, 'blast')"
   ]
  },
  {
   "cell_type": "markdown",
   "id": "091f8ecd-2370-4bd8-b3f2-07fd7a165bc2",
   "metadata": {},
   "source": [
    "## Read input tables"
   ]
  },
  {
   "cell_type": "code",
   "execution_count": 4,
   "id": "a6bd00bd-640b-4099-997d-a0b166766ad2",
   "metadata": {},
   "outputs": [],
   "source": [
    "# Read the csv tables from phylogenetic placement and blast results into a single DataFrame\n",
    "tax_assign_gappa = pd.read_csv(os.path.join(phyl_placement_dir, 'tax_assign.csv'))\n",
    "tax_assign_vsearch = pd.read_csv(os.path.join(blast_results_dir, 'tax_assign.csv'))\n",
    "\n",
    "# Add approach column\n",
    "tax_assign_gappa['approach'] = 'gappa'\n",
    "tax_assign_vsearch['approach'] = 'vsearch'\n",
    "\n",
    "# Concatenate tax_assign_gappa and tax_assign_vsearch into a tax_assign DataFrame\n",
    "tax_assign = pd.concat([tax_assign_gappa, tax_assign_vsearch], ignore_index=True)"
   ]
  },
  {
   "cell_type": "markdown",
   "id": "659ea416-e2bf-4f5a-a7c2-3a36382b5a28",
   "metadata": {},
   "source": [
    "## Venn Diagrams"
   ]
  },
  {
   "cell_type": "markdown",
   "id": "f4eeee2f-bc23-4810-9177-d418ccec54c8",
   "metadata": {},
   "source": [
    "Creating Venn diagrams to compare the number of unique and shared Operational Taxonomic Units (OTUs) between two approaches:\n",
    "- phylogenetic placement in *'GAPPA'*\n",
    "- Blast in *'VSEARCH'*"
   ]
  },
  {
   "cell_type": "code",
   "execution_count": null,
   "id": "6e6c3145-b49a-4031-9c96-b6cb721f8ccc",
   "metadata": {},
   "outputs": [],
   "source": [
    "# Prepare data for plotting Venn diagrams\n",
    "# Extract sets of tuples for each taxonomic level ('order', 'family', 'genus', 'species') and approach (gappa, vsearch)\n",
    "# NOTE: I excluded all the 'unassigned' sequences (!= 'unassigned') since these do not contribute to the analysis of shared taxonomy\n",
    "\n",
    "tax_levels = ['order', 'family', 'genus', 'species']\n",
    "plot_data = {}\n",
    "\n",
    "for tax_level in tax_levels:\n",
    "    plot_data[f'otus_{tax_level}_gappa'] = set(\n",
    "        tax_assign[\n",
    "            (tax_assign['approach'] == 'gappa') &\n",
    "            (tax_assign[tax_level] != 'unassigned')\n",
    "        ][['otu', tax_level]].apply(tuple, axis=1))\n",
    "    \n",
    "    plot_data[f'otus_{tax_level}_vsearch'] = set(\n",
    "        tax_assign[\n",
    "            (tax_assign['approach'] == 'vsearch') &\n",
    "            (tax_assign[tax_level] != 'unassigned')\n",
    "                ][['otu', tax_level]].apply(tuple, axis=1))"
   ]
  },
  {
   "cell_type": "code",
   "execution_count": null,
   "id": "e82d75d0-f659-4ee4-9778-235dc2cdc635",
   "metadata": {},
   "outputs": [],
   "source": [
    "save_dir = os.path.join(results, 'main_figures')\n",
    "project = 'suthaus_2022'\n",
    "\n",
    "create_venn(save_dir = save_dir,\n",
    "            plot_data = plot_data,\n",
    "            project = project)"
   ]
  },
  {
   "cell_type": "code",
   "execution_count": null,
   "id": "fc7caa9e-2a4c-4b66-9967-9c4251b8a9fb",
   "metadata": {},
   "outputs": [],
   "source": [
    "# Display the OTUs that are unique to each method\n",
    "\n",
    "# Unique OTUs in gappa not in vsearch\n",
    "unique_otus_gappa = plot_data['otus_order_gappa'] - plot_data['otus_order_vsearch']\n",
    "print(\"Unique OTUs in Gappa:\")\n",
    "print(unique_otus_gappa)\n",
    "\n",
    "# Unique OTUs in vsearch not in gappa\n",
    "unique_otus_vsearch = plot_data['otus_order_vsearch'] - plot_data['otus_order_gappa']\n",
    "print(\"\\nUnique OTUs in VSEARCH:\")\n",
    "print(unique_otus_vsearch)"
   ]
  },
  {
   "cell_type": "code",
   "execution_count": null,
   "id": "cfc86926-ec99-43be-a22f-57398158a333",
   "metadata": {},
   "outputs": [],
   "source": [
    "# Check the unique OTUs in the DataFrame\n",
    "# GAPPA\n",
    "tax_assign[tax_assign['otu'] == list(unique_otus_gappa)[0][0]]"
   ]
  },
  {
   "cell_type": "markdown",
   "id": "223f93c0-8ced-4a6b-80b2-6f3eb68a26f2",
   "metadata": {},
   "source": [
    "## Assigned vs. Unassigned OTUs"
   ]
  },
  {
   "cell_type": "markdown",
   "id": "9e307263-e8bb-4f9f-943e-8202e063371e",
   "metadata": {},
   "source": [
    "Create a count plot comparing the number of assigned and unassigned OTUs across different taxonomic levels and between the two approaches (Gappa and VSEARCH)"
   ]
  },
  {
   "cell_type": "code",
   "execution_count": 5,
   "id": "01805bfb-b9a1-4dad-a555-ebd004a1d284",
   "metadata": {},
   "outputs": [],
   "source": [
    "# Transform the DataFrame to count the number of assigned and unassigned OTUs at each taxonomic level for each approach.\n",
    "\n",
    "# Step 1: Create a new DataFrame indicating 'assigned' or 'unassigned' for each taxonomic level\n",
    "for level in ['order', 'family', 'genus', 'species']:\n",
    "    tax_assign[f'{level}_status'] = tax_assign[level].apply(lambda x: 'unassigned' if x == 'unassigned' else 'assigned')\n",
    "\n",
    "# Step 2: Melt the DataFrame to create a long-form DataFrame\n",
    "melted_df = pd.melt(tax_assign, id_vars=['otu', 'approach'], value_vars=['order_status', 'family_status', 'genus_status', 'species_status'],\n",
    "                    var_name='taxonomic_level', value_name='status')\n",
    "\n",
    "# Step 3: Adjust the 'taxonomic_level' values to have just the level names\n",
    "melted_df['taxonomic_level'] = melted_df['taxonomic_level'].str.replace('_status', '')\n",
    "\n",
    "# Step 4: Filter to keep only assigned OTUs\n",
    "melted_df = melted_df[melted_df['status'] == 'assigned']"
   ]
  },
  {
   "cell_type": "code",
   "execution_count": 7,
   "id": "7b064af8-167c-49fb-a86f-5c91043b7762",
   "metadata": {},
   "outputs": [
    {
     "data": {
      "image/png": "[encoded data removed]",
      "text/plain": [
       "<Figure size 1000x600 with 1 Axes>"
      ]
     },
     "metadata": {},
     "output_type": "display_data"
    }
   ],
   "source": [
    "save_dir = os.path.join(results, 'main_figures')\n",
    "\n",
    "count_tax_assigned_otus(melted_df = melted_df, \n",
    "                        save_dir = save_dir)"
   ]
  },
  {
   "cell_type": "code",
   "execution_count": null,
   "id": "e5c7a32e-adee-4f4f-a554-60f9a297aad9",
   "metadata": {},
   "outputs": [],
   "source": []
  },
  {
   "cell_type": "code",
   "execution_count": null,
   "id": "0abb78b7-6040-4d41-919e-8db7dc19c759",
   "metadata": {},
   "outputs": [],
   "source": []
  },
  {
   "cell_type": "code",
   "execution_count": null,
   "id": "b732b3f4-9372-4d68-88fe-896d2db9030d",
   "metadata": {},
   "outputs": [],
   "source": []
  }
 ],
 "metadata": {
  "kernelspec": {
   "display_name": "Python 3 (ipykernel)",
   "language": "python",
   "name": "python3"
  },
  "language_info": {
   "codemirror_mode": {
    "name": "ipython",
    "version": 3
   },
   "file_extension": ".py",
   "mimetype": "text/x-python",
   "name": "python",
   "nbconvert_exporter": "python",
   "pygments_lexer": "ipython3",
   "version": "3.11.0"
  }
 },
 "nbformat": 4,
 "nbformat_minor": 5
}
