{
 "cells": [
  {
   "cell_type": "code",
   "execution_count": 1,
   "id": "109601a8",
   "metadata": {},
   "outputs": [],
   "source": [
    "import os\n",
    "import sys"
   ]
  },
  {
   "cell_type": "markdown",
   "id": "5a4dc065",
   "metadata": {},
   "source": [
    "# Creating taxonomic files"
   ]
  },
  {
   "cell_type": "markdown",
   "id": "b6209093",
   "metadata": {},
   "source": [
    "For taxonomic assignment in Gappa, we need to create a taxonomic files. These files contain id of the reference sequence and a taxonomic path. See more here https://github.com/lczech/gappa/wiki/Subcommand:-assign"
   ]
  },
  {
   "cell_type": "code",
   "execution_count": 45,
   "id": "6eee7fd5",
   "metadata": {},
   "outputs": [],
   "source": [
    "# VARIABLES\n",
    "\n",
    "taxon = 'vampyrellida'\n",
    "ref_version = '2023'\n",
    "raw_data = '../raw_data'\n",
    "ref_alignment = f'{raw_data}/reference_alignments/vamp_phylo_placement/{taxon}/reference_alignment_{ref_version}/reference_alignment.phy'\n",
    "tax_file_dir = f'{raw_data}/reference_alignments/vamp_phylo_placement/{taxon}/reference_alignment_{ref_version}'"
   ]
  },
  {
   "cell_type": "code",
   "execution_count": 48,
   "id": "3e54e1ec",
   "metadata": {},
   "outputs": [],
   "source": [
    "tax_records = []\n",
    "with open(ref_alignment, 'rt') as f:\n",
    "    lines = f.readlines()\n",
    "    for line in lines[1:]:\n",
    "        header = line.split(' ')[0]\n",
    "        tax_path = ';'.join(header.split('|')[1:])\n",
    "        record = f'{header}\\t{tax_path}\\n'\n",
    "        tax_records.append(record)\n",
    "        \n",
    "        \n",
    "with open(f'{tax_file_dir}/taxon_file.tsv', 'w') as fp:\n",
    "    for tax_record in tax_records:\n",
    "        fp.write(tax_record)"
   ]
  },
  {
   "cell_type": "code",
   "execution_count": null,
   "id": "38afd8ba",
   "metadata": {},
   "outputs": [],
   "source": []
  },
  {
   "cell_type": "code",
   "execution_count": null,
   "id": "0ee59a03",
   "metadata": {},
   "outputs": [],
   "source": []
  },
  {
   "cell_type": "code",
   "execution_count": null,
   "id": "9a68616a",
   "metadata": {},
   "outputs": [],
   "source": []
  },
  {
   "cell_type": "code",
   "execution_count": null,
   "id": "ca1bc695",
   "metadata": {},
   "outputs": [],
   "source": []
  }
 ],
 "metadata": {
  "kernelspec": {
   "display_name": "Python 3 (ipykernel)",
   "language": "python",
   "name": "python3"
  },
  "language_info": {
   "codemirror_mode": {
    "name": "ipython",
    "version": 3
   },
   "file_extension": ".py",
   "mimetype": "text/x-python",
   "name": "python",
   "nbconvert_exporter": "python",
   "pygments_lexer": "ipython3",
   "version": "3.10.8"
  },
  "toc": {
   "base_numbering": 1,
   "nav_menu": {},
   "number_sections": true,
   "sideBar": true,
   "skip_h1_title": false,
   "title_cell": "Table of Contents",
   "title_sidebar": "Contents",
   "toc_cell": false,
   "toc_position": {},
   "toc_section_display": true,
   "toc_window_display": false
  }
 },
 "nbformat": 4,
 "nbformat_minor": 5
}
