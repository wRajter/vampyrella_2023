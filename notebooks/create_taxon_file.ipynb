{
 "cells": [
  {
   "cell_type": "markdown",
   "id": "7ffca11c-44c3-4ef7-a283-bb7e87482cfc",
   "metadata": {},
   "source": [
    "## Imports"
   ]
  },
  {
   "cell_type": "code",
   "execution_count": 1,
   "id": "04712364-57ae-45ba-ae85-ad29cf8eda3c",
   "metadata": {},
   "outputs": [],
   "source": [
    "import os"
   ]
  },
  {
   "cell_type": "markdown",
   "id": "cffff23f-662f-41f7-b6cc-32772f69e3d8",
   "metadata": {},
   "source": [
    "## Variables"
   ]
  },
  {
   "cell_type": "code",
   "execution_count": 4,
   "id": "2ce78d0a-e466-46d5-ae48-06aaa73877cb",
   "metadata": {},
   "outputs": [],
   "source": [
    "project = 'Suthaus_2022'\n",
    "marker = 'Full18S'\n",
    "raw_data = os.path.join('..', 'raw_data')\n",
    "ref_euk_align_dir = os.path.join(raw_data, 'reference_alignments', 'vamp_phylo_placement', 'eukaryotes', 'reference_alignment_2022')\n",
    "\n",
    "\n",
    "\n",
    "\n",
    "# sim = 'sim90'\n",
    "# denoise_method = 'RAD'\n",
    "# raw_data = os.path.join('..', 'raw_data')\n",
    "# original_pr2 = os.path.join(raw_data, 'reference_alignments', 'pr2_v5', 'pr2_version_5.0.0_SSU_UTAX.fasta')\n",
    "# vamp_alignment = os.path.join(raw_data, 'reference_alignments', 'vamp', '2023_VAMPYRELLIDA_SSU_annotated_PR2_AM_AS_not_aligned_version.fasta')\n",
    "# adjusted_vamp_alignment = os.path.join(raw_data, 'reference_alignments', 'pr2_v5', 'vamp_alignment.fasta')\n",
    "# modified_pr2 = os.path.join(raw_data, 'reference_alignments', 'pr2_v5', 'pr2_version_5.0.0_SSU_UTAX_plus_vamp_2023.fasta')"
   ]
  },
  {
   "cell_type": "markdown",
   "id": "6a502b2a-1db2-4c88-a4bd-3c4d08ee7e29",
   "metadata": {},
   "source": [
    "# Create taxon file for eukaryotic reference tree/alignment"
   ]
  },
  {
   "cell_type": "code",
   "execution_count": 5,
   "id": "5720474f-18b5-4075-9630-f4b1c9be38e1",
   "metadata": {},
   "outputs": [
    {
     "name": "stdout",
     "output_type": "stream",
     "text": [
      "Taxon file created successfully.\n"
     ]
    }
   ],
   "source": [
    "# List of Vampyrellida sequence identifiers\n",
    "vampyrellida_ids = [\n",
    "    \"HE609038_LV03\", \"AY941200\", \"EU567294_Arachnula_A155_Baikal_Fw\",\n",
    "    \"MF621963_VE01\", \"MF621964C\", \"HE609040_VL01\", \"HE609035_VP01\",\n",
    "    \"KC779515_MVa1x_B5\", \"KibAr_NRRA_isolate_Cumbria_BrMa\", \"En42C_NRRA_isolate_Cumbria_BrMa\",\n",
    "    \"CAraX_NRRA_isolate_California_Ma\", \"MH235264_MAC_1\", \"MW969735\",\n",
    "    \"NVam1_NRRA_isolate_North_Carolina_Br\", \"OK381882_B3\"\n",
    "]\n",
    "\n",
    "ref_align = os.path.join(ref_euk_align_dir, 'reference_alignment.phy')\n",
    "output_tax_file = os.path.join(ref_euk_align_dir, 'taxon_file_new.txt')\n",
    "\n",
    "# Open the phylip file and the output taxon file\n",
    "with open(ref_align, 'r') as phylip_file, open(output_tax_file, 'w') as taxon_file:\n",
    "    # Skip the first line of the phylip file as it contains the dimensions of the matrix\n",
    "    next(phylip_file)\n",
    "\n",
    "    # Iterate over the lines in the phylip file\n",
    "    for line in phylip_file:\n",
    "        # Extract the sequence ID (strip whitespace and take the first column)\n",
    "        seq_id = line.split()[0].strip()\n",
    "\n",
    "        # Determine the taxon category based on presence in vampyrellida_ids list\n",
    "        taxon_category = \"Vampyrellida\" if seq_id in vampyrellida_ids else \"Reference\"\n",
    "\n",
    "        # Write the seq_id and taxon_category to the taxon file, separated by a tab\n",
    "        taxon_file.write(f\"{seq_id}\\t{taxon_category}\\n\")\n",
    "\n",
    "print(\"Taxon file created successfully.\")\n"
   ]
  },
  {
   "cell_type": "code",
   "execution_count": 6,
   "id": "14ff9005-0703-4132-b4d2-344a92e48b27",
   "metadata": {},
   "outputs": [
    {
     "name": "stdout",
     "output_type": "stream",
     "text": [
      "Collision found: HE609038_LV03 is in both clades.\n",
      "Collision found: AY941200 is in both clades.\n",
      "Collision found: EU567294_Arachnula_A155_Baikal_Fw is in both clades.\n",
      "Collision found: MF621963_VE01 is in both clades.\n",
      "Collision found: MF621964C is in both clades.\n",
      "Collision found: HE609040_VL01 is in both clades.\n",
      "Collision found: HE609035_VP01 is in both clades.\n",
      "Collision found: KC779515_MVa1x_B5 is in both clades.\n",
      "Collision found: KibAr_NRRA_isolate_Cumbria_BrMa is in both clades.\n",
      "Collision found: En42C_NRRA_isolate_Cumbria_BrMa is in both clades.\n",
      "Collision found: CAraX_NRRA_isolate_California_Ma is in both clades.\n",
      "Collision found: MH235264_MAC_1 is in both clades.\n",
      "Collision found: MW969735 is in both clades.\n",
      "Collision found: NVam1_NRRA_isolate_North_Carolina_Br is in both clades.\n",
      "Collision found: OK381882_B3 is in both clades.\n"
     ]
    }
   ],
   "source": [
    "# Path to your taxon file\n",
    "taxon_file_path = os.path.join(ref_euk_align_dir, 'taxon_file_new.txt')\n",
    "\n",
    "# Read the taxon file and store assignments\n",
    "taxon_assignments = {}\n",
    "with open(taxon_file_path, 'r') as file:\n",
    "    for line in file:\n",
    "        identifier, clade = line.strip().split('\\t')\n",
    "        if identifier in taxon_assignments:\n",
    "            print(f\"Duplicate found: {identifier} is assigned to both {taxon_assignments[identifier]} and {clade}.\")\n",
    "        taxon_assignments[identifier] = clade\n",
    "\n",
    "# Check for any identifiers assigned to both clades\n",
    "for identifier, clade in taxon_assignments.items():\n",
    "    if clade == 'Reference':\n",
    "        continue\n",
    "    if identifier in taxon_assignments and taxon_assignments[identifier] == 'Vampyrellida':\n",
    "        print(f\"Collision found: {identifier} is in both clades.\")\n"
   ]
  },
  {
   "cell_type": "code",
   "execution_count": 7,
   "id": "f3f4d41c-5f9f-4aaf-b420-afec020bebfc",
   "metadata": {},
   "outputs": [
    {
     "name": "stdout",
     "output_type": "stream",
     "text": [
      "Corrected taxon file written to ../raw_data/reference_alignments/vamp_phylo_placement/eukaryotes/reference_alignment_2022/corrected_taxon_file.txt.\n"
     ]
    }
   ],
   "source": [
    "# Specify the path to the original taxon file and the output file\n",
    "original_taxon_file_path = os.path.join(ref_euk_align_dir, 'taxon_file_new.txt')\n",
    "corrected_taxon_file_path = os.path.join(ref_euk_align_dir, 'corrected_taxon_file.txt')\n",
    "\n",
    "# List the identifiers that should only be labeled as 'Vampyrellida'\n",
    "vampyrellida_ids = [\n",
    "    \"HE609038_LV03\", \"AY941200\", \"EU567294_Arachnula_A155_Baikal_Fw\",\n",
    "    \"MF621963_VE01\", \"MF621964C\", \"HE609040_VL01\", \"HE609035_VP01\",\n",
    "    \"KC779515_MVa1x_B5\", \"KibAr_NRRA_isolate_Cumbria_BrMa\",\n",
    "    \"En42C_NRRA_isolate_Cumbria_BrMa\", \"CAraX_NRRA_isolate_California_Ma\",\n",
    "    \"MH235264_MAC_1\", \"MW969735\", \"NVam1_NRRA_isolate_North_Carolina_Br\",\n",
    "    \"OK381882_B3\"\n",
    "]\n",
    "\n",
    "# Read the original taxon file and write the corrected entries to the new file\n",
    "with open(original_taxon_file_path, 'r') as original, open(corrected_taxon_file_path, 'w') as corrected:\n",
    "    for line in original:\n",
    "        identifier, clade = line.strip().split('\\t')\n",
    "        # Write only the correct clade assignment for the listed vampyrellida_ids\n",
    "        if identifier in vampyrellida_ids and clade == 'Reference':\n",
    "            continue\n",
    "        else:\n",
    "            corrected.write(line)\n",
    "\n",
    "print(f\"Corrected taxon file written to {corrected_taxon_file_path}.\")\n"
   ]
  },
  {
   "cell_type": "code",
   "execution_count": null,
   "id": "e4cef0a8-4138-4448-8695-31a224ccb6e8",
   "metadata": {},
   "outputs": [],
   "source": []
  }
 ],
 "metadata": {
  "kernelspec": {
   "display_name": "Python 3 (ipykernel)",
   "language": "python",
   "name": "python3"
  },
  "language_info": {
   "codemirror_mode": {
    "name": "ipython",
    "version": 3
   },
   "file_extension": ".py",
   "mimetype": "text/x-python",
   "name": "python",
   "nbconvert_exporter": "python",
   "pygments_lexer": "ipython3",
   "version": "3.11.0"
  }
 },
 "nbformat": 4,
 "nbformat_minor": 5
}
