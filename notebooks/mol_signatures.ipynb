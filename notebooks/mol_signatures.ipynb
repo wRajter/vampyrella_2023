{
 "cells": [
  {
   "cell_type": "code",
   "execution_count": 3,
   "id": "9f5ec1b2-4d7a-4678-830e-0652278a2701",
   "metadata": {},
   "outputs": [],
   "source": [
    "# Libraries\n",
    "from Bio import AlignIO\n",
    "import os"
   ]
  },
  {
   "cell_type": "code",
   "execution_count": 2,
   "id": "5fc09144-c39e-4c4d-8e7a-053bf1328a5d",
   "metadata": {},
   "outputs": [],
   "source": [
    "def find_molecular_characters(alignment_file, reference_names):\n",
    "    alignment = AlignIO.read(alignment_file, \"fasta\")\n",
    "    reference_seqs = [record for record in alignment if record.id in reference_names]\n",
    "    query_seqs = [record for record in alignment if record.id not in reference_names]\n",
    "\n",
    "    asymmetric_positions = []\n",
    "    binary_positions = []\n",
    "\n",
    "    for i in range(len(alignment[0].seq)):\n",
    "        ref_bases = [record.seq[i] for record in reference_seqs]\n",
    "        query_bases = [record.seq[i] for record in query_seqs]\n",
    "\n",
    "        # Check for binary character state\n",
    "        if len(set(ref_bases)) == 1 and set(ref_bases) != set(query_bases):\n",
    "            binary_positions.append(i)\n",
    "\n",
    "        # Check for asymmetric character state\n",
    "        elif len(set(ref_bases)) > 1 and all(base not in ref_bases for base in query_bases):\n",
    "            asymmetric_positions.append(i)\n",
    "\n",
    "    return binary_positions, asymmetric_positions"
   ]
  },
  {
   "cell_type": "markdown",
   "id": "a8ed27a4-5741-4879-ae4f-35352b7b0559",
   "metadata": {},
   "source": [
    "### Create groups"
   ]
  },
  {
   "cell_type": "code",
   "execution_count": 50,
   "id": "db37c627-21cb-4090-affb-93ed982adbd4",
   "metadata": {},
   "outputs": [],
   "source": [
    "# Variables\n",
    "results_dir = os.path.join('../results')\n",
    "phyl_tree_dir = os.path.join(results_dir, 'phyl_trees')\n",
    "alignment_path = os.path.join(phyl_tree_dir, 'molecular_signatures', 'vamp_mafft.fasta')"
   ]
  },
  {
   "cell_type": "code",
   "execution_count": 46,
   "id": "7363e7fe-25a2-4964-ba69-12d77b86ca5a",
   "metadata": {},
   "outputs": [],
   "source": [
    "# grep the seq names\n",
    "\n",
    "\n",
    "def get_seq_names(alignment_path):\n",
    "    seq_names = []\n",
    "    with open(alignment_path, 'r') as infile:\n",
    "        for line in infile:\n",
    "            if line.startswith('>'):\n",
    "                seq_names.append(line.strip())\n",
    "    return seq_names\n",
    "\n",
    "def find_subtaxa(alignment_path, tax_pattern):\n",
    "    subtaxa = []\n",
    "    seq_names = get_seq_names(alignment_path = alignment_path)\n",
    "    for seq_name in seq_names:\n",
    "        if tax_pattern.lower() in seq_name.lower():\n",
    "            subtaxa.append(seq_name)\n",
    "    return subtaxa"
   ]
  },
  {
   "cell_type": "code",
   "execution_count": 51,
   "id": "e868966a-8781-41ad-81e1-cf856b677e8c",
   "metadata": {},
   "outputs": [
    {
     "data": {
      "text/plain": [
       "['>Sericomyxa_perlucida_strain_BWH1_7_MW969735',\n",
       " '>Sericomyxidae_XX_LC150164',\n",
       " '>Sericomyxidae_XX_AF372743',\n",
       " '>Sericomyxidae_XX_AF372744',\n",
       " '>Sericomyxidae_X_strain_NVam1_Penardia_KC779511',\n",
       " '>Sericomyxidae_XX_GU479951']"
      ]
     },
     "execution_count": 51,
     "metadata": {},
     "output_type": "execute_result"
    }
   ],
   "source": [
    "# sericomyxidae\n",
    "tax_pattern = 'Serico'\n",
    "\n",
    "serico_taxa = find_subtaxa(alignment_path = alignment_path, \n",
    "                       tax_pattern = tax_pattern)\n",
    "\n",
    "serico_taxa"
   ]
  },
  {
   "cell_type": "code",
   "execution_count": 55,
   "id": "fee79e94-41d8-488c-90ff-dbe0b2ff75e0",
   "metadata": {},
   "outputs": [
    {
     "name": "stdout",
     "output_type": "stream",
     "text": [
      "Binary positions: []\n",
      "Asymmetric positions: []\n"
     ]
    }
   ],
   "source": [
    "binary_pos, asymmetric_pos = find_molecular_characters(alignment_file = alignment_path, \n",
    "                                                       reference_names = serico_taxa)\n",
    "\n",
    "\n",
    "print(\"Binary positions:\", binary_pos)\n",
    "print(\"Asymmetric positions:\", asymmetric_pos)"
   ]
  },
  {
   "cell_type": "code",
   "execution_count": null,
   "id": "34988f39-7397-4aa9-8685-1e8bd0aec51a",
   "metadata": {},
   "outputs": [],
   "source": []
  },
  {
   "cell_type": "code",
   "execution_count": null,
   "id": "61106ff9-77e8-4f0a-843f-0ff7befe2b61",
   "metadata": {},
   "outputs": [],
   "source": []
  },
  {
   "cell_type": "code",
   "execution_count": null,
   "id": "f72f0441-b9f1-46f5-8cdb-95efa590c428",
   "metadata": {},
   "outputs": [],
   "source": []
  },
  {
   "cell_type": "code",
   "execution_count": null,
   "id": "5e0b9e3b-a1b5-4acf-ac56-f193a2146669",
   "metadata": {},
   "outputs": [],
   "source": []
  }
 ],
 "metadata": {
  "kernelspec": {
   "display_name": "Python 3 (ipykernel)",
   "language": "python",
   "name": "python3"
  },
  "language_info": {
   "codemirror_mode": {
    "name": "ipython",
    "version": 3
   },
   "file_extension": ".py",
   "mimetype": "text/x-python",
   "name": "python",
   "nbconvert_exporter": "python",
   "pygments_lexer": "ipython3",
   "version": "3.11.0"
  }
 },
 "nbformat": 4,
 "nbformat_minor": 5
}
