{
 "cells": [
  {
   "cell_type": "code",
   "execution_count": 64,
   "id": "07d6b004",
   "metadata": {},
   "outputs": [],
   "source": [
    "# imports\n",
    "import os\n",
    "import pandas as pd\n",
    "import seaborn as sns"
   ]
  },
  {
   "cell_type": "code",
   "execution_count": 2,
   "id": "96adc3b4",
   "metadata": {},
   "outputs": [
    {
     "name": "stdout",
     "output_type": "stream",
     "text": [
      "/home/lubo/code/wRajter/vampyrella_2023/scripts/scripts\r\n"
     ]
    }
   ],
   "source": [
    "!pwd"
   ]
  },
  {
   "cell_type": "code",
   "execution_count": 65,
   "id": "95fa4b9b",
   "metadata": {},
   "outputs": [],
   "source": [
    "# VARIABLES\n",
    "project = 'Suthaus_2022'\n",
    "cell = 'cell'\n",
    "marker = 'rDNA'\n",
    "sim = 'sim97'\n",
    "raw_data = '../../raw_data'\n",
    "suffix = '.hifi_reads.fastq.gz'\n",
    "denoise_path = f'{raw_data}/denoise/{project}/{marker}/{cell}/dada2'"
   ]
  },
  {
   "cell_type": "code",
   "execution_count": 66,
   "id": "dcb2ebae",
   "metadata": {},
   "outputs": [],
   "source": [
    "# stats for css, primers, and filtered sequences\n",
    "\n",
    "stats1 = pd.read_table(f'{denoise_path}/reads_num_track.csv', sep = \" \")\n",
    "stats1.index = stats1.index.str.replace(suffix, '', regex = False)"
   ]
  },
  {
   "cell_type": "code",
   "execution_count": 67,
   "id": "3673f7a2",
   "metadata": {},
   "outputs": [],
   "source": [
    "# stats for denoise sequences\n",
    "# file_path = f'denoise_path'\n",
    "all_files = os.listdir(denoise_path)\n",
    "all_asv_files = [file for file in all_files if '.fasta' in file]\n",
    "all_asv_paths = [denoise_path + '/' + file_name for file_name in all_asv_files]\n",
    "\n",
    "\n",
    "\n",
    "dict_counter = {}\n",
    "\n",
    "for i in all_asv_files:\n",
    "    dict_counter[i] = None\n",
    "    \n",
    "dict_counter\n",
    "\n",
    "\n",
    "for asv_path in all_asv_files:\n",
    "    with open(denoise_path + '/' + asv_path, 'rt') as f:\n",
    "        counter_ = 0\n",
    "        lines = f.readlines()\n",
    "        for line in lines:\n",
    "            if line.startswith('>'):\n",
    "                counter_ += 1\n",
    "        dict_counter[asv_path] = counter_\n",
    "\n",
    "stats2 = pd.DataFrame.from_dict(dict_counter, orient = 'index', columns = ['denoised'])\n",
    "stats2.index = stats2.index.str.replace('_asv.fasta', '', regex = False)"
   ]
  },
  {
   "cell_type": "code",
   "execution_count": 75,
   "id": "4bcaa849",
   "metadata": {},
   "outputs": [],
   "source": [
    "# Combine stats1 and stats2 tables\n",
    "\n",
    "track = pd.concat([stats1, stats2], axis=1)"
   ]
  },
  {
   "cell_type": "code",
   "execution_count": 76,
   "id": "581d4d87",
   "metadata": {},
   "outputs": [
    {
     "data": {
      "text/html": [
       "<div>\n",
       "<style scoped>\n",
       "    .dataframe tbody tr th:only-of-type {\n",
       "        vertical-align: middle;\n",
       "    }\n",
       "\n",
       "    .dataframe tbody tr th {\n",
       "        vertical-align: top;\n",
       "    }\n",
       "\n",
       "    .dataframe thead th {\n",
       "        text-align: right;\n",
       "    }\n",
       "</style>\n",
       "<table border=\"1\" class=\"dataframe\">\n",
       "  <thead>\n",
       "    <tr style=\"text-align: right;\">\n",
       "      <th></th>\n",
       "      <th>ccs</th>\n",
       "      <th>primers</th>\n",
       "      <th>filtered</th>\n",
       "      <th>denoised</th>\n",
       "    </tr>\n",
       "  </thead>\n",
       "  <tbody>\n",
       "    <tr>\n",
       "      <th>A3_21R</th>\n",
       "      <td>65836</td>\n",
       "      <td>736</td>\n",
       "      <td>293</td>\n",
       "      <td>4</td>\n",
       "    </tr>\n",
       "    <tr>\n",
       "      <th>FS1_21R</th>\n",
       "      <td>35841</td>\n",
       "      <td>14853</td>\n",
       "      <td>4737</td>\n",
       "      <td>17</td>\n",
       "    </tr>\n",
       "  </tbody>\n",
       "</table>\n",
       "</div>"
      ],
      "text/plain": [
       "           ccs  primers  filtered  denoised\n",
       "A3_21R   65836      736       293         4\n",
       "FS1_21R  35841    14853      4737        17"
      ]
     },
     "execution_count": 76,
     "metadata": {},
     "output_type": "execute_result"
    }
   ],
   "source": [
    "track"
   ]
  },
  {
   "cell_type": "code",
   "execution_count": null,
   "id": "3b566314",
   "metadata": {},
   "outputs": [],
   "source": []
  },
  {
   "cell_type": "code",
   "execution_count": null,
   "id": "d995636b",
   "metadata": {},
   "outputs": [],
   "source": []
  }
 ],
 "metadata": {
  "kernelspec": {
   "display_name": "Python 3 (ipykernel)",
   "language": "python",
   "name": "python3"
  },
  "language_info": {
   "codemirror_mode": {
    "name": "ipython",
    "version": 3
   },
   "file_extension": ".py",
   "mimetype": "text/x-python",
   "name": "python",
   "nbconvert_exporter": "python",
   "pygments_lexer": "ipython3",
   "version": "3.10.8"
  },
  "toc": {
   "base_numbering": 1,
   "nav_menu": {},
   "number_sections": true,
   "sideBar": true,
   "skip_h1_title": false,
   "title_cell": "Table of Contents",
   "title_sidebar": "Contents",
   "toc_cell": false,
   "toc_position": {},
   "toc_section_display": true,
   "toc_window_display": false
  }
 },
 "nbformat": 4,
 "nbformat_minor": 5
}
